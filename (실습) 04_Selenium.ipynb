{
 "cells": [
  {
   "cell_type": "markdown",
   "id": "ed30ab05",
   "metadata": {},
   "source": [
    "# 대한민국 여행사이트에서 페이지를 순환하는 스크래핑 프로그램 만들기 \n",
    "## 페이지 10번까지 해보세요, csv 추출까지 "
   ]
  },
  {
   "cell_type": "code",
   "execution_count": 1,
   "id": "40f37c6c",
   "metadata": {
    "ExecuteTime": {
     "end_time": "2024-03-18T14:32:48.085053Z",
     "start_time": "2024-03-18T14:32:47.948789Z"
    }
   },
   "outputs": [],
   "source": [
    "from selenium import webdriver\n",
    "from selenium.webdriver.common.by import By\n",
    "from selenium.webdriver.chrome.options import Options\n",
    "import math, time\n",
    "\n",
    "options = Options()\n",
    "options.add_argument('--window-size=974,1047')\n",
    "options.add_argument('--window-position=953,0')\n",
    "options.add_experimental_option(\"detach\", True)"
   ]
  },
  {
   "cell_type": "code",
   "execution_count": 2,
   "id": "0f59a162",
   "metadata": {
    "ExecuteTime": {
     "end_time": "2024-03-18T14:32:56.585343Z",
     "start_time": "2024-03-18T14:32:49.871255Z"
    }
   },
   "outputs": [
    {
     "name": "stdout",
     "output_type": "stream",
     "text": [
      "검색어를 입력하세요.경주\n"
     ]
    }
   ],
   "source": [
    "search = input('검색어를 입력하세요.')"
   ]
  },
  {
   "cell_type": "code",
   "execution_count": 3,
   "id": "bd1303bb",
   "metadata": {
    "ExecuteTime": {
     "end_time": "2024-03-18T14:33:13.388371Z",
     "start_time": "2024-03-18T14:33:07.719410Z"
    }
   },
   "outputs": [],
   "source": [
    "URL = 'https://korean.visitkorea.or.kr/search/search_list.do?keyword='+search\n",
    "\n",
    "driver = webdriver.Chrome(options=options)\n",
    "driver.get(URL)\n",
    "time.sleep(3)"
   ]
  },
  {
   "cell_type": "code",
   "execution_count": 9,
   "id": "283930ef",
   "metadata": {
    "ExecuteTime": {
     "end_time": "2024-03-18T14:46:00.060053Z",
     "start_time": "2024-03-18T14:45:59.992643Z"
    }
   },
   "outputs": [
    {
     "ename": "InvalidArgumentException",
     "evalue": "Message: invalid argument: 'value' must be a string\n  (Session info: chrome=122.0.6261.129)\nStacktrace:\n\tGetHandleVerifier [0x00007FF79FB2AD02+56930]\n\t(No symbol) [0x00007FF79FA9F602]\n\t(No symbol) [0x00007FF79F9542E5]\n\t(No symbol) [0x00007FF79F9997BC]\n\t(No symbol) [0x00007FF79F999A2C]\n\t(No symbol) [0x00007FF79F9DA967]\n\t(No symbol) [0x00007FF79F9BBCDF]\n\t(No symbol) [0x00007FF79F9D81E2]\n\t(No symbol) [0x00007FF79F9BBA43]\n\t(No symbol) [0x00007FF79F98D438]\n\t(No symbol) [0x00007FF79F98E4D1]\n\tGetHandleVerifier [0x00007FF79FEA6F8D+3711213]\n\tGetHandleVerifier [0x00007FF79FF004CD+4077101]\n\tGetHandleVerifier [0x00007FF79FEF865F+4044735]\n\tGetHandleVerifier [0x00007FF79FBC9736+706710]\n\t(No symbol) [0x00007FF79FAAB8DF]\n\t(No symbol) [0x00007FF79FAA6AC4]\n\t(No symbol) [0x00007FF79FAA6C1C]\n\t(No symbol) [0x00007FF79FA968D4]\n\tBaseThreadInitThunk [0x00007FFBBCCB257D+29]\n\tRtlUserThreadStart [0x00007FFBBD5CAA58+40]\n",
     "output_type": "error",
     "traceback": [
      "\u001b[1;31m---------------------------------------------------------------------------\u001b[0m",
      "\u001b[1;31mInvalidArgumentException\u001b[0m                  Traceback (most recent call last)",
      "Cell \u001b[1;32mIn[9], line 1\u001b[0m\n\u001b[1;32m----> 1\u001b[0m more_view \u001b[38;5;241m=\u001b[39m driver\u001b[38;5;241m.\u001b[39mfind_element(By\u001b[38;5;241m.\u001b[39mCSS_SELECTOR)\n\u001b[0;32m      2\u001b[0m driver\u001b[38;5;241m.\u001b[39mexecute_script(\u001b[38;5;124m\"\u001b[39m\u001b[38;5;124marguments[0]. scrollIntovies(false);\u001b[39m\u001b[38;5;124m\"\u001b[39m, more_view)\n\u001b[0;32m      3\u001b[0m more_view\u001b[38;5;241m.\u001b[39mclick()\n",
      "File \u001b[1;32m~\\anaconda3\\Lib\\site-packages\\selenium\\webdriver\\remote\\webdriver.py:741\u001b[0m, in \u001b[0;36mWebDriver.find_element\u001b[1;34m(self, by, value)\u001b[0m\n\u001b[0;32m    738\u001b[0m     by \u001b[38;5;241m=\u001b[39m By\u001b[38;5;241m.\u001b[39mCSS_SELECTOR\n\u001b[0;32m    739\u001b[0m     value \u001b[38;5;241m=\u001b[39m \u001b[38;5;124mf\u001b[39m\u001b[38;5;124m'\u001b[39m\u001b[38;5;124m[name=\u001b[39m\u001b[38;5;124m\"\u001b[39m\u001b[38;5;132;01m{\u001b[39;00mvalue\u001b[38;5;132;01m}\u001b[39;00m\u001b[38;5;124m\"\u001b[39m\u001b[38;5;124m]\u001b[39m\u001b[38;5;124m'\u001b[39m\n\u001b[1;32m--> 741\u001b[0m \u001b[38;5;28;01mreturn\u001b[39;00m \u001b[38;5;28mself\u001b[39m\u001b[38;5;241m.\u001b[39mexecute(Command\u001b[38;5;241m.\u001b[39mFIND_ELEMENT, {\u001b[38;5;124m\"\u001b[39m\u001b[38;5;124musing\u001b[39m\u001b[38;5;124m\"\u001b[39m: by, \u001b[38;5;124m\"\u001b[39m\u001b[38;5;124mvalue\u001b[39m\u001b[38;5;124m\"\u001b[39m: value})[\u001b[38;5;124m\"\u001b[39m\u001b[38;5;124mvalue\u001b[39m\u001b[38;5;124m\"\u001b[39m]\n",
      "File \u001b[1;32m~\\anaconda3\\Lib\\site-packages\\selenium\\webdriver\\remote\\webdriver.py:347\u001b[0m, in \u001b[0;36mWebDriver.execute\u001b[1;34m(self, driver_command, params)\u001b[0m\n\u001b[0;32m    345\u001b[0m response \u001b[38;5;241m=\u001b[39m \u001b[38;5;28mself\u001b[39m\u001b[38;5;241m.\u001b[39mcommand_executor\u001b[38;5;241m.\u001b[39mexecute(driver_command, params)\n\u001b[0;32m    346\u001b[0m \u001b[38;5;28;01mif\u001b[39;00m response:\n\u001b[1;32m--> 347\u001b[0m     \u001b[38;5;28mself\u001b[39m\u001b[38;5;241m.\u001b[39merror_handler\u001b[38;5;241m.\u001b[39mcheck_response(response)\n\u001b[0;32m    348\u001b[0m     response[\u001b[38;5;124m\"\u001b[39m\u001b[38;5;124mvalue\u001b[39m\u001b[38;5;124m\"\u001b[39m] \u001b[38;5;241m=\u001b[39m \u001b[38;5;28mself\u001b[39m\u001b[38;5;241m.\u001b[39m_unwrap_value(response\u001b[38;5;241m.\u001b[39mget(\u001b[38;5;124m\"\u001b[39m\u001b[38;5;124mvalue\u001b[39m\u001b[38;5;124m\"\u001b[39m, \u001b[38;5;28;01mNone\u001b[39;00m))\n\u001b[0;32m    349\u001b[0m     \u001b[38;5;28;01mreturn\u001b[39;00m response\n",
      "File \u001b[1;32m~\\anaconda3\\Lib\\site-packages\\selenium\\webdriver\\remote\\errorhandler.py:229\u001b[0m, in \u001b[0;36mErrorHandler.check_response\u001b[1;34m(self, response)\u001b[0m\n\u001b[0;32m    227\u001b[0m         alert_text \u001b[38;5;241m=\u001b[39m value[\u001b[38;5;124m\"\u001b[39m\u001b[38;5;124malert\u001b[39m\u001b[38;5;124m\"\u001b[39m]\u001b[38;5;241m.\u001b[39mget(\u001b[38;5;124m\"\u001b[39m\u001b[38;5;124mtext\u001b[39m\u001b[38;5;124m\"\u001b[39m)\n\u001b[0;32m    228\u001b[0m     \u001b[38;5;28;01mraise\u001b[39;00m exception_class(message, screen, stacktrace, alert_text)  \u001b[38;5;66;03m# type: ignore[call-arg]  # mypy is not smart enough here\u001b[39;00m\n\u001b[1;32m--> 229\u001b[0m \u001b[38;5;28;01mraise\u001b[39;00m exception_class(message, screen, stacktrace)\n",
      "\u001b[1;31mInvalidArgumentException\u001b[0m: Message: invalid argument: 'value' must be a string\n  (Session info: chrome=122.0.6261.129)\nStacktrace:\n\tGetHandleVerifier [0x00007FF79FB2AD02+56930]\n\t(No symbol) [0x00007FF79FA9F602]\n\t(No symbol) [0x00007FF79F9542E5]\n\t(No symbol) [0x00007FF79F9997BC]\n\t(No symbol) [0x00007FF79F999A2C]\n\t(No symbol) [0x00007FF79F9DA967]\n\t(No symbol) [0x00007FF79F9BBCDF]\n\t(No symbol) [0x00007FF79F9D81E2]\n\t(No symbol) [0x00007FF79F9BBA43]\n\t(No symbol) [0x00007FF79F98D438]\n\t(No symbol) [0x00007FF79F98E4D1]\n\tGetHandleVerifier [0x00007FF79FEA6F8D+3711213]\n\tGetHandleVerifier [0x00007FF79FF004CD+4077101]\n\tGetHandleVerifier [0x00007FF79FEF865F+4044735]\n\tGetHandleVerifier [0x00007FF79FBC9736+706710]\n\t(No symbol) [0x00007FF79FAAB8DF]\n\t(No symbol) [0x00007FF79FAA6AC4]\n\t(No symbol) [0x00007FF79FAA6C1C]\n\t(No symbol) [0x00007FF79FA968D4]\n\tBaseThreadInitThunk [0x00007FFBBCCB257D+29]\n\tRtlUserThreadStart [0x00007FFBBD5CAA58+40]\n"
     ]
    }
   ],
   "source": [
    "more_view = driver.find_element(By.CSS_SELECTOR)\n",
    "driver.execute_script(\"arguments[0]. scrollIntovies(false);\", more_view)\n",
    "more_view.click()"
   ]
  },
  {
   "cell_type": "code",
   "execution_count": 5,
   "id": "45475a0b",
   "metadata": {
    "ExecuteTime": {
     "end_time": "2024-03-18T14:37:20.440804Z",
     "start_time": "2024-03-18T14:37:20.360999Z"
    }
   },
   "outputs": [],
   "source": [
    "# 페이지 버튼 클릭\n",
    "driver.find_element(By.XPATH, '/html/body/div[3]/div/div[1]/div[14]/a[1]').click() "
   ]
  },
  {
   "cell_type": "code",
   "execution_count": 6,
   "id": "02348685",
   "metadata": {
    "ExecuteTime": {
     "end_time": "2024-03-18T14:38:50.974298Z",
     "start_time": "2024-03-18T14:38:44.559363Z"
    }
   },
   "outputs": [
    {
     "name": "stdout",
     "output_type": "stream",
     "text": [
      "크롤링 할 건수는 몇건입니까?: 15\n"
     ]
    },
    {
     "data": {
      "text/plain": [
       "15"
      ]
     },
     "execution_count": 6,
     "metadata": {},
     "output_type": "execute_result"
    }
   ],
   "source": [
    "cnt = int(input('크롤링 할 건수는 몇건입니까?: '))\n",
    "cnt"
   ]
  },
  {
   "cell_type": "code",
   "execution_count": 7,
   "id": "c141bf84",
   "metadata": {
    "ExecuteTime": {
     "end_time": "2024-03-18T14:39:10.917274Z",
     "start_time": "2024-03-18T14:39:10.911387Z"
    }
   },
   "outputs": [
    {
     "name": "stdout",
     "output_type": "stream",
     "text": [
      "2\n"
     ]
    }
   ],
   "source": [
    "page_cnt = math.ceil(cnt / 10)\n",
    "print(page_cnt)"
   ]
  },
  {
   "cell_type": "code",
   "execution_count": 8,
   "id": "83725b4a",
   "metadata": {
    "ExecuteTime": {
     "end_time": "2024-03-18T14:39:27.766290Z",
     "start_time": "2024-03-18T14:39:27.543775Z"
    }
   },
   "outputs": [
    {
     "name": "stdout",
     "output_type": "stream",
     "text": [
      "========= 1 페이지 작업 =========\n",
      "1 경주의 봄을 즐길 수 있는 벚꽃 데이트 명소 4\n",
      "2 휠체어 타고 우정 여행, 경주\n",
      "3 얼음왕국부터 야경까지 겨울의 낭만을 즐기는, 경주 여행\n",
      "4 경주 여행, 기차 타고 떠나는 벚꽃 여행 코스\n",
      "5 경북 여행, 나만 알고 싶은 경주 가을 단풍 명소 4\n",
      "6 음악과 떠나는 시간 여행, 경주 한국대중음악박물관\n",
      "7 [디어먼데이 경주] 고즈넉한 경주의 한옥 워케이션\n",
      "8 [경주] 꽃단풍 곱게 물든 경주는 지금 안온한 가을! 리버틴 호텔 경주\n",
      "9 경주 여행, 아이와 함께 가면 좋은 실내 여행지 5\n",
      "10 경주 여행, 알차게 즐기는 1박2일 코스\n"
     ]
    },
    {
     "ename": "NoSuchElementException",
     "evalue": "Message: no such element: Unable to locate element: {\"method\":\"xpath\",\"selector\":\"/html/body/div[3]/div/div[1]/div[15]/a[2]\"}\n  (Session info: chrome=122.0.6261.129); For documentation on this error, please visit: https://www.selenium.dev/documentation/webdriver/troubleshooting/errors#no-such-element-exception\nStacktrace:\n\tGetHandleVerifier [0x00007FF79FB2AD02+56930]\n\t(No symbol) [0x00007FF79FA9F602]\n\t(No symbol) [0x00007FF79F9542E5]\n\t(No symbol) [0x00007FF79F9998ED]\n\t(No symbol) [0x00007FF79F999A2C]\n\t(No symbol) [0x00007FF79F9DA967]\n\t(No symbol) [0x00007FF79F9BBCDF]\n\t(No symbol) [0x00007FF79F9D81E2]\n\t(No symbol) [0x00007FF79F9BBA43]\n\t(No symbol) [0x00007FF79F98D438]\n\t(No symbol) [0x00007FF79F98E4D1]\n\tGetHandleVerifier [0x00007FF79FEA6F8D+3711213]\n\tGetHandleVerifier [0x00007FF79FF004CD+4077101]\n\tGetHandleVerifier [0x00007FF79FEF865F+4044735]\n\tGetHandleVerifier [0x00007FF79FBC9736+706710]\n\t(No symbol) [0x00007FF79FAAB8DF]\n\t(No symbol) [0x00007FF79FAA6AC4]\n\t(No symbol) [0x00007FF79FAA6C1C]\n\t(No symbol) [0x00007FF79FA968D4]\n\tBaseThreadInitThunk [0x00007FFBBCCB257D+29]\n\tRtlUserThreadStart [0x00007FFBBD5CAA58+40]\n",
     "output_type": "error",
     "traceback": [
      "\u001b[1;31m---------------------------------------------------------------------------\u001b[0m",
      "\u001b[1;31mNoSuchElementException\u001b[0m                    Traceback (most recent call last)",
      "Cell \u001b[1;32mIn[8], line 16\u001b[0m\n\u001b[0;32m     14\u001b[0m     \u001b[38;5;28;01mif\u001b[39;00m no \u001b[38;5;241m<\u001b[39m\u001b[38;5;241m=\u001b[39m cnt:\n\u001b[0;32m     15\u001b[0m         a \u001b[38;5;241m=\u001b[39m \u001b[38;5;124mf\u001b[39m\u001b[38;5;124m'\u001b[39m\u001b[38;5;124m/html/body/div[3]/div/div[1]/div[15]/a[\u001b[39m\u001b[38;5;132;01m{\u001b[39;00mx\u001b[38;5;241m+\u001b[39m\u001b[38;5;241m1\u001b[39m\u001b[38;5;132;01m}\u001b[39;00m\u001b[38;5;124m]\u001b[39m\u001b[38;5;124m'\u001b[39m\n\u001b[1;32m---> 16\u001b[0m         driver\u001b[38;5;241m.\u001b[39mfind_element(By\u001b[38;5;241m.\u001b[39mXPATH, a)\u001b[38;5;241m.\u001b[39mclick()\n\u001b[0;32m     17\u001b[0m \u001b[38;5;66;03m#         next_button = driver.find_element(By.CSS_SELECTOR, f\"a[id='{x+1}']\")\u001b[39;00m\n\u001b[0;32m     18\u001b[0m \u001b[38;5;66;03m#         driver.execute_script(\"arguments[0].click();\", next_button)\u001b[39;00m\n\u001b[0;32m     19\u001b[0m         time\u001b[38;5;241m.\u001b[39msleep(\u001b[38;5;241m2\u001b[39m)\n",
      "File \u001b[1;32m~\\anaconda3\\Lib\\site-packages\\selenium\\webdriver\\remote\\webdriver.py:741\u001b[0m, in \u001b[0;36mWebDriver.find_element\u001b[1;34m(self, by, value)\u001b[0m\n\u001b[0;32m    738\u001b[0m     by \u001b[38;5;241m=\u001b[39m By\u001b[38;5;241m.\u001b[39mCSS_SELECTOR\n\u001b[0;32m    739\u001b[0m     value \u001b[38;5;241m=\u001b[39m \u001b[38;5;124mf\u001b[39m\u001b[38;5;124m'\u001b[39m\u001b[38;5;124m[name=\u001b[39m\u001b[38;5;124m\"\u001b[39m\u001b[38;5;132;01m{\u001b[39;00mvalue\u001b[38;5;132;01m}\u001b[39;00m\u001b[38;5;124m\"\u001b[39m\u001b[38;5;124m]\u001b[39m\u001b[38;5;124m'\u001b[39m\n\u001b[1;32m--> 741\u001b[0m \u001b[38;5;28;01mreturn\u001b[39;00m \u001b[38;5;28mself\u001b[39m\u001b[38;5;241m.\u001b[39mexecute(Command\u001b[38;5;241m.\u001b[39mFIND_ELEMENT, {\u001b[38;5;124m\"\u001b[39m\u001b[38;5;124musing\u001b[39m\u001b[38;5;124m\"\u001b[39m: by, \u001b[38;5;124m\"\u001b[39m\u001b[38;5;124mvalue\u001b[39m\u001b[38;5;124m\"\u001b[39m: value})[\u001b[38;5;124m\"\u001b[39m\u001b[38;5;124mvalue\u001b[39m\u001b[38;5;124m\"\u001b[39m]\n",
      "File \u001b[1;32m~\\anaconda3\\Lib\\site-packages\\selenium\\webdriver\\remote\\webdriver.py:347\u001b[0m, in \u001b[0;36mWebDriver.execute\u001b[1;34m(self, driver_command, params)\u001b[0m\n\u001b[0;32m    345\u001b[0m response \u001b[38;5;241m=\u001b[39m \u001b[38;5;28mself\u001b[39m\u001b[38;5;241m.\u001b[39mcommand_executor\u001b[38;5;241m.\u001b[39mexecute(driver_command, params)\n\u001b[0;32m    346\u001b[0m \u001b[38;5;28;01mif\u001b[39;00m response:\n\u001b[1;32m--> 347\u001b[0m     \u001b[38;5;28mself\u001b[39m\u001b[38;5;241m.\u001b[39merror_handler\u001b[38;5;241m.\u001b[39mcheck_response(response)\n\u001b[0;32m    348\u001b[0m     response[\u001b[38;5;124m\"\u001b[39m\u001b[38;5;124mvalue\u001b[39m\u001b[38;5;124m\"\u001b[39m] \u001b[38;5;241m=\u001b[39m \u001b[38;5;28mself\u001b[39m\u001b[38;5;241m.\u001b[39m_unwrap_value(response\u001b[38;5;241m.\u001b[39mget(\u001b[38;5;124m\"\u001b[39m\u001b[38;5;124mvalue\u001b[39m\u001b[38;5;124m\"\u001b[39m, \u001b[38;5;28;01mNone\u001b[39;00m))\n\u001b[0;32m    349\u001b[0m     \u001b[38;5;28;01mreturn\u001b[39;00m response\n",
      "File \u001b[1;32m~\\anaconda3\\Lib\\site-packages\\selenium\\webdriver\\remote\\errorhandler.py:229\u001b[0m, in \u001b[0;36mErrorHandler.check_response\u001b[1;34m(self, response)\u001b[0m\n\u001b[0;32m    227\u001b[0m         alert_text \u001b[38;5;241m=\u001b[39m value[\u001b[38;5;124m\"\u001b[39m\u001b[38;5;124malert\u001b[39m\u001b[38;5;124m\"\u001b[39m]\u001b[38;5;241m.\u001b[39mget(\u001b[38;5;124m\"\u001b[39m\u001b[38;5;124mtext\u001b[39m\u001b[38;5;124m\"\u001b[39m)\n\u001b[0;32m    228\u001b[0m     \u001b[38;5;28;01mraise\u001b[39;00m exception_class(message, screen, stacktrace, alert_text)  \u001b[38;5;66;03m# type: ignore[call-arg]  # mypy is not smart enough here\u001b[39;00m\n\u001b[1;32m--> 229\u001b[0m \u001b[38;5;28;01mraise\u001b[39;00m exception_class(message, screen, stacktrace)\n",
      "\u001b[1;31mNoSuchElementException\u001b[0m: Message: no such element: Unable to locate element: {\"method\":\"xpath\",\"selector\":\"/html/body/div[3]/div/div[1]/div[15]/a[2]\"}\n  (Session info: chrome=122.0.6261.129); For documentation on this error, please visit: https://www.selenium.dev/documentation/webdriver/troubleshooting/errors#no-such-element-exception\nStacktrace:\n\tGetHandleVerifier [0x00007FF79FB2AD02+56930]\n\t(No symbol) [0x00007FF79FA9F602]\n\t(No symbol) [0x00007FF79F9542E5]\n\t(No symbol) [0x00007FF79F9998ED]\n\t(No symbol) [0x00007FF79F999A2C]\n\t(No symbol) [0x00007FF79F9DA967]\n\t(No symbol) [0x00007FF79F9BBCDF]\n\t(No symbol) [0x00007FF79F9D81E2]\n\t(No symbol) [0x00007FF79F9BBA43]\n\t(No symbol) [0x00007FF79F98D438]\n\t(No symbol) [0x00007FF79F98E4D1]\n\tGetHandleVerifier [0x00007FF79FEA6F8D+3711213]\n\tGetHandleVerifier [0x00007FF79FF004CD+4077101]\n\tGetHandleVerifier [0x00007FF79FEF865F+4044735]\n\tGetHandleVerifier [0x00007FF79FBC9736+706710]\n\t(No symbol) [0x00007FF79FAAB8DF]\n\t(No symbol) [0x00007FF79FAA6AC4]\n\t(No symbol) [0x00007FF79FAA6C1C]\n\t(No symbol) [0x00007FF79FA968D4]\n\tBaseThreadInitThunk [0x00007FFBBCCB257D+29]\n\tRtlUserThreadStart [0x00007FFBBD5CAA58+40]\n"
     ]
    }
   ],
   "source": [
    "tit_xpath = '//*[@id=\"search_result\"]/ul/li[*]/div[1]/div[1]/a'\n",
    "no = 0\n",
    "\n",
    "for x in range(1, page_cnt+1):\n",
    "    print(f'========= {x} 페이지 작업 =========')\n",
    "    mylist = driver.find_elements(By.XPATH, tit_xpath)\n",
    "    \n",
    "    for item in mylist:\n",
    "        no += 1\n",
    "        if no > cnt:\n",
    "            break\n",
    "        print(no, item.text)\n",
    "    \n",
    "    if no <= cnt:\n",
    "        a = f'/html/body/div[3]/div/div[1]/div[15]/a[{x+1}]'\n",
    "        driver.find_element(By.XPATH, a).click()\n",
    "#         next_button = driver.find_element(By.CSS_SELECTOR, f\"a[id='{x+1}']\")\n",
    "#         driver.execute_script(\"arguments[0].click();\", next_button)\n",
    "        time.sleep(2)\n",
    "    \n",
    "print('========= 작업 완료 =========')\n",
    "# driver.close()"
   ]
  },
  {
   "cell_type": "code",
   "execution_count": 11,
   "id": "fe740a43",
   "metadata": {
    "ExecuteTime": {
     "end_time": "2024-03-18T14:50:44.788183Z",
     "start_time": "2024-03-18T14:50:44.600122Z"
    }
   },
   "outputs": [
    {
     "name": "stdout",
     "output_type": "stream",
     "text": [
      "========= 1 페이지 작업 =========\n",
      "1 경주의 봄을 즐길 수 있는 벚꽃 데이트 명소 4\n",
      "2 휠체어 타고 우정 여행, 경주\n",
      "3 얼음왕국부터 야경까지 겨울의 낭만을 즐기는, 경주 여행\n",
      "4 경주 여행, 기차 타고 떠나는 벚꽃 여행 코스\n",
      "5 경북 여행, 나만 알고 싶은 경주 가을 단풍 명소 4\n",
      "6 음악과 떠나는 시간 여행, 경주 한국대중음악박물관\n",
      "7 [디어먼데이 경주] 고즈넉한 경주의 한옥 워케이션\n",
      "8 [경주] 꽃단풍 곱게 물든 경주는 지금 안온한 가을! 리버틴 호텔 경주\n",
      "9 경주 여행, 아이와 함께 가면 좋은 실내 여행지 5\n",
      "10 경주 여행, 알차게 즐기는 1박2일 코스\n"
     ]
    },
    {
     "ename": "NoSuchElementException",
     "evalue": "Message: no such element: Unable to locate element: {\"method\":\"xpath\",\"selector\":\"/html/body/div[3]/div/div[1]/div[14]/a[1]/a[2]\"}\n  (Session info: chrome=122.0.6261.129); For documentation on this error, please visit: https://www.selenium.dev/documentation/webdriver/troubleshooting/errors#no-such-element-exception\nStacktrace:\n\tGetHandleVerifier [0x00007FF79FB2AD02+56930]\n\t(No symbol) [0x00007FF79FA9F602]\n\t(No symbol) [0x00007FF79F9542E5]\n\t(No symbol) [0x00007FF79F9998ED]\n\t(No symbol) [0x00007FF79F999A2C]\n\t(No symbol) [0x00007FF79F9DA967]\n\t(No symbol) [0x00007FF79F9BBCDF]\n\t(No symbol) [0x00007FF79F9D81E2]\n\t(No symbol) [0x00007FF79F9BBA43]\n\t(No symbol) [0x00007FF79F98D438]\n\t(No symbol) [0x00007FF79F98E4D1]\n\tGetHandleVerifier [0x00007FF79FEA6F8D+3711213]\n\tGetHandleVerifier [0x00007FF79FF004CD+4077101]\n\tGetHandleVerifier [0x00007FF79FEF865F+4044735]\n\tGetHandleVerifier [0x00007FF79FBC9736+706710]\n\t(No symbol) [0x00007FF79FAAB8DF]\n\t(No symbol) [0x00007FF79FAA6AC4]\n\t(No symbol) [0x00007FF79FAA6C1C]\n\t(No symbol) [0x00007FF79FA968D4]\n\tBaseThreadInitThunk [0x00007FFBBCCB257D+29]\n\tRtlUserThreadStart [0x00007FFBBD5CAA58+40]\n",
     "output_type": "error",
     "traceback": [
      "\u001b[1;31m---------------------------------------------------------------------------\u001b[0m",
      "\u001b[1;31mNoSuchElementException\u001b[0m                    Traceback (most recent call last)",
      "Cell \u001b[1;32mIn[11], line 16\u001b[0m\n\u001b[0;32m     14\u001b[0m     \u001b[38;5;28;01mif\u001b[39;00m no \u001b[38;5;241m<\u001b[39m\u001b[38;5;241m=\u001b[39m cnt:\n\u001b[0;32m     15\u001b[0m         a \u001b[38;5;241m=\u001b[39m \u001b[38;5;124mf\u001b[39m\u001b[38;5;124m'\u001b[39m\u001b[38;5;124m/html/body/div[3]/div/div[1]/div[14]/a[1]/a[\u001b[39m\u001b[38;5;132;01m{\u001b[39;00mx\u001b[38;5;241m+\u001b[39m\u001b[38;5;241m1\u001b[39m\u001b[38;5;132;01m}\u001b[39;00m\u001b[38;5;124m]\u001b[39m\u001b[38;5;124m'\u001b[39m\n\u001b[1;32m---> 16\u001b[0m         driver\u001b[38;5;241m.\u001b[39mfind_element(By\u001b[38;5;241m.\u001b[39mXPATH, a)\u001b[38;5;241m.\u001b[39mclick()\n\u001b[0;32m     17\u001b[0m \u001b[38;5;66;03m#         next_button = driver.find_element(By.CSS_SELECTOR, f\"a[id='{x+1}']\")\u001b[39;00m\n\u001b[0;32m     18\u001b[0m \u001b[38;5;66;03m#         driver.execute_script(\"arguments[0].click();\", next_button)\u001b[39;00m\n\u001b[0;32m     19\u001b[0m         time\u001b[38;5;241m.\u001b[39msleep(\u001b[38;5;241m2\u001b[39m)\n",
      "File \u001b[1;32m~\\anaconda3\\Lib\\site-packages\\selenium\\webdriver\\remote\\webdriver.py:741\u001b[0m, in \u001b[0;36mWebDriver.find_element\u001b[1;34m(self, by, value)\u001b[0m\n\u001b[0;32m    738\u001b[0m     by \u001b[38;5;241m=\u001b[39m By\u001b[38;5;241m.\u001b[39mCSS_SELECTOR\n\u001b[0;32m    739\u001b[0m     value \u001b[38;5;241m=\u001b[39m \u001b[38;5;124mf\u001b[39m\u001b[38;5;124m'\u001b[39m\u001b[38;5;124m[name=\u001b[39m\u001b[38;5;124m\"\u001b[39m\u001b[38;5;132;01m{\u001b[39;00mvalue\u001b[38;5;132;01m}\u001b[39;00m\u001b[38;5;124m\"\u001b[39m\u001b[38;5;124m]\u001b[39m\u001b[38;5;124m'\u001b[39m\n\u001b[1;32m--> 741\u001b[0m \u001b[38;5;28;01mreturn\u001b[39;00m \u001b[38;5;28mself\u001b[39m\u001b[38;5;241m.\u001b[39mexecute(Command\u001b[38;5;241m.\u001b[39mFIND_ELEMENT, {\u001b[38;5;124m\"\u001b[39m\u001b[38;5;124musing\u001b[39m\u001b[38;5;124m\"\u001b[39m: by, \u001b[38;5;124m\"\u001b[39m\u001b[38;5;124mvalue\u001b[39m\u001b[38;5;124m\"\u001b[39m: value})[\u001b[38;5;124m\"\u001b[39m\u001b[38;5;124mvalue\u001b[39m\u001b[38;5;124m\"\u001b[39m]\n",
      "File \u001b[1;32m~\\anaconda3\\Lib\\site-packages\\selenium\\webdriver\\remote\\webdriver.py:347\u001b[0m, in \u001b[0;36mWebDriver.execute\u001b[1;34m(self, driver_command, params)\u001b[0m\n\u001b[0;32m    345\u001b[0m response \u001b[38;5;241m=\u001b[39m \u001b[38;5;28mself\u001b[39m\u001b[38;5;241m.\u001b[39mcommand_executor\u001b[38;5;241m.\u001b[39mexecute(driver_command, params)\n\u001b[0;32m    346\u001b[0m \u001b[38;5;28;01mif\u001b[39;00m response:\n\u001b[1;32m--> 347\u001b[0m     \u001b[38;5;28mself\u001b[39m\u001b[38;5;241m.\u001b[39merror_handler\u001b[38;5;241m.\u001b[39mcheck_response(response)\n\u001b[0;32m    348\u001b[0m     response[\u001b[38;5;124m\"\u001b[39m\u001b[38;5;124mvalue\u001b[39m\u001b[38;5;124m\"\u001b[39m] \u001b[38;5;241m=\u001b[39m \u001b[38;5;28mself\u001b[39m\u001b[38;5;241m.\u001b[39m_unwrap_value(response\u001b[38;5;241m.\u001b[39mget(\u001b[38;5;124m\"\u001b[39m\u001b[38;5;124mvalue\u001b[39m\u001b[38;5;124m\"\u001b[39m, \u001b[38;5;28;01mNone\u001b[39;00m))\n\u001b[0;32m    349\u001b[0m     \u001b[38;5;28;01mreturn\u001b[39;00m response\n",
      "File \u001b[1;32m~\\anaconda3\\Lib\\site-packages\\selenium\\webdriver\\remote\\errorhandler.py:229\u001b[0m, in \u001b[0;36mErrorHandler.check_response\u001b[1;34m(self, response)\u001b[0m\n\u001b[0;32m    227\u001b[0m         alert_text \u001b[38;5;241m=\u001b[39m value[\u001b[38;5;124m\"\u001b[39m\u001b[38;5;124malert\u001b[39m\u001b[38;5;124m\"\u001b[39m]\u001b[38;5;241m.\u001b[39mget(\u001b[38;5;124m\"\u001b[39m\u001b[38;5;124mtext\u001b[39m\u001b[38;5;124m\"\u001b[39m)\n\u001b[0;32m    228\u001b[0m     \u001b[38;5;28;01mraise\u001b[39;00m exception_class(message, screen, stacktrace, alert_text)  \u001b[38;5;66;03m# type: ignore[call-arg]  # mypy is not smart enough here\u001b[39;00m\n\u001b[1;32m--> 229\u001b[0m \u001b[38;5;28;01mraise\u001b[39;00m exception_class(message, screen, stacktrace)\n",
      "\u001b[1;31mNoSuchElementException\u001b[0m: Message: no such element: Unable to locate element: {\"method\":\"xpath\",\"selector\":\"/html/body/div[3]/div/div[1]/div[14]/a[1]/a[2]\"}\n  (Session info: chrome=122.0.6261.129); For documentation on this error, please visit: https://www.selenium.dev/documentation/webdriver/troubleshooting/errors#no-such-element-exception\nStacktrace:\n\tGetHandleVerifier [0x00007FF79FB2AD02+56930]\n\t(No symbol) [0x00007FF79FA9F602]\n\t(No symbol) [0x00007FF79F9542E5]\n\t(No symbol) [0x00007FF79F9998ED]\n\t(No symbol) [0x00007FF79F999A2C]\n\t(No symbol) [0x00007FF79F9DA967]\n\t(No symbol) [0x00007FF79F9BBCDF]\n\t(No symbol) [0x00007FF79F9D81E2]\n\t(No symbol) [0x00007FF79F9BBA43]\n\t(No symbol) [0x00007FF79F98D438]\n\t(No symbol) [0x00007FF79F98E4D1]\n\tGetHandleVerifier [0x00007FF79FEA6F8D+3711213]\n\tGetHandleVerifier [0x00007FF79FF004CD+4077101]\n\tGetHandleVerifier [0x00007FF79FEF865F+4044735]\n\tGetHandleVerifier [0x00007FF79FBC9736+706710]\n\t(No symbol) [0x00007FF79FAAB8DF]\n\t(No symbol) [0x00007FF79FAA6AC4]\n\t(No symbol) [0x00007FF79FAA6C1C]\n\t(No symbol) [0x00007FF79FA968D4]\n\tBaseThreadInitThunk [0x00007FFBBCCB257D+29]\n\tRtlUserThreadStart [0x00007FFBBD5CAA58+40]\n"
     ]
    }
   ],
   "source": [
    "tit_xpath = '//*[@id=\"search_result\"]/ul/li[*]/div[1]/div[1]/a'\n",
    "no = 0\n",
    "\n",
    "for x in range(1, page_cnt+1):\n",
    "    print(f'========= {x} 페이지 작업 =========')\n",
    "    mylist = driver.find_elements(By.XPATH, tit_xpath)\n",
    "    \n",
    "    for item in mylist:\n",
    "        no += 1\n",
    "        if no > cnt:\n",
    "            break\n",
    "        print(no, item.text)\n",
    "    \n",
    "    if no <= cnt:\n",
    "        a = f'/html/body/div[3]/div/div[1]/div[14]/a[1]/a[{x+1}]'\n",
    "        driver.find_element(By.XPATH, a).click()\n",
    "#         next_button = driver.find_element(By.CSS_SELECTOR, f\"a[id='{x+1}']\")\n",
    "#         driver.execute_script(\"arguments[0].click();\", next_button)\n",
    "        time.sleep(2)\n",
    "    \n",
    "print('========= 작업 완료 =========')\n",
    "# driver.close()"
   ]
  },
  {
   "cell_type": "code",
   "execution_count": 13,
   "id": "e9747720",
   "metadata": {
    "ExecuteTime": {
     "end_time": "2024-03-18T14:53:09.021660Z",
     "start_time": "2024-03-18T14:53:08.952421Z"
    }
   },
   "outputs": [],
   "source": [
    "# 페이지 버튼 클릭\n",
    "driver.find_element(By.XPATH, '/html/body/div[3]/div/div[1]/div[14]/a[2]').click() "
   ]
  },
  {
   "cell_type": "code",
   "execution_count": 14,
   "id": "af2211bf",
   "metadata": {
    "ExecuteTime": {
     "end_time": "2024-03-18T14:53:23.684510Z",
     "start_time": "2024-03-18T14:53:20.655332Z"
    }
   },
   "outputs": [
    {
     "name": "stdout",
     "output_type": "stream",
     "text": [
      "크롤링 할 건수는 몇건입니까?: 10\n"
     ]
    },
    {
     "data": {
      "text/plain": [
       "10"
      ]
     },
     "execution_count": 14,
     "metadata": {},
     "output_type": "execute_result"
    }
   ],
   "source": [
    "cnt = int(input('크롤링 할 건수는 몇건입니까?: '))\n",
    "cnt"
   ]
  },
  {
   "cell_type": "code",
   "execution_count": 15,
   "id": "195ee3e1",
   "metadata": {
    "ExecuteTime": {
     "end_time": "2024-03-18T14:53:28.436946Z",
     "start_time": "2024-03-18T14:53:28.431661Z"
    }
   },
   "outputs": [
    {
     "name": "stdout",
     "output_type": "stream",
     "text": [
      "1\n"
     ]
    }
   ],
   "source": [
    "page_cnt = math.ceil(cnt / 10) # 크롤링 할 전체 페이지 수 (올림)\n",
    "print(page_cnt)"
   ]
  },
  {
   "cell_type": "code",
   "execution_count": 17,
   "id": "cf43a367",
   "metadata": {
    "ExecuteTime": {
     "end_time": "2024-03-18T14:54:28.566630Z",
     "start_time": "2024-03-18T14:54:28.376713Z"
    }
   },
   "outputs": [
    {
     "name": "stdout",
     "output_type": "stream",
     "text": [
      "========= 1 페이지 작업 =========\n",
      "1 다시 쓰는 수학여행기, 경주 불국사와 석굴암\n",
      "2 추워도 매력만점*̥❄︎‧˚\n",
      "겨울 경주 인기 스팟 랜선 여행\n",
      "3 [경주 여행] 자전거 타고 가는 신라 역사 여행\n",
      "4 천년고도 꽃길을 거닐다 – 경주\n",
      "5 [경주] 경주의 가장 아름다운 계절을 만나다, <앨리 게스트하우스>\n",
      "6 [경주] 가족과 함께 경주 여행하고 한옥 마루에서 업무도 척척\n",
      "경주 위연재\n",
      "7 신라 천년의 밤을 만나다!\n",
      "경주 동궁과 월지, 월정교\n",
      "8 아직도 안 가봤어? 인생 사진 스폿이 넘쳐나는 '경주세계문화엑스포대공원'\n",
      "9 [경주] 경주 남산은 신앙심과 예술혼으로 일궈낸 불국토\n",
      "10 [경주] 경주 시내에서 분위기 있게 하룻밤, 리버틴호텔\n"
     ]
    },
    {
     "ename": "NoSuchElementException",
     "evalue": "Message: no such element: Unable to locate element: {\"method\":\"xpath\",\"selector\":\"/html/body/div[3]/div/div[1]/div[14]/a[2]/a[2]\"}\n  (Session info: chrome=122.0.6261.129); For documentation on this error, please visit: https://www.selenium.dev/documentation/webdriver/troubleshooting/errors#no-such-element-exception\nStacktrace:\n\tGetHandleVerifier [0x00007FF79FB2AD02+56930]\n\t(No symbol) [0x00007FF79FA9F602]\n\t(No symbol) [0x00007FF79F9542E5]\n\t(No symbol) [0x00007FF79F9998ED]\n\t(No symbol) [0x00007FF79F999A2C]\n\t(No symbol) [0x00007FF79F9DA967]\n\t(No symbol) [0x00007FF79F9BBCDF]\n\t(No symbol) [0x00007FF79F9D81E2]\n\t(No symbol) [0x00007FF79F9BBA43]\n\t(No symbol) [0x00007FF79F98D438]\n\t(No symbol) [0x00007FF79F98E4D1]\n\tGetHandleVerifier [0x00007FF79FEA6F8D+3711213]\n\tGetHandleVerifier [0x00007FF79FF004CD+4077101]\n\tGetHandleVerifier [0x00007FF79FEF865F+4044735]\n\tGetHandleVerifier [0x00007FF79FBC9736+706710]\n\t(No symbol) [0x00007FF79FAAB8DF]\n\t(No symbol) [0x00007FF79FAA6AC4]\n\t(No symbol) [0x00007FF79FAA6C1C]\n\t(No symbol) [0x00007FF79FA968D4]\n\tBaseThreadInitThunk [0x00007FFBBCCB257D+29]\n\tRtlUserThreadStart [0x00007FFBBD5CAA58+40]\n",
     "output_type": "error",
     "traceback": [
      "\u001b[1;31m---------------------------------------------------------------------------\u001b[0m",
      "\u001b[1;31mNoSuchElementException\u001b[0m                    Traceback (most recent call last)",
      "Cell \u001b[1;32mIn[17], line 16\u001b[0m\n\u001b[0;32m     14\u001b[0m     \u001b[38;5;28;01mif\u001b[39;00m no \u001b[38;5;241m<\u001b[39m\u001b[38;5;241m=\u001b[39m cnt:\n\u001b[0;32m     15\u001b[0m         a \u001b[38;5;241m=\u001b[39m \u001b[38;5;124mf\u001b[39m\u001b[38;5;124m'\u001b[39m\u001b[38;5;124m/html/body/div[3]/div/div[1]/div[14]/a[2]/a[\u001b[39m\u001b[38;5;132;01m{\u001b[39;00mx\u001b[38;5;241m+\u001b[39m\u001b[38;5;241m1\u001b[39m\u001b[38;5;132;01m}\u001b[39;00m\u001b[38;5;124m]\u001b[39m\u001b[38;5;124m'\u001b[39m\n\u001b[1;32m---> 16\u001b[0m         driver\u001b[38;5;241m.\u001b[39mfind_element(By\u001b[38;5;241m.\u001b[39mXPATH, a)\u001b[38;5;241m.\u001b[39mclick()\n\u001b[0;32m     17\u001b[0m \u001b[38;5;66;03m#         next_button = driver.find_element(By.CSS_SELECTOR, f\"a[id='{x+1}']\")\u001b[39;00m\n\u001b[0;32m     18\u001b[0m \u001b[38;5;66;03m#         driver.execute_script(\"arguments[0].click();\", next_button)\u001b[39;00m\n\u001b[0;32m     19\u001b[0m         time\u001b[38;5;241m.\u001b[39msleep(\u001b[38;5;241m2\u001b[39m)\n",
      "File \u001b[1;32m~\\anaconda3\\Lib\\site-packages\\selenium\\webdriver\\remote\\webdriver.py:741\u001b[0m, in \u001b[0;36mWebDriver.find_element\u001b[1;34m(self, by, value)\u001b[0m\n\u001b[0;32m    738\u001b[0m     by \u001b[38;5;241m=\u001b[39m By\u001b[38;5;241m.\u001b[39mCSS_SELECTOR\n\u001b[0;32m    739\u001b[0m     value \u001b[38;5;241m=\u001b[39m \u001b[38;5;124mf\u001b[39m\u001b[38;5;124m'\u001b[39m\u001b[38;5;124m[name=\u001b[39m\u001b[38;5;124m\"\u001b[39m\u001b[38;5;132;01m{\u001b[39;00mvalue\u001b[38;5;132;01m}\u001b[39;00m\u001b[38;5;124m\"\u001b[39m\u001b[38;5;124m]\u001b[39m\u001b[38;5;124m'\u001b[39m\n\u001b[1;32m--> 741\u001b[0m \u001b[38;5;28;01mreturn\u001b[39;00m \u001b[38;5;28mself\u001b[39m\u001b[38;5;241m.\u001b[39mexecute(Command\u001b[38;5;241m.\u001b[39mFIND_ELEMENT, {\u001b[38;5;124m\"\u001b[39m\u001b[38;5;124musing\u001b[39m\u001b[38;5;124m\"\u001b[39m: by, \u001b[38;5;124m\"\u001b[39m\u001b[38;5;124mvalue\u001b[39m\u001b[38;5;124m\"\u001b[39m: value})[\u001b[38;5;124m\"\u001b[39m\u001b[38;5;124mvalue\u001b[39m\u001b[38;5;124m\"\u001b[39m]\n",
      "File \u001b[1;32m~\\anaconda3\\Lib\\site-packages\\selenium\\webdriver\\remote\\webdriver.py:347\u001b[0m, in \u001b[0;36mWebDriver.execute\u001b[1;34m(self, driver_command, params)\u001b[0m\n\u001b[0;32m    345\u001b[0m response \u001b[38;5;241m=\u001b[39m \u001b[38;5;28mself\u001b[39m\u001b[38;5;241m.\u001b[39mcommand_executor\u001b[38;5;241m.\u001b[39mexecute(driver_command, params)\n\u001b[0;32m    346\u001b[0m \u001b[38;5;28;01mif\u001b[39;00m response:\n\u001b[1;32m--> 347\u001b[0m     \u001b[38;5;28mself\u001b[39m\u001b[38;5;241m.\u001b[39merror_handler\u001b[38;5;241m.\u001b[39mcheck_response(response)\n\u001b[0;32m    348\u001b[0m     response[\u001b[38;5;124m\"\u001b[39m\u001b[38;5;124mvalue\u001b[39m\u001b[38;5;124m\"\u001b[39m] \u001b[38;5;241m=\u001b[39m \u001b[38;5;28mself\u001b[39m\u001b[38;5;241m.\u001b[39m_unwrap_value(response\u001b[38;5;241m.\u001b[39mget(\u001b[38;5;124m\"\u001b[39m\u001b[38;5;124mvalue\u001b[39m\u001b[38;5;124m\"\u001b[39m, \u001b[38;5;28;01mNone\u001b[39;00m))\n\u001b[0;32m    349\u001b[0m     \u001b[38;5;28;01mreturn\u001b[39;00m response\n",
      "File \u001b[1;32m~\\anaconda3\\Lib\\site-packages\\selenium\\webdriver\\remote\\errorhandler.py:229\u001b[0m, in \u001b[0;36mErrorHandler.check_response\u001b[1;34m(self, response)\u001b[0m\n\u001b[0;32m    227\u001b[0m         alert_text \u001b[38;5;241m=\u001b[39m value[\u001b[38;5;124m\"\u001b[39m\u001b[38;5;124malert\u001b[39m\u001b[38;5;124m\"\u001b[39m]\u001b[38;5;241m.\u001b[39mget(\u001b[38;5;124m\"\u001b[39m\u001b[38;5;124mtext\u001b[39m\u001b[38;5;124m\"\u001b[39m)\n\u001b[0;32m    228\u001b[0m     \u001b[38;5;28;01mraise\u001b[39;00m exception_class(message, screen, stacktrace, alert_text)  \u001b[38;5;66;03m# type: ignore[call-arg]  # mypy is not smart enough here\u001b[39;00m\n\u001b[1;32m--> 229\u001b[0m \u001b[38;5;28;01mraise\u001b[39;00m exception_class(message, screen, stacktrace)\n",
      "\u001b[1;31mNoSuchElementException\u001b[0m: Message: no such element: Unable to locate element: {\"method\":\"xpath\",\"selector\":\"/html/body/div[3]/div/div[1]/div[14]/a[2]/a[2]\"}\n  (Session info: chrome=122.0.6261.129); For documentation on this error, please visit: https://www.selenium.dev/documentation/webdriver/troubleshooting/errors#no-such-element-exception\nStacktrace:\n\tGetHandleVerifier [0x00007FF79FB2AD02+56930]\n\t(No symbol) [0x00007FF79FA9F602]\n\t(No symbol) [0x00007FF79F9542E5]\n\t(No symbol) [0x00007FF79F9998ED]\n\t(No symbol) [0x00007FF79F999A2C]\n\t(No symbol) [0x00007FF79F9DA967]\n\t(No symbol) [0x00007FF79F9BBCDF]\n\t(No symbol) [0x00007FF79F9D81E2]\n\t(No symbol) [0x00007FF79F9BBA43]\n\t(No symbol) [0x00007FF79F98D438]\n\t(No symbol) [0x00007FF79F98E4D1]\n\tGetHandleVerifier [0x00007FF79FEA6F8D+3711213]\n\tGetHandleVerifier [0x00007FF79FF004CD+4077101]\n\tGetHandleVerifier [0x00007FF79FEF865F+4044735]\n\tGetHandleVerifier [0x00007FF79FBC9736+706710]\n\t(No symbol) [0x00007FF79FAAB8DF]\n\t(No symbol) [0x00007FF79FAA6AC4]\n\t(No symbol) [0x00007FF79FAA6C1C]\n\t(No symbol) [0x00007FF79FA968D4]\n\tBaseThreadInitThunk [0x00007FFBBCCB257D+29]\n\tRtlUserThreadStart [0x00007FFBBD5CAA58+40]\n"
     ]
    }
   ],
   "source": [
    "tit_xpath = '//*[@id=\"search_result\"]/ul/li[*]/div[1]/div[1]/a'\n",
    "no = 0\n",
    "\n",
    "for x in range(1, page_cnt+1):\n",
    "    print(f'========= {x} 페이지 작업 =========')\n",
    "    mylist = driver.find_elements(By.XPATH, tit_xpath)\n",
    "    \n",
    "    for item in mylist:\n",
    "        no += 1\n",
    "        if no > cnt:\n",
    "            break\n",
    "        print(no, item.text)\n",
    "    \n",
    "    if no <= cnt:\n",
    "        a = f'/html/body/div[3]/div/div[1]/div[14]/a[2]/a[{x+1}]'\n",
    "        driver.find_element(By.XPATH, a).click()\n",
    "#         next_button = driver.find_element(By.CSS_SELECTOR, f\"a[id='{x+1}']\")\n",
    "#         driver.execute_script(\"arguments[0].click();\", next_button)\n",
    "        time.sleep(2)\n",
    "    \n",
    "print('========= 작업 완료 =========')\n",
    "# driver.close()"
   ]
  },
  {
   "cell_type": "code",
   "execution_count": null,
   "id": "f5422fb7",
   "metadata": {},
   "outputs": [],
   "source": []
  }
 ],
 "metadata": {
  "kernelspec": {
   "display_name": "Python 3 (ipykernel)",
   "language": "python",
   "name": "python3"
  },
  "language_info": {
   "codemirror_mode": {
    "name": "ipython",
    "version": 3
   },
   "file_extension": ".py",
   "mimetype": "text/x-python",
   "name": "python",
   "nbconvert_exporter": "python",
   "pygments_lexer": "ipython3",
   "version": "3.11.5"
  },
  "toc": {
   "base_numbering": 1,
   "nav_menu": {},
   "number_sections": true,
   "sideBar": true,
   "skip_h1_title": false,
   "title_cell": "Table of Contents",
   "title_sidebar": "Contents",
   "toc_cell": false,
   "toc_position": {},
   "toc_section_display": true,
   "toc_window_display": false
  }
 },
 "nbformat": 4,
 "nbformat_minor": 5
}
