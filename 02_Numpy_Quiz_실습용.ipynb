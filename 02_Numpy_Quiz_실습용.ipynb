{
 "cells": [
  {
   "cell_type": "markdown",
   "id": "6f17d151",
   "metadata": {},
   "source": [
    "### Quiz"
   ]
  },
  {
   "cell_type": "markdown",
   "id": "822f98fc",
   "metadata": {},
   "source": [
    "#### Q1. 다음과 같은 리스트를 이용하여 넘파이 배열을 만들고\n",
    "전체 갯수, 차원, 데이터형, 구조를 출력하여라\n",
    "```\n",
    "\n",
    "['강아지', '원숭이', '꽃', '45', '100']\n",
    "\n",
    "array(['강아지', '원숭이', '꽃', '45', '100'], dtype='<U3')\n",
    "차원 ? 1\n",
    "전체 갯수 ? 5\n",
    "데이터형 ? <U3\n",
    "전체 구조  ? (5,)\n",
    "```"
   ]
  },
  {
   "cell_type": "code",
   "execution_count": 7,
   "id": "57a5c6c5-660c-4f82-99a1-a578a300f8cd",
   "metadata": {
    "ExecuteTime": {
     "end_time": "2024-03-20T14:41:57.430089Z",
     "start_time": "2024-03-20T14:41:57.416925Z"
    }
   },
   "outputs": [
    {
     "data": {
      "text/plain": [
       "(array(['강아지', '원숭이', '꽃', '45', '100'], dtype='<U3'), 1, (5,), 5)"
      ]
     },
     "execution_count": 7,
     "metadata": {},
     "output_type": "execute_result"
    }
   ],
   "source": [
    "a = np.array(['강아지', '원숭이', '꽃', '45', '100'])\n",
    "a, a.ndim, a.shape, a.size"
   ]
  },
  {
   "cell_type": "markdown",
   "id": "e1cef698",
   "metadata": {},
   "source": [
    "#### Q2. np.ones()를 이용하여\n",
    "2행 3열의 넘파이 배열을 생성하여라\n",
    "\n",
    "array([[1., 1., 1.],\n",
    "       [1., 1., 1.]])"
   ]
  },
  {
   "cell_type": "code",
   "execution_count": 3,
   "id": "e827e516",
   "metadata": {
    "ExecuteTime": {
     "end_time": "2024-03-21T14:17:40.511233Z",
     "start_time": "2024-03-21T14:17:40.402970Z"
    }
   },
   "outputs": [],
   "source": [
    "import numpy as np"
   ]
  },
  {
   "cell_type": "code",
   "execution_count": 4,
   "id": "fcb2093e",
   "metadata": {
    "ExecuteTime": {
     "end_time": "2024-03-21T14:17:42.132659Z",
     "start_time": "2024-03-21T14:17:42.114626Z"
    }
   },
   "outputs": [
    {
     "data": {
      "text/plain": [
       "array([[1., 1., 1.],\n",
       "       [1., 1., 1.]])"
      ]
     },
     "execution_count": 4,
     "metadata": {},
     "output_type": "execute_result"
    }
   ],
   "source": [
    "np.ones( (2, 3) )"
   ]
  },
  {
   "cell_type": "code",
   "execution_count": 2,
   "id": "6a98a550",
   "metadata": {
    "ExecuteTime": {
     "end_time": "2024-03-20T14:39:56.296985Z",
     "start_time": "2024-03-20T14:39:56.176030Z"
    }
   },
   "outputs": [],
   "source": [
    "import numpy as np"
   ]
  },
  {
   "cell_type": "code",
   "execution_count": 3,
   "id": "fc428147-8468-487e-96e3-21141f9dfe88",
   "metadata": {
    "ExecuteTime": {
     "end_time": "2024-03-20T14:40:00.647070Z",
     "start_time": "2024-03-20T14:40:00.632526Z"
    },
    "scrolled": true
   },
   "outputs": [
    {
     "name": "stdout",
     "output_type": "stream",
     "text": [
      "[1. 1.] float64\n"
     ]
    }
   ],
   "source": [
    "print(np.ones(2), np.ones(3).dtype)"
   ]
  },
  {
   "cell_type": "code",
   "execution_count": 6,
   "id": "a7ec73bd",
   "metadata": {
    "ExecuteTime": {
     "end_time": "2024-03-20T14:40:39.111380Z",
     "start_time": "2024-03-20T14:40:39.104012Z"
    }
   },
   "outputs": [
    {
     "data": {
      "text/plain": [
       "(array([[1., 1., 1.],\n",
       "        [1., 1., 1.]]),\n",
       " 2,\n",
       " numpy.ndarray)"
      ]
     },
     "execution_count": 6,
     "metadata": {},
     "output_type": "execute_result"
    }
   ],
   "source": [
    "a = np.array( [[1.,1,1], [1,1,1]] )\n",
    "a, a.ndim, type(a)"
   ]
  },
  {
   "cell_type": "markdown",
   "id": "42c9b79e",
   "metadata": {},
   "source": [
    "#### Q3. np.arange(), np.reshape()를 이용하여\n",
    "다음과 같은 넘파이 배열을 생성하여라\n",
    "```\n",
    "array([[51, 52, 53, 54, 55],\n",
    "       [56, 57, 58, 59, 60],\n",
    "       [61, 62, 63, 64, 65],\n",
    "       [66, 67, 68, 69, 70],\n",
    "       [71, 72, 73, 74, 75],\n",
    "       [76, 77, 78, 79, 80]])\n",
    "```"
   ]
  },
  {
   "cell_type": "code",
   "execution_count": 24,
   "id": "f36d1318-abab-4e6a-8ba3-87e71b36d100",
   "metadata": {
    "ExecuteTime": {
     "end_time": "2024-03-20T14:53:53.399705Z",
     "start_time": "2024-03-20T14:53:53.391955Z"
    },
    "scrolled": true
   },
   "outputs": [
    {
     "data": {
      "text/plain": [
       "(array([51, 52, 53, 54, 55, 56, 57, 58, 59, 60, 61, 62, 63, 64, 65, 66, 67,\n",
       "        68, 69, 70, 71, 72, 73, 74, 75, 76, 77, 78, 79, 80]),\n",
       " dtype('int32'))"
      ]
     },
     "execution_count": 24,
     "metadata": {},
     "output_type": "execute_result"
    }
   ],
   "source": [
    "matrix = np.arange(51, 81)\n",
    "matrix, matrix.dtype"
   ]
  },
  {
   "cell_type": "code",
   "execution_count": 27,
   "id": "aafd6902",
   "metadata": {
    "ExecuteTime": {
     "end_time": "2024-03-20T14:54:57.287876Z",
     "start_time": "2024-03-20T14:54:57.279765Z"
    }
   },
   "outputs": [
    {
     "data": {
      "text/plain": [
       "array([[51, 52, 53, 54, 55],\n",
       "       [56, 57, 58, 59, 60],\n",
       "       [61, 62, 63, 64, 65],\n",
       "       [66, 67, 68, 69, 70],\n",
       "       [71, 72, 73, 74, 75],\n",
       "       [76, 77, 78, 79, 80]])"
      ]
     },
     "execution_count": 27,
     "metadata": {},
     "output_type": "execute_result"
    }
   ],
   "source": [
    "matrix = np.arange(51, 81).reshape(6,5)\n",
    "matrix"
   ]
  },
  {
   "cell_type": "markdown",
   "id": "6b0dd4b5",
   "metadata": {},
   "source": [
    "#### Q4. Q3의 넘파이 배열의 자료형을\n",
    "float로 변경하고 데이터형을 출력하여라\n",
    "```\n",
    "array([[51., 52., 53., 54., 55.],\n",
    "       [56., 57., 58., 59., 60.],\n",
    "       [61., 62., 63., 64., 65.],\n",
    "       [66., 67., 68., 69., 70.],\n",
    "       [71., 72., 73., 74., 75.],\n",
    "       [76., 77., 78., 79., 80.]])\n",
    "```\n",
    "-------------------------------------  \n",
    "\n",
    "dtype('float64')"
   ]
  },
  {
   "cell_type": "code",
   "execution_count": 28,
   "id": "200dc541-ca25-4797-a0e8-cec3aae25b4c",
   "metadata": {
    "ExecuteTime": {
     "end_time": "2024-03-20T14:57:08.263616Z",
     "start_time": "2024-03-20T14:57:08.255654Z"
    }
   },
   "outputs": [
    {
     "data": {
      "text/plain": [
       "(array([[51., 52., 53., 54., 55.],\n",
       "        [56., 57., 58., 59., 60.],\n",
       "        [61., 62., 63., 64., 65.],\n",
       "        [66., 67., 68., 69., 70.],\n",
       "        [71., 72., 73., 74., 75.],\n",
       "        [76., 77., 78., 79., 80.]]),\n",
       " dtype('float64'))"
      ]
     },
     "execution_count": 28,
     "metadata": {},
     "output_type": "execute_result"
    }
   ],
   "source": [
    "matrix = np.arange(51, 81, dtype=float).reshape(6,5)\n",
    "matrix, matrix.dtype"
   ]
  },
  {
   "cell_type": "markdown",
   "id": "906cf1f4",
   "metadata": {},
   "source": [
    "#### Q5. 다음과 같이 넘파이 배열을 생성한 후 1차원 배열로 변경하고 슬라이싱하여라 \n",
    "\n",
    "```\n",
    "array([[ 1,  4,  5,  6],\n",
    "       [56, 23, 45, 67],\n",
    "       [ 8,  4,  6, 10]])\n",
    "       \n",
    "array([ 1,  4,  5,  6, 56, 23, 45, 67,  8,  4,  6, 10])\n",
    "\n",
    "\n",
    "array([23, 45, 67,  8,  4,  6])\n",
    "```       "
   ]
  },
  {
   "cell_type": "code",
   "execution_count": 38,
   "id": "90724111-e79d-4da8-a30f-bfa15e788f7e",
   "metadata": {
    "ExecuteTime": {
     "end_time": "2024-03-20T15:08:55.495134Z",
     "start_time": "2024-03-20T15:08:55.487962Z"
    },
    "scrolled": true
   },
   "outputs": [
    {
     "data": {
      "text/plain": [
       "array([4, 5, 6])"
      ]
     },
     "execution_count": 38,
     "metadata": {},
     "output_type": "execute_result"
    }
   ],
   "source": [
    "matrix = np.arange(4, 7)\n",
    "matrix"
   ]
  },
  {
   "cell_type": "code",
   "execution_count": 34,
   "id": "43316cd8",
   "metadata": {
    "ExecuteTime": {
     "end_time": "2024-03-20T15:06:59.383787Z",
     "start_time": "2024-03-20T15:06:59.377133Z"
    },
    "scrolled": true
   },
   "outputs": [
    {
     "data": {
      "text/plain": [
       "array([1, 4, 5, 6])"
      ]
     },
     "execution_count": 34,
     "metadata": {},
     "output_type": "execute_result"
    }
   ],
   "source": [
    "np.insert(m3, 0, 1)"
   ]
  },
  {
   "cell_type": "code",
   "execution_count": null,
   "id": "24e1b2f7",
   "metadata": {},
   "outputs": [],
   "source": [
    "arr3 = arr2.flatten()\n",
    "arr3"
   ]
  },
  {
   "cell_type": "code",
   "execution_count": 5,
   "id": "ccd2a91c",
   "metadata": {
    "ExecuteTime": {
     "end_time": "2024-03-21T14:19:15.656861Z",
     "start_time": "2024-03-21T14:19:15.643444Z"
    }
   },
   "outputs": [
    {
     "name": "stdout",
     "output_type": "stream",
     "text": [
      "[23 45 67  8  4  6]\n",
      "[23 45 67  8  4  6]\n"
     ]
    }
   ],
   "source": [
    "arr2d = np.array([[ 1,  4,  5,  6], [56, 23, 45, 67], [ 8,  4,  6, 10]])\n",
    "print(arr2d.flatten()[5:11])\n",
    "print(arr2d.flatten()[5:-1])"
   ]
  },
  {
   "cell_type": "markdown",
   "id": "46e67feb",
   "metadata": {},
   "source": [
    "#### Q6. 다음과 같은 넘파이 배열을 생성한 후 아이템을 교체하여라 \n",
    "\n",
    "```\n",
    "array([ 1,  2,  3,  4,  5,  6,  7,  8,  9, 10])\n",
    "\n",
    "array([10,  2,  3,  4,  5,  6,  7,  0,  0,  0])\n",
    "\n",
    "```"
   ]
  },
  {
   "cell_type": "code",
   "execution_count": 45,
   "id": "c7cd6fbe-380b-4e29-98f8-902b110a7207",
   "metadata": {
    "ExecuteTime": {
     "end_time": "2024-03-20T15:17:45.933619Z",
     "start_time": "2024-03-20T15:17:45.928252Z"
    }
   },
   "outputs": [
    {
     "data": {
      "text/plain": [
       "array([ 1,  2,  3,  4,  5,  6,  7,  8,  9, 10])"
      ]
     },
     "execution_count": 45,
     "metadata": {},
     "output_type": "execute_result"
    }
   ],
   "source": [
    "a = np.arange(1, 11)\n",
    "a"
   ]
  },
  {
   "cell_type": "code",
   "execution_count": 47,
   "id": "e5c6996e",
   "metadata": {
    "ExecuteTime": {
     "end_time": "2024-03-20T15:18:47.919735Z",
     "start_time": "2024-03-20T15:18:47.912664Z"
    }
   },
   "outputs": [
    {
     "data": {
      "text/plain": [
       "array([ 0,  1,  2,  3,  4,  5,  6,  7,  8,  9, 10])"
      ]
     },
     "execution_count": 47,
     "metadata": {},
     "output_type": "execute_result"
    }
   ],
   "source": [
    "np.insert(a, 0, 0)"
   ]
  },
  {
   "cell_type": "code",
   "execution_count": 50,
   "id": "4f2731bf",
   "metadata": {
    "ExecuteTime": {
     "end_time": "2024-03-20T15:21:42.935226Z",
     "start_time": "2024-03-20T15:21:42.929402Z"
    }
   },
   "outputs": [
    {
     "data": {
      "text/plain": [
       "array([2, 3, 4, 5, 6, 7])"
      ]
     },
     "execution_count": 50,
     "metadata": {},
     "output_type": "execute_result"
    }
   ],
   "source": [
    "a1 = np.arange(2,8)\n",
    "a1"
   ]
  },
  {
   "cell_type": "code",
   "execution_count": 53,
   "id": "80aefdf5",
   "metadata": {
    "ExecuteTime": {
     "end_time": "2024-03-20T15:22:25.239213Z",
     "start_time": "2024-03-20T15:22:25.231685Z"
    },
    "scrolled": false
   },
   "outputs": [
    {
     "data": {
      "text/plain": [
       "array([10,  2,  3,  4,  5,  6,  7])"
      ]
     },
     "execution_count": 53,
     "metadata": {},
     "output_type": "execute_result"
    }
   ],
   "source": [
    "np.insert(a1, 0, 10)"
   ]
  },
  {
   "cell_type": "code",
   "execution_count": 6,
   "id": "2ddfc44d",
   "metadata": {
    "ExecuteTime": {
     "end_time": "2024-03-21T14:21:42.041397Z",
     "start_time": "2024-03-21T14:21:42.034437Z"
    }
   },
   "outputs": [
    {
     "data": {
      "text/plain": [
       "array([10,  2,  3,  4,  5,  6,  7,  0,  0,  0])"
      ]
     },
     "execution_count": 6,
     "metadata": {},
     "output_type": "execute_result"
    }
   ],
   "source": [
    "arr = np.array([ 1,  2,  3,  4,  5,  6,  7,  8,  9, 10])\n",
    "arr[0] = 10\n",
    "arr[7:] = 0\n",
    "arr"
   ]
  },
  {
   "cell_type": "markdown",
   "id": "cf265b90",
   "metadata": {},
   "source": [
    "#### Q7. 2자리의 숫자로 구성된 넘파이 배열(5행5열)을 만들어라. 숫자는 난수를 이용한다. \n",
    "\n",
    "```\n",
    "[[63 85 71 67 15]\n",
    " [31 81 69 17 97]\n",
    " [25 41 33 23 39]\n",
    " [39 43 59 33 43]\n",
    " [23 51 65 91 23]]\n",
    "\n",
    "```"
   ]
  },
  {
   "cell_type": "code",
   "execution_count": 56,
   "id": "0520d5ad-2e3a-4aca-acc5-3f08a08845aa",
   "metadata": {
    "ExecuteTime": {
     "end_time": "2024-03-20T15:29:48.276184Z",
     "start_time": "2024-03-20T15:29:48.263462Z"
    },
    "scrolled": true
   },
   "outputs": [
    {
     "data": {
      "text/plain": [
       "array([41, 41, 19, 38, 29, 84, 36, 15, 59, 82, 78, 73, 76, 67, 74, 15, 68,\n",
       "       26, 52, 79, 48, 76, 34, 15, 18])"
      ]
     },
     "execution_count": 56,
     "metadata": {},
     "output_type": "execute_result"
    }
   ],
   "source": [
    "np.random.randint(15, 86,25)"
   ]
  },
  {
   "cell_type": "code",
   "execution_count": 57,
   "id": "144ceeca",
   "metadata": {
    "ExecuteTime": {
     "end_time": "2024-03-20T15:30:23.454106Z",
     "start_time": "2024-03-20T15:30:23.448495Z"
    },
    "scrolled": true
   },
   "outputs": [
    {
     "data": {
      "text/plain": [
       "array([[30, 27, 56, 37, 51],\n",
       "       [82, 20, 82, 35, 22],\n",
       "       [85, 23, 49, 53, 15],\n",
       "       [55, 70, 21, 52, 74],\n",
       "       [85, 71, 51, 58, 59]])"
      ]
     },
     "execution_count": 57,
     "metadata": {},
     "output_type": "execute_result"
    }
   ],
   "source": [
    "np.random.randint(15, 86, (5,5))"
   ]
  },
  {
   "cell_type": "code",
   "execution_count": 7,
   "id": "e95dc822",
   "metadata": {
    "ExecuteTime": {
     "end_time": "2024-03-21T14:23:12.754250Z",
     "start_time": "2024-03-21T14:23:12.746715Z"
    }
   },
   "outputs": [
    {
     "data": {
      "text/plain": [
       "array([[16, 45, 43, 15, 21],\n",
       "       [22, 85, 11, 88, 81],\n",
       "       [64, 74, 54, 84, 68],\n",
       "       [52, 93, 47, 42, 72],\n",
       "       [26, 51, 66, 18, 46]])"
      ]
     },
     "execution_count": 7,
     "metadata": {},
     "output_type": "execute_result"
    }
   ],
   "source": [
    "np.random.randint(10,99,25).reshape(5,5)\n",
    "np.random.randint(10,99,(5,5))"
   ]
  },
  {
   "cell_type": "markdown",
   "id": "5c5ccecf",
   "metadata": {},
   "source": [
    "#### Q8. 1~100 사이의 정수중 7개의 숫자를 무작위로 추출한 후 가장 큰값과 가장 작은 값을 출력하여라.\n",
    "[91, 65, 14, 66, 65, 98, 34]\n",
    "\n",
    "max = 98\n",
    "min = 14"
   ]
  },
  {
   "cell_type": "code",
   "execution_count": 58,
   "id": "54209548-9daf-4b72-aec9-c6c8c60c7c13",
   "metadata": {
    "ExecuteTime": {
     "end_time": "2024-03-20T15:31:35.487301Z",
     "start_time": "2024-03-20T15:31:35.480191Z"
    },
    "scrolled": true
   },
   "outputs": [
    {
     "data": {
      "text/plain": [
       "array([65, 63, 60,  7, 28, 18, 81])"
      ]
     },
     "execution_count": 58,
     "metadata": {},
     "output_type": "execute_result"
    }
   ],
   "source": [
    "num= np.arange(1,101)\n",
    "np.random.shuffle(num)\n",
    "num[:7]"
   ]
  },
  {
   "cell_type": "code",
   "execution_count": 61,
   "id": "ef323626",
   "metadata": {
    "ExecuteTime": {
     "end_time": "2024-03-20T15:33:45.695548Z",
     "start_time": "2024-03-20T15:33:45.687817Z"
    },
    "scrolled": true
   },
   "outputs": [
    {
     "data": {
      "text/plain": [
       "81"
      ]
     },
     "execution_count": 61,
     "metadata": {},
     "output_type": "execute_result"
    }
   ],
   "source": [
    "a = np.array([65, 63, 60,  7, 28, 18, 81])\n",
    "np.max(a)"
   ]
  },
  {
   "cell_type": "code",
   "execution_count": 62,
   "id": "5919af79",
   "metadata": {
    "ExecuteTime": {
     "end_time": "2024-03-20T15:34:00.894503Z",
     "start_time": "2024-03-20T15:34:00.888742Z"
    }
   },
   "outputs": [
    {
     "data": {
      "text/plain": [
       "7"
      ]
     },
     "execution_count": 62,
     "metadata": {},
     "output_type": "execute_result"
    }
   ],
   "source": [
    "np.min(a)"
   ]
  },
  {
   "cell_type": "code",
   "execution_count": 9,
   "id": "5e064687",
   "metadata": {
    "ExecuteTime": {
     "end_time": "2024-03-21T14:26:03.578351Z",
     "start_time": "2024-03-21T14:26:03.570702Z"
    }
   },
   "outputs": [
    {
     "data": {
      "text/plain": [
       "(array([35, 76, 86, 23, 29, 35, 29]), 86, 23)"
      ]
     },
     "execution_count": 9,
     "metadata": {},
     "output_type": "execute_result"
    }
   ],
   "source": [
    "num = np.random.randint(1,100,7)\n",
    "num, np.max(num), np.min(num)"
   ]
  },
  {
   "cell_type": "markdown",
   "id": "24dcaa28",
   "metadata": {},
   "source": [
    "#### Q9. 다음과 같은 3개의 넘파이 배열을 생성한 후 다음과 같이 합쳐라\n",
    "```\n",
    "[[1, 2, 3],\n",
    " [4, 5, 6],\n",
    " [7, 8, 9]]\n",
    "\n",
    "\n",
    "[[11, 12, 13],\n",
    " [14, 15, 16],\n",
    " [17, 18, 19]]\n",
    "\n",
    "\n",
    "[[21, 22, 23],\n",
    " [24, 25, 26],\n",
    " [27, 28, 29]]\n",
    "```\n",
    " ----------\n",
    "  Result1 \n",
    "```\n",
    " [[ 1,  2,  3, 11, 12, 13, 21, 22, 23],\n",
    "  [ 4,  5,  6, 14, 15, 16, 24, 25, 26],\n",
    "  [ 7,  8,  9, 17, 18, 19, 27, 28, 29]] \n",
    "```\n",
    "\n",
    "  ----------\n",
    "  Result2\n",
    "```\n",
    " [[ 1,  2,  3],\n",
    "  [ 4,  5,  6],\n",
    "  [ 7,  8,  9],\n",
    "  [11, 12, 13],\n",
    "  [14, 15, 16],\n",
    "  [17, 18, 19],\n",
    "  [21, 22, 23],\n",
    "  [24, 25, 26],\n",
    "  [27, 28, 29]]\n",
    "```"
   ]
  },
  {
   "cell_type": "code",
   "execution_count": 68,
   "id": "a0442d46-bff4-4b28-b7ff-65ddffd05292",
   "metadata": {
    "ExecuteTime": {
     "end_time": "2024-03-20T15:37:44.199133Z",
     "start_time": "2024-03-20T15:37:44.192151Z"
    },
    "scrolled": true
   },
   "outputs": [
    {
     "data": {
      "text/plain": [
       "array([ 1,  2,  3,  4,  5,  6,  7,  8,  9, 10, 11, 12, 13, 14, 15, 16, 17,\n",
       "       18, 19, 20, 21, 22, 23, 24, 25, 26, 27, 28, 29])"
      ]
     },
     "execution_count": 68,
     "metadata": {},
     "output_type": "execute_result"
    }
   ],
   "source": [
    "matrix = np.arange(1, 30)\n",
    "matrix"
   ]
  },
  {
   "cell_type": "code",
   "execution_count": null,
   "id": "39e5697d",
   "metadata": {},
   "outputs": [],
   "source": [
    "np.delete(m4, 0, axis=0)"
   ]
  },
  {
   "cell_type": "code",
   "execution_count": 69,
   "id": "d8a614be",
   "metadata": {
    "ExecuteTime": {
     "end_time": "2024-03-20T15:40:38.448135Z",
     "start_time": "2024-03-20T15:40:38.440446Z"
    }
   },
   "outputs": [
    {
     "data": {
      "text/plain": [
       "array([[1, 2, 3],\n",
       "       [4, 5, 6],\n",
       "       [7, 8, 9]])"
      ]
     },
     "execution_count": 69,
     "metadata": {},
     "output_type": "execute_result"
    }
   ],
   "source": [
    "a = np.array([1,2,3])\n",
    "b = np.array([4,5,6])\n",
    "c = np.array([7,8,9])\n",
    "np.vstack((a,b,c))"
   ]
  },
  {
   "cell_type": "code",
   "execution_count": 70,
   "id": "66678fab",
   "metadata": {
    "ExecuteTime": {
     "end_time": "2024-03-20T15:41:28.416072Z",
     "start_time": "2024-03-20T15:41:28.408736Z"
    }
   },
   "outputs": [
    {
     "data": {
      "text/plain": [
       "array([[11, 12, 13],\n",
       "       [14, 15, 16],\n",
       "       [17, 18, 19]])"
      ]
     },
     "execution_count": 70,
     "metadata": {},
     "output_type": "execute_result"
    }
   ],
   "source": [
    "a = np.array([11,12,13])\n",
    "b = np.array([14,15,16])\n",
    "c = np.array([17,18,19])\n",
    "np.vstack((a,b,c))"
   ]
  },
  {
   "cell_type": "code",
   "execution_count": 71,
   "id": "28ac6ec6",
   "metadata": {
    "ExecuteTime": {
     "end_time": "2024-03-20T15:42:18.048259Z",
     "start_time": "2024-03-20T15:42:18.039424Z"
    }
   },
   "outputs": [
    {
     "data": {
      "text/plain": [
       "array([[11, 22, 23],\n",
       "       [24, 25, 26],\n",
       "       [27, 28, 29]])"
      ]
     },
     "execution_count": 71,
     "metadata": {},
     "output_type": "execute_result"
    }
   ],
   "source": [
    "a = np.array([11,22,23])\n",
    "b = np.array([24,25,26])\n",
    "c = np.array([27,28,29])\n",
    "np.vstack((a,b,c))"
   ]
  },
  {
   "cell_type": "code",
   "execution_count": 11,
   "id": "7d6f4aff",
   "metadata": {
    "ExecuteTime": {
     "end_time": "2024-03-21T14:27:39.059027Z",
     "start_time": "2024-03-21T14:27:39.049161Z"
    }
   },
   "outputs": [
    {
     "data": {
      "text/plain": [
       "(array([[ 1,  2,  3],\n",
       "        [ 4,  5,  6],\n",
       "        [ 7,  8,  9],\n",
       "        [11, 12, 13],\n",
       "        [14, 15, 16],\n",
       "        [17, 18, 19],\n",
       "        [21, 22, 23],\n",
       "        [24, 25, 26],\n",
       "        [27, 28, 29]]),\n",
       " array([[ 1,  2,  3, 11, 12, 13, 21, 22, 23],\n",
       "        [ 4,  5,  6, 14, 15, 16, 24, 25, 26],\n",
       "        [ 7,  8,  9, 17, 18, 19, 27, 28, 29]]))"
      ]
     },
     "execution_count": 11,
     "metadata": {},
     "output_type": "execute_result"
    }
   ],
   "source": [
    "a = np.array([[1, 2, 3], [4, 5, 6], [7, 8, 9]])\n",
    "b = np.array([[11, 12, 13], [14, 15, 16], [17, 18, 19]])\n",
    "c = np.array([[21, 22, 23], [24, 25, 26], [27, 28, 29]])\n",
    "\n",
    "result2 = np.hstack((a, b, c))\n",
    "\n",
    "result1 = np.vstack((a, b, c))\n",
    "\n",
    "result1, result2"
   ]
  },
  {
   "cell_type": "markdown",
   "id": "2d8638be",
   "metadata": {},
   "source": [
    "#### Q10. 아래와 같이 넘파이 배열을 생성한 후 50보다 큰 숫자만 필터링하여라. \n",
    "\n",
    "```\n",
    "arr = np.random.choice(100, 40, replace=False)\n",
    "\n",
    "Before => \n",
    "\n",
    "[40, 63,  8,  2, 35, 84, 72, 48, 78, 86, 87, 58,  0, 49, 14, 55, 11,\n",
    "       73, 39, 26, 75, 27, 99, 46, 25, 22, 34, 83, 24, 47, 31, 57, 62, 19,\n",
    "       36, 15, 17, 10, 98, 90]\n",
    "\n",
    "After =>\n",
    "\n",
    "[63, 84, 72, 78, 86, 87, 58, 55, 73, 75, 99, 83, 57, 62, 98, 90]\n",
    "\n",
    "```"
   ]
  },
  {
   "cell_type": "code",
   "execution_count": 13,
   "id": "03c22039-7e21-48fd-9cba-bec220da6ee2",
   "metadata": {
    "ExecuteTime": {
     "end_time": "2024-03-21T14:28:57.239296Z",
     "start_time": "2024-03-21T14:28:57.225446Z"
    }
   },
   "outputs": [
    {
     "data": {
      "text/plain": [
       "(array([47, 53, 29, 66, 21, 91, 22, 24, 45, 48, 39, 44, 68, 59,  1, 89,  7,\n",
       "        43, 31, 72,  3, 25, 80, 79, 97, 63, 70, 34, 87, 10, 94, 35,  9,  4,\n",
       "        54, 57, 71, 90, 27, 38]),\n",
       " array([53, 66, 91, 68, 59, 89, 72, 80, 79, 97, 63, 70, 87, 94, 54, 57, 71,\n",
       "        90]),\n",
       " array([53, 66, 91, 68, 59, 89, 72, 80, 79, 97, 63, 70, 87, 94, 54, 57, 71,\n",
       "        90]))"
      ]
     },
     "execution_count": 13,
     "metadata": {},
     "output_type": "execute_result"
    }
   ],
   "source": [
    "n = np.random.choice(100, 40, replace=False)\n",
    "n, n[np.where(n>50)] , n[n>50]"
   ]
  },
  {
   "cell_type": "markdown",
   "id": "249ef810",
   "metadata": {},
   "source": [
    "#### Quiz 11\n",
    "```\n",
    "kor = np.array( [60,55,70,30,20,90])\n",
    "1. 국어점수가 가장큰값을 구하여라\n",
    "2. 국어점수가 80점이상인 값을 구하여라\n",
    "3. 국어 점수가 50점이상 80점 이하인 값을 구하여라\n",
    "4. 국어점수의 평균을 구하여라\n",
    "5. 국어점수의 총합을 구하여라.\n",
    "6. 국어점수가 40점이하인 데이터를 삭제하여라\n",
    "7. 국어점수가 50점이상인 데이터에 가산점 10%를 부여하여라\n",
    "8. 국어점수 top 3를 구하여라\n",
    "9. 국어점수가 70점이상이면 '합격' , 아니면 '불합격으로' 아래와 같이 출력하시요\n",
    "\n",
    "60 '불합격'\n",
    "55 '불합격'\n",
    "```"
   ]
  },
  {
   "cell_type": "code",
   "execution_count": 14,
   "id": "306a7066-dc57-4935-bfcb-56c3c1bf3080",
   "metadata": {
    "ExecuteTime": {
     "end_time": "2024-03-21T14:29:29.456951Z",
     "start_time": "2024-03-21T14:29:29.451109Z"
    }
   },
   "outputs": [],
   "source": [
    "kor = np.array( [60,55,70,30,20,90])"
   ]
  },
  {
   "cell_type": "code",
   "execution_count": 15,
   "id": "ea8ef589",
   "metadata": {
    "ExecuteTime": {
     "end_time": "2024-03-21T14:29:40.609655Z",
     "start_time": "2024-03-21T14:29:40.602262Z"
    }
   },
   "outputs": [
    {
     "data": {
      "text/plain": [
       "90"
      ]
     },
     "execution_count": 15,
     "metadata": {},
     "output_type": "execute_result"
    }
   ],
   "source": [
    "max(kor)"
   ]
  },
  {
   "cell_type": "code",
   "execution_count": 16,
   "id": "b517d975",
   "metadata": {
    "ExecuteTime": {
     "end_time": "2024-03-21T14:30:33.394211Z",
     "start_time": "2024-03-21T14:30:33.387240Z"
    }
   },
   "outputs": [
    {
     "data": {
      "text/plain": [
       "array([90])"
      ]
     },
     "execution_count": 16,
     "metadata": {},
     "output_type": "execute_result"
    }
   ],
   "source": [
    "kor[(kor >=80)]"
   ]
  },
  {
   "cell_type": "code",
   "execution_count": 20,
   "id": "80b1768b",
   "metadata": {
    "ExecuteTime": {
     "end_time": "2024-03-21T14:32:20.233589Z",
     "start_time": "2024-03-21T14:32:20.226657Z"
    }
   },
   "outputs": [
    {
     "data": {
      "text/plain": [
       "(array([60, 55, 70, 90]), [array([ True,  True,  True,  True,  True, False])])"
      ]
     },
     "execution_count": 20,
     "metadata": {},
     "output_type": "execute_result"
    }
   ],
   "source": [
    "kor[(kor >= 50)],[(kor <= 80)]"
   ]
  },
  {
   "cell_type": "code",
   "execution_count": 21,
   "id": "b179896a",
   "metadata": {
    "ExecuteTime": {
     "end_time": "2024-03-21T14:32:27.505722Z",
     "start_time": "2024-03-21T14:32:27.498507Z"
    }
   },
   "outputs": [
    {
     "data": {
      "text/plain": [
       "array([60, 55, 70])"
      ]
     },
     "execution_count": 21,
     "metadata": {},
     "output_type": "execute_result"
    }
   ],
   "source": [
    "kor[(kor>= 50) & (kor <=80)]"
   ]
  },
  {
   "cell_type": "code",
   "execution_count": 25,
   "id": "247351ba",
   "metadata": {
    "ExecuteTime": {
     "end_time": "2024-03-21T14:33:33.753166Z",
     "start_time": "2024-03-21T14:33:33.747441Z"
    }
   },
   "outputs": [
    {
     "data": {
      "text/plain": [
       "54.166666666666664"
      ]
     },
     "execution_count": 25,
     "metadata": {},
     "output_type": "execute_result"
    }
   ],
   "source": [
    "np.average(kor)"
   ]
  },
  {
   "cell_type": "code",
   "execution_count": 26,
   "id": "37dbfb50",
   "metadata": {
    "ExecuteTime": {
     "end_time": "2024-03-21T14:33:54.343052Z",
     "start_time": "2024-03-21T14:33:54.330585Z"
    }
   },
   "outputs": [
    {
     "data": {
      "text/plain": [
       "325"
      ]
     },
     "execution_count": 26,
     "metadata": {},
     "output_type": "execute_result"
    }
   ],
   "source": [
    "np.sum(kor)"
   ]
  },
  {
   "cell_type": "code",
   "execution_count": 27,
   "id": "4f19fe5b",
   "metadata": {
    "ExecuteTime": {
     "end_time": "2024-03-21T14:35:21.633984Z",
     "start_time": "2024-03-21T14:35:21.626448Z"
    }
   },
   "outputs": [
    {
     "data": {
      "text/plain": [
       "array([30, 20])"
      ]
     },
     "execution_count": 27,
     "metadata": {},
     "output_type": "execute_result"
    }
   ],
   "source": [
    "kor[(kor <=40)]"
   ]
  },
  {
   "cell_type": "code",
   "execution_count": null,
   "id": "cd7d8b2f",
   "metadata": {},
   "outputs": [],
   "source": [
    "num, np. delete(np.where(kor <=40))"
   ]
  },
  {
   "cell_type": "code",
   "execution_count": 29,
   "id": "351da3a0",
   "metadata": {
    "ExecuteTime": {
     "end_time": "2024-03-21T14:36:48.139610Z",
     "start_time": "2024-03-21T14:36:48.130405Z"
    }
   },
   "outputs": [
    {
     "data": {
      "text/plain": [
       "(array([60, 55, 70, 30, 20, 90]), array([30, 20]), array([60, 55, 70, 90]))"
      ]
     },
     "execution_count": 29,
     "metadata": {},
     "output_type": "execute_result"
    }
   ],
   "source": [
    "import copy\n",
    "kor1 = kor.copy()\n",
    "num = kor[kor<=40]\n",
    "kor1, num, np.delete(kor1, np.where(kor<=40))"
   ]
  },
  {
   "cell_type": "code",
   "execution_count": 30,
   "id": "cb7d3c54",
   "metadata": {
    "ExecuteTime": {
     "end_time": "2024-03-21T14:37:04.946766Z",
     "start_time": "2024-03-21T14:37:04.939339Z"
    }
   },
   "outputs": [
    {
     "data": {
      "text/plain": [
       "array([66. , 60.5, 77. , 30. , 20. , 99. ])"
      ]
     },
     "execution_count": 30,
     "metadata": {},
     "output_type": "execute_result"
    }
   ],
   "source": [
    "np.where(kor>=50, kor*1.1, kor )"
   ]
  },
  {
   "cell_type": "code",
   "execution_count": 31,
   "id": "17b62739",
   "metadata": {
    "ExecuteTime": {
     "end_time": "2024-03-21T14:37:14.705822Z",
     "start_time": "2024-03-21T14:37:14.698912Z"
    }
   },
   "outputs": [
    {
     "data": {
      "text/plain": [
       "array([20, 30, 55, 60, 70, 90])"
      ]
     },
     "execution_count": 31,
     "metadata": {},
     "output_type": "execute_result"
    }
   ],
   "source": [
    "np.sort(kor)"
   ]
  },
  {
   "cell_type": "code",
   "execution_count": 32,
   "id": "f9b11026",
   "metadata": {
    "ExecuteTime": {
     "end_time": "2024-03-21T14:37:31.002231Z",
     "start_time": "2024-03-21T14:37:30.994467Z"
    }
   },
   "outputs": [
    {
     "data": {
      "text/plain": [
       "array([90, 70, 60, 55, 30, 20])"
      ]
     },
     "execution_count": 32,
     "metadata": {},
     "output_type": "execute_result"
    }
   ],
   "source": [
    "np.sort(kor)[::-1]"
   ]
  },
  {
   "cell_type": "code",
   "execution_count": 33,
   "id": "f02f05fc",
   "metadata": {
    "ExecuteTime": {
     "end_time": "2024-03-21T14:38:56.178002Z",
     "start_time": "2024-03-21T14:38:56.170161Z"
    },
    "scrolled": true
   },
   "outputs": [
    {
     "data": {
      "text/plain": [
       "(array([90, 70, 60]), array([90, 70, 60]))"
      ]
     },
     "execution_count": 33,
     "metadata": {},
     "output_type": "execute_result"
    }
   ],
   "source": [
    "np.sort(kor)[::-1][:3], kor[np.argsort(kor)[::-1][:3]]"
   ]
  },
  {
   "cell_type": "code",
   "execution_count": 34,
   "id": "7efbda78",
   "metadata": {
    "ExecuteTime": {
     "end_time": "2024-03-21T14:39:18.785982Z",
     "start_time": "2024-03-21T14:39:18.779355Z"
    }
   },
   "outputs": [
    {
     "data": {
      "text/plain": [
       "(array([60, 55, 70, 30, 20, 90]),\n",
       " array(['불합격', '불합격', '합격', '불합격', '불합격', '합격'], dtype='<U3'))"
      ]
     },
     "execution_count": 34,
     "metadata": {},
     "output_type": "execute_result"
    }
   ],
   "source": [
    "kor, np.where(kor>=70, \"합격\", \"불합격\")"
   ]
  }
 ],
 "metadata": {
  "kernelspec": {
   "display_name": "Python 3 (ipykernel)",
   "language": "python",
   "name": "python3"
  },
  "language_info": {
   "codemirror_mode": {
    "name": "ipython",
    "version": 3
   },
   "file_extension": ".py",
   "mimetype": "text/x-python",
   "name": "python",
   "nbconvert_exporter": "python",
   "pygments_lexer": "ipython3",
   "version": "3.11.5"
  },
  "toc": {
   "base_numbering": 1,
   "nav_menu": {},
   "number_sections": true,
   "sideBar": true,
   "skip_h1_title": false,
   "title_cell": "Table of Contents",
   "title_sidebar": "Contents",
   "toc_cell": false,
   "toc_position": {
    "height": "calc(100% - 180px)",
    "left": "10px",
    "top": "150px",
    "width": "232px"
   },
   "toc_section_display": true,
   "toc_window_display": true
  },
  "varInspector": {
   "cols": {
    "lenName": 16,
    "lenType": 16,
    "lenVar": 40
   },
   "kernels_config": {
    "python": {
     "delete_cmd_postfix": "",
     "delete_cmd_prefix": "del ",
     "library": "var_list.py",
     "varRefreshCmd": "print(var_dic_list())"
    },
    "r": {
     "delete_cmd_postfix": ") ",
     "delete_cmd_prefix": "rm(",
     "library": "var_list.r",
     "varRefreshCmd": "cat(var_dic_list()) "
    }
   },
   "types_to_exclude": [
    "module",
    "function",
    "builtin_function_or_method",
    "instance",
    "_Feature"
   ],
   "window_display": false
  }
 },
 "nbformat": 4,
 "nbformat_minor": 5
}
