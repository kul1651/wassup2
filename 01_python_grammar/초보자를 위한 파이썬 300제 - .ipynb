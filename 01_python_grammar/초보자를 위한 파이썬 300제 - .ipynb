{
 "cells": [
  {
   "cell_type": "code",
   "execution_count": 1,
   "id": "4531715d",
   "metadata": {
    "ExecuteTime": {
     "end_time": "2024-02-29T14:15:56.423514Z",
     "start_time": "2024-02-29T14:15:56.419706Z"
    }
   },
   "outputs": [
    {
     "name": "stdout",
     "output_type": "stream",
     "text": [
      "Hello World\n"
     ]
    }
   ],
   "source": [
    "print('Hello World')"
   ]
  },
  {
   "cell_type": "code",
   "execution_count": 2,
   "id": "4acdc42e",
   "metadata": {
    "ExecuteTime": {
     "end_time": "2024-02-29T14:25:48.445386Z",
     "start_time": "2024-02-29T14:25:48.440303Z"
    }
   },
   "outputs": [
    {
     "name": "stdout",
     "output_type": "stream",
     "text": [
      "Mary's cosmetics\n"
     ]
    }
   ],
   "source": [
    "print(\"Mary's cosmetics\")"
   ]
  },
  {
   "cell_type": "code",
   "execution_count": 6,
   "id": "3ecd285a",
   "metadata": {
    "ExecuteTime": {
     "end_time": "2024-02-29T14:27:42.300886Z",
     "start_time": "2024-02-29T14:27:42.295790Z"
    }
   },
   "outputs": [
    {
     "name": "stdout",
     "output_type": "stream",
     "text": [
      "신씨가 소리질렀다.\"도둑이야\"\n"
     ]
    }
   ],
   "source": [
    "print('신씨가 소리질렀다.\"도둑이야\"')"
   ]
  },
  {
   "cell_type": "code",
   "execution_count": 9,
   "id": "bf966315",
   "metadata": {
    "ExecuteTime": {
     "end_time": "2024-02-29T14:45:37.595448Z",
     "start_time": "2024-02-29T14:45:37.590152Z"
    }
   },
   "outputs": [
    {
     "name": "stdout",
     "output_type": "stream",
     "text": [
      "c:\\Windows\n"
     ]
    }
   ],
   "source": [
    "print('c:\\Windows')"
   ]
  },
  {
   "cell_type": "code",
   "execution_count": 10,
   "id": "759e7619",
   "metadata": {
    "ExecuteTime": {
     "end_time": "2024-02-29T14:47:26.355594Z",
     "start_time": "2024-02-29T14:47:26.350543Z"
    },
    "scrolled": true
   },
   "outputs": [
    {
     "name": "stdout",
     "output_type": "stream",
     "text": [
      "안녕하세요.\n",
      "만나서\t\t반갑습니다.\n"
     ]
    }
   ],
   "source": [
    "print(\"안녕하세요.\\n만나서\\t\\t반갑습니다.\")"
   ]
  },
  {
   "cell_type": "code",
   "execution_count": 11,
   "id": "009c7c14",
   "metadata": {
    "ExecuteTime": {
     "end_time": "2024-02-29T14:48:55.754673Z",
     "start_time": "2024-02-29T14:48:55.749893Z"
    }
   },
   "outputs": [
    {
     "name": "stdout",
     "output_type": "stream",
     "text": [
      "오늘은 일요일\n"
     ]
    }
   ],
   "source": [
    "print (\"오늘은\", \"일요일\")"
   ]
  },
  {
   "cell_type": "code",
   "execution_count": 14,
   "id": "d946a760",
   "metadata": {
    "ExecuteTime": {
     "end_time": "2024-02-29T14:51:36.594649Z",
     "start_time": "2024-02-29T14:51:36.590858Z"
    }
   },
   "outputs": [
    {
     "name": "stdout",
     "output_type": "stream",
     "text": [
      "naver;kakao;sk;samsung\n"
     ]
    }
   ],
   "source": [
    "print(\"naver\", \"kakao\", \"sk\", \"samsung\", sep=\";\")"
   ]
  },
  {
   "cell_type": "code",
   "execution_count": 15,
   "id": "968681e9",
   "metadata": {
    "ExecuteTime": {
     "end_time": "2024-02-29T14:52:42.740345Z",
     "start_time": "2024-02-29T14:52:42.734329Z"
    }
   },
   "outputs": [
    {
     "name": "stdout",
     "output_type": "stream",
     "text": [
      "naver/kakao/sk/samsung\n"
     ]
    }
   ],
   "source": [
    "print(\"naver\", \"kakao\", \"sk\", \"samsung\", sep=\"/\")"
   ]
  },
  {
   "cell_type": "code",
   "execution_count": 17,
   "id": "60434862",
   "metadata": {
    "ExecuteTime": {
     "end_time": "2024-02-29T14:54:28.827079Z",
     "start_time": "2024-02-29T14:54:28.822363Z"
    }
   },
   "outputs": [
    {
     "name": "stdout",
     "output_type": "stream",
     "text": [
      "firstsecond\n"
     ]
    }
   ],
   "source": [
    "print(\"first\", end=\"\");print(\"second\")"
   ]
  },
  {
   "cell_type": "code",
   "execution_count": 19,
   "id": "c0efc4db",
   "metadata": {
    "ExecuteTime": {
     "end_time": "2024-02-29T14:55:39.211373Z",
     "start_time": "2024-02-29T14:55:39.206058Z"
    }
   },
   "outputs": [
    {
     "name": "stdout",
     "output_type": "stream",
     "text": [
      "1.6666666666666667\n"
     ]
    }
   ],
   "source": [
    "print(5/3)"
   ]
  },
  {
   "cell_type": "code",
   "execution_count": 2,
   "id": "803d372a",
   "metadata": {
    "ExecuteTime": {
     "end_time": "2024-03-01T14:46:30.051889Z",
     "start_time": "2024-03-01T14:46:30.047056Z"
    }
   },
   "outputs": [
    {
     "name": "stdout",
     "output_type": "stream",
     "text": [
      "500000\n"
     ]
    }
   ],
   "source": [
    "삼성전자 = 50000\n",
    "총평가금액 = (50000 * 10)\n",
    "print(총평가금액)"
   ]
  },
  {
   "cell_type": "code",
   "execution_count": 3,
   "id": "f417ba00",
   "metadata": {
    "ExecuteTime": {
     "end_time": "2024-03-01T14:49:33.243046Z",
     "start_time": "2024-03-01T14:49:33.238805Z"
    }
   },
   "outputs": [
    {
     "name": "stdout",
     "output_type": "stream",
     "text": [
      "298000000000000\n"
     ]
    }
   ],
   "source": [
    "시가총액 = 298000000000000\n",
    "현재가 = 50000\n",
    "PER = 15.79\n",
    "print(시가총액)"
   ]
  },
  {
   "cell_type": "code",
   "execution_count": 4,
   "id": "c2200caf",
   "metadata": {
    "ExecuteTime": {
     "end_time": "2024-03-01T14:49:47.791345Z",
     "start_time": "2024-03-01T14:49:47.788320Z"
    }
   },
   "outputs": [
    {
     "name": "stdout",
     "output_type": "stream",
     "text": [
      "50000\n"
     ]
    }
   ],
   "source": [
    "print(현재가)"
   ]
  },
  {
   "cell_type": "code",
   "execution_count": 5,
   "id": "6d73908b",
   "metadata": {
    "ExecuteTime": {
     "end_time": "2024-03-01T14:49:59.170801Z",
     "start_time": "2024-03-01T14:49:59.167133Z"
    }
   },
   "outputs": [
    {
     "name": "stdout",
     "output_type": "stream",
     "text": [
      "15.79\n"
     ]
    }
   ],
   "source": [
    "print(PER)"
   ]
  },
  {
   "cell_type": "code",
   "execution_count": 6,
   "id": "62ab57c3",
   "metadata": {
    "ExecuteTime": {
     "end_time": "2024-03-01T14:50:25.176343Z",
     "start_time": "2024-03-01T14:50:25.173618Z"
    }
   },
   "outputs": [
    {
     "name": "stdout",
     "output_type": "stream",
     "text": [
      "298000000000000 <class 'int'>\n"
     ]
    }
   ],
   "source": [
    "print(시가총액, type(시가총액))"
   ]
  },
  {
   "cell_type": "code",
   "execution_count": 7,
   "id": "7aa0edcc",
   "metadata": {
    "ExecuteTime": {
     "end_time": "2024-03-01T14:50:51.762814Z",
     "start_time": "2024-03-01T14:50:51.759088Z"
    }
   },
   "outputs": [
    {
     "name": "stdout",
     "output_type": "stream",
     "text": [
      "<class 'int'>\n"
     ]
    }
   ],
   "source": [
    "print(type(시가총액))"
   ]
  },
  {
   "cell_type": "code",
   "execution_count": 8,
   "id": "eb2c89f7",
   "metadata": {
    "ExecuteTime": {
     "end_time": "2024-03-01T14:58:08.787092Z",
     "start_time": "2024-03-01T14:58:08.783302Z"
    }
   },
   "outputs": [
    {
     "name": "stdout",
     "output_type": "stream",
     "text": [
      "50000 <class 'int'>\n"
     ]
    }
   ],
   "source": [
    "print(현재가, type(현재가))"
   ]
  },
  {
   "cell_type": "code",
   "execution_count": 13,
   "id": "10941bb8",
   "metadata": {
    "ExecuteTime": {
     "end_time": "2024-03-01T15:01:33.395258Z",
     "start_time": "2024-03-01T15:01:33.391526Z"
    }
   },
   "outputs": [
    {
     "name": "stdout",
     "output_type": "stream",
     "text": [
      "hello! python\n"
     ]
    }
   ],
   "source": [
    "s = \"hello\"\n",
    "t = \"python\"\n",
    "print(s+\"!\", t)"
   ]
  },
  {
   "cell_type": "code",
   "execution_count": 14,
   "id": "1e18b66c",
   "metadata": {
    "ExecuteTime": {
     "end_time": "2024-03-01T15:02:05.926099Z",
     "start_time": "2024-03-01T15:02:05.919809Z"
    }
   },
   "outputs": [
    {
     "data": {
      "text/plain": [
       "8"
      ]
     },
     "execution_count": 14,
     "metadata": {},
     "output_type": "execute_result"
    }
   ],
   "source": [
    "2 + 2 *3"
   ]
  },
  {
   "cell_type": "code",
   "execution_count": 18,
   "id": "86cb056f",
   "metadata": {
    "ExecuteTime": {
     "end_time": "2024-03-01T15:03:57.243729Z",
     "start_time": "2024-03-01T15:03:57.239865Z"
    }
   },
   "outputs": [
    {
     "name": "stdout",
     "output_type": "stream",
     "text": [
      "<class 'str'>\n"
     ]
    }
   ],
   "source": [
    "a = \"132\"\n",
    "print (type(a))"
   ]
  },
  {
   "cell_type": "code",
   "execution_count": 22,
   "id": "bc384449",
   "metadata": {
    "ExecuteTime": {
     "end_time": "2024-03-01T15:06:10.355765Z",
     "start_time": "2024-03-01T15:06:10.351989Z"
    }
   },
   "outputs": [
    {
     "name": "stdout",
     "output_type": "stream",
     "text": [
      "721 <class 'int'>\n"
     ]
    }
   ],
   "source": [
    "num_str =\"720\"\n",
    "num_int = int(num_str)\n",
    "print(num_int+1, type(num_int))"
   ]
  },
  {
   "cell_type": "code",
   "execution_count": 23,
   "id": "a35e2466",
   "metadata": {
    "ExecuteTime": {
     "end_time": "2024-03-01T15:07:25.563545Z",
     "start_time": "2024-03-01T15:07:25.559601Z"
    }
   },
   "outputs": [
    {
     "name": "stdout",
     "output_type": "stream",
     "text": [
      "100 <class 'str'>\n"
     ]
    }
   ],
   "source": [
    "num= 100\n",
    "result = str(num)\n",
    "print(result, type(result))"
   ]
  },
  {
   "cell_type": "code",
   "execution_count": 25,
   "id": "79eb0302",
   "metadata": {
    "ExecuteTime": {
     "end_time": "2024-03-01T15:08:30.411691Z",
     "start_time": "2024-03-01T15:08:30.407704Z"
    }
   },
   "outputs": [
    {
     "name": "stdout",
     "output_type": "stream",
     "text": [
      "15.79 <class 'float'>\n"
     ]
    }
   ],
   "source": [
    "data = \"15.79\"\n",
    "data = float(data)\n",
    "print(data, type(data))"
   ]
  },
  {
   "cell_type": "code",
   "execution_count": 26,
   "id": "e75fdc3c",
   "metadata": {
    "ExecuteTime": {
     "end_time": "2024-03-01T15:09:17.147548Z",
     "start_time": "2024-03-01T15:09:17.143847Z"
    }
   },
   "outputs": [
    {
     "name": "stdout",
     "output_type": "stream",
     "text": [
      "2017\n"
     ]
    }
   ],
   "source": [
    "year = \"2020\"\n",
    "print(int(year)-3) "
   ]
  },
  {
   "cell_type": "code",
   "execution_count": 27,
   "id": "a296a171",
   "metadata": {
    "ExecuteTime": {
     "end_time": "2024-03-01T15:09:49.067741Z",
     "start_time": "2024-03-01T15:09:49.064363Z"
    }
   },
   "outputs": [
    {
     "name": "stdout",
     "output_type": "stream",
     "text": [
      "2018\n"
     ]
    }
   ],
   "source": [
    "print(int(year)-2)"
   ]
  },
  {
   "cell_type": "code",
   "execution_count": 28,
   "id": "6b748e6b",
   "metadata": {
    "ExecuteTime": {
     "end_time": "2024-03-01T15:10:02.772395Z",
     "start_time": "2024-03-01T15:10:02.767474Z"
    }
   },
   "outputs": [
    {
     "name": "stdout",
     "output_type": "stream",
     "text": [
      "2019\n"
     ]
    }
   ],
   "source": [
    "print(int(year)-1)"
   ]
  },
  {
   "cell_type": "code",
   "execution_count": 29,
   "id": "2d424d88",
   "metadata": {
    "ExecuteTime": {
     "end_time": "2024-03-01T15:10:57.260697Z",
     "start_time": "2024-03-01T15:10:57.256661Z"
    }
   },
   "outputs": [
    {
     "name": "stdout",
     "output_type": "stream",
     "text": [
      "1749024\n"
     ]
    }
   ],
   "source": [
    "월 = 48584\n",
    "총금액 = 월 *36\n",
    "print(총금액)"
   ]
  },
  {
   "cell_type": "code",
   "execution_count": 3,
   "id": "d2455833",
   "metadata": {
    "ExecuteTime": {
     "end_time": "2024-03-02T14:53:39.370868Z",
     "start_time": "2024-03-02T14:53:39.367159Z"
    }
   },
   "outputs": [],
   "source": [
    "a = \"python\""
   ]
  },
  {
   "cell_type": "code",
   "execution_count": 10,
   "id": "310a5b29",
   "metadata": {
    "ExecuteTime": {
     "end_time": "2024-03-02T14:56:28.909117Z",
     "start_time": "2024-03-02T14:56:28.903417Z"
    }
   },
   "outputs": [
    {
     "data": {
      "text/plain": [
       "('p', 't')"
      ]
     },
     "execution_count": 10,
     "metadata": {},
     "output_type": "execute_result"
    }
   ],
   "source": [
    "a[0], a[2]"
   ]
  },
  {
   "cell_type": "code",
   "execution_count": 11,
   "id": "cddcb2de",
   "metadata": {
    "ExecuteTime": {
     "end_time": "2024-03-02T14:58:08.500567Z",
     "start_time": "2024-03-02T14:58:08.494915Z"
    }
   },
   "outputs": [
    {
     "name": "stdout",
     "output_type": "stream",
     "text": [
      "2210\n"
     ]
    }
   ],
   "source": [
    "license_plate = \"24가 2210\"\n",
    "print(license_plate[-4:])"
   ]
  },
  {
   "cell_type": "code",
   "execution_count": 18,
   "id": "1f1e01da",
   "metadata": {
    "ExecuteTime": {
     "end_time": "2024-03-02T15:11:22.805280Z",
     "start_time": "2024-03-02T15:11:22.799418Z"
    }
   },
   "outputs": [
    {
     "data": {
      "text/plain": [
       "'홀'"
      ]
     },
     "execution_count": 18,
     "metadata": {},
     "output_type": "execute_result"
    }
   ],
   "source": [
    "a = \"홀짝홀짝홀짝\"\n",
    "a[:1]"
   ]
  },
  {
   "cell_type": "code",
   "execution_count": 19,
   "id": "bcd0ecef",
   "metadata": {
    "ExecuteTime": {
     "end_time": "2024-03-02T15:11:58.244047Z",
     "start_time": "2024-03-02T15:11:58.239824Z"
    }
   },
   "outputs": [
    {
     "name": "stdout",
     "output_type": "stream",
     "text": [
      "홀홀홀\n"
     ]
    }
   ],
   "source": [
    "string = \"홀짝홀짝홀짝\"\n",
    "print(string[::2])"
   ]
  },
  {
   "cell_type": "code",
   "execution_count": 21,
   "id": "37dcfcff",
   "metadata": {
    "ExecuteTime": {
     "end_time": "2024-03-02T15:14:24.021238Z",
     "start_time": "2024-03-02T15:14:24.016709Z"
    }
   },
   "outputs": [
    {
     "name": "stdout",
     "output_type": "stream",
     "text": [
      "NOHTYP\n"
     ]
    }
   ],
   "source": [
    "string = \"PYTHON\"\n",
    "print(string[::-1])"
   ]
  },
  {
   "cell_type": "code",
   "execution_count": 22,
   "id": "1ecd38f5",
   "metadata": {
    "ExecuteTime": {
     "end_time": "2024-03-02T15:16:15.452485Z",
     "start_time": "2024-03-02T15:16:15.447785Z"
    }
   },
   "outputs": [
    {
     "name": "stdout",
     "output_type": "stream",
     "text": [
      "010 1111 2222\n"
     ]
    }
   ],
   "source": [
    "phone_number = \"010-1111-2222\"\n",
    "phone_number1 = phone_number.replace(\"-\", \" \")\n",
    "print (phone_number1)"
   ]
  },
  {
   "cell_type": "code",
   "execution_count": 23,
   "id": "758a5201",
   "metadata": {
    "ExecuteTime": {
     "end_time": "2024-03-02T15:16:50.413668Z",
     "start_time": "2024-03-02T15:16:50.408844Z"
    }
   },
   "outputs": [
    {
     "name": "stdout",
     "output_type": "stream",
     "text": [
      "01011112222\n"
     ]
    }
   ],
   "source": [
    "phone_number = \"010-1111-2222\"\n",
    "phone_number1 = phone_number.replace(\"-\", \"\")\n",
    "print (phone_number1)"
   ]
  },
  {
   "cell_type": "code",
   "execution_count": 31,
   "id": "a49d4e9b",
   "metadata": {
    "ExecuteTime": {
     "end_time": "2024-03-02T15:19:51.959860Z",
     "start_time": "2024-03-02T15:19:51.952329Z"
    }
   },
   "outputs": [
    {
     "name": "stdout",
     "output_type": "stream",
     "text": [
      "k\n"
     ]
    },
    {
     "data": {
      "text/plain": [
       "(None, 'r')"
      ]
     },
     "execution_count": 31,
     "metadata": {},
     "output_type": "execute_result"
    }
   ],
   "source": [
    "url = \"http://sharebook.kr\"\n",
    "print(url[-2]),(url[-1])"
   ]
  },
  {
   "cell_type": "code",
   "execution_count": 32,
   "id": "6c808db1",
   "metadata": {
    "ExecuteTime": {
     "end_time": "2024-03-02T15:20:57.253810Z",
     "start_time": "2024-03-02T15:20:57.248056Z"
    }
   },
   "outputs": [
    {
     "name": "stdout",
     "output_type": "stream",
     "text": [
      "kr\n"
     ]
    }
   ],
   "source": [
    "url = \"http://sharebook.kr\"\n",
    "url_split = url.split('.')\n",
    "print(url_split[-1])"
   ]
  },
  {
   "cell_type": "code",
   "execution_count": 33,
   "id": "8094516d",
   "metadata": {
    "ExecuteTime": {
     "end_time": "2024-03-02T15:21:56.671116Z",
     "start_time": "2024-03-02T15:21:56.649098Z"
    }
   },
   "outputs": [
    {
     "ename": "TypeError",
     "evalue": "'str' object does not support item assignment",
     "output_type": "error",
     "traceback": [
      "\u001b[1;31m---------------------------------------------------------------------------\u001b[0m",
      "\u001b[1;31mTypeError\u001b[0m                                 Traceback (most recent call last)",
      "Cell \u001b[1;32mIn[33], line 2\u001b[0m\n\u001b[0;32m      1\u001b[0m lang \u001b[38;5;241m=\u001b[39m\u001b[38;5;124m'\u001b[39m\u001b[38;5;124mpython\u001b[39m\u001b[38;5;124m'\u001b[39m\n\u001b[1;32m----> 2\u001b[0m lang[\u001b[38;5;241m0\u001b[39m] \u001b[38;5;241m=\u001b[39m \u001b[38;5;124m'\u001b[39m\u001b[38;5;124mp\u001b[39m\u001b[38;5;124m'\u001b[39m\n\u001b[0;32m      3\u001b[0m \u001b[38;5;28mprint\u001b[39m(lange)\n",
      "\u001b[1;31mTypeError\u001b[0m: 'str' object does not support item assignment"
     ]
    }
   ],
   "source": [
    "lang ='python'\n",
    "lang[0] = 'p'\n",
    "print(lange)"
   ]
  },
  {
   "cell_type": "code",
   "execution_count": 34,
   "id": "2759c968",
   "metadata": {
    "ExecuteTime": {
     "end_time": "2024-03-02T15:23:45.590451Z",
     "start_time": "2024-03-02T15:23:45.584433Z"
    }
   },
   "outputs": [
    {
     "name": "stdout",
     "output_type": "stream",
     "text": [
      "Abcdfe2A354A32A\n"
     ]
    }
   ],
   "source": [
    "string = 'abcdfe2a354a32a'\n",
    "string = string.replace(\"a\", \"A\")\n",
    "print(string)"
   ]
  },
  {
   "cell_type": "code",
   "execution_count": 35,
   "id": "b46f481e",
   "metadata": {
    "ExecuteTime": {
     "end_time": "2024-03-02T15:24:46.285430Z",
     "start_time": "2024-03-02T15:24:46.279834Z"
    },
    "scrolled": true
   },
   "outputs": [
    {
     "name": "stdout",
     "output_type": "stream",
     "text": [
      "abcd\n"
     ]
    }
   ],
   "source": [
    "string = 'abcd'\n",
    "string.replace('b', 'B')\n",
    "print(string)"
   ]
  },
  {
   "cell_type": "code",
   "execution_count": 36,
   "id": "675a6e99",
   "metadata": {
    "ExecuteTime": {
     "end_time": "2024-03-02T15:26:16.050495Z",
     "start_time": "2024-03-02T15:26:16.046698Z"
    }
   },
   "outputs": [
    {
     "name": "stdout",
     "output_type": "stream",
     "text": [
      "34\n"
     ]
    }
   ],
   "source": [
    "a = \"3\"\n",
    "b = \"4\"\n",
    "print(a + b)"
   ]
  },
  {
   "cell_type": "code",
   "execution_count": 37,
   "id": "a400d20d",
   "metadata": {
    "ExecuteTime": {
     "end_time": "2024-03-02T15:27:00.932773Z",
     "start_time": "2024-03-02T15:27:00.927324Z"
    }
   },
   "outputs": [
    {
     "name": "stdout",
     "output_type": "stream",
     "text": [
      "HiHiHi\n"
     ]
    }
   ],
   "source": [
    "print(\"Hi\" * 3)"
   ]
  },
  {
   "cell_type": "code",
   "execution_count": 38,
   "id": "cf2f7979",
   "metadata": {
    "ExecuteTime": {
     "end_time": "2024-03-02T15:27:34.268928Z",
     "start_time": "2024-03-02T15:27:34.264557Z"
    }
   },
   "outputs": [
    {
     "name": "stdout",
     "output_type": "stream",
     "text": [
      "--------------------------------------------------------------------------------\n"
     ]
    }
   ],
   "source": [
    "print(\"-\" * 80)"
   ]
  },
  {
   "cell_type": "code",
   "execution_count": 40,
   "id": "7e7154de",
   "metadata": {
    "ExecuteTime": {
     "end_time": "2024-03-02T15:29:58.518203Z",
     "start_time": "2024-03-02T15:29:58.512670Z"
    }
   },
   "outputs": [
    {
     "name": "stdout",
     "output_type": "stream",
     "text": [
      "python java python java python java python java \n"
     ]
    }
   ],
   "source": [
    "t1 = 'python'\n",
    "t2 = 'java'\n",
    "t3 = t1 + ' '+ t2 + ' '\n",
    "print(t3 * 4)"
   ]
  },
  {
   "cell_type": "code",
   "execution_count": 42,
   "id": "2b13170d",
   "metadata": {
    "ExecuteTime": {
     "end_time": "2024-03-02T15:34:03.998388Z",
     "start_time": "2024-03-02T15:34:03.992327Z"
    }
   },
   "outputs": [
    {
     "name": "stdout",
     "output_type": "stream",
     "text": [
      "이름: 김민수 나이: 10\n",
      "이름: 이철희 나이: 13\n"
     ]
    }
   ],
   "source": [
    "name1 = \"김민수\"\n",
    "age1 = 10\n",
    "name2 = \"이철희\"\n",
    "age2 = 13\n",
    "print(\"이름: %s 나이: %d\" % (name1, age1))\n",
    "print(\"이름: %s 나이: %d\" % (name2, age2))"
   ]
  },
  {
   "cell_type": "code",
   "execution_count": 43,
   "id": "6aa60dba",
   "metadata": {
    "ExecuteTime": {
     "end_time": "2024-03-02T15:35:48.503033Z",
     "start_time": "2024-03-02T15:35:48.497166Z"
    }
   },
   "outputs": [
    {
     "name": "stdout",
     "output_type": "stream",
     "text": [
      "이름: 김민수 나이: 10\n",
      "이름: 이철희 나이: 13\n"
     ]
    }
   ],
   "source": [
    "name1 = \"김민수\"\n",
    "age1 = 10\n",
    "name2 = \"이철희\"\n",
    "age2 = 13\n",
    "print(\"이름: {} 나이: {}\".format(name1, age1))\n",
    "print(\"이름: {} 나이: {}\".format(name2, age2))"
   ]
  },
  {
   "cell_type": "code",
   "execution_count": 44,
   "id": "3b329118",
   "metadata": {
    "ExecuteTime": {
     "end_time": "2024-03-02T15:37:38.750643Z",
     "start_time": "2024-03-02T15:37:38.744970Z"
    }
   },
   "outputs": [
    {
     "name": "stdout",
     "output_type": "stream",
     "text": [
      "이름: 김민수 나이: 10\n",
      "이름: 이철희 나이: 13\n"
     ]
    }
   ],
   "source": [
    "name1 = \"김민수\"\n",
    "age1 = 10\n",
    "name2 = \"이철희\"\n",
    "age2 = 13\n",
    "print(f\"이름: {name1} 나이: {age1}\")\n",
    "print(f\"이름: {name2} 나이: {age2}\")"
   ]
  },
  {
   "cell_type": "code",
   "execution_count": 49,
   "id": "68cfbf33",
   "metadata": {
    "ExecuteTime": {
     "end_time": "2024-03-02T15:41:32.934867Z",
     "start_time": "2024-03-02T15:41:32.929776Z"
    }
   },
   "outputs": [
    {
     "name": "stdout",
     "output_type": "stream",
     "text": [
      "5969782550 <class 'int'>\n"
     ]
    }
   ],
   "source": [
    "상장주식수 = \"5,969,782,550\"\n",
    "컴마제거 = 상장주식수.replace(\",\", \"\")\n",
    "정수타입변환 = int(컴마제거)\n",
    "print(정수타입변환, type(정수타입변환))"
   ]
  },
  {
   "cell_type": "code",
   "execution_count": 50,
   "id": "aa9354b9",
   "metadata": {
    "ExecuteTime": {
     "end_time": "2024-03-02T15:42:41.333588Z",
     "start_time": "2024-03-02T15:42:41.329053Z"
    }
   },
   "outputs": [
    {
     "name": "stdout",
     "output_type": "stream",
     "text": [
      "2020/03\n"
     ]
    }
   ],
   "source": [
    "분기 = \"2020/03(E) (IFRS연결)\"\n",
    "print(분기[:7])"
   ]
  },
  {
   "cell_type": "code",
   "execution_count": 51,
   "id": "dc20f641",
   "metadata": {
    "ExecuteTime": {
     "end_time": "2024-03-02T15:43:50.406531Z",
     "start_time": "2024-03-02T15:43:50.401131Z"
    }
   },
   "outputs": [
    {
     "name": "stdout",
     "output_type": "stream",
     "text": [
      "삼성전자\n"
     ]
    }
   ],
   "source": [
    "data = \"   삼성전자   \"\n",
    "data1 = data.strip()\n",
    "print(data1)"
   ]
  },
  {
   "cell_type": "code",
   "execution_count": 6,
   "id": "909e698f",
   "metadata": {
    "ExecuteTime": {
     "end_time": "2024-03-03T08:38:15.225015Z",
     "start_time": "2024-03-03T08:38:15.219529Z"
    },
    "scrolled": true
   },
   "outputs": [
    {
     "name": "stdout",
     "output_type": "stream",
     "text": [
      "BTC_KRW\n"
     ]
    }
   ],
   "source": [
    "ticker = \"btc_krw\"\n",
    "ticker1 = ticker.upper()\n",
    "print(ticker1)"
   ]
  },
  {
   "cell_type": "code",
   "execution_count": 5,
   "id": "b33e7675",
   "metadata": {
    "ExecuteTime": {
     "end_time": "2024-03-03T08:38:04.536808Z",
     "start_time": "2024-03-03T08:38:04.532146Z"
    }
   },
   "outputs": [
    {
     "name": "stdout",
     "output_type": "stream",
     "text": [
      "btc_krw\n"
     ]
    }
   ],
   "source": [
    "ticker = \"BTC_KRW\"\n",
    "ticker1 = ticker.lower()\n",
    "print(ticker1)"
   ]
  },
  {
   "cell_type": "code",
   "execution_count": 8,
   "id": "04aeb26a",
   "metadata": {
    "ExecuteTime": {
     "end_time": "2024-03-03T08:39:26.072663Z",
     "start_time": "2024-03-03T08:39:26.067481Z"
    }
   },
   "outputs": [
    {
     "name": "stdout",
     "output_type": "stream",
     "text": [
      "Hello\n"
     ]
    }
   ],
   "source": [
    "a = \"hello\"\n",
    "a = a.capitalize()\n",
    "print(a)"
   ]
  },
  {
   "cell_type": "code",
   "execution_count": 9,
   "id": "dd0ae88e",
   "metadata": {
    "ExecuteTime": {
     "end_time": "2024-03-03T08:40:43.235933Z",
     "start_time": "2024-03-03T08:40:43.212488Z"
    }
   },
   "outputs": [
    {
     "data": {
      "text/plain": [
       "True"
      ]
     },
     "execution_count": 9,
     "metadata": {},
     "output_type": "execute_result"
    }
   ],
   "source": [
    "file_name = \"보고서.xlsx\"\n",
    "file_name.endswith(\"xlsx\")"
   ]
  },
  {
   "cell_type": "code",
   "execution_count": 14,
   "id": "4dcdb689",
   "metadata": {
    "ExecuteTime": {
     "end_time": "2024-03-03T08:42:55.275214Z",
     "start_time": "2024-03-03T08:42:55.267638Z"
    }
   },
   "outputs": [
    {
     "data": {
      "text/plain": [
       "True"
      ]
     },
     "execution_count": 14,
     "metadata": {},
     "output_type": "execute_result"
    }
   ],
   "source": [
    "file_name = \"보고서.xlsx\"\n",
    "file_name.endswith((\"xlsx\", \"xls\"))"
   ]
  },
  {
   "cell_type": "code",
   "execution_count": 15,
   "id": "4c0a13f9",
   "metadata": {
    "ExecuteTime": {
     "end_time": "2024-03-03T08:43:54.290709Z",
     "start_time": "2024-03-03T08:43:54.284374Z"
    }
   },
   "outputs": [
    {
     "data": {
      "text/plain": [
       "True"
      ]
     },
     "execution_count": 15,
     "metadata": {},
     "output_type": "execute_result"
    }
   ],
   "source": [
    "file_name = \"2020_보고서.xlsx\"\n",
    "file_name.startswith(\"2020\")"
   ]
  },
  {
   "cell_type": "code",
   "execution_count": 16,
   "id": "86ddf509",
   "metadata": {
    "ExecuteTime": {
     "end_time": "2024-03-03T08:44:28.681501Z",
     "start_time": "2024-03-03T08:44:28.675352Z"
    }
   },
   "outputs": [
    {
     "data": {
      "text/plain": [
       "['hello', 'world']"
      ]
     },
     "execution_count": 16,
     "metadata": {},
     "output_type": "execute_result"
    }
   ],
   "source": [
    "a = \"hello world\"\n",
    "a.split()"
   ]
  },
  {
   "cell_type": "code",
   "execution_count": 18,
   "id": "2a0fe974",
   "metadata": {
    "ExecuteTime": {
     "end_time": "2024-03-03T08:45:33.971060Z",
     "start_time": "2024-03-03T08:45:33.964825Z"
    }
   },
   "outputs": [
    {
     "data": {
      "text/plain": [
       "['btc', 'krw']"
      ]
     },
     "execution_count": 18,
     "metadata": {},
     "output_type": "execute_result"
    }
   ],
   "source": [
    "ticker = \"btc_krw\"\n",
    "ticker.split(\"_\")"
   ]
  },
  {
   "cell_type": "code",
   "execution_count": 19,
   "id": "974f62f1",
   "metadata": {
    "ExecuteTime": {
     "end_time": "2024-03-03T08:46:36.842431Z",
     "start_time": "2024-03-03T08:46:36.835794Z"
    }
   },
   "outputs": [
    {
     "data": {
      "text/plain": [
       "['2020', '05', '01']"
      ]
     },
     "execution_count": 19,
     "metadata": {},
     "output_type": "execute_result"
    }
   ],
   "source": [
    "date = \"2020-05-01\"\n",
    "date.split(\"-\")"
   ]
  },
  {
   "cell_type": "code",
   "execution_count": 22,
   "id": "f6e8d0fa",
   "metadata": {
    "ExecuteTime": {
     "end_time": "2024-03-03T08:47:48.080017Z",
     "start_time": "2024-03-03T08:47:48.075676Z"
    }
   },
   "outputs": [],
   "source": [
    "data = \"0339490     \"\n",
    "data = data.rstrip()"
   ]
  },
  {
   "cell_type": "code",
   "execution_count": 24,
   "id": "212f93e0",
   "metadata": {
    "ExecuteTime": {
     "end_time": "2024-03-03T08:48:19.177528Z",
     "start_time": "2024-03-03T08:48:19.172067Z"
    },
    "scrolled": true
   },
   "outputs": [
    {
     "data": {
      "text/plain": [
       "'0339490'"
      ]
     },
     "execution_count": 24,
     "metadata": {},
     "output_type": "execute_result"
    }
   ],
   "source": [
    "data = \"0339490     \"\n",
    "data.rstrip(\" \")"
   ]
  },
  {
   "cell_type": "markdown",
   "id": "600148c4",
   "metadata": {},
   "source": [
    "# 파이썬 리스트"
   ]
  },
  {
   "cell_type": "code",
   "execution_count": null,
   "id": "dce78be0",
   "metadata": {},
   "outputs": [],
   "source": [
    "# 51 리스트 생성 "
   ]
  },
  {
   "cell_type": "code",
   "execution_count": 2,
   "id": "8e5cc93f",
   "metadata": {
    "ExecuteTime": {
     "end_time": "2024-03-04T04:23:53.693751Z",
     "start_time": "2024-03-04T04:23:53.688943Z"
    }
   },
   "outputs": [],
   "source": [
    "movie_rank = [\"닥터 스트레인지\", \"스플릿\", \"럭키\"]"
   ]
  },
  {
   "cell_type": "code",
   "execution_count": null,
   "id": "70456d82",
   "metadata": {},
   "outputs": [],
   "source": [
    "# 52 리스트에 원소 추가 (append)"
   ]
  },
  {
   "cell_type": "code",
   "execution_count": 3,
   "id": "04704bb0",
   "metadata": {
    "ExecuteTime": {
     "end_time": "2024-03-04T04:25:27.878582Z",
     "start_time": "2024-03-04T04:25:27.874707Z"
    }
   },
   "outputs": [
    {
     "name": "stdout",
     "output_type": "stream",
     "text": [
      "['닥터 스트레인지', '스플릿', '럭키', '배트맨']\n"
     ]
    }
   ],
   "source": [
    "movie_rank = [\"닥터 스트레인지\", \"스플릿\", \"럭키\"]\n",
    "movie_rank.append(\"배트맨\")\n",
    "print(movie_rank)"
   ]
  },
  {
   "cell_type": "code",
   "execution_count": null,
   "id": "4b1049c2",
   "metadata": {},
   "outputs": [],
   "source": [
    "# 53 (insert)"
   ]
  },
  {
   "cell_type": "code",
   "execution_count": 6,
   "id": "94907699",
   "metadata": {
    "ExecuteTime": {
     "end_time": "2024-03-04T04:30:47.289302Z",
     "start_time": "2024-03-04T04:30:47.283928Z"
    }
   },
   "outputs": [
    {
     "name": "stdout",
     "output_type": "stream",
     "text": [
      "['닥터 스트레인지', '슈퍼맨', '스플릿', '럭키', '배트맨']\n"
     ]
    }
   ],
   "source": [
    "movie_rank = ['닥터 스트레인지', '스플릿', '럭키', '배트맨']\n",
    "movie_rank.insert(1,\"슈퍼맨\")\n",
    "print(movie_rank)"
   ]
  },
  {
   "cell_type": "code",
   "execution_count": null,
   "id": "c6a855cf",
   "metadata": {},
   "outputs": [],
   "source": [
    "# 54 (del)"
   ]
  },
  {
   "cell_type": "code",
   "execution_count": 15,
   "id": "e9f890a4",
   "metadata": {
    "ExecuteTime": {
     "end_time": "2024-03-04T04:37:14.582541Z",
     "start_time": "2024-03-04T04:37:14.578276Z"
    }
   },
   "outputs": [
    {
     "name": "stdout",
     "output_type": "stream",
     "text": [
      "['닥터 스트레인지', '슈퍼맨', '스플릿']\n"
     ]
    }
   ],
   "source": [
    "movie_rank = ['닥터 스트레인지', '슈퍼맨', '스플릿', '럭키' '배트맨']\n",
    "del movie_rank[3]\n",
    "print(movie_rank)"
   ]
  },
  {
   "cell_type": "code",
   "execution_count": null,
   "id": "3a772521",
   "metadata": {},
   "outputs": [],
   "source": [
    "# 55"
   ]
  },
  {
   "cell_type": "code",
   "execution_count": 14,
   "id": "44d5eb05",
   "metadata": {
    "ExecuteTime": {
     "end_time": "2024-03-04T04:35:57.991677Z",
     "start_time": "2024-03-04T04:35:57.986685Z"
    }
   },
   "outputs": [
    {
     "name": "stdout",
     "output_type": "stream",
     "text": [
      "['닥터 스트레인지', '슈퍼맨']\n"
     ]
    }
   ],
   "source": [
    "movie_rank = ['닥터 스트레인지', '슈퍼맨', '스플릿', '배트맨']\n",
    "del movie_rank[2]\n",
    "del movie_rank[2]\n",
    "print(movie_rank)"
   ]
  },
  {
   "cell_type": "code",
   "execution_count": null,
   "id": "2a5e9787",
   "metadata": {},
   "outputs": [],
   "source": [
    "# 56"
   ]
  },
  {
   "cell_type": "code",
   "execution_count": 16,
   "id": "8fa75928",
   "metadata": {
    "ExecuteTime": {
     "end_time": "2024-03-04T04:38:55.799225Z",
     "start_time": "2024-03-04T04:38:55.794732Z"
    }
   },
   "outputs": [
    {
     "name": "stdout",
     "output_type": "stream",
     "text": [
      "['C', 'C++', 'JAVA', 'Python', 'Go', 'C#']\n"
     ]
    }
   ],
   "source": [
    "lang1 = [\"C\", \"C++\", \"JAVA\"]\n",
    "lang2 = [\"Python\", \"Go\", \"C#\"]\n",
    "langs = lang1 + lang2\n",
    "print(langs)"
   ]
  },
  {
   "cell_type": "code",
   "execution_count": null,
   "id": "3a4c7f2d",
   "metadata": {},
   "outputs": [],
   "source": [
    "# 57 (min,max)"
   ]
  },
  {
   "cell_type": "code",
   "execution_count": 18,
   "id": "191223b3",
   "metadata": {
    "ExecuteTime": {
     "end_time": "2024-03-04T04:41:28.768383Z",
     "start_time": "2024-03-04T04:41:28.764003Z"
    },
    "scrolled": true
   },
   "outputs": [
    {
     "name": "stdout",
     "output_type": "stream",
     "text": [
      "max:  7\n",
      "min:  1\n"
     ]
    }
   ],
   "source": [
    "nums = [1, 2, 3, 4, 5, 6, 7]\n",
    "print(\"max: \", max(nums))\n",
    "print(\"min: \", min(nums))"
   ]
  },
  {
   "cell_type": "code",
   "execution_count": null,
   "id": "38488bd0",
   "metadata": {},
   "outputs": [],
   "source": [
    "# 58 (sum)"
   ]
  },
  {
   "cell_type": "code",
   "execution_count": 19,
   "id": "21cc5d81",
   "metadata": {
    "ExecuteTime": {
     "end_time": "2024-03-04T04:42:28.262779Z",
     "start_time": "2024-03-04T04:42:28.258860Z"
    }
   },
   "outputs": [
    {
     "name": "stdout",
     "output_type": "stream",
     "text": [
      "15\n"
     ]
    }
   ],
   "source": [
    "nums = [1, 2, 3, 4, 5]\n",
    "print(sum(nums))"
   ]
  },
  {
   "cell_type": "code",
   "execution_count": null,
   "id": "26d9ecdd",
   "metadata": {},
   "outputs": [],
   "source": [
    "# 59 (len)"
   ]
  },
  {
   "cell_type": "code",
   "execution_count": 21,
   "id": "83b3831d",
   "metadata": {
    "ExecuteTime": {
     "end_time": "2024-03-04T04:43:41.416673Z",
     "start_time": "2024-03-04T04:43:41.412534Z"
    }
   },
   "outputs": [
    {
     "name": "stdout",
     "output_type": "stream",
     "text": [
      "12\n"
     ]
    }
   ],
   "source": [
    "cook = [\"피자\", \"김밥\", \"만두\", \"양념치킨\", \"족발\", \"피자\", \"김치만두\", \"쫄면\", \"소시지\", \"라면\", \"팥빙수\", \"김치전\"]\n",
    "print(len(cook))"
   ]
  },
  {
   "cell_type": "code",
   "execution_count": null,
   "id": "289716e3",
   "metadata": {},
   "outputs": [],
   "source": [
    "# 60 "
   ]
  },
  {
   "cell_type": "code",
   "execution_count": 22,
   "id": "1e9268c5",
   "metadata": {
    "ExecuteTime": {
     "end_time": "2024-03-04T04:47:10.407489Z",
     "start_time": "2024-03-04T04:47:10.402651Z"
    }
   },
   "outputs": [
    {
     "name": "stdout",
     "output_type": "stream",
     "text": [
      "3.0\n"
     ]
    }
   ],
   "source": [
    "nums = [1, 2, 3, 4, 5]\n",
    "average = sum(nums)/ len(nums)\n",
    "print(average)"
   ]
  },
  {
   "cell_type": "code",
   "execution_count": null,
   "id": "4b976073",
   "metadata": {},
   "outputs": [],
   "source": [
    "# 61 (슬라이싱)"
   ]
  },
  {
   "cell_type": "code",
   "execution_count": 2,
   "id": "b31eea3e",
   "metadata": {
    "ExecuteTime": {
     "end_time": "2024-03-04T12:03:41.462244Z",
     "start_time": "2024-03-04T12:03:41.458508Z"
    }
   },
   "outputs": [
    {
     "name": "stdout",
     "output_type": "stream",
     "text": [
      "[100, 130, 140, 150, 160, 170]\n"
     ]
    }
   ],
   "source": [
    "price = ['20180728', 100, 130, 140, 150, 160, 170]\n",
    "print(price[1:])"
   ]
  },
  {
   "cell_type": "code",
   "execution_count": null,
   "id": "141fae84",
   "metadata": {},
   "outputs": [],
   "source": [
    "# 62"
   ]
  },
  {
   "cell_type": "code",
   "execution_count": 8,
   "id": "5ce1750c",
   "metadata": {
    "ExecuteTime": {
     "end_time": "2024-03-04T12:06:06.663004Z",
     "start_time": "2024-03-04T12:06:06.659421Z"
    }
   },
   "outputs": [
    {
     "name": "stdout",
     "output_type": "stream",
     "text": [
      "[1, 3, 5, 7, 9]\n"
     ]
    }
   ],
   "source": [
    "nums = [1, 2, 3, 4, 5, 6, 7, 8, 9, 10]\n",
    "print(nums[::2])"
   ]
  },
  {
   "cell_type": "code",
   "execution_count": null,
   "id": "8faa9c70",
   "metadata": {},
   "outputs": [],
   "source": [
    "# 63"
   ]
  },
  {
   "cell_type": "code",
   "execution_count": 9,
   "id": "b33b00b1",
   "metadata": {
    "ExecuteTime": {
     "end_time": "2024-03-04T12:06:14.679762Z",
     "start_time": "2024-03-04T12:06:14.676250Z"
    }
   },
   "outputs": [
    {
     "name": "stdout",
     "output_type": "stream",
     "text": [
      "[2, 4, 6, 8, 10]\n"
     ]
    }
   ],
   "source": [
    "nums = [1, 2, 3, 4, 5, 6, 7, 8, 9, 10]\n",
    "print(nums[1::2])"
   ]
  },
  {
   "cell_type": "code",
   "execution_count": null,
   "id": "f7aff90d",
   "metadata": {},
   "outputs": [],
   "source": [
    "# 64"
   ]
  },
  {
   "cell_type": "code",
   "execution_count": 12,
   "id": "e90ad0d6",
   "metadata": {
    "ExecuteTime": {
     "end_time": "2024-03-04T12:10:18.793395Z",
     "start_time": "2024-03-04T12:10:18.788846Z"
    },
    "scrolled": true
   },
   "outputs": [
    {
     "name": "stdout",
     "output_type": "stream",
     "text": [
      "[5, 4, 3, 2, 1]\n"
     ]
    }
   ],
   "source": [
    "nums = [1, 2, 3, 4, 5]\n",
    "print(nums[::-1])"
   ]
  },
  {
   "cell_type": "code",
   "execution_count": null,
   "id": "654ed38a",
   "metadata": {},
   "outputs": [],
   "source": [
    "# 65"
   ]
  },
  {
   "cell_type": "code",
   "execution_count": 13,
   "id": "16cce4b4",
   "metadata": {
    "ExecuteTime": {
     "end_time": "2024-03-04T12:11:07.811817Z",
     "start_time": "2024-03-04T12:11:07.806471Z"
    }
   },
   "outputs": [
    {
     "name": "stdout",
     "output_type": "stream",
     "text": [
      "삼성전자 Naver\n"
     ]
    }
   ],
   "source": [
    "interest = ['삼성전자', 'LG전자', 'Naver']\n",
    "print(interest[0], interest[2])"
   ]
  },
  {
   "cell_type": "code",
   "execution_count": null,
   "id": "b79d2889",
   "metadata": {},
   "outputs": [],
   "source": [
    "# 66 (Join)"
   ]
  },
  {
   "cell_type": "code",
   "execution_count": 16,
   "id": "2ecb164a",
   "metadata": {
    "ExecuteTime": {
     "end_time": "2024-03-04T12:14:02.355554Z",
     "start_time": "2024-03-04T12:14:02.348915Z"
    }
   },
   "outputs": [
    {
     "name": "stdout",
     "output_type": "stream",
     "text": [
      "삼성전자 LG전자 Naver SK하이닉스 미래에셋대우\n"
     ]
    }
   ],
   "source": [
    "interest = ['삼성전자', 'LG전자', 'Naver', 'SK하이닉스', '미래에셋대우']\n",
    "print(\" \".join(interest))"
   ]
  },
  {
   "cell_type": "code",
   "execution_count": null,
   "id": "33995c20",
   "metadata": {},
   "outputs": [],
   "source": [
    "# 67"
   ]
  },
  {
   "cell_type": "code",
   "execution_count": 15,
   "id": "2b7655b7",
   "metadata": {
    "ExecuteTime": {
     "end_time": "2024-03-04T12:13:21.315370Z",
     "start_time": "2024-03-04T12:13:21.309634Z"
    }
   },
   "outputs": [
    {
     "name": "stdout",
     "output_type": "stream",
     "text": [
      "삼성전자/LG전자/Naver/SK하이닉스/미래에셋대우\n"
     ]
    }
   ],
   "source": [
    "interest = ['삼성전자', 'LG전자', 'Naver', 'SK하이닉스', '미래에셋대우']\n",
    "print(\"/\".join(interest))"
   ]
  },
  {
   "cell_type": "code",
   "execution_count": null,
   "id": "ea6cf0fa",
   "metadata": {},
   "outputs": [],
   "source": [
    "# 68"
   ]
  },
  {
   "cell_type": "code",
   "execution_count": 18,
   "id": "3ca70264",
   "metadata": {
    "ExecuteTime": {
     "end_time": "2024-03-04T12:15:21.187663Z",
     "start_time": "2024-03-04T12:15:21.181634Z"
    }
   },
   "outputs": [
    {
     "name": "stdout",
     "output_type": "stream",
     "text": [
      "삼성전자\n",
      "LG전자\n",
      "Naver\n",
      "SK하이닉스\n",
      "미래에셋대우\n"
     ]
    }
   ],
   "source": [
    "interest = ['삼성전자', 'LG전자', 'Naver', 'SK하이닉스', '미래에셋대우']\n",
    "print(\"\\n\".join(interest))"
   ]
  },
  {
   "cell_type": "code",
   "execution_count": null,
   "id": "73924916",
   "metadata": {},
   "outputs": [],
   "source": [
    "#69 (split)"
   ]
  },
  {
   "cell_type": "code",
   "execution_count": 20,
   "id": "0cb8a6ac",
   "metadata": {
    "ExecuteTime": {
     "end_time": "2024-03-04T12:17:07.257581Z",
     "start_time": "2024-03-04T12:17:07.252855Z"
    }
   },
   "outputs": [
    {
     "name": "stdout",
     "output_type": "stream",
     "text": [
      "['삼성전자', 'LG전자', 'Naver']\n"
     ]
    }
   ],
   "source": [
    "string = \"삼성전자/LG전자/Naver\"\n",
    "interest = string.split(\"/\")\n",
    "print(interest)"
   ]
  },
  {
   "cell_type": "code",
   "execution_count": null,
   "id": "7ef622c1",
   "metadata": {},
   "outputs": [],
   "source": [
    "# 70"
   ]
  },
  {
   "cell_type": "code",
   "execution_count": 21,
   "id": "f6a470ca",
   "metadata": {
    "ExecuteTime": {
     "end_time": "2024-03-04T12:18:19.530989Z",
     "start_time": "2024-03-04T12:18:19.525079Z"
    }
   },
   "outputs": [
    {
     "name": "stdout",
     "output_type": "stream",
     "text": [
      "[1, 2, 3, 4, 5, 9, 10]\n"
     ]
    }
   ],
   "source": [
    "data = [2, 4, 3, 1, 5, 10, 9]\n",
    "data.sort()\n",
    "print(data)"
   ]
  },
  {
   "cell_type": "markdown",
   "id": "f3fc85b8",
   "metadata": {},
   "source": [
    "# 파이썬 튜플"
   ]
  },
  {
   "cell_type": "code",
   "execution_count": null,
   "id": "f37349fd",
   "metadata": {},
   "outputs": [],
   "source": [
    "# 71"
   ]
  },
  {
   "cell_type": "code",
   "execution_count": 23,
   "id": "932caac9",
   "metadata": {
    "ExecuteTime": {
     "end_time": "2024-03-04T12:20:35.858194Z",
     "start_time": "2024-03-04T12:20:35.853284Z"
    }
   },
   "outputs": [],
   "source": [
    "my_variable = ()"
   ]
  },
  {
   "cell_type": "code",
   "execution_count": 24,
   "id": "38ed25c9",
   "metadata": {
    "ExecuteTime": {
     "end_time": "2024-03-04T12:21:10.171589Z",
     "start_time": "2024-03-04T12:21:10.165888Z"
    }
   },
   "outputs": [
    {
     "name": "stdout",
     "output_type": "stream",
     "text": [
      "<class 'tuple'>\n"
     ]
    }
   ],
   "source": [
    "print(type(my_variable))"
   ]
  },
  {
   "cell_type": "code",
   "execution_count": null,
   "id": "e1156fb8",
   "metadata": {},
   "outputs": [],
   "source": [
    "# 72"
   ]
  },
  {
   "cell_type": "code",
   "execution_count": 25,
   "id": "88de9ce3",
   "metadata": {
    "ExecuteTime": {
     "end_time": "2024-03-04T12:22:11.010135Z",
     "start_time": "2024-03-04T12:22:11.005868Z"
    }
   },
   "outputs": [],
   "source": [
    "movie_rank = (\"닥터 스트레인지\", \"스플릿\", \"럭키\")"
   ]
  },
  {
   "cell_type": "code",
   "execution_count": null,
   "id": "af27a204",
   "metadata": {},
   "outputs": [],
   "source": [
    "# 73"
   ]
  },
  {
   "cell_type": "code",
   "execution_count": 27,
   "id": "4a2abe6d",
   "metadata": {
    "ExecuteTime": {
     "end_time": "2024-03-04T12:23:34.620726Z",
     "start_time": "2024-03-04T12:23:34.614239Z"
    }
   },
   "outputs": [
    {
     "data": {
      "text/plain": [
       "int"
      ]
     },
     "execution_count": 27,
     "metadata": {},
     "output_type": "execute_result"
    }
   ],
   "source": [
    "tuple = (1)\n",
    "type(tuple)"
   ]
  },
  {
   "cell_type": "code",
   "execution_count": 28,
   "id": "9f0acdf5",
   "metadata": {
    "ExecuteTime": {
     "end_time": "2024-03-04T12:24:08.068285Z",
     "start_time": "2024-03-04T12:24:08.062181Z"
    }
   },
   "outputs": [
    {
     "data": {
      "text/plain": [
       "tuple"
      ]
     },
     "execution_count": 28,
     "metadata": {},
     "output_type": "execute_result"
    }
   ],
   "source": [
    "tuple =(1, )\n",
    "type(tuple)"
   ]
  },
  {
   "cell_type": "code",
   "execution_count": null,
   "id": "a98ed8ec",
   "metadata": {},
   "outputs": [],
   "source": [
    "# 74 (tuple은 원소의 값을 변경x)"
   ]
  },
  {
   "cell_type": "code",
   "execution_count": null,
   "id": "59d7ce20",
   "metadata": {},
   "outputs": [],
   "source": [
    "t = (1, 2, 3)\n",
    "t[0] = 'a'\n",
    "Traceback (most recent call last):\n",
    "  File \"<pyshell#46>\", line 1, in <module>\n",
    "    t[0] = 'a'\n",
    "TypeError: 'tuple' object does not support item assignment"
   ]
  },
  {
   "cell_type": "code",
   "execution_count": null,
   "id": "495a32b7",
   "metadata": {},
   "outputs": [],
   "source": [
    "# 75"
   ]
  },
  {
   "cell_type": "code",
   "execution_count": 29,
   "id": "5406de66",
   "metadata": {
    "ExecuteTime": {
     "end_time": "2024-03-04T12:25:29.156983Z",
     "start_time": "2024-03-04T12:25:29.150343Z"
    }
   },
   "outputs": [
    {
     "data": {
      "text/plain": [
       "tuple"
      ]
     },
     "execution_count": 29,
     "metadata": {},
     "output_type": "execute_result"
    }
   ],
   "source": [
    "t = 1, 2, 3, 4\n",
    "type(t)"
   ]
  },
  {
   "cell_type": "code",
   "execution_count": null,
   "id": "f5a57807",
   "metadata": {},
   "outputs": [],
   "source": [
    "# 76"
   ]
  },
  {
   "cell_type": "code",
   "execution_count": 31,
   "id": "d66b4f53",
   "metadata": {
    "ExecuteTime": {
     "end_time": "2024-03-04T12:27:16.163767Z",
     "start_time": "2024-03-04T12:27:16.158582Z"
    }
   },
   "outputs": [
    {
     "name": "stdout",
     "output_type": "stream",
     "text": [
      "('A', 'b', 'c')\n"
     ]
    }
   ],
   "source": [
    "t = ('A', 'b', 'c')\n",
    "print(t)"
   ]
  },
  {
   "cell_type": "code",
   "execution_count": null,
   "id": "97c69b30",
   "metadata": {},
   "outputs": [],
   "source": [
    "# 77"
   ]
  },
  {
   "cell_type": "code",
   "execution_count": null,
   "id": "c2ebbc29",
   "metadata": {},
   "outputs": [],
   "source": [
    "interest = ('삼성전자', 'LG전자', 'SK Hynix')"
   ]
  },
  {
   "cell_type": "code",
   "execution_count": 32,
   "id": "d797f2e9",
   "metadata": {
    "ExecuteTime": {
     "end_time": "2024-03-04T12:27:47.890439Z",
     "start_time": "2024-03-04T12:27:47.886213Z"
    }
   },
   "outputs": [],
   "source": [
    "data = list(interest)"
   ]
  },
  {
   "cell_type": "code",
   "execution_count": 33,
   "id": "bc36cfcb",
   "metadata": {
    "ExecuteTime": {
     "end_time": "2024-03-04T12:28:05.347661Z",
     "start_time": "2024-03-04T12:28:05.342459Z"
    }
   },
   "outputs": [
    {
     "data": {
      "text/plain": [
       "list"
      ]
     },
     "execution_count": 33,
     "metadata": {},
     "output_type": "execute_result"
    }
   ],
   "source": [
    "type(interest)"
   ]
  },
  {
   "cell_type": "code",
   "execution_count": null,
   "id": "b9d95895",
   "metadata": {},
   "outputs": [],
   "source": [
    "#78"
   ]
  },
  {
   "cell_type": "code",
   "execution_count": 48,
   "id": "4d2dbe6e",
   "metadata": {
    "ExecuteTime": {
     "end_time": "2024-03-04T12:35:01.035815Z",
     "start_time": "2024-03-04T12:35:01.030608Z"
    }
   },
   "outputs": [],
   "source": [
    "interest = ['삼성전자', 'LG전자', 'SK Hynix']"
   ]
  },
  {
   "cell_type": "code",
   "execution_count": 49,
   "id": "ed42dfa1",
   "metadata": {
    "ExecuteTime": {
     "end_time": "2024-03-04T12:35:03.194468Z",
     "start_time": "2024-03-04T12:35:03.174219Z"
    },
    "scrolled": true
   },
   "outputs": [
    {
     "ename": "TypeError",
     "evalue": "'tuple' object is not callable",
     "output_type": "error",
     "traceback": [
      "\u001b[1;31m---------------------------------------------------------------------------\u001b[0m",
      "\u001b[1;31mTypeError\u001b[0m                                 Traceback (most recent call last)",
      "Cell \u001b[1;32mIn[49], line 1\u001b[0m\n\u001b[1;32m----> 1\u001b[0m data \u001b[38;5;241m=\u001b[39m \u001b[38;5;28mtuple\u001b[39m(interest)\n",
      "\u001b[1;31mTypeError\u001b[0m: 'tuple' object is not callable"
     ]
    }
   ],
   "source": [
    "data = tuple(interest)"
   ]
  },
  {
   "cell_type": "code",
   "execution_count": 42,
   "id": "4ab1ed5a",
   "metadata": {
    "ExecuteTime": {
     "end_time": "2024-03-04T12:31:59.064855Z",
     "start_time": "2024-03-04T12:31:59.060247Z"
    }
   },
   "outputs": [
    {
     "data": {
      "text/plain": [
       "list"
      ]
     },
     "execution_count": 42,
     "metadata": {},
     "output_type": "execute_result"
    }
   ],
   "source": [
    "type(interest)"
   ]
  },
  {
   "cell_type": "code",
   "execution_count": null,
   "id": "60b86091",
   "metadata": {},
   "outputs": [],
   "source": [
    "# 79"
   ]
  },
  {
   "cell_type": "code",
   "execution_count": 47,
   "id": "25d55a33",
   "metadata": {
    "ExecuteTime": {
     "end_time": "2024-03-04T12:33:23.771430Z",
     "start_time": "2024-03-04T12:33:23.766478Z"
    }
   },
   "outputs": [
    {
     "name": "stdout",
     "output_type": "stream",
     "text": [
      "apple banana cake\n"
     ]
    }
   ],
   "source": [
    "temp = ('apple', 'banana', 'cake')\n",
    "a, b, c = temp\n",
    "print(a, b, c)"
   ]
  },
  {
   "cell_type": "code",
   "execution_count": null,
   "id": "b0bca618",
   "metadata": {},
   "outputs": [],
   "source": [
    "# 80 (range)"
   ]
  },
  {
   "cell_type": "code",
   "execution_count": null,
   "id": "4be49ff5",
   "metadata": {},
   "outputs": [],
   "source": [
    "(2, 4, 6, 8 ... 98)"
   ]
  },
  {
   "cell_type": "code",
   "execution_count": 51,
   "id": "7d32f34a",
   "metadata": {
    "ExecuteTime": {
     "end_time": "2024-03-04T12:35:35.379574Z",
     "start_time": "2024-03-04T12:35:35.326986Z"
    }
   },
   "outputs": [
    {
     "ename": "TypeError",
     "evalue": "'tuple' object is not callable",
     "output_type": "error",
     "traceback": [
      "\u001b[1;31m---------------------------------------------------------------------------\u001b[0m",
      "\u001b[1;31mTypeError\u001b[0m                                 Traceback (most recent call last)",
      "Cell \u001b[1;32mIn[51], line 1\u001b[0m\n\u001b[1;32m----> 1\u001b[0m data \u001b[38;5;241m=\u001b[39m \u001b[38;5;28mtuple\u001b[39m(\u001b[38;5;28mrange\u001b[39m(\u001b[38;5;241m2\u001b[39m, \u001b[38;5;241m100\u001b[39m, \u001b[38;5;241m2\u001b[39m))\n\u001b[0;32m      2\u001b[0m \u001b[38;5;28mprint\u001b[39m(data)\n",
      "\u001b[1;31mTypeError\u001b[0m: 'tuple' object is not callable"
     ]
    }
   ],
   "source": [
    "data = tuple(range(2, 100, 2))\n",
    "print(data)"
   ]
  },
  {
   "cell_type": "markdown",
   "id": "d8ac5c54",
   "metadata": {},
   "source": [
    "# 파이썬 딕셔너리"
   ]
  },
  {
   "cell_type": "code",
   "execution_count": null,
   "id": "04c612ba",
   "metadata": {},
   "outputs": [],
   "source": [
    "# 81 (start expression)"
   ]
  },
  {
   "cell_type": "code",
   "execution_count": 54,
   "id": "da44667a",
   "metadata": {
    "ExecuteTime": {
     "end_time": "2024-03-04T12:38:01.047654Z",
     "start_time": "2024-03-04T12:38:01.043474Z"
    }
   },
   "outputs": [
    {
     "name": "stdout",
     "output_type": "stream",
     "text": [
      "[8.8, 8.9, 8.7, 9.2, 9.3, 9.7, 9.9, 9.5]\n"
     ]
    }
   ],
   "source": [
    "scores = [8.8, 8.9, 8.7, 9.2, 9.3, 9.7, 9.9, 9.5, 7.8, 9.4]\n",
    "*valid_score, _, _= scores\n",
    "print(valid_score)"
   ]
  },
  {
   "cell_type": "code",
   "execution_count": null,
   "id": "884210d8",
   "metadata": {},
   "outputs": [],
   "source": [
    "# 82"
   ]
  },
  {
   "cell_type": "code",
   "execution_count": 57,
   "id": "9bc9fb7c",
   "metadata": {
    "ExecuteTime": {
     "end_time": "2024-03-04T12:40:49.532669Z",
     "start_time": "2024-03-04T12:40:49.527086Z"
    }
   },
   "outputs": [
    {
     "name": "stdout",
     "output_type": "stream",
     "text": [
      "[8.7, 9.2, 9.3, 9.7, 9.9, 9.5, 7.8, 9.4]\n"
     ]
    }
   ],
   "source": [
    "scores = [8.8, 8.9, 8.7, 9.2, 9.3, 9.7, 9.9, 9.5, 7.8, 9.4]\n",
    "a, b, *valid_score = scores\n",
    "print(valid_score)"
   ]
  },
  {
   "cell_type": "code",
   "execution_count": null,
   "id": "d69c1c4a",
   "metadata": {},
   "outputs": [],
   "source": [
    "#83"
   ]
  },
  {
   "cell_type": "code",
   "execution_count": 56,
   "id": "858697f3",
   "metadata": {
    "ExecuteTime": {
     "end_time": "2024-03-04T12:40:35.421061Z",
     "start_time": "2024-03-04T12:40:35.414949Z"
    }
   },
   "outputs": [
    {
     "name": "stdout",
     "output_type": "stream",
     "text": [
      "[8.9, 8.7, 9.2, 9.3, 9.7, 9.9, 9.5, 7.8]\n"
     ]
    }
   ],
   "source": [
    "scores = [8.8, 8.9, 8.7, 9.2, 9.3, 9.7, 9.9, 9.5, 7.8, 9.4]\n",
    "a, *valid_score, b = scores\n",
    "print(valid_score)"
   ]
  },
  {
   "cell_type": "code",
   "execution_count": null,
   "id": "1e312dbe",
   "metadata": {},
   "outputs": [],
   "source": [
    "#84"
   ]
  },
  {
   "cell_type": "code",
   "execution_count": 58,
   "id": "3955e454",
   "metadata": {
    "ExecuteTime": {
     "end_time": "2024-03-04T12:41:28.547293Z",
     "start_time": "2024-03-04T12:41:28.543714Z"
    }
   },
   "outputs": [],
   "source": [
    "temp = {}"
   ]
  },
  {
   "cell_type": "code",
   "execution_count": 59,
   "id": "852481f7",
   "metadata": {
    "ExecuteTime": {
     "end_time": "2024-03-04T12:41:42.357261Z",
     "start_time": "2024-03-04T12:41:42.351259Z"
    }
   },
   "outputs": [
    {
     "data": {
      "text/plain": [
       "dict"
      ]
     },
     "execution_count": 59,
     "metadata": {},
     "output_type": "execute_result"
    }
   ],
   "source": [
    "type(temp)"
   ]
  },
  {
   "cell_type": "code",
   "execution_count": null,
   "id": "af328ba2",
   "metadata": {},
   "outputs": [],
   "source": [
    "#85"
   ]
  },
  {
   "cell_type": "code",
   "execution_count": 60,
   "id": "66eec0f5",
   "metadata": {
    "ExecuteTime": {
     "end_time": "2024-03-04T12:42:42.340932Z",
     "start_time": "2024-03-04T12:42:42.335157Z"
    }
   },
   "outputs": [
    {
     "name": "stdout",
     "output_type": "stream",
     "text": [
      "{'메로나': 1000, '폴라포': 1200, '빵빠레': 1800}\n"
     ]
    }
   ],
   "source": [
    "ice = {\"메로나\" : 1000, \"폴라포\" : 1200, \"빵빠레\" : 1800}\n",
    "print(ice)"
   ]
  },
  {
   "cell_type": "code",
   "execution_count": null,
   "id": "ee42d19c",
   "metadata": {},
   "outputs": [],
   "source": [
    "#86"
   ]
  },
  {
   "cell_type": "code",
   "execution_count": 62,
   "id": "b307e261",
   "metadata": {
    "ExecuteTime": {
     "end_time": "2024-03-04T12:44:37.509858Z",
     "start_time": "2024-03-04T12:44:37.503913Z"
    }
   },
   "outputs": [
    {
     "name": "stdout",
     "output_type": "stream",
     "text": [
      "{'메로나': 1000, '폴라포': 1200, '빵빠레': 1800, '죠스바': 1200, '월드콘': 1500}\n"
     ]
    }
   ],
   "source": [
    "ice = {\"메로나\" : 1000, \"폴라포\" : 1200, \"빵빠레\" : 1800}\n",
    "ice[\"죠스바\"] = 1200\n",
    "ice[\"월드콘\"] = 1500\n",
    "print(ice)"
   ]
  },
  {
   "cell_type": "code",
   "execution_count": null,
   "id": "ff4ddb37",
   "metadata": {},
   "outputs": [],
   "source": [
    "#87"
   ]
  },
  {
   "cell_type": "code",
   "execution_count": 64,
   "id": "b79c631e",
   "metadata": {
    "ExecuteTime": {
     "end_time": "2024-03-04T12:46:36.237491Z",
     "start_time": "2024-03-04T12:46:36.231438Z"
    }
   },
   "outputs": [
    {
     "name": "stdout",
     "output_type": "stream",
     "text": [
      "메로나 가격:  1000\n"
     ]
    }
   ],
   "source": [
    "ice = {'메로나': 1000,\n",
    "       '폴로포': 1200,\n",
    "       '빵빠레': 1800,\n",
    "       '죠스바': 1200,\n",
    "       '월드콘': 1500}\n",
    "print(\"메로나 가격: \",ice[\"메로나\"])"
   ]
  },
  {
   "cell_type": "code",
   "execution_count": null,
   "id": "d766ed7c",
   "metadata": {},
   "outputs": [],
   "source": [
    "#88"
   ]
  },
  {
   "cell_type": "code",
   "execution_count": 70,
   "id": "7ed7079e",
   "metadata": {
    "ExecuteTime": {
     "end_time": "2024-03-04T12:48:47.603458Z",
     "start_time": "2024-03-04T12:48:47.599220Z"
    }
   },
   "outputs": [],
   "source": [
    "ice[\"메로나\"] = 1300"
   ]
  },
  {
   "cell_type": "code",
   "execution_count": null,
   "id": "cd1ef9b7",
   "metadata": {},
   "outputs": [],
   "source": [
    "#89"
   ]
  },
  {
   "cell_type": "code",
   "execution_count": 72,
   "id": "40ebf244",
   "metadata": {
    "ExecuteTime": {
     "end_time": "2024-03-04T12:49:34.187964Z",
     "start_time": "2024-03-04T12:49:34.182325Z"
    }
   },
   "outputs": [
    {
     "name": "stdout",
     "output_type": "stream",
     "text": [
      "{'폴로포': 1200, '빵빠레': 1800, '죠스바': 1200, '월드콘': 1500}\n"
     ]
    }
   ],
   "source": [
    "ice = {'메로나': 1000,\n",
    "       '폴로포': 1200,\n",
    "       '빵빠레': 1800,\n",
    "       '죠스바': 1200,\n",
    "       '월드콘': 1500}\n",
    "del ice[\"메로나\"]\n",
    "print(ice)"
   ]
  },
  {
   "cell_type": "code",
   "execution_count": null,
   "id": "a7020722",
   "metadata": {},
   "outputs": [],
   "source": [
    "#90 (딕셔너리에 없는 키를 사용 인덱싱-> 에러)"
   ]
  },
  {
   "cell_type": "code",
   "execution_count": null,
   "id": "f4a1a81d",
   "metadata": {},
   "outputs": [],
   "source": [
    "icecream = {'폴라포': 1200, '빵빠레': 1800, '월드콘': 1500, '메로나': 1000}\n",
    "icecream['누가바']\n",
    "Traceback (most recent call last):\n",
    "  File \"<pyshell#69>\", line 1, in <module>\n",
    "    icecream['누가바']\n",
    "KeyError: '누가바'"
   ]
  },
  {
   "cell_type": "code",
   "execution_count": null,
   "id": "618cb489",
   "metadata": {},
   "outputs": [],
   "source": [
    "# 91(딕셔너리 생성)"
   ]
  },
  {
   "cell_type": "code",
   "execution_count": 73,
   "id": "a2fe9abe",
   "metadata": {
    "ExecuteTime": {
     "end_time": "2024-03-04T12:53:30.927511Z",
     "start_time": "2024-03-04T12:53:30.922217Z"
    }
   },
   "outputs": [
    {
     "name": "stdout",
     "output_type": "stream",
     "text": [
      "{'메로나': [300, 20], '비비빅': [400, 3], '죠스바': [250, 100]}\n"
     ]
    }
   ],
   "source": [
    "inventory = {\"메로나\": [300,20], \"비비빅\": [400,3], \"죠스바\": [250,100]}\n",
    "print(inventory)              "
   ]
  },
  {
   "cell_type": "code",
   "execution_count": null,
   "id": "608b4008",
   "metadata": {},
   "outputs": [],
   "source": [
    "# 92(딕셔너리 인덱싱)"
   ]
  },
  {
   "cell_type": "code",
   "execution_count": 75,
   "id": "65f2495d",
   "metadata": {
    "ExecuteTime": {
     "end_time": "2024-03-04T12:55:19.564550Z",
     "start_time": "2024-03-04T12:55:19.559790Z"
    }
   },
   "outputs": [
    {
     "name": "stdout",
     "output_type": "stream",
     "text": [
      "300 원\n"
     ]
    }
   ],
   "source": [
    "inventory = {\"메로나\": [300,20], \"비비빅\": [400,3], \"죠스바\": [250,100]}\n",
    "print(inventory[\"메로나\"][0], \"원\")"
   ]
  },
  {
   "cell_type": "code",
   "execution_count": null,
   "id": "69ecf985",
   "metadata": {},
   "outputs": [],
   "source": [
    "# 93(딕셔너리 인덱싱)"
   ]
  },
  {
   "cell_type": "code",
   "execution_count": 76,
   "id": "fdfef043",
   "metadata": {
    "ExecuteTime": {
     "end_time": "2024-03-04T12:56:42.758505Z",
     "start_time": "2024-03-04T12:56:42.753112Z"
    }
   },
   "outputs": [
    {
     "name": "stdout",
     "output_type": "stream",
     "text": [
      "20 개\n"
     ]
    }
   ],
   "source": [
    "inventory = {\"메로나\": [300,20], \"비비빅\": [400,3], \"죠스바\": [250,100]}\n",
    "print(inventory[\"메로나\"][1], \"개\")"
   ]
  },
  {
   "cell_type": "code",
   "execution_count": null,
   "id": "e84e9499",
   "metadata": {},
   "outputs": [],
   "source": [
    "# 94(딕셔너리 추가)"
   ]
  },
  {
   "cell_type": "code",
   "execution_count": 77,
   "id": "a2dc5d4c",
   "metadata": {
    "ExecuteTime": {
     "end_time": "2024-03-04T12:57:51.477827Z",
     "start_time": "2024-03-04T12:57:51.472761Z"
    }
   },
   "outputs": [
    {
     "name": "stdout",
     "output_type": "stream",
     "text": [
      "{'메로나': [300, 20], '비비빅': [400, 3], '죠스바': [250, 100], '월드콘': [500, 7]}\n"
     ]
    }
   ],
   "source": [
    "inventory = {\"메로나\": [300,20], \"비비빅\": [400,3], \"죠스바\": [250,100]}\n",
    "inventory[\"월드콘\"] = [500,7]\n",
    "print(inventory)"
   ]
  },
  {
   "cell_type": "code",
   "execution_count": null,
   "id": "82882ca9",
   "metadata": {},
   "outputs": [],
   "source": [
    "# 95(딕셔너리 keys() 메서드 )"
   ]
  },
  {
   "cell_type": "code",
   "execution_count": 78,
   "id": "7b999814",
   "metadata": {
    "ExecuteTime": {
     "end_time": "2024-03-04T12:59:12.221975Z",
     "start_time": "2024-03-04T12:59:12.215961Z"
    }
   },
   "outputs": [
    {
     "name": "stdout",
     "output_type": "stream",
     "text": [
      "['탱크보이', '폴라포', '빵빠레', '월드콘', '메로나']\n"
     ]
    }
   ],
   "source": [
    "icecream = {'탱크보이': 1200, '폴라포': 1200, '빵빠레': 1800, '월드콘': 1500, '메로나': 1000}\n",
    "ice = list(icecream.keys())\n",
    "print(ice)"
   ]
  },
  {
   "cell_type": "code",
   "execution_count": null,
   "id": "567c29e0",
   "metadata": {},
   "outputs": [],
   "source": [
    "# 96(딕셔너리 keys() 메서드 )"
   ]
  },
  {
   "cell_type": "code",
   "execution_count": 80,
   "id": "2213b531",
   "metadata": {
    "ExecuteTime": {
     "end_time": "2024-03-04T12:59:54.708746Z",
     "start_time": "2024-03-04T12:59:54.702908Z"
    }
   },
   "outputs": [
    {
     "name": "stdout",
     "output_type": "stream",
     "text": [
      "[1200, 1200, 1800, 1500, 1000]\n"
     ]
    }
   ],
   "source": [
    "icecream = {'탱크보이': 1200, '폴라포': 1200, '빵빠레': 1800, '월드콘': 1500, '메로나': 1000}\n",
    "price = list(icecream.values())\n",
    "print(price)"
   ]
  },
  {
   "cell_type": "code",
   "execution_count": null,
   "id": "3aeb618e",
   "metadata": {},
   "outputs": [],
   "source": [
    "# 97(딕셔너리 values() 메서드 )"
   ]
  },
  {
   "cell_type": "code",
   "execution_count": 81,
   "id": "327f041f",
   "metadata": {
    "ExecuteTime": {
     "end_time": "2024-03-04T13:01:08.302164Z",
     "start_time": "2024-03-04T13:01:08.296470Z"
    }
   },
   "outputs": [
    {
     "name": "stdout",
     "output_type": "stream",
     "text": [
      "6700\n"
     ]
    }
   ],
   "source": [
    "icecream = {'탱크보이': 1200, '폴라포': 1200, '빵빠레': 1800, '월드콘': 1500, '메로나': 1000}\n",
    "print(sum(icecream.values()))"
   ]
  },
  {
   "cell_type": "code",
   "execution_count": null,
   "id": "c0cfabfc",
   "metadata": {},
   "outputs": [],
   "source": [
    "# 98(딕셔너리 update 메서드)"
   ]
  },
  {
   "cell_type": "code",
   "execution_count": 83,
   "id": "debc85c3",
   "metadata": {
    "ExecuteTime": {
     "end_time": "2024-03-04T13:02:53.150027Z",
     "start_time": "2024-03-04T13:02:53.144338Z"
    }
   },
   "outputs": [
    {
     "name": "stdout",
     "output_type": "stream",
     "text": [
      "{'탱크보이': 1200, '폴라포': 1200, '빵빠레': 1800, '월드콘': 1500, '메로나': 1000, '팥빙수': 2700, '아맛나': 1000}\n"
     ]
    }
   ],
   "source": [
    "icecream = {'탱크보이': 1200, '폴라포': 1200, '빵빠레': 1800, '월드콘': 1500, '메로나': 1000}\n",
    "new_product = {'팥빙수':2700, '아맛나':1000}\n",
    "icecream.update(new_product)\n",
    "print(icecream)"
   ]
  },
  {
   "cell_type": "code",
   "execution_count": null,
   "id": "20b7a606",
   "metadata": {},
   "outputs": [],
   "source": [
    "# 99(zip과 dict)"
   ]
  },
  {
   "cell_type": "code",
   "execution_count": 85,
   "id": "0f820cfa",
   "metadata": {
    "ExecuteTime": {
     "end_time": "2024-03-04T13:03:48.893776Z",
     "start_time": "2024-03-04T13:03:48.888135Z"
    }
   },
   "outputs": [
    {
     "name": "stdout",
     "output_type": "stream",
     "text": [
      "{'apple': 300, 'pear': 250, 'peach': 400}\n"
     ]
    }
   ],
   "source": [
    "keys = (\"apple\", \"pear\", \"peach\")\n",
    "vals = (300, 250, 400)\n",
    "result = dict(zip(keys, vals))\n",
    "print(result)"
   ]
  },
  {
   "cell_type": "code",
   "execution_count": null,
   "id": "3847e795",
   "metadata": {},
   "outputs": [],
   "source": [
    "# 100(zip과 dict)"
   ]
  },
  {
   "cell_type": "code",
   "execution_count": 87,
   "id": "bfae7739",
   "metadata": {
    "ExecuteTime": {
     "end_time": "2024-03-04T13:05:38.943133Z",
     "start_time": "2024-03-04T13:05:38.937237Z"
    },
    "scrolled": true
   },
   "outputs": [
    {
     "name": "stdout",
     "output_type": "stream",
     "text": [
      "{'09/05': 10500, '09/06': 10300, '09/07': 10100, '09/08': 10800, '09/09': 11000}\n"
     ]
    }
   ],
   "source": [
    "date = ['09/05', '09/06', '09/07', '09/08', '09/09']\n",
    "close_price = [10500, 10300, 10100, 10800, 11000]\n",
    "close_table = dict(zip(date, close_price))\n",
    "print(close_table)"
   ]
  },
  {
   "cell_type": "markdown",
   "id": "488821cf",
   "metadata": {},
   "source": [
    "# 파이썬 분기문 "
   ]
  },
  {
   "cell_type": "code",
   "execution_count": null,
   "id": "8051492d",
   "metadata": {},
   "outputs": [],
   "source": [
    "# 101 파이썬에서 True 혹은 False를 갖는 데이터 타입은 무엇인가?"
   ]
  },
  {
   "cell_type": "code",
   "execution_count": null,
   "id": "fb3a141c",
   "metadata": {},
   "outputs": [],
   "source": [
    "`bool` 타입"
   ]
  },
  {
   "cell_type": "code",
   "execution_count": null,
   "id": "56c5de9e",
   "metadata": {},
   "outputs": [],
   "source": [
    "# 102"
   ]
  },
  {
   "cell_type": "code",
   "execution_count": 1,
   "id": "858fa104",
   "metadata": {
    "ExecuteTime": {
     "end_time": "2024-03-05T12:12:01.209877Z",
     "start_time": "2024-03-05T12:12:01.205478Z"
    }
   },
   "outputs": [
    {
     "name": "stdout",
     "output_type": "stream",
     "text": [
      "False\n"
     ]
    }
   ],
   "source": [
    "print(3 == 5)"
   ]
  },
  {
   "cell_type": "code",
   "execution_count": null,
   "id": "2050fc78",
   "metadata": {},
   "outputs": [],
   "source": [
    "# 103"
   ]
  },
  {
   "cell_type": "code",
   "execution_count": 2,
   "id": "8f36b57a",
   "metadata": {
    "ExecuteTime": {
     "end_time": "2024-03-05T12:12:21.624866Z",
     "start_time": "2024-03-05T12:12:21.620407Z"
    }
   },
   "outputs": [
    {
     "name": "stdout",
     "output_type": "stream",
     "text": [
      "True\n"
     ]
    }
   ],
   "source": [
    "print(3 < 5)"
   ]
  },
  {
   "cell_type": "code",
   "execution_count": null,
   "id": "b3470656",
   "metadata": {},
   "outputs": [],
   "source": [
    "# 104"
   ]
  },
  {
   "cell_type": "code",
   "execution_count": 3,
   "id": "47ed64e2",
   "metadata": {
    "ExecuteTime": {
     "end_time": "2024-03-05T12:13:32.825063Z",
     "start_time": "2024-03-05T12:13:32.820313Z"
    }
   },
   "outputs": [
    {
     "name": "stdout",
     "output_type": "stream",
     "text": [
      "True\n"
     ]
    }
   ],
   "source": [
    "x = 4\n",
    "print(1 < x < 5)"
   ]
  },
  {
   "cell_type": "code",
   "execution_count": null,
   "id": "569874f1",
   "metadata": {},
   "outputs": [],
   "source": [
    "# 105"
   ]
  },
  {
   "cell_type": "code",
   "execution_count": 4,
   "id": "ea54c09c",
   "metadata": {
    "ExecuteTime": {
     "end_time": "2024-03-05T12:13:59.952640Z",
     "start_time": "2024-03-05T12:13:59.947576Z"
    }
   },
   "outputs": [
    {
     "name": "stdout",
     "output_type": "stream",
     "text": [
      "True\n"
     ]
    }
   ],
   "source": [
    "print ((3 == 3) and (4 != 3))"
   ]
  },
  {
   "cell_type": "code",
   "execution_count": null,
   "id": "3389de43",
   "metadata": {},
   "outputs": [],
   "source": [
    "# 106 (지원하지 않는 연산자)"
   ]
  },
  {
   "cell_type": "code",
   "execution_count": 5,
   "id": "749c075c",
   "metadata": {
    "ExecuteTime": {
     "end_time": "2024-03-05T12:16:42.289590Z",
     "start_time": "2024-03-05T12:16:42.276012Z"
    }
   },
   "outputs": [
    {
     "ename": "SyntaxError",
     "evalue": "expression cannot contain assignment, perhaps you meant \"==\"? (3612698823.py, line 1)",
     "output_type": "error",
     "traceback": [
      "\u001b[1;36m  Cell \u001b[1;32mIn[5], line 1\u001b[1;36m\u001b[0m\n\u001b[1;33m    print(3 => 4)\u001b[0m\n\u001b[1;37m          ^\u001b[0m\n\u001b[1;31mSyntaxError\u001b[0m\u001b[1;31m:\u001b[0m expression cannot contain assignment, perhaps you meant \"==\"?\n"
     ]
    }
   ],
   "source": [
    "print(3 => 4)"
   ]
  },
  {
   "cell_type": "code",
   "execution_count": null,
   "id": "b2934dd8",
   "metadata": {},
   "outputs": [],
   "source": [
    "# 107"
   ]
  },
  {
   "cell_type": "code",
   "execution_count": 6,
   "id": "d1d3f77f",
   "metadata": {
    "ExecuteTime": {
     "end_time": "2024-03-05T12:17:13.776905Z",
     "start_time": "2024-03-05T12:17:13.772659Z"
    }
   },
   "outputs": [],
   "source": [
    "if 4 < 3:\n",
    "    print(\"Hello World\")"
   ]
  },
  {
   "cell_type": "code",
   "execution_count": null,
   "id": "6de18b80",
   "metadata": {},
   "outputs": [],
   "source": [
    "# 108"
   ]
  },
  {
   "cell_type": "code",
   "execution_count": 7,
   "id": "3fcf5f4e",
   "metadata": {
    "ExecuteTime": {
     "end_time": "2024-03-05T12:17:36.288933Z",
     "start_time": "2024-03-05T12:17:36.284024Z"
    }
   },
   "outputs": [
    {
     "name": "stdout",
     "output_type": "stream",
     "text": [
      "Hi, there.\n"
     ]
    }
   ],
   "source": [
    "if 4 < 3:\n",
    "    print(\"Hello World.\")\n",
    "else:\n",
    "    print(\"Hi, there.\")"
   ]
  },
  {
   "cell_type": "code",
   "execution_count": null,
   "id": "8b3f0a05",
   "metadata": {},
   "outputs": [],
   "source": [
    "# 109"
   ]
  },
  {
   "cell_type": "code",
   "execution_count": 8,
   "id": "7684dd11",
   "metadata": {
    "ExecuteTime": {
     "end_time": "2024-03-05T12:18:25.415787Z",
     "start_time": "2024-03-05T12:18:25.411268Z"
    }
   },
   "outputs": [
    {
     "name": "stdout",
     "output_type": "stream",
     "text": [
      "1\n",
      "2\n",
      "4\n"
     ]
    }
   ],
   "source": [
    "if True :\n",
    "    print (\"1\")\n",
    "    print (\"2\")\n",
    "else :\n",
    "    print(\"3\")\n",
    "print(\"4\")"
   ]
  },
  {
   "cell_type": "code",
   "execution_count": null,
   "id": "dac17b2f",
   "metadata": {},
   "outputs": [],
   "source": [
    "# 110"
   ]
  },
  {
   "cell_type": "code",
   "execution_count": 9,
   "id": "9a924902",
   "metadata": {
    "ExecuteTime": {
     "end_time": "2024-03-05T12:19:06.530578Z",
     "start_time": "2024-03-05T12:19:06.524509Z"
    }
   },
   "outputs": [
    {
     "name": "stdout",
     "output_type": "stream",
     "text": [
      "3\n",
      "5\n"
     ]
    }
   ],
   "source": [
    "if True :\n",
    "    if False:\n",
    "        print(\"1\")\n",
    "        print(\"2\")\n",
    "    else:\n",
    "        print(\"3\")\n",
    "else :\n",
    "    print(\"4\")\n",
    "print(\"5\")"
   ]
  },
  {
   "cell_type": "code",
   "execution_count": null,
   "id": "cf14a879",
   "metadata": {},
   "outputs": [],
   "source": [
    "# 111"
   ]
  },
  {
   "cell_type": "code",
   "execution_count": 10,
   "id": "bac57973",
   "metadata": {
    "ExecuteTime": {
     "end_time": "2024-03-05T12:30:22.290816Z",
     "start_time": "2024-03-05T12:30:10.018956Z"
    }
   },
   "outputs": [
    {
     "name": "stdout",
     "output_type": "stream",
     "text": [
      "입력:안녕하세요\n",
      "안녕하세요안녕하세요\n"
     ]
    }
   ],
   "source": [
    "user = input(\"입력:\")\n",
    "print(user * 2)"
   ]
  },
  {
   "cell_type": "code",
   "execution_count": null,
   "id": "572f0f08",
   "metadata": {},
   "outputs": [],
   "source": [
    "# 112"
   ]
  },
  {
   "cell_type": "code",
   "execution_count": 11,
   "id": "a4e3d5d4",
   "metadata": {
    "ExecuteTime": {
     "end_time": "2024-03-05T12:31:29.029343Z",
     "start_time": "2024-03-05T12:31:26.148875Z"
    }
   },
   "outputs": [
    {
     "name": "stdout",
     "output_type": "stream",
     "text": [
      "숫자를 입력하세요: 30\n",
      "40\n"
     ]
    }
   ],
   "source": [
    "user = input(\"숫자를 입력하세요: \")\n",
    "print(10 + int(user))"
   ]
  },
  {
   "cell_type": "code",
   "execution_count": null,
   "id": "38fa1a0d",
   "metadata": {},
   "outputs": [],
   "source": [
    "# 113"
   ]
  },
  {
   "cell_type": "code",
   "execution_count": 12,
   "id": "31fd871d",
   "metadata": {
    "ExecuteTime": {
     "end_time": "2024-03-05T12:33:05.420781Z",
     "start_time": "2024-03-05T12:33:01.956147Z"
    }
   },
   "outputs": [
    {
     "name": "stdout",
     "output_type": "stream",
     "text": [
      "30\n",
      "짝수\n"
     ]
    }
   ],
   "source": [
    "user = input(\"\")\n",
    "if int(user) %2 == 0:\n",
    "    print(\"짝수\")\n",
    "else:\n",
    "    print(\"홀수\")"
   ]
  },
  {
   "cell_type": "code",
   "execution_count": null,
   "id": "75e2695e",
   "metadata": {},
   "outputs": [],
   "source": [
    "# 114"
   ]
  },
  {
   "cell_type": "code",
   "execution_count": 13,
   "id": "2063a3f6",
   "metadata": {
    "ExecuteTime": {
     "end_time": "2024-03-05T12:34:39.541102Z",
     "start_time": "2024-03-05T12:34:34.630122Z"
    },
    "scrolled": true
   },
   "outputs": [
    {
     "name": "stdout",
     "output_type": "stream",
     "text": [
      "입력값:200\n",
      "220\n"
     ]
    }
   ],
   "source": [
    "user = input(\"입력값:\")\n",
    "num = 20 + int(user)\n",
    "if num > 255:\n",
    "    print(255)\n",
    "else:\n",
    "    print(num)"
   ]
  },
  {
   "cell_type": "code",
   "execution_count": 14,
   "id": "34f660f8",
   "metadata": {
    "ExecuteTime": {
     "end_time": "2024-03-05T12:35:08.693256Z",
     "start_time": "2024-03-05T12:35:05.532780Z"
    }
   },
   "outputs": [
    {
     "name": "stdout",
     "output_type": "stream",
     "text": [
      "입력값:240\n",
      "255\n"
     ]
    }
   ],
   "source": [
    "user = input(\"입력값:\")\n",
    "num = 20 + int(user)\n",
    "if num > 255:\n",
    "    print(255)\n",
    "else:\n",
    "    print(num)"
   ]
  },
  {
   "cell_type": "code",
   "execution_count": null,
   "id": "717a381a",
   "metadata": {},
   "outputs": [],
   "source": [
    "# 115"
   ]
  },
  {
   "cell_type": "code",
   "execution_count": 15,
   "id": "fbf8fc6f",
   "metadata": {
    "ExecuteTime": {
     "end_time": "2024-03-05T12:37:52.349140Z",
     "start_time": "2024-03-05T12:37:49.421484Z"
    },
    "scrolled": false
   },
   "outputs": [
    {
     "name": "stdout",
     "output_type": "stream",
     "text": [
      "입력값:200\n",
      "180\n"
     ]
    }
   ],
   "source": [
    "user = input(\"입력값:\")\n",
    "num = int(user) - 20\n",
    "if num > 255:\n",
    "    print(255)\n",
    "elif num < 0:\n",
    "    print(0)\n",
    "else:\n",
    "    print(num)"
   ]
  },
  {
   "cell_type": "code",
   "execution_count": 16,
   "id": "63805528",
   "metadata": {
    "ExecuteTime": {
     "end_time": "2024-03-05T12:38:08.941899Z",
     "start_time": "2024-03-05T12:38:06.029765Z"
    }
   },
   "outputs": [
    {
     "name": "stdout",
     "output_type": "stream",
     "text": [
      "입력값:15\n",
      "0\n"
     ]
    }
   ],
   "source": [
    "user = input(\"입력값:\")\n",
    "num = int(user) - 20\n",
    "if num > 255:\n",
    "    print(255)\n",
    "elif num < 0:\n",
    "    print(0)\n",
    "else:\n",
    "    print(num)"
   ]
  },
  {
   "cell_type": "code",
   "execution_count": null,
   "id": "c8b3aa10",
   "metadata": {},
   "outputs": [],
   "source": [
    "# 116"
   ]
  },
  {
   "cell_type": "code",
   "execution_count": 18,
   "id": "0873724e",
   "metadata": {
    "ExecuteTime": {
     "end_time": "2024-03-05T12:40:19.397125Z",
     "start_time": "2024-03-05T12:40:15.683854Z"
    }
   },
   "outputs": [
    {
     "name": "stdout",
     "output_type": "stream",
     "text": [
      "현재시간: 02:00\n",
      "정각 입니다.\n"
     ]
    }
   ],
   "source": [
    "time = input(\"현재시간: \")\n",
    "if time[-2:] == \"00\":\n",
    "    print(\"정각 입니다.\")\n",
    "else:\n",
    "    print(\"정각이 아닙니다.\")"
   ]
  },
  {
   "cell_type": "code",
   "execution_count": 19,
   "id": "54207e7f",
   "metadata": {
    "ExecuteTime": {
     "end_time": "2024-03-05T12:40:29.798595Z",
     "start_time": "2024-03-05T12:40:25.732671Z"
    }
   },
   "outputs": [
    {
     "name": "stdout",
     "output_type": "stream",
     "text": [
      "현재시간: 03:10\n",
      "정각이 아닙니다.\n"
     ]
    }
   ],
   "source": [
    "time = input(\"현재시간: \")\n",
    "if time[-2:] == \"00\":\n",
    "    print(\"정각 입니다.\")\n",
    "else:\n",
    "    print(\"정각이 아닙니다.\")"
   ]
  },
  {
   "cell_type": "code",
   "execution_count": null,
   "id": "1fb27345",
   "metadata": {},
   "outputs": [],
   "source": [
    "# 117"
   ]
  },
  {
   "cell_type": "code",
   "execution_count": 21,
   "id": "7690b5a5",
   "metadata": {
    "ExecuteTime": {
     "end_time": "2024-03-05T12:43:18.798071Z",
     "start_time": "2024-03-05T12:43:13.227760Z"
    },
    "scrolled": true
   },
   "outputs": [
    {
     "name": "stdout",
     "output_type": "stream",
     "text": [
      "좋아하는 과일은?사과\n",
      "정답입니다.\n"
     ]
    }
   ],
   "source": [
    "fruit = [\"사과\", \"포도\", \"홍시\"]\n",
    "user = input(\"좋아하는 과일은?\")\n",
    "if user in fruit:\n",
    "    print(\"정답입니다.\")\n",
    "else:\n",
    "    print(\"오답입니다.\")"
   ]
  },
  {
   "cell_type": "code",
   "execution_count": 22,
   "id": "eeb31e18",
   "metadata": {
    "ExecuteTime": {
     "end_time": "2024-03-05T12:43:31.168834Z",
     "start_time": "2024-03-05T12:43:28.158045Z"
    }
   },
   "outputs": [
    {
     "name": "stdout",
     "output_type": "stream",
     "text": [
      "좋아하는 과일은?수박\n",
      "오답입니다.\n"
     ]
    }
   ],
   "source": [
    "fruit = [\"사과\", \"포도\", \"홍시\"]\n",
    "user = input(\"좋아하는 과일은?\")\n",
    "if user in fruit:\n",
    "    print(\"정답입니다.\")\n",
    "else:\n",
    "    print(\"오답입니다.\")"
   ]
  },
  {
   "cell_type": "code",
   "execution_count": null,
   "id": "ff8734e4",
   "metadata": {},
   "outputs": [],
   "source": [
    "# 118"
   ]
  },
  {
   "cell_type": "code",
   "execution_count": 26,
   "id": "bb28145b",
   "metadata": {
    "ExecuteTime": {
     "end_time": "2024-03-05T12:46:57.765784Z",
     "start_time": "2024-03-05T12:46:52.413306Z"
    }
   },
   "outputs": [
    {
     "name": "stdout",
     "output_type": "stream",
     "text": [
      "종목명 Microsoft\n",
      "투자 경고 종목입니다.\n"
     ]
    }
   ],
   "source": [
    "warn_investment_list = [\"Microsoft\", \"Google\", \"Naver\", \"Kakao\", \"SAMSUNG\", \"LG\"]\n",
    "종목 = input(\"종목명 \")\n",
    "if 종목 in warn_investment_list:\n",
    "    print(\"투자 경고 종목입니다.\")\n",
    "else:\n",
    "    print(\"투자 경고 종목이 아닙니다.\")"
   ]
  },
  {
   "cell_type": "code",
   "execution_count": null,
   "id": "09eccac7",
   "metadata": {},
   "outputs": [],
   "source": [
    "# 119"
   ]
  },
  {
   "cell_type": "code",
   "execution_count": 27,
   "id": "42683aa3",
   "metadata": {
    "ExecuteTime": {
     "end_time": "2024-03-05T12:48:36.357177Z",
     "start_time": "2024-03-05T12:48:33.413272Z"
    },
    "scrolled": true
   },
   "outputs": [
    {
     "name": "stdout",
     "output_type": "stream",
     "text": [
      "제가좋아하는계절은: 봄\n",
      "정답입니다.\n"
     ]
    }
   ],
   "source": [
    "fruit = {\"봄\" : \"딸기\", \"여름\" : \"토마토\", \"가을\" : \"사과\"}\n",
    "user = input(\"제가좋아하는계절은: \")\n",
    "if user in fruit:\n",
    "    print(\"정답입니다.\")\n",
    "else:\n",
    "    print(\"오답입니다.\") "
   ]
  },
  {
   "cell_type": "code",
   "execution_count": 29,
   "id": "c76e690d",
   "metadata": {
    "ExecuteTime": {
     "end_time": "2024-03-05T12:49:04.597707Z",
     "start_time": "2024-03-05T12:49:03.004794Z"
    }
   },
   "outputs": [
    {
     "name": "stdout",
     "output_type": "stream",
     "text": [
      "제가좋아하는계절은: 겨울\n",
      "오답입니다.\n"
     ]
    }
   ],
   "source": [
    "fruit = {\"봄\" : \"딸기\", \"여름\" : \"토마토\", \"가을\" : \"사과\"}\n",
    "user = input(\"제가좋아하는계절은: \")\n",
    "if user in fruit:\n",
    "    print(\"정답입니다.\")\n",
    "else:\n",
    "    print(\"오답입니다.\") "
   ]
  },
  {
   "cell_type": "code",
   "execution_count": null,
   "id": "35fb2b07",
   "metadata": {},
   "outputs": [],
   "source": [
    "# 120"
   ]
  },
  {
   "cell_type": "code",
   "execution_count": 32,
   "id": "54039de2",
   "metadata": {
    "ExecuteTime": {
     "end_time": "2024-03-05T12:51:20.382591Z",
     "start_time": "2024-03-05T12:51:17.980894Z"
    },
    "scrolled": true
   },
   "outputs": [
    {
     "name": "stdout",
     "output_type": "stream",
     "text": [
      "좋아하는과일은?: 딸기\n",
      "정답입니다.\n"
     ]
    }
   ],
   "source": [
    "fruit = {\"봄\" : \"딸기\", \"여름\" : \"토마토\", \"가을\" : \"사과\"}\n",
    "user = input(\"좋아하는과일은?: \")\n",
    "if user in fruit.values():\n",
    "    print(\"정답입니다.\")\n",
    "else:\n",
    "    print(\"오답입니다.\")"
   ]
  },
  {
   "cell_type": "code",
   "execution_count": null,
   "id": "0b04f123",
   "metadata": {},
   "outputs": [],
   "source": [
    "# 121"
   ]
  },
  {
   "cell_type": "code",
   "execution_count": 33,
   "id": "1d1cc787",
   "metadata": {
    "ExecuteTime": {
     "end_time": "2024-03-05T12:59:09.198363Z",
     "start_time": "2024-03-05T12:59:05.543406Z"
    }
   },
   "outputs": [
    {
     "name": "stdout",
     "output_type": "stream",
     "text": [
      "a\n",
      "A\n"
     ]
    }
   ],
   "source": [
    "user = input(\"\")\n",
    "if user.islower():\n",
    "    print(user.upper())\n",
    "else:\n",
    "    print(user.lower())"
   ]
  },
  {
   "cell_type": "code",
   "execution_count": null,
   "id": "1483589d",
   "metadata": {},
   "outputs": [],
   "source": [
    "# 122"
   ]
  },
  {
   "cell_type": "code",
   "execution_count": 34,
   "id": "a0503316",
   "metadata": {
    "ExecuteTime": {
     "end_time": "2024-03-05T13:00:46.214743Z",
     "start_time": "2024-03-05T13:00:40.382071Z"
    }
   },
   "outputs": [
    {
     "name": "stdout",
     "output_type": "stream",
     "text": [
      "score: 90\n",
      "grade is A\n"
     ]
    }
   ],
   "source": [
    "score = input(\"score: \")\n",
    "score = int(score)\n",
    "if 81 <= score <= 100:\n",
    "    print(\"grade is A\")\n",
    "elif 61 <= score <= 80:\n",
    "    print(\"grade is B\")\n",
    "elif 41 <= score <= 60:\n",
    "    print(\"grade is C\")\n",
    "elif 21 <= score <= 40:\n",
    "    print(\"grade is D\")\n",
    "else:\n",
    "    print(\"grade is E\")    "
   ]
  },
  {
   "cell_type": "code",
   "execution_count": null,
   "id": "47d27c41",
   "metadata": {},
   "outputs": [],
   "source": [
    "# 123"
   ]
  },
  {
   "cell_type": "code",
   "execution_count": null,
   "id": "a6a816f7",
   "metadata": {
    "ExecuteTime": {
     "start_time": "2024-03-05T15:03:35.097Z"
    }
   },
   "outputs": [],
   "source": [
    "환율 = {\"달러\": 1167, \n",
    "        \"엔\": 1.096, \n",
    "        \"유로\": 1268, \n",
    "        \"위안\": 171}\n",
    "user = input(\"입력: \")\n",
    "num, currency = user.split()\n",
    "print(float(num) * 환율[currency], \"원\")"
   ]
  },
  {
   "cell_type": "code",
   "execution_count": null,
   "id": "920282a5",
   "metadata": {
    "ExecuteTime": {
     "start_time": "2024-03-05T15:04:51.724Z"
    }
   },
   "outputs": [],
   "source": [
    "money =str(input())\n",
    "\n",
    "if money[-2:] == '달러':\n",
    "    print(int(money[:-3])* 1167, '원')"
   ]
  },
  {
   "cell_type": "code",
   "execution_count": null,
   "id": "fcdcd71d",
   "metadata": {},
   "outputs": [],
   "source": [
    "# 124"
   ]
  },
  {
   "cell_type": "code",
   "execution_count": 40,
   "id": "75419e09",
   "metadata": {
    "ExecuteTime": {
     "end_time": "2024-03-05T13:04:58.454303Z",
     "start_time": "2024-03-05T13:04:45.423543Z"
    }
   },
   "outputs": [
    {
     "name": "stdout",
     "output_type": "stream",
     "text": [
      "input number1: 10\n",
      "input number2: 9\n",
      "input number3: 20\n",
      "20\n"
     ]
    }
   ],
   "source": [
    "num1 = input(\"input number1: \")\n",
    "num2 = input(\"input number2: \")\n",
    "num3 = input(\"input number3: \")\n",
    "num1 = int(num1)\n",
    "num2 = int(num2)\n",
    "num3 = int(num3)\n",
    "\n",
    "if num1 >= num2 and num1 >= num3:\n",
    "    print(num1)\n",
    "elif num2 >= num1 and num2 >= num3:\n",
    "    print(num2)\n",
    "else:\n",
    "    print(num3)"
   ]
  },
  {
   "cell_type": "code",
   "execution_count": null,
   "id": "3fe36657",
   "metadata": {},
   "outputs": [],
   "source": [
    "# 125"
   ]
  },
  {
   "cell_type": "code",
   "execution_count": 41,
   "id": "f3f91f70",
   "metadata": {
    "ExecuteTime": {
     "end_time": "2024-03-05T13:08:01.190794Z",
     "start_time": "2024-03-05T13:07:53.678897Z"
    }
   },
   "outputs": [
    {
     "name": "stdout",
     "output_type": "stream",
     "text": [
      "휴대전화 번호 입력: 011-345-1922\n",
      "당신은SKT 사용자입니다.\n"
     ]
    }
   ],
   "source": [
    "number = input(\"휴대전화 번호 입력: \")\n",
    "num = number.split(\"-\")[0]\n",
    "if num == \"011\":\n",
    "    com = \"SKT\"\n",
    "elif num == \"016\":\n",
    "    com = \"KT\"\n",
    "elif num == \"019\":\n",
    "    com = \"LGU\"\n",
    "else:\n",
    "    com = \"알수없음\"\n",
    "print(f\"당신은{com} 사용자입니다.\")    "
   ]
  },
  {
   "cell_type": "code",
   "execution_count": null,
   "id": "687dff82",
   "metadata": {},
   "outputs": [],
   "source": [
    "# 126"
   ]
  },
  {
   "cell_type": "code",
   "execution_count": 42,
   "id": "aedda724",
   "metadata": {
    "ExecuteTime": {
     "end_time": "2024-03-05T13:50:23.728843Z",
     "start_time": "2024-03-05T13:50:19.680172Z"
    },
    "scrolled": true
   },
   "outputs": [
    {
     "name": "stdout",
     "output_type": "stream",
     "text": [
      "우편번호: 01400\n",
      "도봉구\n"
     ]
    }
   ],
   "source": [
    "우편번호 = input(\"우편번호: \")\n",
    "우편번호 = 우편번호[:3]\n",
    "if 우편번호 in [\"010\", \"011\", \"012\"]:\n",
    "    print(\"강북구\")\n",
    "elif 우편번호 in [\"014\", \"015\", \"016\"]:\n",
    "    print(\"도봉구\")\n",
    "else:\n",
    "    print(\"노원구\")"
   ]
  },
  {
   "cell_type": "code",
   "execution_count": null,
   "id": "6dff9e37",
   "metadata": {},
   "outputs": [],
   "source": [
    "# 127"
   ]
  },
  {
   "cell_type": "code",
   "execution_count": 43,
   "id": "c6710417",
   "metadata": {
    "ExecuteTime": {
     "end_time": "2024-03-05T13:52:22.600522Z",
     "start_time": "2024-03-05T13:52:14.647388Z"
    }
   },
   "outputs": [
    {
     "name": "stdout",
     "output_type": "stream",
     "text": [
      "주민등록번호: 821010-1635210\n",
      "남자\n"
     ]
    }
   ],
   "source": [
    "주민번호 = input(\"주민등록번호: \")\n",
    "주민번호 = 주민번호.split(\"-\")[1]\n",
    "if 주민번호[0] == \"1\" or 주민번호[0] == \"3\":\n",
    "    print(\"남자\")\n",
    "else:\n",
    "    print(\"여자\")"
   ]
  },
  {
   "cell_type": "code",
   "execution_count": null,
   "id": "68f547e2",
   "metadata": {},
   "outputs": [],
   "source": [
    "# 128"
   ]
  },
  {
   "cell_type": "code",
   "execution_count": 44,
   "id": "7b638f7e",
   "metadata": {
    "ExecuteTime": {
     "end_time": "2024-03-05T13:55:46.072565Z",
     "start_time": "2024-03-05T13:55:40.127823Z"
    },
    "scrolled": true
   },
   "outputs": [
    {
     "name": "stdout",
     "output_type": "stream",
     "text": [
      "주민등록번호: 821010-1635210\n",
      "서울이 아닙니다.\n"
     ]
    }
   ],
   "source": [
    "주민번호 = input(\"주민등록번호: \")\n",
    "뒷자리 = 주민번호.split(\"-\")[1]\n",
    "if 0 <= int(뒷자리[1:3]) <= 8:\n",
    "    print(\"서울입니다.\")\n",
    "else:\n",
    "    print(\"서울이 아닙니다.\")"
   ]
  },
  {
   "cell_type": "code",
   "execution_count": 45,
   "id": "47682e99",
   "metadata": {
    "ExecuteTime": {
     "end_time": "2024-03-05T13:55:58.629316Z",
     "start_time": "2024-03-05T13:55:54.303921Z"
    }
   },
   "outputs": [
    {
     "name": "stdout",
     "output_type": "stream",
     "text": [
      "주민등록번호: 861010-1015210\n",
      "서울입니다.\n"
     ]
    }
   ],
   "source": [
    "주민번호 = input(\"주민등록번호: \")\n",
    "뒷자리 = 주민번호.split(\"-\")[1]\n",
    "if 0 <= int(뒷자리[1:3]) <= 8:\n",
    "    print(\"서울입니다.\")\n",
    "else:\n",
    "    print(\"서울이 아닙니다.\")"
   ]
  },
  {
   "cell_type": "code",
   "execution_count": null,
   "id": "cf1547e3",
   "metadata": {},
   "outputs": [],
   "source": [
    "# 129"
   ]
  },
  {
   "cell_type": "code",
   "execution_count": 46,
   "id": "67da2a46",
   "metadata": {
    "ExecuteTime": {
     "end_time": "2024-03-05T13:57:17.616465Z",
     "start_time": "2024-03-05T13:57:12.807064Z"
    },
    "scrolled": true
   },
   "outputs": [
    {
     "name": "stdout",
     "output_type": "stream",
     "text": [
      "주민등록번호: 821010-1635210\n",
      "유효하지 않은 주민등록번호입니다.\n"
     ]
    }
   ],
   "source": [
    "num = input(\"주민등록번호: \")\n",
    "계산1 = int(num[0]) * 2 + int(num[1]) * 3 + int(num[2]) * 4 + int(num[3]) * 5 + int(num[4]) * 6 + \\\n",
    "        int(num[5]) * 7 + int(num[7]) * 8 + int(num[8]) * 9 + int(num[9]) * 2 + int(num[10])* 3 + \\\n",
    "        int(num[11])* 4 + int(num[12]) * 5\n",
    "계산2 = 11 - (계산1 % 11)\n",
    "계산3 = str(계산2)\n",
    "\n",
    "if num[-1] == 계산3[-1]:\n",
    "    print(\"유효한 주민등록번호입니다.\")\n",
    "else:\n",
    "    print(\"유효하지 않은 주민등록번호입니다.\")"
   ]
  },
  {
   "cell_type": "code",
   "execution_count": 47,
   "id": "210a73cb",
   "metadata": {
    "ExecuteTime": {
     "end_time": "2024-03-05T13:57:35.528737Z",
     "start_time": "2024-03-05T13:57:30.976328Z"
    }
   },
   "outputs": [
    {
     "name": "stdout",
     "output_type": "stream",
     "text": [
      "주민등록번호: 8210101635210\n",
      "유효하지 않은 주민등록번호입니다.\n"
     ]
    }
   ],
   "source": [
    "num = input(\"주민등록번호: \")\n",
    "계산1 = int(num[0]) * 2 + int(num[1]) * 3 + int(num[2]) * 4 + int(num[3]) * 5 + int(num[4]) * 6 + \\\n",
    "        int(num[5]) * 7 + int(num[7]) * 8 + int(num[8]) * 9 + int(num[9]) * 2 + int(num[10])* 3 + \\\n",
    "        int(num[11])* 4 + int(num[12]) * 5\n",
    "계산2 = 11 - (계산1 % 11)\n",
    "계산3 = str(계산2)\n",
    "\n",
    "if num[-1] == 계산3[-1]:\n",
    "    print(\"유효한 주민등록번호입니다.\")\n",
    "else:\n",
    "    print(\"유효하지 않은 주민등록번호입니다.\")"
   ]
  },
  {
   "cell_type": "code",
   "execution_count": null,
   "id": "b1e933cc",
   "metadata": {},
   "outputs": [],
   "source": [
    "# 130"
   ]
  },
  {
   "cell_type": "code",
   "execution_count": 48,
   "id": "16d080ce",
   "metadata": {
    "ExecuteTime": {
     "end_time": "2024-03-05T14:00:06.206272Z",
     "start_time": "2024-03-05T14:00:05.521083Z"
    }
   },
   "outputs": [
    {
     "name": "stdout",
     "output_type": "stream",
     "text": [
      "상승장\n"
     ]
    }
   ],
   "source": [
    "import requests\n",
    "btc = requests.get(\"https://api.bithumb.com/public/ticker/\").json()['data']\n",
    "\n",
    "변동폭 = float(btc['max_price']) - float(btc['min_price'])\n",
    "시가 = float(btc['opening_price'])\n",
    "최고가 = float(btc['max_price'])\n",
    "\n",
    "if (시가+변동폭) > 최고가:\n",
    "    print(\"상승장\")\n",
    "else:\n",
    "    print(\"하락장\")"
   ]
  },
  {
   "cell_type": "markdown",
   "id": "e394561b",
   "metadata": {},
   "source": [
    "# 파이썬 반복문"
   ]
  },
  {
   "cell_type": "code",
   "execution_count": null,
   "id": "6d664d96",
   "metadata": {},
   "outputs": [],
   "source": [
    "# 131 (for)"
   ]
  },
  {
   "cell_type": "code",
   "execution_count": 49,
   "id": "5a858078",
   "metadata": {
    "ExecuteTime": {
     "end_time": "2024-03-05T14:03:31.110298Z",
     "start_time": "2024-03-05T14:03:31.105166Z"
    }
   },
   "outputs": [
    {
     "name": "stdout",
     "output_type": "stream",
     "text": [
      "사과\n",
      "귤\n",
      "수박\n"
     ]
    }
   ],
   "source": [
    "과일 = [\"사과\", \"귤\", \"수박\"]\n",
    "for 변수 in 과일:\n",
    "    print(변수)"
   ]
  },
  {
   "cell_type": "code",
   "execution_count": null,
   "id": "2ed5c155",
   "metadata": {},
   "outputs": [],
   "source": [
    "# 132"
   ]
  },
  {
   "cell_type": "code",
   "execution_count": 50,
   "id": "f00600d8",
   "metadata": {
    "ExecuteTime": {
     "end_time": "2024-03-05T14:03:49.557359Z",
     "start_time": "2024-03-05T14:03:49.553150Z"
    }
   },
   "outputs": [
    {
     "name": "stdout",
     "output_type": "stream",
     "text": [
      "#####\n",
      "#####\n",
      "#####\n"
     ]
    }
   ],
   "source": [
    "과일 = [\"사과\", \"귤\", \"수박\"]\n",
    "for 변수 in 과일:\n",
    "  print(\"#####\")"
   ]
  },
  {
   "cell_type": "code",
   "execution_count": null,
   "id": "c63fd221",
   "metadata": {},
   "outputs": [],
   "source": [
    "# 133"
   ]
  },
  {
   "cell_type": "code",
   "execution_count": 51,
   "id": "65cae3dc",
   "metadata": {
    "ExecuteTime": {
     "end_time": "2024-03-05T14:04:26.686496Z",
     "start_time": "2024-03-05T14:04:26.683188Z"
    },
    "scrolled": true
   },
   "outputs": [
    {
     "name": "stdout",
     "output_type": "stream",
     "text": [
      "A\n",
      "B\n",
      "C\n"
     ]
    }
   ],
   "source": [
    "for 변수 in [\"A\", \"B\", \"C\"]:\n",
    "  print(변수)"
   ]
  },
  {
   "cell_type": "code",
   "execution_count": 52,
   "id": "276ce4b7",
   "metadata": {
    "ExecuteTime": {
     "end_time": "2024-03-05T14:05:14.038535Z",
     "start_time": "2024-03-05T14:05:14.034481Z"
    },
    "scrolled": true
   },
   "outputs": [
    {
     "name": "stdout",
     "output_type": "stream",
     "text": [
      "A\n",
      "B\n",
      "C\n"
     ]
    }
   ],
   "source": [
    "print(\"A\")\n",
    "print(\"B\")\n",
    "print(\"C\")"
   ]
  },
  {
   "cell_type": "code",
   "execution_count": 53,
   "id": "b36cd944",
   "metadata": {
    "ExecuteTime": {
     "end_time": "2024-03-05T14:05:29.078002Z",
     "start_time": "2024-03-05T14:05:29.073344Z"
    }
   },
   "outputs": [
    {
     "name": "stdout",
     "output_type": "stream",
     "text": [
      "A\n",
      "B\n",
      "C\n"
     ]
    }
   ],
   "source": [
    "변수 = \"A\"\n",
    "print(변수)\n",
    "변수 = \"B\"\n",
    "print(변수)\n",
    "변수 = \"C\"\n",
    "print(변수)"
   ]
  },
  {
   "cell_type": "code",
   "execution_count": null,
   "id": "a548360d",
   "metadata": {},
   "outputs": [],
   "source": [
    "# 134"
   ]
  },
  {
   "cell_type": "code",
   "execution_count": 54,
   "id": "4fad6a4b",
   "metadata": {
    "ExecuteTime": {
     "end_time": "2024-03-05T14:05:42.375659Z",
     "start_time": "2024-03-05T14:05:42.370715Z"
    },
    "scrolled": true
   },
   "outputs": [
    {
     "name": "stdout",
     "output_type": "stream",
     "text": [
      "출력: A\n",
      "출력: B\n",
      "출력: C\n"
     ]
    }
   ],
   "source": [
    "for 변수 in [\"A\", \"B\", \"C\"]:\n",
    "  print(\"출력:\", 변수)"
   ]
  },
  {
   "cell_type": "code",
   "execution_count": 56,
   "id": "338499bd",
   "metadata": {
    "ExecuteTime": {
     "end_time": "2024-03-05T14:07:14.307804Z",
     "start_time": "2024-03-05T14:07:14.304203Z"
    }
   },
   "outputs": [
    {
     "name": "stdout",
     "output_type": "stream",
     "text": [
      "출력: A\n",
      "출력: B\n",
      "출력: C\n"
     ]
    }
   ],
   "source": [
    "print(\"출력:\", \"A\")\n",
    "print(\"출력:\", \"B\")\n",
    "print(\"출력:\", \"C\")"
   ]
  },
  {
   "cell_type": "code",
   "execution_count": null,
   "id": "1fbd5a52",
   "metadata": {},
   "outputs": [],
   "source": [
    "# 135"
   ]
  },
  {
   "cell_type": "code",
   "execution_count": 57,
   "id": "0f7bd747",
   "metadata": {
    "ExecuteTime": {
     "end_time": "2024-03-05T14:11:17.180423Z",
     "start_time": "2024-03-05T14:11:17.175305Z"
    }
   },
   "outputs": [
    {
     "name": "stdout",
     "output_type": "stream",
     "text": [
      "변환: a\n",
      "변환: b\n",
      "변환: c\n"
     ]
    }
   ],
   "source": [
    "for 변수 in [\"A\", \"B\", \"C\"]:\n",
    "  b = 변수.lower()\n",
    "  print(\"변환:\", b)"
   ]
  },
  {
   "cell_type": "code",
   "execution_count": 58,
   "id": "30dc17b3",
   "metadata": {
    "ExecuteTime": {
     "end_time": "2024-03-05T14:15:27.860510Z",
     "start_time": "2024-03-05T14:15:27.854564Z"
    }
   },
   "outputs": [
    {
     "name": "stdout",
     "output_type": "stream",
     "text": [
      "변환: a\n",
      "변환: b\n",
      "변환: c\n"
     ]
    }
   ],
   "source": [
    "변수 = \"A\"\n",
    "b = 변수.lower()\n",
    "print(\"변환:\", b)\n",
    "변수 = \"B\"\n",
    "b = 변수.lower()\n",
    "print(\"변환:\", b)\n",
    "변수 = \"C\"\n",
    "b = 변수.lower()\n",
    "print(\"변환:\", b)"
   ]
  },
  {
   "cell_type": "code",
   "execution_count": null,
   "id": "d37e2da0",
   "metadata": {},
   "outputs": [],
   "source": [
    "# 136"
   ]
  },
  {
   "cell_type": "code",
   "execution_count": 59,
   "id": "321dd1c9",
   "metadata": {
    "ExecuteTime": {
     "end_time": "2024-03-05T14:16:21.863242Z",
     "start_time": "2024-03-05T14:16:21.857750Z"
    }
   },
   "outputs": [
    {
     "name": "stdout",
     "output_type": "stream",
     "text": [
      "10\n",
      "20\n",
      "30\n"
     ]
    }
   ],
   "source": [
    "변수 = 10\n",
    "print(변수)\n",
    "변수 = 20\n",
    "print(변수)\n",
    "변수 = 30\n",
    "print(변수)"
   ]
  },
  {
   "cell_type": "code",
   "execution_count": 60,
   "id": "9a21f104",
   "metadata": {
    "ExecuteTime": {
     "end_time": "2024-03-05T14:17:02.203579Z",
     "start_time": "2024-03-05T14:17:02.199592Z"
    }
   },
   "outputs": [
    {
     "name": "stdout",
     "output_type": "stream",
     "text": [
      "10\n",
      "20\n",
      "30\n"
     ]
    }
   ],
   "source": [
    "리스트 = [10, 20, 30]\n",
    "for 변수 in 리스트:\n",
    "    print(변수)"
   ]
  },
  {
   "cell_type": "code",
   "execution_count": null,
   "id": "d33a7ce8",
   "metadata": {},
   "outputs": [],
   "source": [
    "# 137"
   ]
  },
  {
   "cell_type": "code",
   "execution_count": 61,
   "id": "adeca205",
   "metadata": {
    "ExecuteTime": {
     "end_time": "2024-03-05T14:17:16.349221Z",
     "start_time": "2024-03-05T14:17:16.344535Z"
    }
   },
   "outputs": [
    {
     "name": "stdout",
     "output_type": "stream",
     "text": [
      "10\n",
      "20\n",
      "30\n"
     ]
    }
   ],
   "source": [
    "print(10)\n",
    "print(20)\n",
    "print(30)"
   ]
  },
  {
   "cell_type": "code",
   "execution_count": 63,
   "id": "46fa3e8f",
   "metadata": {
    "ExecuteTime": {
     "end_time": "2024-03-05T14:21:17.429082Z",
     "start_time": "2024-03-05T14:21:17.424484Z"
    }
   },
   "outputs": [
    {
     "name": "stdout",
     "output_type": "stream",
     "text": [
      "10\n",
      "20\n",
      "30\n"
     ]
    }
   ],
   "source": [
    "for 변수 in [10, 20, 30]:\n",
    "  print(변수)"
   ]
  },
  {
   "cell_type": "code",
   "execution_count": null,
   "id": "bfba9701",
   "metadata": {},
   "outputs": [],
   "source": [
    "# 138"
   ]
  },
  {
   "cell_type": "code",
   "execution_count": 64,
   "id": "b9f6d8cd",
   "metadata": {
    "ExecuteTime": {
     "end_time": "2024-03-05T14:21:34.188389Z",
     "start_time": "2024-03-05T14:21:34.182895Z"
    },
    "scrolled": true
   },
   "outputs": [
    {
     "name": "stdout",
     "output_type": "stream",
     "text": [
      "10\n",
      "-------\n",
      "20\n",
      "-------\n",
      "30\n",
      "-------\n"
     ]
    }
   ],
   "source": [
    "print(10)\n",
    "print(\"-------\")\n",
    "print(20)\n",
    "print(\"-------\")\n",
    "print(30)\n",
    "print(\"-------\")"
   ]
  },
  {
   "cell_type": "code",
   "execution_count": 65,
   "id": "d1d8ade7",
   "metadata": {
    "ExecuteTime": {
     "end_time": "2024-03-05T14:22:12.116904Z",
     "start_time": "2024-03-05T14:22:12.112023Z"
    }
   },
   "outputs": [
    {
     "name": "stdout",
     "output_type": "stream",
     "text": [
      "10\n",
      "-------\n",
      "20\n",
      "-------\n",
      "30\n",
      "-------\n"
     ]
    }
   ],
   "source": [
    "for 변수 in [10, 20, 30]:\n",
    "    print(변수)\n",
    "    print(\"-------\")"
   ]
  },
  {
   "cell_type": "code",
   "execution_count": null,
   "id": "d2d72884",
   "metadata": {},
   "outputs": [],
   "source": [
    "# 139"
   ]
  },
  {
   "cell_type": "code",
   "execution_count": 66,
   "id": "244309f8",
   "metadata": {
    "ExecuteTime": {
     "end_time": "2024-03-05T14:22:28.771998Z",
     "start_time": "2024-03-05T14:22:28.767108Z"
    },
    "scrolled": true
   },
   "outputs": [
    {
     "name": "stdout",
     "output_type": "stream",
     "text": [
      "++++\n",
      "10\n",
      "20\n",
      "30\n"
     ]
    }
   ],
   "source": [
    "print(\"++++\")\n",
    "print(10)\n",
    "print(20)\n",
    "print(30)"
   ]
  },
  {
   "cell_type": "code",
   "execution_count": 69,
   "id": "d6b7ad96",
   "metadata": {
    "ExecuteTime": {
     "end_time": "2024-03-05T14:24:18.048062Z",
     "start_time": "2024-03-05T14:24:18.042763Z"
    }
   },
   "outputs": [
    {
     "name": "stdout",
     "output_type": "stream",
     "text": [
      "++++\n",
      "10\n",
      "20\n",
      "30\n"
     ]
    }
   ],
   "source": [
    "print(\"++++\")\n",
    "for 변수 in [10, 20, 30]:\n",
    "  print(변수)"
   ]
  },
  {
   "cell_type": "code",
   "execution_count": null,
   "id": "612082d4",
   "metadata": {},
   "outputs": [],
   "source": [
    "# 140"
   ]
  },
  {
   "cell_type": "code",
   "execution_count": 70,
   "id": "6b91702d",
   "metadata": {
    "ExecuteTime": {
     "end_time": "2024-03-05T14:26:20.770054Z",
     "start_time": "2024-03-05T14:26:20.765709Z"
    },
    "scrolled": true
   },
   "outputs": [
    {
     "name": "stdout",
     "output_type": "stream",
     "text": [
      "-------\n",
      "-------\n",
      "-------\n",
      "-------\n"
     ]
    }
   ],
   "source": [
    "print(\"-------\")\n",
    "print(\"-------\")\n",
    "print(\"-------\")\n",
    "print(\"-------\")"
   ]
  },
  {
   "cell_type": "code",
   "execution_count": 71,
   "id": "e5c7f54f",
   "metadata": {
    "ExecuteTime": {
     "end_time": "2024-03-05T14:28:40.717182Z",
     "start_time": "2024-03-05T14:28:40.712803Z"
    }
   },
   "outputs": [
    {
     "name": "stdout",
     "output_type": "stream",
     "text": [
      "-------\n",
      "-------\n",
      "-------\n",
      "-------\n"
     ]
    }
   ],
   "source": [
    "for 변수 in [1, 2, 3, 4]:\n",
    "  print(\"-------\")"
   ]
  },
  {
   "cell_type": "code",
   "execution_count": null,
   "id": "aeb31aca",
   "metadata": {},
   "outputs": [],
   "source": [
    "# 141"
   ]
  },
  {
   "cell_type": "code",
   "execution_count": 72,
   "id": "3edc0e5f",
   "metadata": {
    "ExecuteTime": {
     "end_time": "2024-03-05T14:30:56.680259Z",
     "start_time": "2024-03-05T14:30:56.674371Z"
    }
   },
   "outputs": [
    {
     "name": "stdout",
     "output_type": "stream",
     "text": [
      "110\n",
      "210\n",
      "310\n"
     ]
    }
   ],
   "source": [
    "리스트 = [100, 200, 300]\n",
    "for 변수 in 리스트:\n",
    "    print(변수 + 10)"
   ]
  },
  {
   "cell_type": "code",
   "execution_count": null,
   "id": "d5df1960",
   "metadata": {},
   "outputs": [],
   "source": [
    "# 142"
   ]
  },
  {
   "cell_type": "code",
   "execution_count": 73,
   "id": "bf2e6b0e",
   "metadata": {
    "ExecuteTime": {
     "end_time": "2024-03-05T14:32:13.998277Z",
     "start_time": "2024-03-05T14:32:13.993382Z"
    }
   },
   "outputs": [
    {
     "name": "stdout",
     "output_type": "stream",
     "text": [
      "오늘의 메뉴: 김밥\n",
      "오늘의 메뉴: 라면\n",
      "오늘의 메뉴: 튀김\n"
     ]
    }
   ],
   "source": [
    "리스트 = [\"김밥\", \"라면\", \"튀김\"]\n",
    "for 메뉴 in 리스트:\n",
    "    print(\"오늘의 메뉴: \" + 메뉴)"
   ]
  },
  {
   "cell_type": "code",
   "execution_count": null,
   "id": "a910aeb6",
   "metadata": {},
   "outputs": [],
   "source": [
    "# 143"
   ]
  },
  {
   "cell_type": "code",
   "execution_count": 74,
   "id": "1f038a31",
   "metadata": {
    "ExecuteTime": {
     "end_time": "2024-03-05T14:33:38.669569Z",
     "start_time": "2024-03-05T14:33:38.664717Z"
    }
   },
   "outputs": [
    {
     "name": "stdout",
     "output_type": "stream",
     "text": [
      "6\n",
      "4\n",
      "4\n"
     ]
    }
   ],
   "source": [
    "리스트 = [\"SK하이닉스\", \"삼성전자\", \"LG전자\"]\n",
    "for 종목명 in 리스트:\n",
    "    print(len(종목명))"
   ]
  },
  {
   "cell_type": "code",
   "execution_count": null,
   "id": "2bdc209a",
   "metadata": {},
   "outputs": [],
   "source": [
    "# 144"
   ]
  },
  {
   "cell_type": "code",
   "execution_count": 75,
   "id": "36a1e065",
   "metadata": {
    "ExecuteTime": {
     "end_time": "2024-03-05T14:35:03.264389Z",
     "start_time": "2024-03-05T14:35:03.258415Z"
    }
   },
   "outputs": [
    {
     "name": "stdout",
     "output_type": "stream",
     "text": [
      "dog 3\n",
      "cat 3\n",
      "parrot 6\n"
     ]
    }
   ],
   "source": [
    "리스트 = ['dog', 'cat', 'parrot']\n",
    "for 동물 in 리스트:\n",
    "    print(동물, len(동물))"
   ]
  },
  {
   "cell_type": "code",
   "execution_count": null,
   "id": "8560e5f4",
   "metadata": {},
   "outputs": [],
   "source": [
    "# 145"
   ]
  },
  {
   "cell_type": "code",
   "execution_count": 76,
   "id": "324b2e3f",
   "metadata": {
    "ExecuteTime": {
     "end_time": "2024-03-05T14:36:12.294285Z",
     "start_time": "2024-03-05T14:36:12.289291Z"
    }
   },
   "outputs": [
    {
     "name": "stdout",
     "output_type": "stream",
     "text": [
      "d\n",
      "c\n",
      "p\n"
     ]
    }
   ],
   "source": [
    "리스트 = ['dog', 'cat', 'parrot']\n",
    "for 동물 in 리스트:\n",
    "    print(동물[0])"
   ]
  },
  {
   "cell_type": "code",
   "execution_count": null,
   "id": "3e34727d",
   "metadata": {},
   "outputs": [],
   "source": [
    "# 146"
   ]
  },
  {
   "cell_type": "code",
   "execution_count": 80,
   "id": "3ce72383",
   "metadata": {
    "ExecuteTime": {
     "end_time": "2024-03-05T14:38:14.798891Z",
     "start_time": "2024-03-05T14:38:14.794683Z"
    },
    "scrolled": true
   },
   "outputs": [
    {
     "name": "stdout",
     "output_type": "stream",
     "text": [
      "3 * 1\n",
      "3 * 2\n",
      "3 * 3\n"
     ]
    }
   ],
   "source": [
    "리스트 = [1, 2, 3]\n",
    "for 숫자 in 리스트:\n",
    "    print(\"3 *\", 숫자)"
   ]
  },
  {
   "cell_type": "code",
   "execution_count": 81,
   "id": "1dcfa893",
   "metadata": {
    "ExecuteTime": {
     "end_time": "2024-03-05T14:38:40.214797Z",
     "start_time": "2024-03-05T14:38:40.209312Z"
    }
   },
   "outputs": [
    {
     "name": "stdout",
     "output_type": "stream",
     "text": [
      "3 x 1\n",
      "3 x 2\n",
      "3 x 3\n"
     ]
    }
   ],
   "source": [
    "리스트 = [1, 2, 3]\n",
    "for 숫자 in 리스트:\n",
    "    print(\"3 x\", 숫자)"
   ]
  },
  {
   "cell_type": "code",
   "execution_count": null,
   "id": "a3e8f02d",
   "metadata": {},
   "outputs": [],
   "source": [
    "# 147"
   ]
  },
  {
   "cell_type": "code",
   "execution_count": 82,
   "id": "26caf113",
   "metadata": {
    "ExecuteTime": {
     "end_time": "2024-03-05T14:40:34.063128Z",
     "start_time": "2024-03-05T14:40:34.058832Z"
    }
   },
   "outputs": [
    {
     "name": "stdout",
     "output_type": "stream",
     "text": [
      "3 x 1 = 3\n",
      "3 x 2 = 6\n",
      "3 x 3 = 9\n"
     ]
    }
   ],
   "source": [
    "리스트 = [1, 2, 3]\n",
    "for 변수 in 리스트:\n",
    "    print(\"3 x {} = {}\".format(변수, 3 * 변수))"
   ]
  },
  {
   "cell_type": "code",
   "execution_count": null,
   "id": "597dd480",
   "metadata": {},
   "outputs": [],
   "source": [
    "# 148"
   ]
  },
  {
   "cell_type": "code",
   "execution_count": 84,
   "id": "616368b2",
   "metadata": {
    "ExecuteTime": {
     "end_time": "2024-03-05T14:41:57.122110Z",
     "start_time": "2024-03-05T14:41:57.117109Z"
    }
   },
   "outputs": [
    {
     "name": "stdout",
     "output_type": "stream",
     "text": [
      "나\n",
      "다\n",
      "라\n"
     ]
    }
   ],
   "source": [
    "리스트 = [\"가\", \"나\", \"다\", \"라\"]\n",
    "for 변수 in 리스트[1:]:\n",
    "    print(변수)"
   ]
  },
  {
   "cell_type": "code",
   "execution_count": null,
   "id": "68c2a769",
   "metadata": {},
   "outputs": [],
   "source": [
    "# 149"
   ]
  },
  {
   "cell_type": "code",
   "execution_count": 85,
   "id": "19e7a3bb",
   "metadata": {
    "ExecuteTime": {
     "end_time": "2024-03-05T14:43:46.207248Z",
     "start_time": "2024-03-05T14:43:46.202775Z"
    }
   },
   "outputs": [
    {
     "name": "stdout",
     "output_type": "stream",
     "text": [
      "가\n",
      "다\n"
     ]
    }
   ],
   "source": [
    "리스트 = [\"가\", \"나\", \"다\", \"라\"]\n",
    "for 변수 in 리스트[: :2]:\n",
    "    print(변수)"
   ]
  },
  {
   "cell_type": "code",
   "execution_count": null,
   "id": "bacbc08a",
   "metadata": {},
   "outputs": [],
   "source": [
    "# 150"
   ]
  },
  {
   "cell_type": "code",
   "execution_count": 86,
   "id": "6615e53d",
   "metadata": {
    "ExecuteTime": {
     "end_time": "2024-03-05T14:44:50.399612Z",
     "start_time": "2024-03-05T14:44:50.393625Z"
    },
    "scrolled": true
   },
   "outputs": [
    {
     "name": "stdout",
     "output_type": "stream",
     "text": [
      "라\n",
      "다\n",
      "나\n",
      "가\n"
     ]
    }
   ],
   "source": [
    "리스트 = [\"가\", \"나\", \"다\", \"라\"]\n",
    "for 변수 in 리스트[: :-1]:\n",
    "    print(변수)"
   ]
  },
  {
   "cell_type": "code",
   "execution_count": null,
   "id": "08ebe069",
   "metadata": {},
   "outputs": [],
   "source": [
    "# 151"
   ]
  },
  {
   "cell_type": "code",
   "execution_count": 1,
   "id": "e5448fb6",
   "metadata": {
    "ExecuteTime": {
     "end_time": "2024-03-06T12:02:26.565810Z",
     "start_time": "2024-03-06T12:02:26.559077Z"
    }
   },
   "outputs": [
    {
     "name": "stdout",
     "output_type": "stream",
     "text": [
      "-20\n",
      "-3\n"
     ]
    }
   ],
   "source": [
    "리스트 = [3, -20, -3, 44]\n",
    "for 변수 in 리스트:\n",
    "    if 변수 < 0:\n",
    "        print(변수)"
   ]
  },
  {
   "cell_type": "code",
   "execution_count": null,
   "id": "23b85070",
   "metadata": {},
   "outputs": [],
   "source": [
    "# 152"
   ]
  },
  {
   "cell_type": "code",
   "execution_count": 5,
   "id": "ce8f68ab",
   "metadata": {
    "ExecuteTime": {
     "end_time": "2024-03-06T12:06:11.171710Z",
     "start_time": "2024-03-06T12:06:11.167096Z"
    }
   },
   "outputs": [
    {
     "name": "stdout",
     "output_type": "stream",
     "text": [
      "3\n"
     ]
    }
   ],
   "source": [
    "리스트 = [3, 100, 23, 44]\n",
    "for 변수 in 리스트:\n",
    "    if (변수 %3 == 0):\n",
    "        print(변수)"
   ]
  },
  {
   "cell_type": "code",
   "execution_count": null,
   "id": "73c6320e",
   "metadata": {},
   "outputs": [],
   "source": [
    "# 153"
   ]
  },
  {
   "cell_type": "code",
   "execution_count": 4,
   "id": "619191d0",
   "metadata": {
    "ExecuteTime": {
     "end_time": "2024-03-06T12:05:10.604764Z",
     "start_time": "2024-03-06T12:05:10.599751Z"
    }
   },
   "outputs": [
    {
     "name": "stdout",
     "output_type": "stream",
     "text": [
      "12\n",
      "18\n"
     ]
    }
   ],
   "source": [
    "리스트 = [13, 21, 12, 14, 30, 18]\n",
    "for 변수 in 리스트:\n",
    "    if (변수 < 20) and (변수 % 3 == 0):\n",
    "        print(변수)"
   ]
  },
  {
   "cell_type": "code",
   "execution_count": null,
   "id": "b667f8d9",
   "metadata": {},
   "outputs": [],
   "source": [
    "# 154"
   ]
  },
  {
   "cell_type": "code",
   "execution_count": 10,
   "id": "854e27cb",
   "metadata": {
    "ExecuteTime": {
     "end_time": "2024-03-06T12:23:58.581899Z",
     "start_time": "2024-03-06T12:23:58.577117Z"
    }
   },
   "outputs": [
    {
     "name": "stdout",
     "output_type": "stream",
     "text": [
      "study\n",
      "python\n",
      "language\n"
     ]
    }
   ],
   "source": [
    "리스트 = [\"I\", \"study\", \"python\", \"language\", \"!\"]\n",
    "for 변수 in 리스트:\n",
    "  if len(변수) >= 3:\n",
    "    print(변수)   "
   ]
  },
  {
   "cell_type": "code",
   "execution_count": null,
   "id": "28c70bb2",
   "metadata": {},
   "outputs": [],
   "source": [
    "# 155"
   ]
  },
  {
   "cell_type": "code",
   "execution_count": 13,
   "id": "5a41a4e5",
   "metadata": {
    "ExecuteTime": {
     "end_time": "2024-03-06T12:26:34.780994Z",
     "start_time": "2024-03-06T12:26:34.775930Z"
    }
   },
   "outputs": [
    {
     "name": "stdout",
     "output_type": "stream",
     "text": [
      "A\n",
      "D\n"
     ]
    }
   ],
   "source": [
    "리스트 = [\"A\", \"b\", \"c\", \"D\"]\n",
    "for 변수 in 리스트:\n",
    "   if 변수.isupper():\n",
    "    print(변수)"
   ]
  },
  {
   "cell_type": "code",
   "execution_count": null,
   "id": "403ff0da",
   "metadata": {},
   "outputs": [],
   "source": [
    "# 156"
   ]
  },
  {
   "cell_type": "code",
   "execution_count": 18,
   "id": "99e48500",
   "metadata": {
    "ExecuteTime": {
     "end_time": "2024-03-06T12:28:50.214437Z",
     "start_time": "2024-03-06T12:28:50.208937Z"
    }
   },
   "outputs": [
    {
     "name": "stdout",
     "output_type": "stream",
     "text": [
      "b\n",
      "c\n"
     ]
    }
   ],
   "source": [
    "리스트 = [\"A\", \"b\", \"c\", \"D\"]\n",
    "for 변수 in 리스트:\n",
    "    if 변수.islower():\n",
    "        print(변수)"
   ]
  },
  {
   "cell_type": "code",
   "execution_count": 19,
   "id": "05eaa287",
   "metadata": {
    "ExecuteTime": {
     "end_time": "2024-03-06T12:29:02.269217Z",
     "start_time": "2024-03-06T12:29:02.264151Z"
    }
   },
   "outputs": [
    {
     "name": "stdout",
     "output_type": "stream",
     "text": [
      "b\n",
      "c\n"
     ]
    }
   ],
   "source": [
    "리스트 = [\"A\", \"b\", \"c\", \"D\"]\n",
    "for 변수 in 리스트:\n",
    "  if not 변수.isupper():\n",
    "    print(변수)"
   ]
  },
  {
   "cell_type": "code",
   "execution_count": null,
   "id": "fea803a5",
   "metadata": {},
   "outputs": [],
   "source": [
    "# 157"
   ]
  },
  {
   "cell_type": "code",
   "execution_count": 23,
   "id": "0a69f06c",
   "metadata": {
    "ExecuteTime": {
     "end_time": "2024-03-06T12:33:40.541962Z",
     "start_time": "2024-03-06T12:33:40.536930Z"
    }
   },
   "outputs": [
    {
     "name": "stdout",
     "output_type": "stream",
     "text": [
      "Dog\n",
      "Cat\n",
      "Parrot\n"
     ]
    }
   ],
   "source": [
    "리스트 = ['dog', 'cat', 'parrot']\n",
    "for 변수 in 리스트:\n",
    "    print(변수[0].upper() + 변수[1:])   "
   ]
  },
  {
   "cell_type": "code",
   "execution_count": null,
   "id": "994caee7",
   "metadata": {},
   "outputs": [],
   "source": [
    "# 158"
   ]
  },
  {
   "cell_type": "code",
   "execution_count": 25,
   "id": "3cd94a78",
   "metadata": {
    "ExecuteTime": {
     "end_time": "2024-03-06T12:35:58.852438Z",
     "start_time": "2024-03-06T12:35:58.848432Z"
    }
   },
   "outputs": [
    {
     "name": "stdout",
     "output_type": "stream",
     "text": [
      "hello\n",
      "ex01\n",
      "intro\n"
     ]
    }
   ],
   "source": [
    "리스트 = ['hello.py', 'ex01.py', 'intro.hwp']\n",
    "for 변수 in 리스트:\n",
    "    split = 변수.split(\".\")\n",
    "    print(split[0])    "
   ]
  },
  {
   "cell_type": "code",
   "execution_count": null,
   "id": "19243cc6",
   "metadata": {},
   "outputs": [],
   "source": [
    "# 159"
   ]
  },
  {
   "cell_type": "code",
   "execution_count": 27,
   "id": "c92fa2ea",
   "metadata": {
    "ExecuteTime": {
     "end_time": "2024-03-06T12:38:29.320645Z",
     "start_time": "2024-03-06T12:38:29.316844Z"
    }
   },
   "outputs": [
    {
     "name": "stdout",
     "output_type": "stream",
     "text": [
      "intra.h\n",
      "define.h\n"
     ]
    }
   ],
   "source": [
    "리스트 = ['intra.h', 'intra.c', 'define.h', 'run.py']\n",
    "for 변수 in 리스트:\n",
    "    split = 변수.split(\".\")\n",
    "    if split[1] == \"h\":\n",
    "        print(변수)"
   ]
  },
  {
   "cell_type": "code",
   "execution_count": null,
   "id": "5c0c0638",
   "metadata": {},
   "outputs": [],
   "source": [
    "# 160"
   ]
  },
  {
   "cell_type": "code",
   "execution_count": 28,
   "id": "520ec710",
   "metadata": {
    "ExecuteTime": {
     "end_time": "2024-03-06T12:40:38.037273Z",
     "start_time": "2024-03-06T12:40:38.032356Z"
    }
   },
   "outputs": [
    {
     "name": "stdout",
     "output_type": "stream",
     "text": [
      "intra.h\n",
      "intra.c\n",
      "define.h\n"
     ]
    }
   ],
   "source": [
    "리스트 = ['intra.h', 'intra.c', 'define.h', 'run.py']\n",
    "for 변수 in 리스트:\n",
    "    split = 변수.split(\".\")\n",
    "    if (split[1] == \"h\") or (split[1] == \"c\"):\n",
    "        print(변수)"
   ]
  },
  {
   "cell_type": "code",
   "execution_count": null,
   "id": "de9f1a0e",
   "metadata": {},
   "outputs": [],
   "source": [
    "# 161 (for, range)"
   ]
  },
  {
   "cell_type": "code",
   "execution_count": 32,
   "id": "6c4480c1",
   "metadata": {
    "ExecuteTime": {
     "end_time": "2024-03-06T13:12:39.287627Z",
     "start_time": "2024-03-06T13:12:39.282797Z"
    }
   },
   "outputs": [
    {
     "data": {
      "text/plain": [
       "[0, 1, 2]"
      ]
     },
     "execution_count": 32,
     "metadata": {},
     "output_type": "execute_result"
    }
   ],
   "source": [
    "list(range(3))"
   ]
  },
  {
   "cell_type": "code",
   "execution_count": 33,
   "id": "646ff8fc",
   "metadata": {
    "ExecuteTime": {
     "end_time": "2024-03-06T13:13:06.350530Z",
     "start_time": "2024-03-06T13:13:06.345943Z"
    }
   },
   "outputs": [
    {
     "name": "stdout",
     "output_type": "stream",
     "text": [
      "0\n",
      "1\n",
      "2\n",
      "3\n",
      "4\n",
      "5\n",
      "6\n",
      "7\n",
      "8\n",
      "9\n",
      "10\n",
      "11\n",
      "12\n",
      "13\n",
      "14\n",
      "15\n",
      "16\n",
      "17\n",
      "18\n",
      "19\n",
      "20\n",
      "21\n",
      "22\n",
      "23\n",
      "24\n",
      "25\n",
      "26\n",
      "27\n",
      "28\n",
      "29\n",
      "30\n",
      "31\n",
      "32\n",
      "33\n",
      "34\n",
      "35\n",
      "36\n",
      "37\n",
      "38\n",
      "39\n",
      "40\n",
      "41\n",
      "42\n",
      "43\n",
      "44\n",
      "45\n",
      "46\n",
      "47\n",
      "48\n",
      "49\n",
      "50\n",
      "51\n",
      "52\n",
      "53\n",
      "54\n",
      "55\n",
      "56\n",
      "57\n",
      "58\n",
      "59\n",
      "60\n",
      "61\n",
      "62\n",
      "63\n",
      "64\n",
      "65\n",
      "66\n",
      "67\n",
      "68\n",
      "69\n",
      "70\n",
      "71\n",
      "72\n",
      "73\n",
      "74\n",
      "75\n",
      "76\n",
      "77\n",
      "78\n",
      "79\n",
      "80\n",
      "81\n",
      "82\n",
      "83\n",
      "84\n",
      "85\n",
      "86\n",
      "87\n",
      "88\n",
      "89\n",
      "90\n",
      "91\n",
      "92\n",
      "93\n",
      "94\n",
      "95\n",
      "96\n",
      "97\n",
      "98\n",
      "99\n"
     ]
    }
   ],
   "source": [
    "for i in range(100):\n",
    "    print(i)"
   ]
  },
  {
   "cell_type": "code",
   "execution_count": null,
   "id": "275f3a76",
   "metadata": {},
   "outputs": [],
   "source": [
    "# 162"
   ]
  },
  {
   "cell_type": "code",
   "execution_count": 35,
   "id": "d9a576c4",
   "metadata": {
    "ExecuteTime": {
     "end_time": "2024-03-06T13:15:06.198763Z",
     "start_time": "2024-03-06T13:15:06.193590Z"
    }
   },
   "outputs": [
    {
     "name": "stdout",
     "output_type": "stream",
     "text": [
      "2002\n",
      "2006\n",
      "2010\n",
      "2014\n",
      "2018\n",
      "2022\n",
      "2026\n",
      "2030\n",
      "2034\n",
      "2038\n",
      "2042\n",
      "2046\n",
      "2050\n"
     ]
    }
   ],
   "source": [
    "for x in range(2002, 2051, 4) :\n",
    "    print(x)"
   ]
  },
  {
   "cell_type": "code",
   "execution_count": null,
   "id": "a7ff32c1",
   "metadata": {},
   "outputs": [],
   "source": [
    "# 163"
   ]
  },
  {
   "cell_type": "code",
   "execution_count": 38,
   "id": "fa6a9dde",
   "metadata": {
    "ExecuteTime": {
     "end_time": "2024-03-06T13:17:42.849582Z",
     "start_time": "2024-03-06T13:17:42.844704Z"
    }
   },
   "outputs": [
    {
     "name": "stdout",
     "output_type": "stream",
     "text": [
      "3\n",
      "6\n",
      "9\n",
      "12\n",
      "15\n",
      "18\n",
      "21\n",
      "24\n",
      "27\n",
      "30\n"
     ]
    }
   ],
   "source": [
    "for number in range(3, 31, 3):\n",
    "    print(number)"
   ]
  },
  {
   "cell_type": "code",
   "execution_count": null,
   "id": "16b8632c",
   "metadata": {},
   "outputs": [],
   "source": [
    "# 164"
   ]
  },
  {
   "cell_type": "code",
   "execution_count": 41,
   "id": "ce30d6bd",
   "metadata": {
    "ExecuteTime": {
     "end_time": "2024-03-06T13:19:54.350743Z",
     "start_time": "2024-03-06T13:19:54.346069Z"
    }
   },
   "outputs": [
    {
     "name": "stdout",
     "output_type": "stream",
     "text": [
      "99\n",
      "98\n",
      "97\n",
      "96\n",
      "95\n",
      "94\n",
      "93\n",
      "92\n",
      "91\n",
      "90\n",
      "89\n",
      "88\n",
      "87\n",
      "86\n",
      "85\n",
      "84\n",
      "83\n",
      "82\n",
      "81\n",
      "80\n",
      "79\n",
      "78\n",
      "77\n",
      "76\n",
      "75\n",
      "74\n",
      "73\n",
      "72\n",
      "71\n",
      "70\n",
      "69\n",
      "68\n",
      "67\n",
      "66\n",
      "65\n",
      "64\n",
      "63\n",
      "62\n",
      "61\n",
      "60\n",
      "59\n",
      "58\n",
      "57\n",
      "56\n",
      "55\n",
      "54\n",
      "53\n",
      "52\n",
      "51\n",
      "50\n",
      "49\n",
      "48\n",
      "47\n",
      "46\n",
      "45\n",
      "44\n",
      "43\n",
      "42\n",
      "41\n",
      "40\n",
      "39\n",
      "38\n",
      "37\n",
      "36\n",
      "35\n",
      "34\n",
      "33\n",
      "32\n",
      "31\n",
      "30\n",
      "29\n",
      "28\n",
      "27\n",
      "26\n",
      "25\n",
      "24\n",
      "23\n",
      "22\n",
      "21\n",
      "20\n",
      "19\n",
      "18\n",
      "17\n",
      "16\n",
      "15\n",
      "14\n",
      "13\n",
      "12\n",
      "11\n",
      "10\n",
      "9\n",
      "8\n",
      "7\n",
      "6\n",
      "5\n",
      "4\n",
      "3\n",
      "2\n",
      "1\n",
      "0\n"
     ]
    }
   ],
   "source": [
    "for num in range(100):\n",
    "    print(99- num)"
   ]
  },
  {
   "cell_type": "code",
   "execution_count": null,
   "id": "3ec62edc",
   "metadata": {},
   "outputs": [],
   "source": [
    "# 165"
   ]
  },
  {
   "cell_type": "code",
   "execution_count": 43,
   "id": "0e78c57b",
   "metadata": {
    "ExecuteTime": {
     "end_time": "2024-03-06T13:21:05.303244Z",
     "start_time": "2024-03-06T13:21:05.298745Z"
    }
   },
   "outputs": [
    {
     "name": "stdout",
     "output_type": "stream",
     "text": [
      "0.0\n",
      "0.1\n",
      "0.2\n",
      "0.3\n",
      "0.4\n",
      "0.5\n",
      "0.6\n",
      "0.7\n",
      "0.8\n",
      "0.9\n"
     ]
    }
   ],
   "source": [
    "for num in range(10):\n",
    "    print(num / 10)"
   ]
  },
  {
   "cell_type": "code",
   "execution_count": null,
   "id": "197cc24e",
   "metadata": {},
   "outputs": [],
   "source": [
    "# 166"
   ]
  },
  {
   "cell_type": "code",
   "execution_count": 51,
   "id": "f21eebc8",
   "metadata": {
    "ExecuteTime": {
     "end_time": "2024-03-06T13:29:42.816382Z",
     "start_time": "2024-03-06T13:29:42.810955Z"
    }
   },
   "outputs": [
    {
     "name": "stdout",
     "output_type": "stream",
     "text": [
      "3 x 1 = 3\n",
      "3 x 2 = 6\n",
      "3 x 3 = 9\n",
      "3 x 4 = 12\n",
      "3 x 5 = 15\n",
      "3 x 6 = 18\n",
      "3 x 7 = 21\n",
      "3 x 8 = 24\n",
      "3 x 9 = 27\n"
     ]
    }
   ],
   "source": [
    "for i in range(1,10) :\n",
    "    print(3, \"x\", i, \"=\", 3 * i)"
   ]
  },
  {
   "cell_type": "code",
   "execution_count": null,
   "id": "a500ac61",
   "metadata": {},
   "outputs": [],
   "source": [
    "# 167"
   ]
  },
  {
   "cell_type": "code",
   "execution_count": 44,
   "id": "44cecc17",
   "metadata": {
    "ExecuteTime": {
     "end_time": "2024-03-06T13:23:43.736307Z",
     "start_time": "2024-03-06T13:23:43.730636Z"
    },
    "scrolled": true
   },
   "outputs": [
    {
     "name": "stdout",
     "output_type": "stream",
     "text": [
      "3 x 1 = 3\n",
      "3 x 3 = 9\n",
      "3 x 5 = 15\n",
      "3 x 7 = 21\n",
      "3 x 9 = 27\n"
     ]
    }
   ],
   "source": [
    "num = 3\n",
    "for i in range(1,10) :\n",
    "    if i % 2 == 1:\n",
    "        print(num, \"x\", i, \"=\", num * i)"
   ]
  },
  {
   "cell_type": "code",
   "execution_count": 45,
   "id": "f647eac6",
   "metadata": {
    "ExecuteTime": {
     "end_time": "2024-03-06T13:24:22.696374Z",
     "start_time": "2024-03-06T13:24:22.691261Z"
    }
   },
   "outputs": [
    {
     "name": "stdout",
     "output_type": "stream",
     "text": [
      "3 x 1 = 3\n",
      "3 x 3 = 9\n",
      "3 x 5 = 15\n",
      "3 x 7 = 21\n",
      "3 x 9 = 27\n"
     ]
    }
   ],
   "source": [
    "num =3\n",
    "for i in range(1, 10, 2):\n",
    "    print(num, \"x\", i, \"=\", num * i)"
   ]
  },
  {
   "cell_type": "code",
   "execution_count": null,
   "id": "900d3df6",
   "metadata": {},
   "outputs": [],
   "source": [
    "# 168"
   ]
  },
  {
   "cell_type": "code",
   "execution_count": 49,
   "id": "6d106050",
   "metadata": {
    "ExecuteTime": {
     "end_time": "2024-03-06T13:27:48.031179Z",
     "start_time": "2024-03-06T13:27:48.027517Z"
    },
    "scrolled": true
   },
   "outputs": [
    {
     "name": "stdout",
     "output_type": "stream",
     "text": [
      "1\n",
      "3\n",
      "6\n",
      "10\n",
      "15\n",
      "21\n",
      "28\n",
      "36\n",
      "45\n",
      "55\n"
     ]
    }
   ],
   "source": [
    "합 = 0\n",
    "for i in range(1,11):\n",
    "    합 += i\n",
    "    print (합)"
   ]
  },
  {
   "cell_type": "code",
   "execution_count": 50,
   "id": "544dff45",
   "metadata": {
    "ExecuteTime": {
     "end_time": "2024-03-06T13:27:55.847878Z",
     "start_time": "2024-03-06T13:27:55.843438Z"
    }
   },
   "outputs": [
    {
     "name": "stdout",
     "output_type": "stream",
     "text": [
      "합 : 55\n"
     ]
    }
   ],
   "source": [
    "hab = 0\n",
    "for i in range(1, 11):\n",
    "    hab += i\n",
    "print (\"합 :\", hab)"
   ]
  },
  {
   "cell_type": "code",
   "execution_count": null,
   "id": "f34b4c80",
   "metadata": {},
   "outputs": [],
   "source": [
    "# 169"
   ]
  },
  {
   "cell_type": "code",
   "execution_count": 54,
   "id": "45f5a4c1",
   "metadata": {
    "ExecuteTime": {
     "end_time": "2024-03-06T13:34:08.687641Z",
     "start_time": "2024-03-06T13:34:08.682708Z"
    }
   },
   "outputs": [
    {
     "name": "stdout",
     "output_type": "stream",
     "text": [
      "합 : 25\n"
     ]
    }
   ],
   "source": [
    "hab = 0\n",
    "for i in range(1, 11, 2):\n",
    "    hab += i\n",
    "print (\"합 :\", hab)"
   ]
  },
  {
   "cell_type": "code",
   "execution_count": null,
   "id": "7bf2d982",
   "metadata": {},
   "outputs": [],
   "source": [
    "# 170"
   ]
  },
  {
   "cell_type": "code",
   "execution_count": 57,
   "id": "00820a4d",
   "metadata": {
    "ExecuteTime": {
     "end_time": "2024-03-06T13:36:25.493854Z",
     "start_time": "2024-03-06T13:36:25.490307Z"
    }
   },
   "outputs": [
    {
     "name": "stdout",
     "output_type": "stream",
     "text": [
      "3628800\n"
     ]
    }
   ],
   "source": [
    "multi = 1\n",
    "for i in range(1, 11):\n",
    "    multi *= i\n",
    "print (multi)"
   ]
  },
  {
   "cell_type": "code",
   "execution_count": null,
   "id": "da9ab62e",
   "metadata": {},
   "outputs": [],
   "source": [
    "# 171 (for, range)"
   ]
  },
  {
   "cell_type": "code",
   "execution_count": 59,
   "id": "541a4c4b",
   "metadata": {
    "ExecuteTime": {
     "end_time": "2024-03-06T13:40:36.570690Z",
     "start_time": "2024-03-06T13:40:36.566023Z"
    }
   },
   "outputs": [
    {
     "name": "stdout",
     "output_type": "stream",
     "text": [
      "32100\n",
      "32150\n",
      "32000\n",
      "32500\n"
     ]
    }
   ],
   "source": [
    "price_list = [32100, 32150, 32000, 32500]\n",
    "for i in range(len(price_list)):\n",
    "    print(price_list[i])"
   ]
  },
  {
   "cell_type": "code",
   "execution_count": null,
   "id": "be034ab5",
   "metadata": {},
   "outputs": [],
   "source": [
    "# 172"
   ]
  },
  {
   "cell_type": "code",
   "execution_count": 61,
   "id": "50bca6f3",
   "metadata": {
    "ExecuteTime": {
     "end_time": "2024-03-06T13:42:28.408560Z",
     "start_time": "2024-03-06T13:42:28.403363Z"
    }
   },
   "outputs": [
    {
     "name": "stdout",
     "output_type": "stream",
     "text": [
      "0 32100\n",
      "1 32150\n",
      "2 32000\n",
      "3 32500\n"
     ]
    }
   ],
   "source": [
    "price_list = [32100, 32150, 32000, 32500]\n",
    "for i, data in enumerate(price_list):\n",
    "    print(i, data)"
   ]
  },
  {
   "cell_type": "code",
   "execution_count": null,
   "id": "9fc71c6b",
   "metadata": {},
   "outputs": [],
   "source": [
    "# 173"
   ]
  },
  {
   "cell_type": "code",
   "execution_count": 62,
   "id": "548187de",
   "metadata": {
    "ExecuteTime": {
     "end_time": "2024-03-06T13:44:57.231443Z",
     "start_time": "2024-03-06T13:44:57.226245Z"
    }
   },
   "outputs": [
    {
     "name": "stdout",
     "output_type": "stream",
     "text": [
      "3 32100\n",
      "2 32150\n",
      "1 32000\n",
      "0 32500\n"
     ]
    }
   ],
   "source": [
    "price_list = [32100, 32150, 32000, 32500]\n",
    "for i in range(len(price_list)):\n",
    "    print((len(price_list) -1) -i, price_list[i])"
   ]
  },
  {
   "cell_type": "code",
   "execution_count": null,
   "id": "25517689",
   "metadata": {},
   "outputs": [],
   "source": [
    "# 174"
   ]
  },
  {
   "cell_type": "code",
   "execution_count": 63,
   "id": "d3320a6c",
   "metadata": {
    "ExecuteTime": {
     "end_time": "2024-03-06T13:46:50.480655Z",
     "start_time": "2024-03-06T13:46:50.475779Z"
    }
   },
   "outputs": [
    {
     "name": "stdout",
     "output_type": "stream",
     "text": [
      "100 32150\n",
      "110 32000\n",
      "120 32500\n"
     ]
    }
   ],
   "source": [
    "price_list = [32100, 32150, 32000, 32500]\n",
    "for i in range(1,4):\n",
    "    print(90 + 10 * i, price_list[i])"
   ]
  },
  {
   "cell_type": "code",
   "execution_count": null,
   "id": "d4ed257b",
   "metadata": {},
   "outputs": [],
   "source": [
    "# 175"
   ]
  },
  {
   "cell_type": "code",
   "execution_count": 64,
   "id": "587d78c8",
   "metadata": {
    "ExecuteTime": {
     "end_time": "2024-03-06T13:48:07.135220Z",
     "start_time": "2024-03-06T13:48:07.131262Z"
    },
    "scrolled": true
   },
   "outputs": [
    {
     "name": "stdout",
     "output_type": "stream",
     "text": [
      "가 나\n",
      "나 다\n",
      "다 라\n"
     ]
    }
   ],
   "source": [
    "my_list = [\"가\", \"나\", \"다\", \"라\"]\n",
    "for i in range(1, len(my_list)) :\n",
    "    print(my_list[i-1], my_list[i])"
   ]
  },
  {
   "cell_type": "code",
   "execution_count": null,
   "id": "10e5f53d",
   "metadata": {},
   "outputs": [],
   "source": [
    "#176"
   ]
  },
  {
   "cell_type": "code",
   "execution_count": 65,
   "id": "88875a57",
   "metadata": {
    "ExecuteTime": {
     "end_time": "2024-03-06T13:48:41.120207Z",
     "start_time": "2024-03-06T13:48:41.116126Z"
    }
   },
   "outputs": [
    {
     "name": "stdout",
     "output_type": "stream",
     "text": [
      "가 나 다\n",
      "나 다 라\n"
     ]
    }
   ],
   "source": [
    "for i in range( len(my_list) - 2 ):\n",
    "    print(my_list[i], my_list[i+1], my_list[i+2])"
   ]
  },
  {
   "cell_type": "code",
   "execution_count": 66,
   "id": "d818c336",
   "metadata": {
    "ExecuteTime": {
     "end_time": "2024-03-06T13:48:46.690723Z",
     "start_time": "2024-03-06T13:48:46.685605Z"
    }
   },
   "outputs": [
    {
     "name": "stdout",
     "output_type": "stream",
     "text": [
      "가 나 다\n",
      "나 다 라\n"
     ]
    }
   ],
   "source": [
    "for i in range( 1, len(my_list) - 1 ):\n",
    "    print(my_list[i-1], my_list[i], my_list[i+1])"
   ]
  },
  {
   "cell_type": "code",
   "execution_count": 67,
   "id": "7508ac0b",
   "metadata": {
    "ExecuteTime": {
     "end_time": "2024-03-06T13:48:53.289978Z",
     "start_time": "2024-03-06T13:48:53.285290Z"
    }
   },
   "outputs": [
    {
     "name": "stdout",
     "output_type": "stream",
     "text": [
      "가 나 다\n",
      "나 다 라\n"
     ]
    }
   ],
   "source": [
    "for i in range( 2, len(my_list) ):\n",
    "    print(my_list[i-2], my_list[i-1], my_list[i])"
   ]
  },
  {
   "cell_type": "code",
   "execution_count": null,
   "id": "9aa6c04d",
   "metadata": {},
   "outputs": [],
   "source": [
    "# 177"
   ]
  },
  {
   "cell_type": "code",
   "execution_count": 68,
   "id": "8900f00c",
   "metadata": {
    "ExecuteTime": {
     "end_time": "2024-03-06T13:50:29.782265Z",
     "start_time": "2024-03-06T13:50:29.777095Z"
    }
   },
   "outputs": [
    {
     "name": "stdout",
     "output_type": "stream",
     "text": [
      "라 다\n",
      "다 나\n",
      "나 가\n"
     ]
    }
   ],
   "source": [
    "my_list = [\"가\", \"나\", \"다\", \"라\"]\n",
    "for i in range(len(my_list) - 1, 0, -1):\n",
    "    print(my_list[i], my_list[i-1])"
   ]
  },
  {
   "cell_type": "code",
   "execution_count": null,
   "id": "df6c8eaa",
   "metadata": {},
   "outputs": [],
   "source": [
    "# 178"
   ]
  },
  {
   "cell_type": "code",
   "execution_count": 69,
   "id": "9d105ed8",
   "metadata": {
    "ExecuteTime": {
     "end_time": "2024-03-06T13:51:03.642771Z",
     "start_time": "2024-03-06T13:51:03.638396Z"
    }
   },
   "outputs": [
    {
     "name": "stdout",
     "output_type": "stream",
     "text": [
      "100\n",
      "200\n",
      "400\n"
     ]
    }
   ],
   "source": [
    "my_list = [100, 200, 400, 800]\n",
    "for i in [0, 1, 2]:\n",
    "    print(abs(my_list[i+1] - my_list[i]))"
   ]
  },
  {
   "cell_type": "code",
   "execution_count": null,
   "id": "13825296",
   "metadata": {},
   "outputs": [],
   "source": [
    "# 179"
   ]
  },
  {
   "cell_type": "code",
   "execution_count": 70,
   "id": "5cbfb16d",
   "metadata": {
    "ExecuteTime": {
     "end_time": "2024-03-06T13:52:04.746491Z",
     "start_time": "2024-03-06T13:52:04.741328Z"
    }
   },
   "outputs": [
    {
     "name": "stdout",
     "output_type": "stream",
     "text": [
      "233.33333333333334\n",
      "466.6666666666667\n",
      "733.3333333333334\n",
      "1033.3333333333333\n"
     ]
    }
   ],
   "source": [
    "my_list = [100, 200, 400, 800, 1000, 1300]\n",
    "for i in [1, 2, 3, 4]:\n",
    "    print(abs(my_list[i-1] + my_list[i] + my_list[i+1]) / 3)"
   ]
  },
  {
   "cell_type": "code",
   "execution_count": null,
   "id": "2935c2f0",
   "metadata": {},
   "outputs": [],
   "source": [
    "# 180"
   ]
  },
  {
   "cell_type": "code",
   "execution_count": 72,
   "id": "2e5aa944",
   "metadata": {
    "ExecuteTime": {
     "end_time": "2024-03-06T13:53:10.762871Z",
     "start_time": "2024-03-06T13:53:10.758148Z"
    }
   },
   "outputs": [],
   "source": [
    "low_prices  = [100, 200, 400, 800, 1000]\n",
    "high_prices = [150, 300, 430, 880, 1000]"
   ]
  },
  {
   "cell_type": "code",
   "execution_count": 73,
   "id": "b584469d",
   "metadata": {
    "ExecuteTime": {
     "end_time": "2024-03-06T13:53:18.609180Z",
     "start_time": "2024-03-06T13:53:18.605338Z"
    }
   },
   "outputs": [],
   "source": [
    "volatility = []\n",
    "for i in range(len(low_prices)) :\n",
    "    volatility.append(high_prices[i] - low_prices[i])"
   ]
  },
  {
   "cell_type": "code",
   "execution_count": null,
   "id": "c28c689c",
   "metadata": {},
   "outputs": [],
   "source": [
    "# 181"
   ]
  },
  {
   "cell_type": "code",
   "execution_count": 74,
   "id": "948a5a88",
   "metadata": {
    "ExecuteTime": {
     "end_time": "2024-03-06T13:55:21.154628Z",
     "start_time": "2024-03-06T13:55:21.149742Z"
    }
   },
   "outputs": [],
   "source": [
    "apart = [ [\"101호\", \"102호\"], [\"201호\", \"202호\"], [\"301호\", \"302호\"]]"
   ]
  },
  {
   "cell_type": "code",
   "execution_count": null,
   "id": "893ffb29",
   "metadata": {},
   "outputs": [],
   "source": [
    "# 182"
   ]
  },
  {
   "cell_type": "code",
   "execution_count": 75,
   "id": "a7570b9b",
   "metadata": {
    "ExecuteTime": {
     "end_time": "2024-03-06T13:56:13.611835Z",
     "start_time": "2024-03-06T13:56:13.608296Z"
    }
   },
   "outputs": [],
   "source": [
    "stock = [[\"시가\", 100, 200, 300], [\"종가\", 80, 210, 330]]"
   ]
  },
  {
   "cell_type": "code",
   "execution_count": null,
   "id": "60915dde",
   "metadata": {},
   "outputs": [],
   "source": [
    "# 183"
   ]
  },
  {
   "cell_type": "code",
   "execution_count": 76,
   "id": "f25149d2",
   "metadata": {
    "ExecuteTime": {
     "end_time": "2024-03-06T13:57:18.210439Z",
     "start_time": "2024-03-06T13:57:18.206915Z"
    }
   },
   "outputs": [],
   "source": [
    "stock = {\"시가\": [100, 200, 300], \"종가\": [80,210, 330]}"
   ]
  },
  {
   "cell_type": "code",
   "execution_count": null,
   "id": "f81afb9f",
   "metadata": {},
   "outputs": [],
   "source": [
    "# 184"
   ]
  },
  {
   "cell_type": "code",
   "execution_count": 77,
   "id": "d0ae467f",
   "metadata": {
    "ExecuteTime": {
     "end_time": "2024-03-06T13:57:39.082096Z",
     "start_time": "2024-03-06T13:57:39.078438Z"
    }
   },
   "outputs": [],
   "source": [
    "stock = {\"10/10\": [80, 110, 70, 90], \"10/11\": [210, 230, 190, 200] }"
   ]
  },
  {
   "cell_type": "code",
   "execution_count": null,
   "id": "00f2913a",
   "metadata": {},
   "outputs": [],
   "source": [
    "# 185"
   ]
  },
  {
   "cell_type": "code",
   "execution_count": 78,
   "id": "6b587ceb",
   "metadata": {
    "ExecuteTime": {
     "end_time": "2024-03-06T13:58:26.704884Z",
     "start_time": "2024-03-06T13:58:26.699112Z"
    }
   },
   "outputs": [
    {
     "name": "stdout",
     "output_type": "stream",
     "text": [
      "101 호\n",
      "102 호\n",
      "201 호\n",
      "202 호\n",
      "301 호\n",
      "302 호\n"
     ]
    }
   ],
   "source": [
    "apart = [ [101, 102], [201, 202], [301, 302] ]\n",
    "for row in apart:\n",
    "    for col in row:\n",
    "        print(col, \"호\")"
   ]
  },
  {
   "cell_type": "code",
   "execution_count": null,
   "id": "0c949a00",
   "metadata": {},
   "outputs": [],
   "source": [
    "# 186"
   ]
  },
  {
   "cell_type": "code",
   "execution_count": 79,
   "id": "a95e841b",
   "metadata": {
    "ExecuteTime": {
     "end_time": "2024-03-06T14:00:01.198682Z",
     "start_time": "2024-03-06T14:00:01.195049Z"
    }
   },
   "outputs": [
    {
     "name": "stdout",
     "output_type": "stream",
     "text": [
      "301 호\n",
      "302 호\n",
      "201 호\n",
      "202 호\n",
      "101 호\n",
      "102 호\n"
     ]
    }
   ],
   "source": [
    "for row in apart[::-1]:\n",
    "    for col in row:\n",
    "        print(col,\"호\")"
   ]
  },
  {
   "cell_type": "code",
   "execution_count": null,
   "id": "4b12aef2",
   "metadata": {},
   "outputs": [],
   "source": [
    "# 187"
   ]
  },
  {
   "cell_type": "code",
   "execution_count": 80,
   "id": "99fb22a2",
   "metadata": {
    "ExecuteTime": {
     "end_time": "2024-03-06T14:00:45.496732Z",
     "start_time": "2024-03-06T14:00:45.492742Z"
    }
   },
   "outputs": [
    {
     "name": "stdout",
     "output_type": "stream",
     "text": [
      "302 호\n",
      "301 호\n",
      "202 호\n",
      "201 호\n",
      "102 호\n",
      "101 호\n"
     ]
    }
   ],
   "source": [
    "for row in apart[::-1]:\n",
    "    for col in row[::-1]:\n",
    "        print(col,\"호\")"
   ]
  },
  {
   "cell_type": "code",
   "execution_count": null,
   "id": "43ecece2",
   "metadata": {},
   "outputs": [],
   "source": [
    "# 188"
   ]
  },
  {
   "cell_type": "code",
   "execution_count": 82,
   "id": "8f91ebca",
   "metadata": {
    "ExecuteTime": {
     "end_time": "2024-03-06T14:01:55.345947Z",
     "start_time": "2024-03-06T14:01:55.341829Z"
    }
   },
   "outputs": [
    {
     "name": "stdout",
     "output_type": "stream",
     "text": [
      "101 호\n",
      "-----\n",
      "102 호\n",
      "-----\n",
      "201 호\n",
      "-----\n",
      "202 호\n",
      "-----\n",
      "301 호\n",
      "-----\n",
      "302 호\n",
      "-----\n"
     ]
    }
   ],
   "source": [
    "for row in apart:\n",
    "    for col in row:\n",
    "        print(col, \"호\")\n",
    "        print(\"-\" * 5)            "
   ]
  },
  {
   "cell_type": "code",
   "execution_count": null,
   "id": "58267dd2",
   "metadata": {},
   "outputs": [],
   "source": [
    "# 189"
   ]
  },
  {
   "cell_type": "code",
   "execution_count": 84,
   "id": "40bafbb8",
   "metadata": {
    "ExecuteTime": {
     "end_time": "2024-03-06T14:03:13.461671Z",
     "start_time": "2024-03-06T14:03:13.457329Z"
    }
   },
   "outputs": [
    {
     "name": "stdout",
     "output_type": "stream",
     "text": [
      "101 호\n",
      "102 호\n",
      "-----\n",
      "201 호\n",
      "202 호\n",
      "-----\n",
      "301 호\n",
      "302 호\n",
      "-----\n"
     ]
    }
   ],
   "source": [
    "for row in apart:\n",
    "    for col in row:\n",
    "        print(col, \"호\")\n",
    "    print(\"-----\")      "
   ]
  },
  {
   "cell_type": "code",
   "execution_count": null,
   "id": "0874a03f",
   "metadata": {},
   "outputs": [],
   "source": [
    "# 190"
   ]
  },
  {
   "cell_type": "code",
   "execution_count": 85,
   "id": "bb60b3db",
   "metadata": {
    "ExecuteTime": {
     "end_time": "2024-03-06T14:03:53.747692Z",
     "start_time": "2024-03-06T14:03:53.743265Z"
    }
   },
   "outputs": [
    {
     "name": "stdout",
     "output_type": "stream",
     "text": [
      "101 호\n",
      "102 호\n",
      "201 호\n",
      "202 호\n",
      "301 호\n",
      "302 호\n",
      "-----\n"
     ]
    }
   ],
   "source": [
    "for row in apart:\n",
    "    for col in row:\n",
    "        print(col, \"호\")\n",
    "print(\"-----\")      "
   ]
  },
  {
   "cell_type": "code",
   "execution_count": null,
   "id": "96334fc0",
   "metadata": {},
   "outputs": [],
   "source": [
    "# 191"
   ]
  },
  {
   "cell_type": "code",
   "execution_count": 86,
   "id": "9d18649a",
   "metadata": {
    "ExecuteTime": {
     "end_time": "2024-03-06T14:05:28.653026Z",
     "start_time": "2024-03-06T14:05:28.647551Z"
    },
    "scrolled": false
   },
   "outputs": [
    {
     "name": "stdout",
     "output_type": "stream",
     "text": [
      "2000.28\n",
      "3050.427\n",
      "2050.2870000000003\n",
      "1980.2772\n",
      "7501.05\n",
      "2050.2870000000003\n",
      "2050.2870000000003\n",
      "1980.2772\n",
      "15452.163\n",
      "15052.107\n",
      "15552.177\n",
      "14902.086000000001\n"
     ]
    }
   ],
   "source": [
    "data = [\n",
    "    [ 2000,  3050,  2050,  1980],\n",
    "    [ 7500,  2050,  2050,  1980],\n",
    "    [15450, 15050, 15550, 14900]\n",
    "]\n",
    "for line in data:\n",
    "    for column in line:\n",
    "        print(column * 1.00014)"
   ]
  },
  {
   "cell_type": "code",
   "execution_count": null,
   "id": "66124450",
   "metadata": {},
   "outputs": [],
   "source": [
    "# 192"
   ]
  },
  {
   "cell_type": "code",
   "execution_count": 90,
   "id": "ebd8f99a",
   "metadata": {
    "ExecuteTime": {
     "end_time": "2024-03-06T14:07:01.635437Z",
     "start_time": "2024-03-06T14:07:01.630517Z"
    }
   },
   "outputs": [
    {
     "name": "stdout",
     "output_type": "stream",
     "text": [
      "2000.28\n",
      "3050.427\n",
      "2050.2870000000003\n",
      "1980.2772\n",
      "-----\n",
      "7501.05\n",
      "2050.2870000000003\n",
      "2050.2870000000003\n",
      "1980.2772\n",
      "-----\n",
      "15452.163\n",
      "15052.107\n",
      "15552.177\n",
      "14902.086000000001\n",
      "-----\n"
     ]
    }
   ],
   "source": [
    "for line in data:\n",
    "    for column in line:\n",
    "        print(column * 1.00014)\n",
    "    print(\"-----\")"
   ]
  },
  {
   "cell_type": "code",
   "execution_count": null,
   "id": "6762ba80",
   "metadata": {},
   "outputs": [],
   "source": [
    "# 193"
   ]
  },
  {
   "cell_type": "code",
   "execution_count": 91,
   "id": "0aa5a0b3",
   "metadata": {
    "ExecuteTime": {
     "end_time": "2024-03-06T14:07:20.174069Z",
     "start_time": "2024-03-06T14:07:20.168153Z"
    }
   },
   "outputs": [
    {
     "name": "stdout",
     "output_type": "stream",
     "text": [
      "[2000.28, 3050.427, 2050.2870000000003, 1980.2772, 7501.05, 2050.2870000000003, 2050.2870000000003, 1980.2772, 15452.163, 15052.107, 15552.177, 14902.086000000001]\n"
     ]
    }
   ],
   "source": [
    "result = []\n",
    "for line in data:\n",
    "    for column in line:\n",
    "        result.append(column * 1.00014)\n",
    "print(result)"
   ]
  },
  {
   "cell_type": "code",
   "execution_count": null,
   "id": "11cc8c8c",
   "metadata": {},
   "outputs": [],
   "source": [
    "# 194"
   ]
  },
  {
   "cell_type": "code",
   "execution_count": 92,
   "id": "43546668",
   "metadata": {
    "ExecuteTime": {
     "end_time": "2024-03-06T14:07:52.571930Z",
     "start_time": "2024-03-06T14:07:52.567230Z"
    }
   },
   "outputs": [
    {
     "name": "stdout",
     "output_type": "stream",
     "text": [
      "[[2000.28, 3050.427, 2050.2870000000003, 1980.2772], [7501.05, 2050.2870000000003, 2050.2870000000003, 1980.2772], [15452.163, 15052.107, 15552.177, 14902.086000000001]]\n"
     ]
    }
   ],
   "source": [
    "result = []\n",
    "for line in data:\n",
    "    sub = []\n",
    "    for column in line:\n",
    "        sub.append(column * 1.00014)\n",
    "    result.append(sub)\n",
    "print(result)"
   ]
  },
  {
   "cell_type": "code",
   "execution_count": null,
   "id": "76c7a7a2",
   "metadata": {},
   "outputs": [],
   "source": [
    "# 195"
   ]
  },
  {
   "cell_type": "code",
   "execution_count": 93,
   "id": "786cb647",
   "metadata": {
    "ExecuteTime": {
     "end_time": "2024-03-06T14:09:21.179179Z",
     "start_time": "2024-03-06T14:09:21.173460Z"
    }
   },
   "outputs": [
    {
     "name": "stdout",
     "output_type": "stream",
     "text": [
      "100\n",
      "190\n",
      "310\n"
     ]
    }
   ],
   "source": [
    "ohlc = [[\"open\", \"high\", \"low\", \"close\"],\n",
    "        [100, 110, 70, 100],\n",
    "        [200, 210, 180, 190],\n",
    "        [300, 310, 300, 310]]\n",
    "for row in ohlc[1:]:\n",
    "    print(row[3])"
   ]
  },
  {
   "cell_type": "code",
   "execution_count": null,
   "id": "7d870460",
   "metadata": {},
   "outputs": [],
   "source": [
    "# 196"
   ]
  },
  {
   "cell_type": "code",
   "execution_count": 94,
   "id": "0f9570f9",
   "metadata": {
    "ExecuteTime": {
     "end_time": "2024-03-06T14:10:19.017497Z",
     "start_time": "2024-03-06T14:10:19.013593Z"
    }
   },
   "outputs": [
    {
     "name": "stdout",
     "output_type": "stream",
     "text": [
      "190\n",
      "310\n"
     ]
    }
   ],
   "source": [
    "for row in ohlc[1:]:\n",
    "    if(row[3] > 150):\n",
    "        print(row[3])"
   ]
  },
  {
   "cell_type": "code",
   "execution_count": null,
   "id": "312c9be9",
   "metadata": {},
   "outputs": [],
   "source": [
    "# 197"
   ]
  },
  {
   "cell_type": "code",
   "execution_count": 95,
   "id": "f2916f3a",
   "metadata": {
    "ExecuteTime": {
     "end_time": "2024-03-06T14:11:32.428079Z",
     "start_time": "2024-03-06T14:11:32.422658Z"
    },
    "scrolled": true
   },
   "outputs": [
    {
     "name": "stdout",
     "output_type": "stream",
     "text": [
      "100\n",
      "310\n"
     ]
    }
   ],
   "source": [
    "for row in ohlc[1:]:\n",
    "    if(row[3] >= row[0]):\n",
    "        print(row[3])"
   ]
  },
  {
   "cell_type": "code",
   "execution_count": null,
   "id": "5d269567",
   "metadata": {},
   "outputs": [],
   "source": [
    "# 198"
   ]
  },
  {
   "cell_type": "code",
   "execution_count": 99,
   "id": "63e476af",
   "metadata": {
    "ExecuteTime": {
     "end_time": "2024-03-06T14:13:27.561801Z",
     "start_time": "2024-03-06T14:13:27.557691Z"
    }
   },
   "outputs": [],
   "source": [
    "ohlc = [[\"open\", \"high\", \"low\", \"close\"],\n",
    "        [100, 110, 70, 100],\n",
    "        [200, 210, 180, 190],\n",
    "        [300, 310, 300, 310]]"
   ]
  },
  {
   "cell_type": "code",
   "execution_count": 104,
   "id": "5454bb8a",
   "metadata": {
    "ExecuteTime": {
     "end_time": "2024-03-06T14:14:38.301077Z",
     "start_time": "2024-03-06T14:14:38.296703Z"
    }
   },
   "outputs": [
    {
     "name": "stdout",
     "output_type": "stream",
     "text": [
      "[40]\n",
      "[40, 30]\n",
      "[40, 30, 10]\n"
     ]
    }
   ],
   "source": [
    "volatility = []\n",
    "for row in ohlc[1:]:\n",
    "    volatility.append(row[1]-row[2])\n",
    "    print(volatility)"
   ]
  },
  {
   "cell_type": "code",
   "execution_count": 101,
   "id": "caae867e",
   "metadata": {
    "ExecuteTime": {
     "end_time": "2024-03-06T14:13:54.890978Z",
     "start_time": "2024-03-06T14:13:54.885894Z"
    }
   },
   "outputs": [
    {
     "name": "stdout",
     "output_type": "stream",
     "text": [
      "[40, 30, 10]\n"
     ]
    }
   ],
   "source": [
    "volatility = []\n",
    "for i in range(1, len(ohlc)):\n",
    "    volatility.append(ohlc[i][1]-ohlc[i][2])\n",
    "print(volatility)"
   ]
  },
  {
   "cell_type": "code",
   "execution_count": null,
   "id": "96747e0a",
   "metadata": {},
   "outputs": [],
   "source": [
    "# 199"
   ]
  },
  {
   "cell_type": "code",
   "execution_count": 105,
   "id": "54d86d83",
   "metadata": {
    "ExecuteTime": {
     "end_time": "2024-03-06T14:14:59.115271Z",
     "start_time": "2024-03-06T14:14:59.110742Z"
    }
   },
   "outputs": [
    {
     "name": "stdout",
     "output_type": "stream",
     "text": [
      "10\n"
     ]
    }
   ],
   "source": [
    "for row in ohlc[1:]:\n",
    "    if row[3] > row[0]:\n",
    "        print(row[1]-row[2])"
   ]
  },
  {
   "cell_type": "code",
   "execution_count": null,
   "id": "57c8d033",
   "metadata": {},
   "outputs": [],
   "source": [
    "# 200"
   ]
  },
  {
   "cell_type": "code",
   "execution_count": 107,
   "id": "f14ca935",
   "metadata": {
    "ExecuteTime": {
     "end_time": "2024-03-06T14:15:32.418749Z",
     "start_time": "2024-03-06T14:15:32.414099Z"
    }
   },
   "outputs": [],
   "source": [
    "ohlc = [[\"open\", \"high\", \"low\", \"close\"],\n",
    "        [100, 110, 70, 100],\n",
    "        [200, 210, 180, 190],\n",
    "        [300, 310, 300, 310]]"
   ]
  },
  {
   "cell_type": "code",
   "execution_count": 109,
   "id": "dbcd8147",
   "metadata": {
    "ExecuteTime": {
     "end_time": "2024-03-06T14:15:56.489078Z",
     "start_time": "2024-03-06T14:15:56.484246Z"
    }
   },
   "outputs": [
    {
     "name": "stdout",
     "output_type": "stream",
     "text": [
      "0\n",
      "-10\n",
      "0\n"
     ]
    }
   ],
   "source": [
    "profit = 0\n",
    "for row in ohlc[1:]:\n",
    "    profit += (row[3] - row[0])\n",
    "    print(profit)"
   ]
  },
  {
   "cell_type": "code",
   "execution_count": null,
   "id": "913f7e6e",
   "metadata": {},
   "outputs": [],
   "source": [
    "파이썬 함수 "
   ]
  },
  {
   "cell_type": "code",
   "execution_count": null,
   "id": "eb52436a",
   "metadata": {},
   "outputs": [],
   "source": [
    "# 201"
   ]
  },
  {
   "cell_type": "code",
   "execution_count": 1,
   "id": "f7bd745a",
   "metadata": {
    "ExecuteTime": {
     "end_time": "2024-03-07T13:50:42.375176Z",
     "start_time": "2024-03-07T13:50:42.370801Z"
    }
   },
   "outputs": [],
   "source": [
    "def print_coin():\n",
    "    print(\"비트코인\")"
   ]
  },
  {
   "cell_type": "code",
   "execution_count": null,
   "id": "dfdf36b0",
   "metadata": {},
   "outputs": [],
   "source": [
    "# 202"
   ]
  },
  {
   "cell_type": "code",
   "execution_count": 3,
   "id": "4c37ee28",
   "metadata": {
    "ExecuteTime": {
     "end_time": "2024-03-07T13:59:45.660537Z",
     "start_time": "2024-03-07T13:59:45.656134Z"
    }
   },
   "outputs": [
    {
     "name": "stdout",
     "output_type": "stream",
     "text": [
      "비트코인\n"
     ]
    }
   ],
   "source": [
    "print_coin()"
   ]
  },
  {
   "cell_type": "code",
   "execution_count": null,
   "id": "771d876f",
   "metadata": {},
   "outputs": [],
   "source": [
    "# 203"
   ]
  },
  {
   "cell_type": "code",
   "execution_count": 6,
   "id": "d0a51adf",
   "metadata": {
    "ExecuteTime": {
     "end_time": "2024-03-07T14:00:52.965667Z",
     "start_time": "2024-03-07T14:00:52.962035Z"
    }
   },
   "outputs": [
    {
     "name": "stdout",
     "output_type": "stream",
     "text": [
      "비트코인\n",
      "비트코인\n",
      "비트코인\n",
      "비트코인\n",
      "비트코인\n",
      "비트코인\n",
      "비트코인\n",
      "비트코인\n",
      "비트코인\n",
      "비트코인\n",
      "비트코인\n",
      "비트코인\n",
      "비트코인\n",
      "비트코인\n",
      "비트코인\n",
      "비트코인\n",
      "비트코인\n",
      "비트코인\n",
      "비트코인\n",
      "비트코인\n",
      "비트코인\n",
      "비트코인\n",
      "비트코인\n",
      "비트코인\n",
      "비트코인\n",
      "비트코인\n",
      "비트코인\n",
      "비트코인\n",
      "비트코인\n",
      "비트코인\n",
      "비트코인\n",
      "비트코인\n",
      "비트코인\n",
      "비트코인\n",
      "비트코인\n",
      "비트코인\n",
      "비트코인\n",
      "비트코인\n",
      "비트코인\n",
      "비트코인\n",
      "비트코인\n",
      "비트코인\n",
      "비트코인\n",
      "비트코인\n",
      "비트코인\n",
      "비트코인\n",
      "비트코인\n",
      "비트코인\n",
      "비트코인\n",
      "비트코인\n",
      "비트코인\n",
      "비트코인\n",
      "비트코인\n",
      "비트코인\n",
      "비트코인\n",
      "비트코인\n",
      "비트코인\n",
      "비트코인\n",
      "비트코인\n",
      "비트코인\n",
      "비트코인\n",
      "비트코인\n",
      "비트코인\n",
      "비트코인\n",
      "비트코인\n",
      "비트코인\n",
      "비트코인\n",
      "비트코인\n",
      "비트코인\n",
      "비트코인\n",
      "비트코인\n",
      "비트코인\n",
      "비트코인\n",
      "비트코인\n",
      "비트코인\n",
      "비트코인\n",
      "비트코인\n",
      "비트코인\n",
      "비트코인\n",
      "비트코인\n",
      "비트코인\n",
      "비트코인\n",
      "비트코인\n",
      "비트코인\n",
      "비트코인\n",
      "비트코인\n",
      "비트코인\n",
      "비트코인\n",
      "비트코인\n",
      "비트코인\n",
      "비트코인\n",
      "비트코인\n",
      "비트코인\n",
      "비트코인\n",
      "비트코인\n",
      "비트코인\n",
      "비트코인\n",
      "비트코인\n",
      "비트코인\n",
      "비트코인\n"
     ]
    }
   ],
   "source": [
    "for i in range(100):\n",
    "    print_coin()"
   ]
  },
  {
   "cell_type": "code",
   "execution_count": null,
   "id": "1a3bd9e3",
   "metadata": {},
   "outputs": [],
   "source": [
    "# 204"
   ]
  },
  {
   "cell_type": "code",
   "execution_count": 7,
   "id": "3c1b6856",
   "metadata": {
    "ExecuteTime": {
     "end_time": "2024-03-07T14:01:41.678042Z",
     "start_time": "2024-03-07T14:01:41.674058Z"
    }
   },
   "outputs": [],
   "source": [
    "def print_coins():\n",
    "    for i in range(100):\n",
    "        print(\"비트코인\")"
   ]
  },
  {
   "cell_type": "code",
   "execution_count": null,
   "id": "f7256e34",
   "metadata": {},
   "outputs": [],
   "source": [
    "# 205"
   ]
  },
  {
   "cell_type": "code",
   "execution_count": 8,
   "id": "b9bb3a6f",
   "metadata": {
    "ExecuteTime": {
     "end_time": "2024-03-07T14:01:55.135230Z",
     "start_time": "2024-03-07T14:01:55.114189Z"
    }
   },
   "outputs": [
    {
     "ename": "NameError",
     "evalue": "name 'hello' is not defined",
     "output_type": "error",
     "traceback": [
      "\u001b[1;31m---------------------------------------------------------------------------\u001b[0m",
      "\u001b[1;31mNameError\u001b[0m                                 Traceback (most recent call last)",
      "Cell \u001b[1;32mIn[8], line 1\u001b[0m\n\u001b[1;32m----> 1\u001b[0m hello()\n\u001b[0;32m      2\u001b[0m \u001b[38;5;28;01mdef\u001b[39;00m \u001b[38;5;21mhello\u001b[39m():\n\u001b[0;32m      3\u001b[0m     \u001b[38;5;28mprint\u001b[39m(\u001b[38;5;124m\"\u001b[39m\u001b[38;5;124mHi\u001b[39m\u001b[38;5;124m\"\u001b[39m)\n",
      "\u001b[1;31mNameError\u001b[0m: name 'hello' is not defined"
     ]
    }
   ],
   "source": [
    "hello()\n",
    "def hello():\n",
    "    print(\"Hi\")"
   ]
  },
  {
   "cell_type": "code",
   "execution_count": null,
   "id": "d5ffd673",
   "metadata": {},
   "outputs": [],
   "source": [
    "# 206"
   ]
  },
  {
   "cell_type": "code",
   "execution_count": 9,
   "id": "c47ae558",
   "metadata": {
    "ExecuteTime": {
     "end_time": "2024-03-07T14:02:27.278367Z",
     "start_time": "2024-03-07T14:02:27.273786Z"
    }
   },
   "outputs": [
    {
     "name": "stdout",
     "output_type": "stream",
     "text": [
      "A\n",
      "B\n",
      "C\n",
      "A\n",
      "B\n"
     ]
    }
   ],
   "source": [
    "def message() :\n",
    "    print(\"A\")\n",
    "    print(\"B\")\n",
    "\n",
    "message()\n",
    "print(\"C\")\n",
    "message()"
   ]
  },
  {
   "cell_type": "code",
   "execution_count": null,
   "id": "4152a44e",
   "metadata": {},
   "outputs": [],
   "source": [
    "# 207"
   ]
  },
  {
   "cell_type": "code",
   "execution_count": 10,
   "id": "00a05441",
   "metadata": {
    "ExecuteTime": {
     "end_time": "2024-03-07T14:03:11.319243Z",
     "start_time": "2024-03-07T14:03:11.313935Z"
    }
   },
   "outputs": [
    {
     "name": "stdout",
     "output_type": "stream",
     "text": [
      "A\n",
      "C\n",
      "B\n"
     ]
    }
   ],
   "source": [
    "print(\"A\")\n",
    "\n",
    "def message() :\n",
    "    print(\"B\")\n",
    "\n",
    "print(\"C\")\n",
    "message()"
   ]
  },
  {
   "cell_type": "code",
   "execution_count": null,
   "id": "93abe45c",
   "metadata": {},
   "outputs": [],
   "source": [
    "# 208"
   ]
  },
  {
   "cell_type": "code",
   "execution_count": 11,
   "id": "05b74ec7",
   "metadata": {
    "ExecuteTime": {
     "end_time": "2024-03-07T14:03:41.735987Z",
     "start_time": "2024-03-07T14:03:41.731279Z"
    }
   },
   "outputs": [
    {
     "name": "stdout",
     "output_type": "stream",
     "text": [
      "A\n",
      "C\n",
      "B\n",
      "E\n",
      "D\n"
     ]
    }
   ],
   "source": [
    "print(\"A\")\n",
    "def message1() :\n",
    "    print(\"B\")\n",
    "print(\"C\")\n",
    "def message2() :\n",
    "    print(\"D\")\n",
    "message1()\n",
    "print(\"E\")\n",
    "message2()"
   ]
  },
  {
   "cell_type": "code",
   "execution_count": null,
   "id": "5755e31d",
   "metadata": {},
   "outputs": [],
   "source": [
    "# 209"
   ]
  },
  {
   "cell_type": "code",
   "execution_count": 12,
   "id": "1ca1a9db",
   "metadata": {
    "ExecuteTime": {
     "end_time": "2024-03-07T14:04:18.261591Z",
     "start_time": "2024-03-07T14:04:18.257001Z"
    }
   },
   "outputs": [
    {
     "name": "stdout",
     "output_type": "stream",
     "text": [
      "B\n",
      "A\n"
     ]
    }
   ],
   "source": [
    "def message1():\n",
    "    print(\"A\")\n",
    "\n",
    "def message2():\n",
    "    print(\"B\")\n",
    "    message1()\n",
    "\n",
    "message2()"
   ]
  },
  {
   "cell_type": "code",
   "execution_count": null,
   "id": "f7e1e5db",
   "metadata": {},
   "outputs": [],
   "source": [
    "# 210"
   ]
  },
  {
   "cell_type": "code",
   "execution_count": 13,
   "id": "32e01883",
   "metadata": {
    "ExecuteTime": {
     "end_time": "2024-03-07T14:04:30.215423Z",
     "start_time": "2024-03-07T14:04:30.209919Z"
    }
   },
   "outputs": [
    {
     "name": "stdout",
     "output_type": "stream",
     "text": [
      "B\n",
      "C\n",
      "B\n",
      "C\n",
      "B\n",
      "C\n",
      "A\n"
     ]
    }
   ],
   "source": [
    "def message1():\n",
    "    print(\"A\")\n",
    "\n",
    "def message2():\n",
    "    print(\"B\")\n",
    "\n",
    "def message3():\n",
    "    for i in range (3) :\n",
    "        message2()\n",
    "        print(\"C\")\n",
    "    message1()\n",
    "\n",
    "message3()"
   ]
  },
  {
   "cell_type": "code",
   "execution_count": null,
   "id": "1587a7f0",
   "metadata": {},
   "outputs": [],
   "source": [
    "# 211"
   ]
  },
  {
   "cell_type": "code",
   "execution_count": 14,
   "id": "c8489a66",
   "metadata": {
    "ExecuteTime": {
     "end_time": "2024-03-07T14:05:27.268892Z",
     "start_time": "2024-03-07T14:05:27.251219Z"
    }
   },
   "outputs": [
    {
     "name": "stdout",
     "output_type": "stream",
     "text": [
      "안녕\n",
      "Hi\n"
     ]
    }
   ],
   "source": [
    "def 함수(문자열) :\n",
    "    print(문자열)\n",
    "\n",
    "함수(\"안녕\")\n",
    "함수(\"Hi\")"
   ]
  },
  {
   "cell_type": "code",
   "execution_count": null,
   "id": "4d0b5d7e",
   "metadata": {},
   "outputs": [],
   "source": [
    "# 212"
   ]
  },
  {
   "cell_type": "code",
   "execution_count": 15,
   "id": "adc74baf",
   "metadata": {
    "ExecuteTime": {
     "end_time": "2024-03-07T14:05:42.959567Z",
     "start_time": "2024-03-07T14:05:42.954742Z"
    }
   },
   "outputs": [
    {
     "name": "stdout",
     "output_type": "stream",
     "text": [
      "7\n",
      "15\n"
     ]
    }
   ],
   "source": [
    "def 함수(a, b) :\n",
    "    print(a + b)\n",
    "\n",
    "함수(3, 4)\n",
    "함수(7, 8)"
   ]
  },
  {
   "cell_type": "code",
   "execution_count": null,
   "id": "e679cd33",
   "metadata": {},
   "outputs": [],
   "source": [
    "# 213"
   ]
  },
  {
   "cell_type": "code",
   "execution_count": 17,
   "id": "10c852dc",
   "metadata": {
    "ExecuteTime": {
     "end_time": "2024-03-07T14:05:56.595509Z",
     "start_time": "2024-03-07T14:05:56.592721Z"
    }
   },
   "outputs": [],
   "source": [
    "def 함수(문자열) :\n",
    "    print(문자열)"
   ]
  },
  {
   "cell_type": "code",
   "execution_count": null,
   "id": "a0cf7342",
   "metadata": {},
   "outputs": [],
   "source": [
    "# 214"
   ]
  },
  {
   "cell_type": "code",
   "execution_count": 19,
   "id": "fa9e1b8d",
   "metadata": {
    "ExecuteTime": {
     "end_time": "2024-03-07T14:06:34.940531Z",
     "start_time": "2024-03-07T14:06:34.914385Z"
    }
   },
   "outputs": [
    {
     "ename": "TypeError",
     "evalue": "can only concatenate str (not \"int\") to str",
     "output_type": "error",
     "traceback": [
      "\u001b[1;31m---------------------------------------------------------------------------\u001b[0m",
      "\u001b[1;31mTypeError\u001b[0m                                 Traceback (most recent call last)",
      "Cell \u001b[1;32mIn[19], line 4\u001b[0m\n\u001b[0;32m      1\u001b[0m \u001b[38;5;28;01mdef\u001b[39;00m \u001b[38;5;21m함수\u001b[39m(a, b) :\n\u001b[0;32m      2\u001b[0m     \u001b[38;5;28mprint\u001b[39m(a \u001b[38;5;241m+\u001b[39m b)\n\u001b[1;32m----> 4\u001b[0m 함수(\u001b[38;5;124m\"\u001b[39m\u001b[38;5;124m안녕\u001b[39m\u001b[38;5;124m\"\u001b[39m, \u001b[38;5;241m3\u001b[39m)\n",
      "Cell \u001b[1;32mIn[19], line 2\u001b[0m, in \u001b[0;36m함수\u001b[1;34m(a, b)\u001b[0m\n\u001b[0;32m      1\u001b[0m \u001b[38;5;28;01mdef\u001b[39;00m \u001b[38;5;21m함수\u001b[39m(a, b) :\n\u001b[1;32m----> 2\u001b[0m     \u001b[38;5;28mprint\u001b[39m(a \u001b[38;5;241m+\u001b[39m b)\n",
      "\u001b[1;31mTypeError\u001b[0m: can only concatenate str (not \"int\") to str"
     ]
    }
   ],
   "source": [
    "def 함수(a, b) :\n",
    "    print(a + b) # 덧셈연산 의도 설계, 문자열+ 숫자는 인식X 에러가 발생 \n",
    "    \n",
    "함수(\"안녕\", 3)    "
   ]
  },
  {
   "cell_type": "code",
   "execution_count": null,
   "id": "a8c345e5",
   "metadata": {},
   "outputs": [],
   "source": [
    "# 215"
   ]
  },
  {
   "cell_type": "code",
   "execution_count": 21,
   "id": "8d477c59",
   "metadata": {
    "ExecuteTime": {
     "end_time": "2024-03-07T14:09:49.292850Z",
     "start_time": "2024-03-07T14:09:49.289194Z"
    }
   },
   "outputs": [],
   "source": [
    "def print_with_smile (string) :\n",
    "    print (string + \":D\")"
   ]
  },
  {
   "cell_type": "code",
   "execution_count": null,
   "id": "417d9c2f",
   "metadata": {},
   "outputs": [],
   "source": [
    "# 216"
   ]
  },
  {
   "cell_type": "code",
   "execution_count": 22,
   "id": "012bc7fa",
   "metadata": {
    "ExecuteTime": {
     "end_time": "2024-03-07T14:10:26.863559Z",
     "start_time": "2024-03-07T14:10:26.859774Z"
    }
   },
   "outputs": [
    {
     "name": "stdout",
     "output_type": "stream",
     "text": [
      "안녕하세요:D\n"
     ]
    }
   ],
   "source": [
    "print_with_smile(\"안녕하세요\")"
   ]
  },
  {
   "cell_type": "code",
   "execution_count": null,
   "id": "f076b131",
   "metadata": {},
   "outputs": [],
   "source": [
    "# 217"
   ]
  },
  {
   "cell_type": "code",
   "execution_count": 23,
   "id": "af67199c",
   "metadata": {
    "ExecuteTime": {
     "end_time": "2024-03-07T14:11:47.943910Z",
     "start_time": "2024-03-07T14:11:47.939185Z"
    }
   },
   "outputs": [],
   "source": [
    "def print_upper_price(price):\n",
    "    print(price * 1.3)    "
   ]
  },
  {
   "cell_type": "code",
   "execution_count": null,
   "id": "f3787cc2",
   "metadata": {},
   "outputs": [],
   "source": [
    "# 218"
   ]
  },
  {
   "cell_type": "code",
   "execution_count": 25,
   "id": "a93078d0",
   "metadata": {
    "ExecuteTime": {
     "end_time": "2024-03-07T14:12:49.020856Z",
     "start_time": "2024-03-07T14:12:49.016668Z"
    }
   },
   "outputs": [],
   "source": [
    "def print_sum (a, b):\n",
    "    print(a + b)"
   ]
  },
  {
   "cell_type": "code",
   "execution_count": null,
   "id": "2a048a06",
   "metadata": {},
   "outputs": [],
   "source": [
    "# 219"
   ]
  },
  {
   "cell_type": "code",
   "execution_count": 26,
   "id": "5ba1c129",
   "metadata": {
    "ExecuteTime": {
     "end_time": "2024-03-07T14:15:30.912276Z",
     "start_time": "2024-03-07T14:15:30.906602Z"
    }
   },
   "outputs": [],
   "source": [
    "def print_arithmetic_operation(a, b):\n",
    "    print(a, \"+\", b, \"=\", a + b)\n",
    "    print(a, \"-\", b, \"=\", a - b)\n",
    "    print(a, \"*\", b, \"=\", a * b)\n",
    "    print(a, \"/\", b, \"=\", a / b)"
   ]
  },
  {
   "cell_type": "code",
   "execution_count": 27,
   "id": "cee5b84e",
   "metadata": {
    "ExecuteTime": {
     "end_time": "2024-03-07T14:15:51.758754Z",
     "start_time": "2024-03-07T14:15:51.754700Z"
    }
   },
   "outputs": [
    {
     "name": "stdout",
     "output_type": "stream",
     "text": [
      "3 + 4 = 7\n",
      "3 - 4 = -1\n",
      "3 * 4 = 12\n",
      "3 / 4 = 0.75\n"
     ]
    }
   ],
   "source": [
    "print_arithmetic_operation(3, 4)"
   ]
  },
  {
   "cell_type": "code",
   "execution_count": null,
   "id": "e44123ce",
   "metadata": {},
   "outputs": [],
   "source": [
    "# 220"
   ]
  },
  {
   "cell_type": "code",
   "execution_count": 28,
   "id": "01fa4608",
   "metadata": {
    "ExecuteTime": {
     "end_time": "2024-03-07T14:16:24.360874Z",
     "start_time": "2024-03-07T14:16:24.354850Z"
    }
   },
   "outputs": [],
   "source": [
    "def print_max(a, b, c) :\n",
    "    max_val = 0\n",
    "    if a > max_val :\n",
    "        max_val = a\n",
    "    if b > max_val :\n",
    "        max_val = b\n",
    "    if c > max_val :\n",
    "        max_val = c\n",
    "    print(max_val)"
   ]
  },
  {
   "cell_type": "code",
   "execution_count": null,
   "id": "7b54070b",
   "metadata": {},
   "outputs": [],
   "source": [
    "# 221"
   ]
  },
  {
   "cell_type": "code",
   "execution_count": 38,
   "id": "f1de65be",
   "metadata": {
    "ExecuteTime": {
     "end_time": "2024-03-07T14:26:01.808052Z",
     "start_time": "2024-03-07T14:26:01.803607Z"
    }
   },
   "outputs": [],
   "source": [
    "def print_reverse(string) :\n",
    "    print(string[::-1])"
   ]
  },
  {
   "cell_type": "code",
   "execution_count": 39,
   "id": "72555934",
   "metadata": {
    "ExecuteTime": {
     "end_time": "2024-03-07T14:26:14.063127Z",
     "start_time": "2024-03-07T14:26:14.058507Z"
    }
   },
   "outputs": [
    {
     "name": "stdout",
     "output_type": "stream",
     "text": [
      "nohtyp\n"
     ]
    }
   ],
   "source": [
    "print_reverse(\"python\")"
   ]
  },
  {
   "cell_type": "code",
   "execution_count": null,
   "id": "975490ce",
   "metadata": {},
   "outputs": [],
   "source": [
    "# 222"
   ]
  },
  {
   "cell_type": "code",
   "execution_count": 40,
   "id": "5b2d300f",
   "metadata": {
    "ExecuteTime": {
     "end_time": "2024-03-07T14:27:09.023753Z",
     "start_time": "2024-03-07T14:27:09.019930Z"
    }
   },
   "outputs": [],
   "source": [
    "def print_score(score_list) :\n",
    "    print(sum(score_list)/len(score_list))"
   ]
  },
  {
   "cell_type": "code",
   "execution_count": 42,
   "id": "9716d9f7",
   "metadata": {
    "ExecuteTime": {
     "end_time": "2024-03-07T14:27:49.245125Z",
     "start_time": "2024-03-07T14:27:49.241233Z"
    }
   },
   "outputs": [
    {
     "name": "stdout",
     "output_type": "stream",
     "text": [
      "2.0\n"
     ]
    }
   ],
   "source": [
    "print_score([1, 2, 3])"
   ]
  },
  {
   "cell_type": "code",
   "execution_count": null,
   "id": "8d443f28",
   "metadata": {},
   "outputs": [],
   "source": [
    "# 223"
   ]
  },
  {
   "cell_type": "code",
   "execution_count": 43,
   "id": "55394141",
   "metadata": {
    "ExecuteTime": {
     "end_time": "2024-03-07T14:29:42.831559Z",
     "start_time": "2024-03-07T14:29:42.827716Z"
    }
   },
   "outputs": [],
   "source": [
    "def print_even (my_list) :\n",
    "    for i in my_list :\n",
    "        if i %2 == 0:\n",
    "            print(i)"
   ]
  },
  {
   "cell_type": "code",
   "execution_count": 44,
   "id": "a93a58ab",
   "metadata": {
    "ExecuteTime": {
     "end_time": "2024-03-07T14:29:54.745411Z",
     "start_time": "2024-03-07T14:29:54.740000Z"
    }
   },
   "outputs": [
    {
     "name": "stdout",
     "output_type": "stream",
     "text": [
      "2\n",
      "10\n",
      "12\n"
     ]
    }
   ],
   "source": [
    "print_even ([1, 3, 2, 10, 12, 11, 15])"
   ]
  },
  {
   "cell_type": "code",
   "execution_count": null,
   "id": "63dc8560",
   "metadata": {},
   "outputs": [],
   "source": [
    "# 224"
   ]
  },
  {
   "cell_type": "code",
   "execution_count": 47,
   "id": "8e752984",
   "metadata": {
    "ExecuteTime": {
     "end_time": "2024-03-07T14:31:23.197974Z",
     "start_time": "2024-03-07T14:31:23.194009Z"
    }
   },
   "outputs": [],
   "source": [
    "def print_keys(dic):\n",
    "    for keys in dic.keys():\n",
    "        print(keys)"
   ]
  },
  {
   "cell_type": "code",
   "execution_count": 48,
   "id": "6a703498",
   "metadata": {
    "ExecuteTime": {
     "end_time": "2024-03-07T14:31:26.431106Z",
     "start_time": "2024-03-07T14:31:26.427155Z"
    }
   },
   "outputs": [
    {
     "name": "stdout",
     "output_type": "stream",
     "text": [
      "이름\n",
      "나이\n",
      "성별\n"
     ]
    }
   ],
   "source": [
    "print_keys ({\"이름\":\"김말똥\", \"나이\":30, \"성별\":0})"
   ]
  },
  {
   "cell_type": "code",
   "execution_count": null,
   "id": "e61f7dd5",
   "metadata": {},
   "outputs": [],
   "source": [
    "# 225"
   ]
  },
  {
   "cell_type": "code",
   "execution_count": 50,
   "id": "1d868ca0",
   "metadata": {
    "ExecuteTime": {
     "end_time": "2024-03-07T14:32:45.598934Z",
     "start_time": "2024-03-07T14:32:45.595474Z"
    }
   },
   "outputs": [],
   "source": [
    "def print_value_by_key (my_dict, key) :\n",
    "    print(my_dict[key])"
   ]
  },
  {
   "cell_type": "code",
   "execution_count": 51,
   "id": "e8804be3",
   "metadata": {
    "ExecuteTime": {
     "end_time": "2024-03-07T14:32:56.127498Z",
     "start_time": "2024-03-07T14:32:56.123256Z"
    }
   },
   "outputs": [],
   "source": [
    "my_dict = {\"10/26\" : [100, 130, 100, 100],\n",
    "           \"10/27\" : [10, 12, 10, 11]}"
   ]
  },
  {
   "cell_type": "code",
   "execution_count": 52,
   "id": "416a79f8",
   "metadata": {
    "ExecuteTime": {
     "end_time": "2024-03-07T14:33:03.391422Z",
     "start_time": "2024-03-07T14:33:03.387522Z"
    }
   },
   "outputs": [
    {
     "name": "stdout",
     "output_type": "stream",
     "text": [
      "[100, 130, 100, 100]\n"
     ]
    }
   ],
   "source": [
    "print_value_by_key  (my_dict, \"10/26\")"
   ]
  },
  {
   "cell_type": "code",
   "execution_count": null,
   "id": "fa5f3cf5",
   "metadata": {},
   "outputs": [],
   "source": [
    "# 226"
   ]
  },
  {
   "cell_type": "code",
   "execution_count": 55,
   "id": "c845df77",
   "metadata": {
    "ExecuteTime": {
     "end_time": "2024-03-07T14:35:01.982931Z",
     "start_time": "2024-03-07T14:35:01.979598Z"
    }
   },
   "outputs": [],
   "source": [
    "def print_5xn(line):\n",
    "    chunk_num = int(len(line) / 5)\n",
    "    for x in range(chunk_num + 1) :\n",
    "        print(line[x * 5: x * 5 + 5])"
   ]
  },
  {
   "cell_type": "code",
   "execution_count": 56,
   "id": "5d76afe9",
   "metadata": {
    "ExecuteTime": {
     "end_time": "2024-03-07T14:35:17.023169Z",
     "start_time": "2024-03-07T14:35:17.018689Z"
    }
   },
   "outputs": [
    {
     "name": "stdout",
     "output_type": "stream",
     "text": [
      "아이엠어보\n",
      "이유알어걸\n",
      "\n"
     ]
    }
   ],
   "source": [
    "print_5xn(\"아이엠어보이유알어걸\")"
   ]
  },
  {
   "cell_type": "code",
   "execution_count": null,
   "id": "3c728c94",
   "metadata": {},
   "outputs": [],
   "source": [
    "# 227"
   ]
  },
  {
   "cell_type": "code",
   "execution_count": 69,
   "id": "950ae47d",
   "metadata": {
    "ExecuteTime": {
     "end_time": "2024-03-07T14:42:10.577695Z",
     "start_time": "2024-03-07T14:42:10.572524Z"
    }
   },
   "outputs": [],
   "source": [
    "def print_mxn(line, num):\n",
    "    chunk_num = int(len(line) / num)\n",
    "    for x in range(chunk_num + 1) :\n",
    "        print(line[x * num: x * num + num])"
   ]
  },
  {
   "cell_type": "code",
   "execution_count": 71,
   "id": "391b21c5",
   "metadata": {
    "ExecuteTime": {
     "end_time": "2024-03-07T14:42:26.050023Z",
     "start_time": "2024-03-07T14:42:26.045776Z"
    }
   },
   "outputs": [
    {
     "name": "stdout",
     "output_type": "stream",
     "text": [
      "아이엠\n",
      "어보이\n",
      "유알어\n",
      "걸\n"
     ]
    }
   ],
   "source": [
    "print_mxn(\"아이엠어보이유알어걸\", 3)"
   ]
  },
  {
   "cell_type": "code",
   "execution_count": null,
   "id": "e053052c",
   "metadata": {},
   "outputs": [],
   "source": [
    "# 228"
   ]
  },
  {
   "cell_type": "code",
   "execution_count": 67,
   "id": "51c2dda1",
   "metadata": {
    "ExecuteTime": {
     "end_time": "2024-03-07T14:41:45.167135Z",
     "start_time": "2024-03-07T14:41:45.163549Z"
    }
   },
   "outputs": [],
   "source": [
    "def calc_monthly_salary(annual_pay) :\n",
    "    monthly_pay = int(annual_pay / 12)\n",
    "    return monthly_pay"
   ]
  },
  {
   "cell_type": "code",
   "execution_count": 68,
   "id": "624763b2",
   "metadata": {
    "ExecuteTime": {
     "end_time": "2024-03-07T14:41:54.509094Z",
     "start_time": "2024-03-07T14:41:54.499729Z"
    }
   },
   "outputs": [
    {
     "data": {
      "text/plain": [
       "1000000"
      ]
     },
     "execution_count": 68,
     "metadata": {},
     "output_type": "execute_result"
    }
   ],
   "source": [
    "calc_monthly_salary(12000000)"
   ]
  },
  {
   "cell_type": "code",
   "execution_count": null,
   "id": "5f4b142d",
   "metadata": {},
   "outputs": [],
   "source": [
    "# 229"
   ]
  },
  {
   "cell_type": "code",
   "execution_count": 72,
   "id": "f28cccf4",
   "metadata": {
    "ExecuteTime": {
     "end_time": "2024-03-07T14:42:58.488790Z",
     "start_time": "2024-03-07T14:42:58.483421Z"
    }
   },
   "outputs": [
    {
     "name": "stdout",
     "output_type": "stream",
     "text": [
      "왼쪽: 100\n",
      "오른쪽: 200\n"
     ]
    }
   ],
   "source": [
    "def my_print (a, b) :\n",
    "    print(\"왼쪽:\", a)\n",
    "    print(\"오른쪽:\", b)\n",
    "\n",
    "my_print(a=100, b=200)"
   ]
  },
  {
   "cell_type": "code",
   "execution_count": null,
   "id": "12dbd5a4",
   "metadata": {},
   "outputs": [],
   "source": [
    "# 230"
   ]
  },
  {
   "cell_type": "code",
   "execution_count": 73,
   "id": "21b7cca8",
   "metadata": {
    "ExecuteTime": {
     "end_time": "2024-03-07T14:43:10.521713Z",
     "start_time": "2024-03-07T14:43:10.516544Z"
    }
   },
   "outputs": [
    {
     "name": "stdout",
     "output_type": "stream",
     "text": [
      "왼쪽: 200\n",
      "오른쪽: 100\n"
     ]
    }
   ],
   "source": [
    "def my_print (a, b) :\n",
    "    print(\"왼쪽:\", a)\n",
    "    print(\"오른쪽:\", b)\n",
    "\n",
    "my_print(b=100, a=200)"
   ]
  },
  {
   "cell_type": "code",
   "execution_count": null,
   "id": "ea943eb1",
   "metadata": {},
   "outputs": [],
   "source": [
    "# 231"
   ]
  },
  {
   "cell_type": "code",
   "execution_count": 74,
   "id": "07430ca3",
   "metadata": {
    "ExecuteTime": {
     "end_time": "2024-03-07T14:43:55.781209Z",
     "start_time": "2024-03-07T14:43:55.756089Z"
    }
   },
   "outputs": [
    {
     "ename": "NameError",
     "evalue": "name 'result' is not defined",
     "output_type": "error",
     "traceback": [
      "\u001b[1;31m---------------------------------------------------------------------------\u001b[0m",
      "\u001b[1;31mNameError\u001b[0m                                 Traceback (most recent call last)",
      "Cell \u001b[1;32mIn[74], line 5\u001b[0m\n\u001b[0;32m      2\u001b[0m     result \u001b[38;5;241m=\u001b[39m n \u001b[38;5;241m+\u001b[39m \u001b[38;5;241m1\u001b[39m\n\u001b[0;32m      4\u001b[0m n_plus_1(\u001b[38;5;241m3\u001b[39m)\n\u001b[1;32m----> 5\u001b[0m \u001b[38;5;28mprint\u001b[39m (result)\n",
      "\u001b[1;31mNameError\u001b[0m: name 'result' is not defined"
     ]
    }
   ],
   "source": [
    "def n_plus_1 (n) :\n",
    "    result = n + 1\n",
    "\n",
    "n_plus_1(3)\n",
    "print (result)   #return "
   ]
  },
  {
   "cell_type": "code",
   "execution_count": null,
   "id": "a3bda8c8",
   "metadata": {},
   "outputs": [],
   "source": [
    "# 232"
   ]
  },
  {
   "cell_type": "code",
   "execution_count": 75,
   "id": "ee52934f",
   "metadata": {
    "ExecuteTime": {
     "end_time": "2024-03-07T14:45:14.713234Z",
     "start_time": "2024-03-07T14:45:14.709444Z"
    }
   },
   "outputs": [],
   "source": [
    "def make_url(string) :\n",
    "    url = \"www.\" + string + \".com\"\n",
    "    return url"
   ]
  },
  {
   "cell_type": "code",
   "execution_count": 76,
   "id": "56d8258e",
   "metadata": {
    "ExecuteTime": {
     "end_time": "2024-03-07T14:45:21.841333Z",
     "start_time": "2024-03-07T14:45:21.835962Z"
    },
    "scrolled": true
   },
   "outputs": [
    {
     "data": {
      "text/plain": [
       "'www.naver.com'"
      ]
     },
     "execution_count": 76,
     "metadata": {},
     "output_type": "execute_result"
    }
   ],
   "source": [
    "make_url(\"naver\")"
   ]
  },
  {
   "cell_type": "code",
   "execution_count": 77,
   "id": "28a92d74",
   "metadata": {
    "ExecuteTime": {
     "end_time": "2024-03-07T14:45:47.178719Z",
     "start_time": "2024-03-07T14:45:47.173019Z"
    }
   },
   "outputs": [
    {
     "data": {
      "text/plain": [
       "'www.google.com'"
      ]
     },
     "execution_count": 77,
     "metadata": {},
     "output_type": "execute_result"
    }
   ],
   "source": [
    "make_url(\"google\")"
   ]
  },
  {
   "cell_type": "code",
   "execution_count": null,
   "id": "4844405c",
   "metadata": {},
   "outputs": [],
   "source": [
    "# 233"
   ]
  },
  {
   "cell_type": "code",
   "execution_count": 78,
   "id": "a084aa0a",
   "metadata": {
    "ExecuteTime": {
     "end_time": "2024-03-07T14:47:42.217238Z",
     "start_time": "2024-03-07T14:47:42.212820Z"
    }
   },
   "outputs": [],
   "source": [
    "def make_list(string):\n",
    "    my_list = []\n",
    "    for 변수 in string:\n",
    "        my_list.append(변수)\n",
    "    return my_list"
   ]
  },
  {
   "cell_type": "code",
   "execution_count": 79,
   "id": "d0600041",
   "metadata": {
    "ExecuteTime": {
     "end_time": "2024-03-07T14:48:08.561653Z",
     "start_time": "2024-03-07T14:48:08.555937Z"
    }
   },
   "outputs": [
    {
     "data": {
      "text/plain": [
       "['a', 'b', 'c', 'd']"
      ]
     },
     "execution_count": 79,
     "metadata": {},
     "output_type": "execute_result"
    }
   ],
   "source": [
    "make_list(\"abcd\")"
   ]
  },
  {
   "cell_type": "code",
   "execution_count": null,
   "id": "5ca61a31",
   "metadata": {},
   "outputs": [],
   "source": [
    "# 234"
   ]
  },
  {
   "cell_type": "code",
   "execution_count": 80,
   "id": "ca7f9fe6",
   "metadata": {
    "ExecuteTime": {
     "end_time": "2024-03-07T14:49:23.064951Z",
     "start_time": "2024-03-07T14:49:23.060788Z"
    }
   },
   "outputs": [],
   "source": [
    "def pickup_even(items):\n",
    "    result = []\n",
    "    for item in items:\n",
    "        if item % 2 == 0:\n",
    "            result.append(item)\n",
    "    return result        "
   ]
  },
  {
   "cell_type": "code",
   "execution_count": 81,
   "id": "3e58974c",
   "metadata": {
    "ExecuteTime": {
     "end_time": "2024-03-07T14:49:30.513345Z",
     "start_time": "2024-03-07T14:49:30.508818Z"
    }
   },
   "outputs": [
    {
     "data": {
      "text/plain": [
       "[4, 6, 8]"
      ]
     },
     "execution_count": 81,
     "metadata": {},
     "output_type": "execute_result"
    }
   ],
   "source": [
    "pickup_even([3, 4, 5, 6, 7, 8])"
   ]
  },
  {
   "cell_type": "code",
   "execution_count": null,
   "id": "ab5b8313",
   "metadata": {},
   "outputs": [],
   "source": [
    "# 235"
   ]
  },
  {
   "cell_type": "code",
   "execution_count": 82,
   "id": "d3f9ac37",
   "metadata": {
    "ExecuteTime": {
     "end_time": "2024-03-07T14:50:36.737066Z",
     "start_time": "2024-03-07T14:50:36.732975Z"
    }
   },
   "outputs": [],
   "source": [
    "def convert_int (string):\n",
    "    return int(string.replace(',', ''))    "
   ]
  },
  {
   "cell_type": "code",
   "execution_count": 83,
   "id": "473cf23a",
   "metadata": {
    "ExecuteTime": {
     "end_time": "2024-03-07T14:50:44.184184Z",
     "start_time": "2024-03-07T14:50:44.178536Z"
    }
   },
   "outputs": [
    {
     "data": {
      "text/plain": [
       "1234567"
      ]
     },
     "execution_count": 83,
     "metadata": {},
     "output_type": "execute_result"
    }
   ],
   "source": [
    "convert_int(\"1,234,567\")"
   ]
  },
  {
   "cell_type": "code",
   "execution_count": null,
   "id": "c28a5795",
   "metadata": {},
   "outputs": [],
   "source": [
    "# 236"
   ]
  },
  {
   "cell_type": "code",
   "execution_count": 84,
   "id": "f164f694",
   "metadata": {
    "ExecuteTime": {
     "end_time": "2024-03-07T14:51:07.586372Z",
     "start_time": "2024-03-07T14:51:07.581848Z"
    }
   },
   "outputs": [
    {
     "name": "stdout",
     "output_type": "stream",
     "text": [
      "22\n"
     ]
    }
   ],
   "source": [
    "def 함수(num) :\n",
    "    return num + 4\n",
    "\n",
    "a = 함수(10)\n",
    "b = 함수(a)\n",
    "c = 함수(b)\n",
    "print(c)"
   ]
  },
  {
   "cell_type": "code",
   "execution_count": null,
   "id": "01e28bd8",
   "metadata": {},
   "outputs": [],
   "source": [
    "# 237"
   ]
  },
  {
   "cell_type": "code",
   "execution_count": 85,
   "id": "88736263",
   "metadata": {
    "ExecuteTime": {
     "end_time": "2024-03-07T14:52:02.426044Z",
     "start_time": "2024-03-07T14:52:02.421930Z"
    }
   },
   "outputs": [
    {
     "name": "stdout",
     "output_type": "stream",
     "text": [
      "22\n"
     ]
    }
   ],
   "source": [
    "def 함수(num) :\n",
    "    return num + 4\n",
    "\n",
    "c = 함수(함수(함수(10)))\n",
    "print(c)"
   ]
  },
  {
   "cell_type": "code",
   "execution_count": null,
   "id": "b06cabfe",
   "metadata": {},
   "outputs": [],
   "source": [
    "# 238"
   ]
  },
  {
   "cell_type": "code",
   "execution_count": 86,
   "id": "fb2b4713",
   "metadata": {
    "ExecuteTime": {
     "end_time": "2024-03-07T14:52:47.281528Z",
     "start_time": "2024-03-07T14:52:47.268907Z"
    }
   },
   "outputs": [
    {
     "name": "stdout",
     "output_type": "stream",
     "text": [
      "140\n"
     ]
    }
   ],
   "source": [
    "def 함수1(num) :\n",
    "    return num + 4\n",
    "\n",
    "def 함수2(num) :\n",
    "    return num * 10\n",
    "\n",
    "a = 함수1(10)\n",
    "c = 함수2(a)\n",
    "print(c)"
   ]
  },
  {
   "cell_type": "code",
   "execution_count": null,
   "id": "daf1ad02",
   "metadata": {},
   "outputs": [],
   "source": [
    "# 239"
   ]
  },
  {
   "cell_type": "code",
   "execution_count": 87,
   "id": "a90fa53e",
   "metadata": {
    "ExecuteTime": {
     "end_time": "2024-03-07T14:53:19.834877Z",
     "start_time": "2024-03-07T14:53:19.829222Z"
    }
   },
   "outputs": [
    {
     "name": "stdout",
     "output_type": "stream",
     "text": [
      "16\n"
     ]
    }
   ],
   "source": [
    "def 함수1(num) :\n",
    "    return num + 4\n",
    "\n",
    "def 함수2(num) :\n",
    "    num = num + 2\n",
    "    return 함수1(num)\n",
    "\n",
    "c = 함수2(10)\n",
    "print(c)"
   ]
  },
  {
   "cell_type": "code",
   "execution_count": null,
   "id": "77d7c7e0",
   "metadata": {},
   "outputs": [],
   "source": [
    "# 240"
   ]
  },
  {
   "cell_type": "code",
   "execution_count": 88,
   "id": "26ec341b",
   "metadata": {
    "ExecuteTime": {
     "end_time": "2024-03-07T14:53:28.291068Z",
     "start_time": "2024-03-07T14:53:28.285306Z"
    }
   },
   "outputs": [
    {
     "name": "stdout",
     "output_type": "stream",
     "text": [
      "28\n"
     ]
    }
   ],
   "source": [
    "def 함수0(num) :\n",
    "    return num * 2\n",
    "\n",
    "def 함수1(num) :\n",
    "    return 함수0(num + 2)\n",
    "\n",
    "def 함수2(num) :\n",
    "    num = num + 10\n",
    "    return 함수1(num)\n",
    "\n",
    "c = 함수2(2)\n",
    "print(c)"
   ]
  },
  {
   "cell_type": "code",
   "execution_count": null,
   "id": "d0addb1a",
   "metadata": {},
   "outputs": [],
   "source": [
    "# 251 "
   ]
  },
  {
   "cell_type": "code",
   "execution_count": null,
   "id": "a0d18df9",
   "metadata": {},
   "outputs": [],
   "source": [
    "# 클래스 = 과자틀, 객체 = 과자 틀로 찍어낸 과자 "
   ]
  },
  {
   "cell_type": "code",
   "execution_count": null,
   "id": "46f12aa0",
   "metadata": {},
   "outputs": [],
   "source": [
    "# 252"
   ]
  },
  {
   "cell_type": "code",
   "execution_count": 1,
   "id": "f4fb0085",
   "metadata": {
    "ExecuteTime": {
     "end_time": "2024-03-11T13:25:32.472379Z",
     "start_time": "2024-03-11T13:25:32.468943Z"
    }
   },
   "outputs": [],
   "source": [
    "class Human:\n",
    "    pass"
   ]
  },
  {
   "cell_type": "code",
   "execution_count": null,
   "id": "d86fbec1",
   "metadata": {},
   "outputs": [],
   "source": [
    "# 253"
   ]
  },
  {
   "cell_type": "code",
   "execution_count": 2,
   "id": "f0cb84de",
   "metadata": {
    "ExecuteTime": {
     "end_time": "2024-03-11T13:26:11.277738Z",
     "start_time": "2024-03-11T13:26:11.273244Z"
    }
   },
   "outputs": [],
   "source": [
    "areum = Human()"
   ]
  },
  {
   "cell_type": "code",
   "execution_count": null,
   "id": "658a2256",
   "metadata": {},
   "outputs": [],
   "source": [
    "# 254"
   ]
  },
  {
   "cell_type": "code",
   "execution_count": 5,
   "id": "6b079ca3",
   "metadata": {
    "ExecuteTime": {
     "end_time": "2024-03-11T13:27:39.318866Z",
     "start_time": "2024-03-11T13:27:39.314045Z"
    }
   },
   "outputs": [
    {
     "name": "stdout",
     "output_type": "stream",
     "text": [
      "응애응애\n"
     ]
    }
   ],
   "source": [
    "class Human:\n",
    "    def __init__(self):\n",
    "        print(\"응애응애\")\n",
    "\n",
    "areum = Human()"
   ]
  },
  {
   "cell_type": "code",
   "execution_count": null,
   "id": "21a7468f",
   "metadata": {},
   "outputs": [],
   "source": [
    "#  255"
   ]
  },
  {
   "cell_type": "code",
   "execution_count": 10,
   "id": "557d6dc6",
   "metadata": {
    "ExecuteTime": {
     "end_time": "2024-03-11T13:43:22.183740Z",
     "start_time": "2024-03-11T13:43:22.177879Z"
    }
   },
   "outputs": [
    {
     "name": "stdout",
     "output_type": "stream",
     "text": [
      "아름\n"
     ]
    }
   ],
   "source": [
    "class Human:\n",
    "    def __init__(self, name, age, gender):\n",
    "        self.name = name\n",
    "        self.age = age\n",
    "        self.gender = gender\n",
    "        \n",
    "areum = Human(\"아름\", 25, \"여자\")\n",
    "print(areum.name)        "
   ]
  },
  {
   "cell_type": "code",
   "execution_count": 7,
   "id": "bf384921",
   "metadata": {
    "ExecuteTime": {
     "end_time": "2024-03-11T13:41:55.743432Z",
     "start_time": "2024-03-11T13:41:55.737418Z"
    }
   },
   "outputs": [
    {
     "name": "stdout",
     "output_type": "stream",
     "text": [
      "아름\n"
     ]
    }
   ],
   "source": [
    "class Human:\n",
    "    def __init__(self, name, age, sex):\n",
    "        self.name = name\n",
    "        self.age = age\n",
    "        self.sex = sex\n",
    "\n",
    "areum = Human(\"아름\", 25, \"여자\")\n",
    "print(areum.name)"
   ]
  },
  {
   "cell_type": "code",
   "execution_count": null,
   "id": "633d00b7",
   "metadata": {},
   "outputs": [],
   "source": [
    "# 256"
   ]
  },
  {
   "cell_type": "code",
   "execution_count": 11,
   "id": "9290f5c6",
   "metadata": {
    "ExecuteTime": {
     "end_time": "2024-03-11T13:44:23.792902Z",
     "start_time": "2024-03-11T13:44:23.786773Z"
    }
   },
   "outputs": [
    {
     "name": "stdout",
     "output_type": "stream",
     "text": [
      "25\n"
     ]
    }
   ],
   "source": [
    "class Human:\n",
    "    def __init__(self, name, age, sex):\n",
    "        self.name = name\n",
    "        self.age = age\n",
    "        self.sex = sex\n",
    "\n",
    "areum = Human(\"아름\", 25, \"여자\")\n",
    "print(areum.age)"
   ]
  },
  {
   "cell_type": "code",
   "execution_count": null,
   "id": "b4dfe53f",
   "metadata": {},
   "outputs": [],
   "source": [
    "# 257"
   ]
  },
  {
   "cell_type": "code",
   "execution_count": 12,
   "id": "9528dc31",
   "metadata": {
    "ExecuteTime": {
     "end_time": "2024-03-11T13:51:35.837491Z",
     "start_time": "2024-03-11T13:51:35.832115Z"
    },
    "scrolled": false
   },
   "outputs": [
    {
     "name": "stdout",
     "output_type": "stream",
     "text": [
      "이름:아름, 나이:25, 성별:여자\n"
     ]
    }
   ],
   "source": [
    "class Human:\n",
    "    def __init__(self, name, age, sex):\n",
    "        self.name = name\n",
    "        self.age = age\n",
    "        self.sex = sex\n",
    "        \n",
    "    def who(self):\n",
    "        print(\"이름:{}, 나이:{}, 성별:{}\".format(self.name, self.age, self.sex))\n",
    "        \n",
    "areum = Human(\"아름\", 25, \"여자\")\n",
    "areum.who()"
   ]
  },
  {
   "cell_type": "code",
   "execution_count": null,
   "id": "77e6ef39",
   "metadata": {},
   "outputs": [],
   "source": [
    "# 258"
   ]
  },
  {
   "cell_type": "code",
   "execution_count": 15,
   "id": "7055b37d",
   "metadata": {
    "ExecuteTime": {
     "end_time": "2024-03-11T13:55:22.791968Z",
     "start_time": "2024-03-11T13:55:22.784289Z"
    },
    "scrolled": true
   },
   "outputs": [
    {
     "name": "stdout",
     "output_type": "stream",
     "text": [
      "이름:불명, 나이:미상, 성별:모름\n",
      "이름:아름, 나이:25, 성별:여자\n"
     ]
    }
   ],
   "source": [
    "class Human:\n",
    "    def __init__(self, name, age, sex):\n",
    "        self.name = name\n",
    "        self.age = age\n",
    "        self.sex = sex\n",
    "        \n",
    "    def who(self):\n",
    "        print(\"이름:{}, 나이:{}, 성별:{}\".format(self.name, self.age, self.sex))\n",
    "        \n",
    "    def setInfo(self, name, age, sex):\n",
    "        self.name = name\n",
    "        self.age = age\n",
    "        self.sex = sex\n",
    "        \n",
    "areum = Human(\"불명\", \"미상\", \"모름\")\n",
    "areum.who()\n",
    "\n",
    "areum .setInfo(\"아름\", 25, \"여자\")\n",
    "areum.who()"
   ]
  },
  {
   "cell_type": "code",
   "execution_count": 16,
   "id": "8ad710c2",
   "metadata": {
    "ExecuteTime": {
     "end_time": "2024-03-11T13:55:33.001816Z",
     "start_time": "2024-03-11T13:55:32.994666Z"
    }
   },
   "outputs": [
    {
     "name": "stdout",
     "output_type": "stream",
     "text": [
      "이름: 불명 나이: 미상 성별: 모름\n",
      "이름: 아름 나이: 25 성별: 여자\n"
     ]
    }
   ],
   "source": [
    "class Human:\n",
    "    def __init__(self, name, age, sex):\n",
    "        self.name = name\n",
    "        self.age = age\n",
    "        self.sex = sex\n",
    "\n",
    "    def who(self):\n",
    "        print(\"이름: {} 나이: {} 성별: {}\".format(self.name, self.age, self.sex))\n",
    "\n",
    "    def setInfo(self, name, age, sex):\n",
    "        self.name = name\n",
    "        self.age = age\n",
    "        self.sex = sex\n",
    "\n",
    "\n",
    "areum = Human(\"불명\", \"미상\", \"모름\")\n",
    "areum.who()      # Human.who(areum)\n",
    "\n",
    "areum.setInfo(\"아름\", 25, \"여자\")\n",
    "areum.who()      # Human.who(areum)\n"
   ]
  },
  {
   "cell_type": "code",
   "execution_count": null,
   "id": "1096eaad",
   "metadata": {},
   "outputs": [],
   "source": [
    "# 259"
   ]
  },
  {
   "cell_type": "code",
   "execution_count": 17,
   "id": "e42199e0",
   "metadata": {
    "ExecuteTime": {
     "end_time": "2024-03-11T13:59:22.946716Z",
     "start_time": "2024-03-11T13:59:22.938543Z"
    },
    "scrolled": true
   },
   "outputs": [
    {
     "name": "stdout",
     "output_type": "stream",
     "text": [
      "나의 죽음을 알리지마라\n"
     ]
    }
   ],
   "source": [
    "class Human:\n",
    "    def __init__(self, name, age, sex):\n",
    "        self.name = name\n",
    "        self.age = age\n",
    "        self.sex = sex\n",
    "\n",
    "    def __del__(self):\n",
    "        print(\"나의 죽음을 알리지마라\")\n",
    "        \n",
    "        \n",
    "    def who(self):\n",
    "        print(\"이름: {} 나이: {} 성별: {}\".format(self.name, self.age, self.sex))\n",
    "        \n",
    "    def setInfo(self, name, age, sex):\n",
    "        self.name = name\n",
    "        self.age = age\n",
    "        self.sex = sex        \n",
    "\n",
    "areum = Human(\"아름\", 25, \"여자\")\n",
    "del(areum)"
   ]
  },
  {
   "cell_type": "code",
   "execution_count": null,
   "id": "89eb6124",
   "metadata": {},
   "outputs": [],
   "source": [
    "# 260"
   ]
  },
  {
   "cell_type": "code",
   "execution_count": 21,
   "id": "9c74cab2",
   "metadata": {
    "ExecuteTime": {
     "end_time": "2024-03-11T14:00:43.355853Z",
     "start_time": "2024-03-11T14:00:43.350878Z"
    }
   },
   "outputs": [
    {
     "ename": "IndentationError",
     "evalue": "unindent does not match any outer indentation level (<tokenize>, line 5)",
     "output_type": "error",
     "traceback": [
      "\u001b[1;36m  File \u001b[1;32m<tokenize>:5\u001b[1;36m\u001b[0m\n\u001b[1;33m    myStock = OMG()\u001b[0m\n\u001b[1;37m    ^\u001b[0m\n\u001b[1;31mIndentationError\u001b[0m\u001b[1;31m:\u001b[0m unindent does not match any outer indentation level\n"
     ]
    }
   ],
   "source": [
    "class OMG : \n",
    "    def print() :\n",
    "        print(\"Oh my god\")\n",
    "\n",
    " myStock = OMG()\n",
    " myStock.print()\n",
    "TypeError Traceback (most recent call last)\n",
    "<ipython-input-233-c85c04535b22> in <module>()\n",
    "----> myStock.print()\n",
    "\n",
    "TypeError: print() takes 0 positional arguments but 1 was given"
   ]
  },
  {
   "cell_type": "code",
   "execution_count": null,
   "id": "2362c65a",
   "metadata": {},
   "outputs": [],
   "source": [
    "# 261"
   ]
  },
  {
   "cell_type": "code",
   "execution_count": 22,
   "id": "2d65a8ea",
   "metadata": {
    "ExecuteTime": {
     "end_time": "2024-03-11T14:01:18.562069Z",
     "start_time": "2024-03-11T14:01:18.557592Z"
    }
   },
   "outputs": [],
   "source": [
    "class Stock:\n",
    "    pass"
   ]
  },
  {
   "cell_type": "code",
   "execution_count": null,
   "id": "f766ad04",
   "metadata": {},
   "outputs": [],
   "source": [
    "# 262"
   ]
  },
  {
   "cell_type": "code",
   "execution_count": 23,
   "id": "f0986577",
   "metadata": {
    "ExecuteTime": {
     "end_time": "2024-03-11T14:02:40.696813Z",
     "start_time": "2024-03-11T14:02:40.683424Z"
    },
    "scrolled": false
   },
   "outputs": [
    {
     "name": "stdout",
     "output_type": "stream",
     "text": [
      "삼성전자\n",
      "005930\n"
     ]
    }
   ],
   "source": [
    "class Stock:\n",
    "    def __init__(self, name, code):\n",
    "        self.name = name\n",
    "        self.code = code\n",
    "        \n",
    "\n",
    "삼성 = Stock(\"삼성전자\", \"005930\")\n",
    "print(삼성.name)\n",
    "print(삼성.code)"
   ]
  },
  {
   "cell_type": "code",
   "execution_count": null,
   "id": "3ced6ebf",
   "metadata": {},
   "outputs": [],
   "source": [
    "# 263"
   ]
  },
  {
   "cell_type": "code",
   "execution_count": 28,
   "id": "b3464331",
   "metadata": {
    "ExecuteTime": {
     "end_time": "2024-03-11T14:06:53.728848Z",
     "start_time": "2024-03-11T14:06:53.722797Z"
    }
   },
   "outputs": [
    {
     "name": "stdout",
     "output_type": "stream",
     "text": [
      "삼성전자\n"
     ]
    }
   ],
   "source": [
    "class Stock:\n",
    "    def __init__(self, name, code):\n",
    "        self.name = name\n",
    "        self.code = code\n",
    "\n",
    "    def set_name(self, name):\n",
    "        self.name = name\n",
    "\n",
    "a = Stock(None, None)\n",
    "a.set_name(\"삼성전자\")\n",
    "print(a.name)"
   ]
  },
  {
   "cell_type": "code",
   "execution_count": null,
   "id": "32270b0e",
   "metadata": {},
   "outputs": [],
   "source": [
    "# 264"
   ]
  },
  {
   "cell_type": "code",
   "execution_count": 27,
   "id": "9bd22876",
   "metadata": {
    "ExecuteTime": {
     "end_time": "2024-03-11T14:06:19.939109Z",
     "start_time": "2024-03-11T14:06:19.932929Z"
    }
   },
   "outputs": [
    {
     "name": "stdout",
     "output_type": "stream",
     "text": [
      "005930\n"
     ]
    }
   ],
   "source": [
    "class Stock:\n",
    "    def __init__(self, name, code):\n",
    "        self.name = name\n",
    "        self.code = code\n",
    "        \n",
    "    def set_name(self, name):\n",
    "        self.name = name\n",
    "        \n",
    "    def set_code(self, code):\n",
    "        self.code = code\n",
    "        \n",
    "a = Stock(None, None)\n",
    "a.set_code(\"005930\")\n",
    "print(a.code)"
   ]
  },
  {
   "cell_type": "code",
   "execution_count": null,
   "id": "3bdf8192",
   "metadata": {},
   "outputs": [],
   "source": [
    "# 265"
   ]
  },
  {
   "cell_type": "code",
   "execution_count": 29,
   "id": "f64adca3",
   "metadata": {
    "ExecuteTime": {
     "end_time": "2024-03-11T14:09:26.755122Z",
     "start_time": "2024-03-11T14:09:26.746986Z"
    },
    "scrolled": true
   },
   "outputs": [
    {
     "name": "stdout",
     "output_type": "stream",
     "text": [
      "삼성전자\n",
      "005930\n",
      "삼성전자\n",
      "005930\n"
     ]
    }
   ],
   "source": [
    "class Stock:\n",
    "    def __init__(self, name, code):\n",
    "        self.name = name\n",
    "        self.code = code\n",
    "        \n",
    "    def set_name(self, name):\n",
    "        self.name = name\n",
    "        \n",
    "    def set_code(self, code):\n",
    "        self.code = code\n",
    "        \n",
    "    def get_name(self):\n",
    "        return self.name\n",
    "        \n",
    "    def get_code(self):\n",
    "        return self.code    \n",
    "        \n",
    "삼성 = Stock(\"삼성전자\", \"005930\")     \n",
    "print(삼성.name)\n",
    "print(삼성.code)\n",
    "print(삼성.get_name())\n",
    "print(삼성.get_code())        "
   ]
  },
  {
   "cell_type": "code",
   "execution_count": null,
   "id": "8fb803c9",
   "metadata": {},
   "outputs": [],
   "source": [
    "# 266"
   ]
  },
  {
   "cell_type": "code",
   "execution_count": 31,
   "id": "aa973d8c",
   "metadata": {
    "ExecuteTime": {
     "end_time": "2024-03-11T14:10:28.672804Z",
     "start_time": "2024-03-11T14:10:28.666682Z"
    }
   },
   "outputs": [],
   "source": [
    "class Stock:\n",
    "    def __init__(self, name, code, per, pbr, 배당수익률):\n",
    "        self.name = name\n",
    "        self.code = code\n",
    "        self.per = per\n",
    "        self.pbr = pbr\n",
    "        self.배당수익률 = 배당수익률\n",
    "\n",
    "    def set_name(self, name):\n",
    "        self.name = name\n",
    "\n",
    "    def set_code(self, code):\n",
    "        self.code = code\n",
    "\n",
    "    def get_name(self):\n",
    "        return self.name\n",
    "\n",
    "    def get_code(self):\n",
    "        return self.code"
   ]
  },
  {
   "cell_type": "code",
   "execution_count": null,
   "id": "3ff4edc6",
   "metadata": {},
   "outputs": [],
   "source": [
    "# 267"
   ]
  },
  {
   "cell_type": "code",
   "execution_count": 32,
   "id": "4d31ecdd",
   "metadata": {
    "ExecuteTime": {
     "end_time": "2024-03-11T14:10:33.560767Z",
     "start_time": "2024-03-11T14:10:33.556893Z"
    }
   },
   "outputs": [
    {
     "name": "stdout",
     "output_type": "stream",
     "text": [
      "2.83\n"
     ]
    }
   ],
   "source": [
    "삼성 = Stock(\"삼성전자\", \"005930\", 15.79, 1.33, 2.83)\n",
    "print(삼성.배당수익률)"
   ]
  },
  {
   "cell_type": "code",
   "execution_count": null,
   "id": "7fd16bd0",
   "metadata": {},
   "outputs": [],
   "source": [
    "# 268"
   ]
  },
  {
   "cell_type": "code",
   "execution_count": 33,
   "id": "7947b6a4",
   "metadata": {
    "ExecuteTime": {
     "end_time": "2024-03-11T14:10:44.597069Z",
     "start_time": "2024-03-11T14:10:44.589021Z"
    }
   },
   "outputs": [],
   "source": [
    "class Stock:\n",
    "    def __init__(self, name, code, per, pbr, dividend):\n",
    "        self.name = name\n",
    "        self.code = code\n",
    "        self.per = per\n",
    "        self.pbr = pbr\n",
    "        self.dividend = dividend\n",
    "\n",
    "    def set_name(self, name):\n",
    "        self.name = name\n",
    "\n",
    "    def set_code(self, code):\n",
    "        self.code = code\n",
    "\n",
    "    def get_name(self):\n",
    "        return self.name\n",
    "\n",
    "    def get_code(self):\n",
    "        return self.code\n",
    "\n",
    "    def set_per(self, per):\n",
    "        self.per = per\n",
    "\n",
    "    def set_pbr(self, pbr):\n",
    "        self.pbr = pbr\n",
    "\n",
    "    def set_dividend(self, dividend):\n",
    "        self.dividend = dividend"
   ]
  },
  {
   "cell_type": "code",
   "execution_count": null,
   "id": "58422110",
   "metadata": {},
   "outputs": [],
   "source": [
    "# 269"
   ]
  },
  {
   "cell_type": "code",
   "execution_count": 34,
   "id": "794eea5a",
   "metadata": {
    "ExecuteTime": {
     "end_time": "2024-03-11T14:10:54.609667Z",
     "start_time": "2024-03-11T14:10:54.603973Z"
    }
   },
   "outputs": [
    {
     "name": "stdout",
     "output_type": "stream",
     "text": [
      "12.75\n"
     ]
    }
   ],
   "source": [
    "삼성 = Stock(\"삼성전자\", \"005930\", 15.79, 1.33, 2.83)\n",
    "삼성.set_per(12.75)\n",
    "print(삼성.per)"
   ]
  },
  {
   "cell_type": "code",
   "execution_count": null,
   "id": "fc027fea",
   "metadata": {},
   "outputs": [],
   "source": [
    "# 270"
   ]
  },
  {
   "cell_type": "code",
   "execution_count": 35,
   "id": "b71593b7",
   "metadata": {
    "ExecuteTime": {
     "end_time": "2024-03-11T14:11:09.706663Z",
     "start_time": "2024-03-11T14:11:09.694362Z"
    }
   },
   "outputs": [
    {
     "name": "stdout",
     "output_type": "stream",
     "text": [
      "005930 15.79\n",
      "005380 8.7\n",
      "066570 317.34\n"
     ]
    }
   ],
   "source": [
    "종목 = []\n",
    "\n",
    "삼성 = Stock(\"삼성전자\", \"005930\", 15.79, 1.33, 2.83)\n",
    "현대차 = Stock(\"현대차\", \"005380\", 8.70, 0.35, 4.27)\n",
    "LG전자 = Stock(\"LG전자\", \"066570\", 317.34, 0.69, 1.37)\n",
    "\n",
    "종목.append(삼성)\n",
    "종목.append(현대차)\n",
    "종목.append(LG전자)\n",
    "\n",
    "for i in 종목:\n",
    "    print(i.code, i.per)    "
   ]
  },
  {
   "cell_type": "code",
   "execution_count": null,
   "id": "98bcaeef",
   "metadata": {},
   "outputs": [],
   "source": [
    "# 271"
   ]
  },
  {
   "cell_type": "code",
   "execution_count": 36,
   "id": "76e81274",
   "metadata": {
    "ExecuteTime": {
     "end_time": "2024-03-11T14:11:37.812190Z",
     "start_time": "2024-03-11T14:11:37.804150Z"
    }
   },
   "outputs": [
    {
     "name": "stdout",
     "output_type": "stream",
     "text": [
      "김민수\n",
      "100\n",
      "SC은행\n",
      "003-36-213395\n"
     ]
    }
   ],
   "source": [
    "import random\n",
    "\n",
    "class Account:\n",
    "    def __init__(self, name, balance):\n",
    "        self.name = name\n",
    "        self.balance = balance\n",
    "        self.bank = \"SC은행\"\n",
    "        num1 = random.randint(0, 999)\n",
    "        num2 = random.randint(0, 99)\n",
    "        num3 = random.randint(0, 999999)\n",
    "\n",
    "        num1 = str(num1).zfill(3)      \n",
    "        num2 = str(num2).zfill(2)     \n",
    "        num3 = str(num3).zfill(6)     \n",
    "        self.account_number = num1 + '-' + num2 + '-' + num3  \n",
    "\n",
    "kim = Account(\"김민수\", 100)\n",
    "print(kim.name)\n",
    "print(kim.balance)\n",
    "print(kim.bank)\n",
    "print(kim.account_number)"
   ]
  },
  {
   "cell_type": "code",
   "execution_count": null,
   "id": "1faca491",
   "metadata": {},
   "outputs": [],
   "source": [
    "# 272"
   ]
  },
  {
   "cell_type": "code",
   "execution_count": 37,
   "id": "44e42dc5",
   "metadata": {
    "ExecuteTime": {
     "end_time": "2024-03-11T14:11:54.141144Z",
     "start_time": "2024-03-11T14:11:54.132034Z"
    }
   },
   "outputs": [
    {
     "name": "stdout",
     "output_type": "stream",
     "text": [
      "1\n",
      "2\n"
     ]
    }
   ],
   "source": [
    "import random\n",
    "\n",
    "class Account:\n",
    "    # class variable\n",
    "    account_count = 0\n",
    "\n",
    "    def __init__(self, name, balance):\n",
    "        self.name = name\n",
    "        self.balance = balance\n",
    "        self.bank = \"SC은행\"\n",
    "\n",
    "        num1 = random.randint(0, 999)\n",
    "        num2 = random.randint(0, 99)\n",
    "        num3 = random.randint(0, 999999)\n",
    "\n",
    "        num1 = str(num1).zfill(3)      \n",
    "        num2 = str(num2).zfill(2)      \n",
    "        num3 = str(num3).zfill(6)     \n",
    "        self.account_number = num1 + '-' + num2 + '-' + num3 \n",
    "\n",
    "        Account.account_count += 1\n",
    "\n",
    "\n",
    "kim = Account(\"김민수\", 100)\n",
    "print(Account.account_count)\n",
    "lee = Account(\"이민수\", 100)\n",
    "print(Account.account_count)"
   ]
  },
  {
   "cell_type": "code",
   "execution_count": null,
   "id": "f468cf06",
   "metadata": {},
   "outputs": [],
   "source": [
    "# 273"
   ]
  },
  {
   "cell_type": "code",
   "execution_count": 38,
   "id": "459ea356",
   "metadata": {
    "ExecuteTime": {
     "end_time": "2024-03-11T14:12:13.399062Z",
     "start_time": "2024-03-11T14:12:13.390669Z"
    }
   },
   "outputs": [
    {
     "name": "stdout",
     "output_type": "stream",
     "text": [
      "2\n"
     ]
    }
   ],
   "source": [
    "import random\n",
    "\n",
    "class Account:\n",
    "    # class variable\n",
    "    account_count = 0\n",
    "\n",
    "    def __init__(self, name, balance):\n",
    "        self.name = name\n",
    "        self.balance = balance\n",
    "        self.bank = \"SC은행\"\n",
    "\n",
    "        # 3-2-6\n",
    "        num1 = random.randint(0, 999)\n",
    "        num2 = random.randint(0, 99)\n",
    "        num3 = random.randint(0, 999999)\n",
    "\n",
    "        num1 = str(num1).zfill(3)      \n",
    "        num2 = str(num2).zfill(2)      \n",
    "        num3 = str(num3).zfill(6)    \n",
    "        self.account_number = num1 + '-' + num2 + '-' + num3  \n",
    "        Account.account_count +=1\n",
    "\n",
    "    @classmethod\n",
    "    def get_account_num(cls):\n",
    "        print(cls.account_count)    \n",
    "\n",
    "\n",
    "kim = Account(\"김민수\", 100)\n",
    "lee = Account(\"이민수\", 100)\n",
    "kim.get_account_num()"
   ]
  },
  {
   "cell_type": "code",
   "execution_count": null,
   "id": "fa1fe894",
   "metadata": {},
   "outputs": [],
   "source": [
    "# 274"
   ]
  },
  {
   "cell_type": "code",
   "execution_count": 40,
   "id": "53cb76ce",
   "metadata": {
    "ExecuteTime": {
     "end_time": "2024-03-11T14:12:50.184791Z",
     "start_time": "2024-03-11T14:12:50.176552Z"
    }
   },
   "outputs": [],
   "source": [
    "import random\n",
    "\n",
    "class Account:\n",
    "    # class variable\n",
    "    account_count = 0\n",
    "\n",
    "    def __init__(self, name, balance):\n",
    "        self.name = name\n",
    "        self.balance = balance\n",
    "        self.bank = \"SC은행\"\n",
    "\n",
    "        # 3-2-6\n",
    "        num1 = random.randint(0, 999)\n",
    "        num2 = random.randint(0, 99)\n",
    "        num3 = random.randint(0, 999999)\n",
    "\n",
    "        num1 = str(num1).zfill(3)     \n",
    "        num2 = str(num2).zfill(2)      \n",
    "        num3 = str(num3).zfill(6)     \n",
    "        self.account_number = num1 + '-' + num2 + '-' + num3  \n",
    "        Account.account_count +=1\n",
    "\n",
    "    @classmethod\n",
    "    def get_account_num(cls):\n",
    "        print(cls.account_count)    \n",
    "\n",
    "    def deposit(self, amount):\n",
    "        if amount >= 1:\n",
    "            self.balance += amount"
   ]
  },
  {
   "cell_type": "code",
   "execution_count": null,
   "id": "669aa4ce",
   "metadata": {},
   "outputs": [],
   "source": [
    "# 275"
   ]
  },
  {
   "cell_type": "code",
   "execution_count": 41,
   "id": "e769fe53",
   "metadata": {
    "ExecuteTime": {
     "end_time": "2024-03-11T14:13:05.182878Z",
     "start_time": "2024-03-11T14:13:05.174132Z"
    }
   },
   "outputs": [
    {
     "name": "stdout",
     "output_type": "stream",
     "text": [
      "110\n"
     ]
    }
   ],
   "source": [
    "import random\n",
    "\n",
    "\n",
    "class Account:\n",
    "    \n",
    "    account_count = 0\n",
    "\n",
    "    def __init__(self, name, balance):\n",
    "        self.name = name\n",
    "        self.balance = balance\n",
    "        self.bank = \"SC은행\"\n",
    "\n",
    "        # 3-2-6\n",
    "        num1 = random.randint(0, 999)\n",
    "        num2 = random.randint(0, 99)\n",
    "        num3 = random.randint(0, 999999)\n",
    "\n",
    "        num1 = str(num1).zfill(3)  \n",
    "        num2 = str(num2).zfill(2)  \n",
    "        num3 = str(num3).zfill(6)  \n",
    "        self.account_number = num1 + '-' + num2 + '-' + num3 \n",
    "        Account.account_count += 1\n",
    "\n",
    "    @classmethod\n",
    "    def get_account_num(cls):\n",
    "        print(cls.account_count)  \n",
    "\n",
    "    def deposit(self, amount):\n",
    "        if amount >= 1:\n",
    "            self.balance += amount\n",
    "\n",
    "    def withdraw(self, amount):\n",
    "        if self.balance > amount:\n",
    "            self.balance -= amount\n",
    "\n",
    "k = Account(\"kim\", 100)\n",
    "k.deposit(100)\n",
    "k.withdraw(90)\n",
    "print(k.balance)"
   ]
  },
  {
   "cell_type": "code",
   "execution_count": null,
   "id": "c615aa59",
   "metadata": {},
   "outputs": [],
   "source": [
    "# 276"
   ]
  },
  {
   "cell_type": "code",
   "execution_count": 42,
   "id": "933958ad",
   "metadata": {
    "ExecuteTime": {
     "end_time": "2024-03-11T14:13:30.518864Z",
     "start_time": "2024-03-11T14:13:30.508022Z"
    }
   },
   "outputs": [
    {
     "name": "stdout",
     "output_type": "stream",
     "text": [
      "은행이름:  SC은행\n",
      "예금주:  파이썬\n",
      "계좌번호:  606-40-101916\n",
      "잔고:  10,000\n"
     ]
    }
   ],
   "source": [
    "import random\n",
    "\n",
    "\n",
    "class Account:\n",
    "    \n",
    "    account_count = 0\n",
    "\n",
    "    def __init__(self, name, balance):\n",
    "        self.name = name\n",
    "        self.balance = balance\n",
    "        self.bank = \"SC은행\"\n",
    "\n",
    "        # 3-2-6\n",
    "        num1 = random.randint(0, 999)\n",
    "        num2 = random.randint(0, 99)\n",
    "        num3 = random.randint(0, 999999)\n",
    "\n",
    "        num1 = str(num1).zfill(3)  \n",
    "        num2 = str(num2).zfill(2) \n",
    "        num3 = str(num3).zfill(6)  \n",
    "        self.account_number = num1 + '-' + num2 + '-' + num3 \n",
    "        Account.account_count += 1\n",
    "\n",
    "    @classmethod\n",
    "    def get_account_num(cls):\n",
    "        print(cls.account_count) \n",
    "\n",
    "    def deposit(self, amount):\n",
    "        if amount >= 1:\n",
    "            self.balance += amount\n",
    "\n",
    "    def withdraw(self, amount):\n",
    "        if self.balance > amount:\n",
    "            self.balance -= amount\n",
    "\n",
    "    def display_info(self):\n",
    "        print(\"은행이름: \", self.bank)\n",
    "        print(\"예금주: \", self.name)\n",
    "        print(\"계좌번호: \", self.account_number)\n",
    "        print(\"잔고: \", f\"{self.balance:,}\")\n",
    "\n",
    "\n",
    "p = Account(\"파이썬\", 10000)\n",
    "p.display_info()"
   ]
  },
  {
   "cell_type": "code",
   "execution_count": null,
   "id": "51d16310",
   "metadata": {},
   "outputs": [],
   "source": [
    "# 277"
   ]
  },
  {
   "cell_type": "code",
   "execution_count": 43,
   "id": "d14f6426",
   "metadata": {
    "ExecuteTime": {
     "end_time": "2024-03-11T14:14:01.279777Z",
     "start_time": "2024-03-11T14:14:01.268192Z"
    }
   },
   "outputs": [
    {
     "name": "stdout",
     "output_type": "stream",
     "text": [
      "50500.0\n"
     ]
    }
   ],
   "source": [
    "import random\n",
    "\n",
    "\n",
    "class Account:\n",
    "   \n",
    "    account_count = 0\n",
    "\n",
    "    def __init__(self, name, balance):\n",
    "        self.deposit_count = 0\n",
    "\n",
    "        self.name = name\n",
    "        self.balance = balance\n",
    "        self.bank = \"SC은행\"\n",
    "\n",
    "        # 3-2-6\n",
    "        num1 = random.randint(0, 999)\n",
    "        num2 = random.randint(0, 99)\n",
    "        num3 = random.randint(0, 999999)\n",
    "\n",
    "        num1 = str(num1).zfill(3)  \n",
    "        num2 = str(num2).zfill(2) \n",
    "        num3 = str(num3).zfill(6)  \n",
    "        self.account_number = num1 + '-' + num2 + '-' + num3 \n",
    "        Account.account_count += 1\n",
    "\n",
    "    @classmethod\n",
    "    def get_account_num(cls):\n",
    "        print(cls.account_count)  \n",
    "\n",
    "    def deposit(self, amount):\n",
    "        if amount >= 1:\n",
    "            self.balance += amount\n",
    "\n",
    "            self.deposit_count += 1\n",
    "            if self.deposit_count % 5 == 0:        \n",
    "               \n",
    "                self.balance = (self.balance * 1.01)\n",
    "\n",
    "\n",
    "    def withdraw(self, amount):\n",
    "        if self.balance > amount:\n",
    "            self.balance -= amount\n",
    "\n",
    "    def display_info(self):\n",
    "        print(\"은행이름: \", self.bank)\n",
    "        print(\"예금주: \", self.name)\n",
    "        print(\"계좌번호: \", self.account_number)\n",
    "        print(\"잔고: \", self.balance)\n",
    "\n",
    "p = Account(\"파이썬\", 10000)\n",
    "p.deposit(10000)\n",
    "p.deposit(10000)\n",
    "p.deposit(10000)\n",
    "p.deposit(5000)\n",
    "p.deposit(5000)\n",
    "print(p.balance)"
   ]
  },
  {
   "cell_type": "code",
   "execution_count": null,
   "id": "3750dba5",
   "metadata": {},
   "outputs": [],
   "source": [
    "# 278"
   ]
  },
  {
   "cell_type": "code",
   "execution_count": 44,
   "id": "a4ece1fe",
   "metadata": {
    "ExecuteTime": {
     "end_time": "2024-03-11T14:14:29.240462Z",
     "start_time": "2024-03-11T14:14:29.227161Z"
    }
   },
   "outputs": [
    {
     "name": "stdout",
     "output_type": "stream",
     "text": [
      "[<__main__.Account object at 0x00000271ACA11590>, <__main__.Account object at 0x00000271ACA05910>, <__main__.Account object at 0x00000271ACA04450>]\n"
     ]
    }
   ],
   "source": [
    "import random\n",
    "\n",
    "\n",
    "class Account:\n",
    "  \n",
    "    account_count = 0\n",
    "\n",
    "    def __init__(self, name, balance):\n",
    "        self.deposit_count = 0\n",
    "\n",
    "        self.name = name\n",
    "        self.balance = balance\n",
    "        self.bank = \"SC은행\"\n",
    "\n",
    "        # 3-2-6\n",
    "        num1 = random.randint(0, 999)\n",
    "        num2 = random.randint(0, 99)\n",
    "        num3 = random.randint(0, 999999)\n",
    "\n",
    "        num1 = str(num1).zfill(3)  \n",
    "        num2 = str(num2).zfill(2)  \n",
    "        num3 = str(num3).zfill(6)  \n",
    "        self.account_number = num1 + '-' + num2 + '-' + num3 \n",
    "        Account.account_count += 1\n",
    "\n",
    "    @classmethod\n",
    "    def get_account_num(cls):\n",
    "        print(cls.account_count) \n",
    "\n",
    "    def deposit(self, amount):\n",
    "        if amount >= 1:\n",
    "            self.balance += amount\n",
    "\n",
    "            self.deposit_count += 1\n",
    "            if self.deposit_count % 5 == 0:         \n",
    "             \n",
    "                self.balance = (self.balance * 1.01)\n",
    "\n",
    "\n",
    "    def withdraw(self, amount):\n",
    "        if self.balance > amount:\n",
    "            self.balance -= amount\n",
    "\n",
    "    def display_info(self):\n",
    "        print(\"은행이름: \", self.bank)\n",
    "        print(\"예금주: \", self.name)\n",
    "        print(\"계좌번호: \", self.account_number)\n",
    "        print(\"잔고: \", self.balance)\n",
    "\n",
    "data = []\n",
    "k = Account(\"KIM\", 10000000)\n",
    "l = Account(\"LEE\", 10000)\n",
    "p = Account(\"PARK\", 10000)\n",
    "\n",
    "data.append(k)\n",
    "data.append(l)\n",
    "data.append(p)\n",
    "\n",
    "print(data)"
   ]
  },
  {
   "cell_type": "code",
   "execution_count": null,
   "id": "c2ff4f33",
   "metadata": {},
   "outputs": [],
   "source": [
    "# 279"
   ]
  },
  {
   "cell_type": "code",
   "execution_count": 45,
   "id": "8c4fb2e7",
   "metadata": {
    "ExecuteTime": {
     "end_time": "2024-03-11T14:15:04.328651Z",
     "start_time": "2024-03-11T14:15:04.316627Z"
    }
   },
   "outputs": [
    {
     "name": "stdout",
     "output_type": "stream",
     "text": [
      "은행이름:  SC은행\n",
      "예금주:  KIM\n",
      "계좌번호:  908-94-864740\n",
      "잔고:  10000000\n"
     ]
    }
   ],
   "source": [
    "import random\n",
    "\n",
    "\n",
    "class Account:\n",
    "   \n",
    "    account_count = 0\n",
    "\n",
    "    def __init__(self, name, balance):\n",
    "        self.deposit_count = 0\n",
    "\n",
    "        self.name = name\n",
    "        self.balance = balance\n",
    "        self.bank = \"SC은행\"\n",
    "\n",
    "       \n",
    "        num1 = random.randint(0, 999)\n",
    "        num2 = random.randint(0, 99)\n",
    "        num3 = random.randint(0, 999999)\n",
    "\n",
    "        num1 = str(num1).zfill(3)  \n",
    "        num2 = str(num2).zfill(2)  \n",
    "        num3 = str(num3).zfill(6)  \n",
    "        self.account_number = num1 + '-' + num2 + '-' + num3 \n",
    "        Account.account_count += 1\n",
    "\n",
    "    @classmethod\n",
    "    def get_account_num(cls):\n",
    "        print(cls.account_count)  \n",
    "\n",
    "    def deposit(self, amount):\n",
    "        if amount >= 1:\n",
    "            self.balance += amount\n",
    "\n",
    "            self.deposit_count += 1\n",
    "            if self.deposit_count % 5 == 0:         \n",
    "            \n",
    "                self.balance = (self.balance * 1.01)\n",
    "\n",
    "\n",
    "    def withdraw(self, amount):\n",
    "        if self.balance > amount:\n",
    "            self.balance -= amount\n",
    "\n",
    "    def display_info(self):\n",
    "        print(\"은행이름: \", self.bank)\n",
    "        print(\"예금주: \", self.name)\n",
    "        print(\"계좌번호: \", self.account_number)\n",
    "        print(\"잔고: \", self.balance)\n",
    "\n",
    "data = []\n",
    "k = Account(\"KIM\", 10000000)\n",
    "l = Account(\"LEE\", 10000)\n",
    "p = Account(\"PARK\", 10000)\n",
    "data.append(k)\n",
    "data.append(l)\n",
    "data.append(p)\n",
    "\n",
    "for c in data:\n",
    "    if c.balance >= 1000000:\n",
    "        c.display_info()"
   ]
  },
  {
   "cell_type": "code",
   "execution_count": null,
   "id": "c4caf2ae",
   "metadata": {},
   "outputs": [],
   "source": [
    "# 280"
   ]
  },
  {
   "cell_type": "code",
   "execution_count": 46,
   "id": "3c83f28d",
   "metadata": {
    "ExecuteTime": {
     "end_time": "2024-03-11T14:15:37.627766Z",
     "start_time": "2024-03-11T14:15:37.612690Z"
    }
   },
   "outputs": [
    {
     "name": "stdout",
     "output_type": "stream",
     "text": [
      "100\n",
      "200\n",
      "300\n",
      "100\n",
      "200\n"
     ]
    }
   ],
   "source": [
    "import random\n",
    "\n",
    "\n",
    "class Account:\n",
    "   \n",
    "    account_count = 0\n",
    "\n",
    "    def __init__(self, name, balance):\n",
    "        self.deposit_count = 0\n",
    "        self.deposit_log = []\n",
    "        self.withdraw_log = []\n",
    "\n",
    "        self.name = name\n",
    "        self.balance = balance\n",
    "        self.bank = \"SC은행\"\n",
    "\n",
    "        # 3-2-6\n",
    "        num1 = random.randint(0, 999)\n",
    "        num2 = random.randint(0, 99)\n",
    "        num3 = random.randint(0, 999999)\n",
    "\n",
    "        num1 = str(num1).zfill(3)  \n",
    "        num2 = str(num2).zfill(2)  \n",
    "        num3 = str(num3).zfill(6)  \n",
    "        self.account_number = num1 + '-' + num2 + '-' + num3  \n",
    "        Account.account_count += 1\n",
    "\n",
    "    @classmethod\n",
    "    def get_account_num(cls):\n",
    "        print(cls.account_count)  \n",
    "\n",
    "    def deposit(self, amount):\n",
    "        if amount >= 1:\n",
    "            self.deposit_log.append(amount)\n",
    "            self.balance += amount\n",
    "\n",
    "            self.deposit_count += 1\n",
    "            if self.deposit_count % 5 == 0:         \n",
    "              \n",
    "                self.balance = (self.balance * 1.01)\n",
    "\n",
    "\n",
    "    def withdraw(self, amount):\n",
    "        if self.balance > amount:\n",
    "            self.withdraw_log.append(amount)\n",
    "            self.balance -= amount\n",
    "\n",
    "    def display_info(self):\n",
    "        print(\"은행이름: \", self.bank)\n",
    "        print(\"예금주: \", self.name)\n",
    "        print(\"계좌번호: \", self.account_number)\n",
    "        print(\"잔고: \", self.balance)\n",
    "\n",
    "    def withdraw_history(self):\n",
    "        for amount in self.withdraw_log:\n",
    "            print(amount)\n",
    "\n",
    "    def deposit_history(self):\n",
    "        for amount in self.deposit_log:\n",
    "            print(amount)\n",
    "\n",
    "\n",
    "k = Account(\"Kim\", 1000)\n",
    "k.deposit(100)\n",
    "k.deposit(200)\n",
    "k.deposit(300)\n",
    "k.deposit_history()\n",
    "\n",
    "k.withdraw(100)\n",
    "k.withdraw(200)\n",
    "k.withdraw_history()"
   ]
  },
  {
   "cell_type": "code",
   "execution_count": null,
   "id": "28334546",
   "metadata": {},
   "outputs": [],
   "source": [
    "# 281"
   ]
  },
  {
   "cell_type": "code",
   "execution_count": 47,
   "id": "cf39fede",
   "metadata": {
    "ExecuteTime": {
     "end_time": "2024-03-11T14:15:52.953931Z",
     "start_time": "2024-03-11T14:15:52.944083Z"
    }
   },
   "outputs": [
    {
     "name": "stdout",
     "output_type": "stream",
     "text": [
      "2\n",
      "1000\n"
     ]
    }
   ],
   "source": [
    "class 차:\n",
    "    def __init__(self, 바퀴, 가격):\n",
    "        self.바퀴 = 바퀴\n",
    "        self.가격 = 가격\n",
    "\n",
    "\n",
    "car = 차(2, 1000)\n",
    "print(car.바퀴)\n",
    "print(car.가격)"
   ]
  },
  {
   "cell_type": "code",
   "execution_count": null,
   "id": "de6439fb",
   "metadata": {},
   "outputs": [],
   "source": [
    "# 282"
   ]
  },
  {
   "cell_type": "code",
   "execution_count": 48,
   "id": "66d36631",
   "metadata": {
    "ExecuteTime": {
     "end_time": "2024-03-11T14:16:01.128649Z",
     "start_time": "2024-03-11T14:16:01.124093Z"
    }
   },
   "outputs": [],
   "source": [
    "class 차:\n",
    "    def __init__(self, 바퀴, 가격):\n",
    "        self.바퀴 = 바퀴\n",
    "        self.가격 = 가격\n",
    "\n",
    "\n",
    "class 자전차(차):\n",
    "    pass"
   ]
  },
  {
   "cell_type": "code",
   "execution_count": null,
   "id": "b607296b",
   "metadata": {},
   "outputs": [],
   "source": [
    "# 283"
   ]
  },
  {
   "cell_type": "code",
   "execution_count": 49,
   "id": "4ebe7492",
   "metadata": {
    "ExecuteTime": {
     "end_time": "2024-03-11T14:16:14.588764Z",
     "start_time": "2024-03-11T14:16:14.582535Z"
    }
   },
   "outputs": [
    {
     "name": "stdout",
     "output_type": "stream",
     "text": [
      "100\n"
     ]
    }
   ],
   "source": [
    "class 차:\n",
    "    def __init__(self, 바퀴, 가격):\n",
    "        self.바퀴 = 바퀴\n",
    "        self.가격 = 가격\n",
    "\n",
    "\n",
    "class 자전차(차):\n",
    "    def __init__(self, 바퀴, 가격):\n",
    "        self.바퀴 = 바퀴\n",
    "        self.가격 = 가격\n",
    "\n",
    "\n",
    "bicycle = 자전차(2, 100)\n",
    "print(bicycle.가격)"
   ]
  },
  {
   "cell_type": "code",
   "execution_count": null,
   "id": "db765003",
   "metadata": {},
   "outputs": [],
   "source": [
    "# 284"
   ]
  },
  {
   "cell_type": "code",
   "execution_count": 50,
   "id": "d879deca",
   "metadata": {
    "ExecuteTime": {
     "end_time": "2024-03-11T14:16:27.382748Z",
     "start_time": "2024-03-11T14:16:27.375145Z"
    }
   },
   "outputs": [
    {
     "name": "stdout",
     "output_type": "stream",
     "text": [
      "시마노\n",
      "2\n"
     ]
    }
   ],
   "source": [
    "class 차:\n",
    "    def __init__(self, 바퀴, 가격):\n",
    "        self.바퀴 = 바퀴\n",
    "        self.가격 = 가격\n",
    "\n",
    "\n",
    "class 자전차(차):\n",
    "    def __init__(self, 바퀴, 가격, 구동계):\n",
    "        super().__init__(바퀴, 가격)\n",
    "        #차.__init__(self, 바퀴, 가격)\n",
    "        self.구동계 = 구동계\n",
    "\n",
    "\n",
    "bicycle = 자전차(2, 100, \"시마노\")\n",
    "print(bicycle.구동계)\n",
    "print(bicycle.바퀴)"
   ]
  },
  {
   "cell_type": "code",
   "execution_count": null,
   "id": "0dcfe7ca",
   "metadata": {},
   "outputs": [],
   "source": [
    "# 285"
   ]
  },
  {
   "cell_type": "code",
   "execution_count": 51,
   "id": "1902a546",
   "metadata": {
    "ExecuteTime": {
     "end_time": "2024-03-11T14:16:36.868226Z",
     "start_time": "2024-03-11T14:16:36.860554Z"
    }
   },
   "outputs": [
    {
     "name": "stdout",
     "output_type": "stream",
     "text": [
      "바퀴수  4\n",
      "가격  1000\n"
     ]
    }
   ],
   "source": [
    "class 차:\n",
    "    def __init__(self, 바퀴, 가격):\n",
    "        self.바퀴 = 바퀴\n",
    "        self.가격 = 가격\n",
    "\n",
    "\n",
    "class 자동차(차):\n",
    "    def __init__(self, 바퀴, 가격):\n",
    "        super().__init__(바퀴, 가격)\n",
    "\n",
    "    def 정보(self):\n",
    "        print(\"바퀴수 \", self.바퀴)\n",
    "        print(\"가격 \", self.가격)\n",
    "\n",
    "\n",
    "car = 자동차(4, 1000)\n",
    "car.정보()"
   ]
  },
  {
   "cell_type": "code",
   "execution_count": null,
   "id": "13d04e4b",
   "metadata": {},
   "outputs": [],
   "source": [
    "# 286"
   ]
  },
  {
   "cell_type": "code",
   "execution_count": 53,
   "id": "e10882bc",
   "metadata": {
    "ExecuteTime": {
     "end_time": "2024-03-11T14:16:50.714488Z",
     "start_time": "2024-03-11T14:16:50.707728Z"
    }
   },
   "outputs": [
    {
     "name": "stdout",
     "output_type": "stream",
     "text": [
      "바퀴수  2\n",
      "가격  100\n"
     ]
    }
   ],
   "source": [
    "class 차:\n",
    "    def __init__(self, 바퀴, 가격):\n",
    "        self.바퀴 = 바퀴\n",
    "        self.가격 = 가격\n",
    "\n",
    "    def 정보(self):\n",
    "        print(\"바퀴수 \", self.바퀴)\n",
    "        print(\"가격 \", self.가격)\n",
    "\n",
    "class 자동차(차):\n",
    "    def __init__(self, 바퀴, 가격):\n",
    "        super().__init__(바퀴, 가격)\n",
    "\n",
    "class 자전차(차):\n",
    "    def __init__(self, 바퀴, 가격, 구동계):\n",
    "        super().__init__(바퀴, 가격)\n",
    "        self.구동계 = 구동계\n",
    "\n",
    "bicycle = 자전차(2, 100, \"시마노\")\n",
    "bicycle.정보()"
   ]
  },
  {
   "cell_type": "code",
   "execution_count": null,
   "id": "12e8a1e5",
   "metadata": {},
   "outputs": [],
   "source": [
    "# 287"
   ]
  },
  {
   "cell_type": "code",
   "execution_count": 54,
   "id": "256ca04e",
   "metadata": {
    "ExecuteTime": {
     "end_time": "2024-03-11T14:16:58.214633Z",
     "start_time": "2024-03-11T14:16:58.206574Z"
    }
   },
   "outputs": [
    {
     "name": "stdout",
     "output_type": "stream",
     "text": [
      "바퀴수  2\n",
      "가격  100\n",
      "구동계  시마노\n"
     ]
    }
   ],
   "source": [
    "class 차:\n",
    "    def __init__(self, 바퀴, 가격):\n",
    "        self.바퀴 = 바퀴\n",
    "        self.가격 = 가격\n",
    "\n",
    "    def 정보(self):\n",
    "        print(\"바퀴수 \", self.바퀴)\n",
    "        print(\"가격 \", self.가격)\n",
    "\n",
    "class 자동차(차):\n",
    "    def __init__(self, 바퀴, 가격):\n",
    "        super().__init__(바퀴, 가격)\n",
    "\n",
    "class 자전차(차):\n",
    "    def __init__(self, 바퀴, 가격, 구동계):\n",
    "        super().__init__(바퀴, 가격)\n",
    "        self.구동계 = 구동계\n",
    "\n",
    "    def 정보(self):\n",
    "        super().정보()\n",
    "        print(\"구동계 \", self.구동계)\n",
    "\n",
    "bicycle = 자전차(2, 100, \"시마노\")\n",
    "bicycle.정보()"
   ]
  },
  {
   "cell_type": "code",
   "execution_count": null,
   "id": "06305ab5",
   "metadata": {},
   "outputs": [],
   "source": [
    "# 288"
   ]
  },
  {
   "cell_type": "code",
   "execution_count": 55,
   "id": "6a3de698",
   "metadata": {
    "ExecuteTime": {
     "end_time": "2024-03-11T14:17:08.345633Z",
     "start_time": "2024-03-11T14:17:08.340186Z"
    }
   },
   "outputs": [
    {
     "name": "stdout",
     "output_type": "stream",
     "text": [
      "자식호출\n"
     ]
    }
   ],
   "source": [
    "class 부모:\n",
    "    def 호출(self):\n",
    "        print(\"부모호출\")\n",
    "\n",
    "class 자식(부모):\n",
    "    def 호출(self):\n",
    "        print(\"자식호출\")\n",
    "\n",
    "\n",
    "나 = 자식()\n",
    "나.호출()"
   ]
  },
  {
   "cell_type": "code",
   "execution_count": null,
   "id": "ffd25b28",
   "metadata": {},
   "outputs": [],
   "source": [
    "# 289"
   ]
  },
  {
   "cell_type": "code",
   "execution_count": 56,
   "id": "a70509e3",
   "metadata": {
    "ExecuteTime": {
     "end_time": "2024-03-11T14:17:19.011362Z",
     "start_time": "2024-03-11T14:17:19.004902Z"
    }
   },
   "outputs": [
    {
     "name": "stdout",
     "output_type": "stream",
     "text": [
      "자식생성\n"
     ]
    }
   ],
   "source": [
    "class 부모:\n",
    "    def __init__(self):\n",
    "        print(\"부모생성\")\n",
    "\n",
    "class 자식(부모):\n",
    "    def __init__(self):\n",
    "        print(\"자식생성\")\n",
    "\n",
    "나 = 자식()"
   ]
  },
  {
   "cell_type": "code",
   "execution_count": null,
   "id": "b61eca5a",
   "metadata": {},
   "outputs": [],
   "source": [
    "# 290"
   ]
  },
  {
   "cell_type": "code",
   "execution_count": 57,
   "id": "0db62d89",
   "metadata": {
    "ExecuteTime": {
     "end_time": "2024-03-11T14:17:27.538631Z",
     "start_time": "2024-03-11T14:17:27.533442Z"
    }
   },
   "outputs": [
    {
     "name": "stdout",
     "output_type": "stream",
     "text": [
      "자식생성\n",
      "부모생성\n"
     ]
    }
   ],
   "source": [
    "class 부모:\n",
    "    def __init__(self):\n",
    "        print(\"부모생성\")\n",
    "\n",
    "class 자식(부모):\n",
    "    def __init__(self):\n",
    "        print(\"자식생성\")\n",
    "        super().__init__()\n",
    "\n",
    "나 = 자식()"
   ]
  },
  {
   "cell_type": "code",
   "execution_count": null,
   "id": "4a7a940a",
   "metadata": {},
   "outputs": [],
   "source": [
    "# 291"
   ]
  },
  {
   "cell_type": "code",
   "execution_count": 8,
   "id": "3136600e",
   "metadata": {
    "ExecuteTime": {
     "end_time": "2024-03-12T13:52:20.985973Z",
     "start_time": "2024-03-12T13:52:20.980327Z"
    }
   },
   "outputs": [],
   "source": [
    "f = open(\"C:\\workspace\\WASSUP2\\wassup2\\python_grammar/매수종목1.txt\", mode=\"wt\", encoding=\"utf-8\")\n",
    "f.write(\"005930\\n\")\n",
    "f.write(\"005380\\n\")\n",
    "f.write(\"035420\")\n",
    "f.close()"
   ]
  },
  {
   "cell_type": "code",
   "execution_count": null,
   "id": "54a85afc",
   "metadata": {},
   "outputs": [],
   "source": [
    "# 292"
   ]
  },
  {
   "cell_type": "code",
   "execution_count": 7,
   "id": "e938291f",
   "metadata": {
    "ExecuteTime": {
     "end_time": "2024-03-12T13:52:14.213535Z",
     "start_time": "2024-03-12T13:52:14.206987Z"
    }
   },
   "outputs": [],
   "source": [
    "f = open(\"C:\\workspace\\WASSUP2\\wassup2\\python_grammar/매수종목2.txt\", mode=\"wt\", encoding=\"utf-8\")\n",
    "f.write(\"005930 삼성전자\\n\")\n",
    "f.write(\"005380 현대차\\n\")\n",
    "f.write(\"035420 NAVER\\n\")\n",
    "f.close()"
   ]
  },
  {
   "cell_type": "code",
   "execution_count": null,
   "id": "51546879",
   "metadata": {},
   "outputs": [],
   "source": [
    "# 293"
   ]
  },
  {
   "cell_type": "code",
   "execution_count": 9,
   "id": "82b6c2c1",
   "metadata": {
    "ExecuteTime": {
     "end_time": "2024-03-12T13:57:38.504385Z",
     "start_time": "2024-03-12T13:57:38.490478Z"
    }
   },
   "outputs": [],
   "source": [
    "import csv\n",
    "\n",
    "f = open(\"C:\\workspace\\WASSUP2\\wassup2\\python_grammar/매수종목.csv\", mode=\"wt\", encoding=\"cp949\", newline='')\n",
    "writer = csv.writer(f)\n",
    "writer.writerow([\"종목명\", \"종목코드\", \"PER\"])\n",
    "writer.writerow([\"삼성전자\", \"005930\", 15.59])\n",
    "writer.writerow([\"NAVER\", \"035420\", 55.82])\n",
    "f.close()"
   ]
  },
  {
   "cell_type": "code",
   "execution_count": null,
   "id": "2f8536ea",
   "metadata": {},
   "outputs": [],
   "source": [
    "# 294"
   ]
  },
  {
   "cell_type": "code",
   "execution_count": 11,
   "id": "a3491428",
   "metadata": {
    "ExecuteTime": {
     "end_time": "2024-03-12T13:59:10.883332Z",
     "start_time": "2024-03-12T13:59:10.876721Z"
    }
   },
   "outputs": [
    {
     "name": "stdout",
     "output_type": "stream",
     "text": [
      "['005930', '005380', '035420']\n"
     ]
    }
   ],
   "source": [
    "f = open(\"C:\\workspace\\WASSUP2\\wassup2\\python_grammar/매수종목1.txt\", encoding=\"utf-8\")\n",
    "lines = f.readlines()  \n",
    "\n",
    "codes = []\n",
    "for line in lines:\n",
    "    code = line.strip()  \n",
    "    codes.append(code)\n",
    "\n",
    "print(codes)\n",
    "\n",
    "f.close()"
   ]
  },
  {
   "cell_type": "code",
   "execution_count": null,
   "id": "ed1f7dff",
   "metadata": {},
   "outputs": [],
   "source": [
    "# 295"
   ]
  },
  {
   "cell_type": "code",
   "execution_count": 12,
   "id": "5a59ba5b",
   "metadata": {
    "ExecuteTime": {
     "end_time": "2024-03-12T14:00:33.461558Z",
     "start_time": "2024-03-12T14:00:33.454920Z"
    }
   },
   "outputs": [
    {
     "name": "stdout",
     "output_type": "stream",
     "text": [
      "{'005930': '삼성전자', '005380': '현대차', '035420': 'NAVER'}\n"
     ]
    }
   ],
   "source": [
    "f = open(\"C:\\workspace\\WASSUP2\\wassup2\\python_grammar/매수종목2.txt\", encoding=\"utf-8\")\n",
    "lines = f.readlines()  \n",
    "\n",
    "data = {}\n",
    "for line in lines:\n",
    "    line = line.strip()    \n",
    "    k, v = line.split()\n",
    "   \n",
    "    data[k] = v\n",
    "\n",
    "print(data)\n",
    "f.close()"
   ]
  },
  {
   "cell_type": "code",
   "execution_count": null,
   "id": "6c39af4a",
   "metadata": {},
   "outputs": [],
   "source": [
    "# 296"
   ]
  },
  {
   "cell_type": "code",
   "execution_count": 14,
   "id": "f6dfbdb5",
   "metadata": {
    "ExecuteTime": {
     "end_time": "2024-03-12T14:12:16.803075Z",
     "start_time": "2024-03-12T14:12:16.797560Z"
    }
   },
   "outputs": [
    {
     "name": "stdout",
     "output_type": "stream",
     "text": [
      "10.31\n",
      "0\n",
      "8.0\n"
     ]
    }
   ],
   "source": [
    "per = [\"10.31\", \"\", \"8.00\"]\n",
    "\n",
    "for i in per:\n",
    "    try:\n",
    "        print(float(i))\n",
    "    except:\n",
    "        print(0)"
   ]
  },
  {
   "cell_type": "code",
   "execution_count": null,
   "id": "1a17f491",
   "metadata": {},
   "outputs": [],
   "source": [
    "# 297"
   ]
  },
  {
   "cell_type": "code",
   "execution_count": 15,
   "id": "826f3dda",
   "metadata": {
    "ExecuteTime": {
     "end_time": "2024-03-12T14:12:38.149007Z",
     "start_time": "2024-03-12T14:12:38.144577Z"
    }
   },
   "outputs": [
    {
     "name": "stdout",
     "output_type": "stream",
     "text": [
      "[10.31, 0, 8.0]\n"
     ]
    }
   ],
   "source": [
    "per = [\"10.31\", \"\", \"8.00\"]\n",
    "new_per = []\n",
    "\n",
    "for i in per:\n",
    "    try:\n",
    "        v = float(i)\n",
    "    except:\n",
    "        v = 0\n",
    "    new_per.append(v)\n",
    "\n",
    "print(new_per)"
   ]
  },
  {
   "cell_type": "code",
   "execution_count": null,
   "id": "faa6a5cc",
   "metadata": {},
   "outputs": [],
   "source": [
    "# 298"
   ]
  },
  {
   "cell_type": "code",
   "execution_count": 17,
   "id": "9c24bd1d",
   "metadata": {
    "ExecuteTime": {
     "end_time": "2024-03-12T14:13:16.020508Z",
     "start_time": "2024-03-12T14:13:16.015129Z"
    }
   },
   "outputs": [
    {
     "name": "stdout",
     "output_type": "stream",
     "text": [
      "0으로 나누면 에러가 발생해요\n"
     ]
    }
   ],
   "source": [
    "try:\n",
    "    b = 3 / 0\n",
    "except ZeroDivisionError:\n",
    "    print(\"0으로 나누면 에러가 발생해요\")"
   ]
  },
  {
   "cell_type": "code",
   "execution_count": null,
   "id": "adb00d74",
   "metadata": {},
   "outputs": [],
   "source": [
    "# 299"
   ]
  },
  {
   "cell_type": "code",
   "execution_count": 18,
   "id": "3b3a4f65",
   "metadata": {
    "ExecuteTime": {
     "end_time": "2024-03-12T14:13:41.594685Z",
     "start_time": "2024-03-12T14:13:41.589456Z"
    }
   },
   "outputs": [
    {
     "name": "stdout",
     "output_type": "stream",
     "text": [
      "1\n",
      "2\n",
      "3\n",
      "list index out of range\n",
      "list index out of range\n"
     ]
    }
   ],
   "source": [
    "data = [1, 2, 3]\n",
    "\n",
    "for i in range(5):\n",
    "    try:\n",
    "        print(data[i])\n",
    "    except IndexError as e:\n",
    "        print(e)"
   ]
  },
  {
   "cell_type": "code",
   "execution_count": null,
   "id": "11de5792",
   "metadata": {},
   "outputs": [],
   "source": [
    "# 300"
   ]
  },
  {
   "cell_type": "code",
   "execution_count": 19,
   "id": "e8ca5294",
   "metadata": {
    "ExecuteTime": {
     "end_time": "2024-03-12T14:13:51.497823Z",
     "start_time": "2024-03-12T14:13:51.493078Z"
    }
   },
   "outputs": [
    {
     "name": "stdout",
     "output_type": "stream",
     "text": [
      "10.31\n",
      "clean data\n",
      "변환 완료\n",
      "0\n",
      "변환 완료\n",
      "8.0\n",
      "clean data\n",
      "변환 완료\n"
     ]
    }
   ],
   "source": [
    "per = [\"10.31\", \"\", \"8.00\"]\n",
    "\n",
    "for i in per:\n",
    "    try:\n",
    "        print(float(i))\n",
    "    except:\n",
    "        print(0)\n",
    "    else:\n",
    "        print(\"clean data\")\n",
    "    finally:\n",
    "        print(\"변환 완료\")"
   ]
  }
 ],
 "metadata": {
  "kernelspec": {
   "display_name": "Python 3 (ipykernel)",
   "language": "python",
   "name": "python3"
  },
  "language_info": {
   "codemirror_mode": {
    "name": "ipython",
    "version": 3
   },
   "file_extension": ".py",
   "mimetype": "text/x-python",
   "name": "python",
   "nbconvert_exporter": "python",
   "pygments_lexer": "ipython3",
   "version": "3.11.5"
  },
  "toc": {
   "base_numbering": 1,
   "nav_menu": {},
   "number_sections": true,
   "sideBar": true,
   "skip_h1_title": false,
   "title_cell": "Table of Contents",
   "title_sidebar": "Contents",
   "toc_cell": false,
   "toc_position": {},
   "toc_section_display": true,
   "toc_window_display": false
  }
 },
 "nbformat": 4,
 "nbformat_minor": 5
}
