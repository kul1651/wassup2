{
 "cells": [
  {
   "cell_type": "markdown",
   "id": "f1fdca32",
   "metadata": {},
   "source": [
    "# Q1. 다음은 Calculator 클래스이다.\n",
    "```python\n",
    "class Calculator:\n",
    "    def __init__(self):\n",
    "        self.value = 0\n",
    "    def add(self, val):\n",
    "        self.value += val\n",
    "```\n",
    "위 클래스를 상속하는 UpgradeCalculator를 만들고 값을 뺄 수 잇는 minus 메서드를 추가해보자.   \n",
    "즉 다음과 같이 동작하는 클래스를 만들어야 한다.\n",
    "```python\n",
    "cal = UpgradeCalculator()\n",
    "cal.add(10)\n",
    "cal.minus(7)\n",
    "print(cal.calue) # 10에서 7을 뺀 3을 출력\n",
    "```"
   ]
  },
  {
   "cell_type": "code",
   "execution_count": 1,
   "id": "f3345c8c",
   "metadata": {
    "ExecuteTime": {
     "end_time": "2024-03-12T14:21:00.831285Z",
     "start_time": "2024-03-12T14:21:00.827582Z"
    }
   },
   "outputs": [],
   "source": [
    "class Calculator:\n",
    "    def __init__(self):\n",
    "        self.value = 0\n",
    "    def add(self, val):\n",
    "        self.value += val"
   ]
  },
  {
   "cell_type": "code",
   "execution_count": null,
   "id": "d916bec0",
   "metadata": {},
   "outputs": [],
   "source": [
    "class UpgradeCalculator()\n",
    "   def minus "
   ]
  },
  {
   "cell_type": "code",
   "execution_count": 35,
   "id": "bbf3baa6",
   "metadata": {
    "ExecuteTime": {
     "end_time": "2024-03-12T14:53:57.535231Z",
     "start_time": "2024-03-12T14:53:57.513273Z"
    }
   },
   "outputs": [
    {
     "ename": "NameError",
     "evalue": "name 'UpgradeCalculator' is not defined",
     "output_type": "error",
     "traceback": [
      "\u001b[1;31m---------------------------------------------------------------------------\u001b[0m",
      "\u001b[1;31mNameError\u001b[0m                                 Traceback (most recent call last)",
      "Cell \u001b[1;32mIn[35], line 1\u001b[0m\n\u001b[1;32m----> 1\u001b[0m cal \u001b[38;5;241m=\u001b[39m UpgradeCalculator()\n\u001b[0;32m      2\u001b[0m cal\u001b[38;5;241m.\u001b[39madd(\u001b[38;5;241m10\u001b[39m)\n\u001b[0;32m      3\u001b[0m cal\u001b[38;5;241m.\u001b[39mminus(\u001b[38;5;241m7\u001b[39m)\n",
      "\u001b[1;31mNameError\u001b[0m: name 'UpgradeCalculator' is not defined"
     ]
    }
   ],
   "source": [
    "cal = UpgradeCalculator()\n",
    "cal.add(10)\n",
    "cal.minus(7)\n",
    "print(cal.calue)"
   ]
  },
  {
   "cell_type": "markdown",
   "id": "75806738",
   "metadata": {},
   "source": [
    "# Q2. 객체 변수 value가 100 이상의 값은 가질 수 없도록 제한하는 MaxLimitCalculator 클래스를 만들어 보자. 즉 다음과 같이 동작해야 한다.\n",
    "```python\n",
    "cal = MaxLimitCalculator()\n",
    "cal.add(50) # 50 더하기\n",
    "cal.add(60) # 60 더하기\n",
    "\n",
    "print(cal.value) # 100 출력\n",
    "```\n",
    "\n",
    "단 반드시 다음과 같은 calculator 클래스를 상속해서 만들어야 한다.\n",
    "```python\n",
    "class Calculator:\n",
    "    def __init__(self):\n",
    "        self.value = 0\n",
    "    def add(self, val):\n",
    "        self.value += val\n",
    "```"
   ]
  },
  {
   "cell_type": "code",
   "execution_count": 36,
   "id": "d5bc73e1",
   "metadata": {
    "ExecuteTime": {
     "end_time": "2024-03-12T14:54:10.453950Z",
     "start_time": "2024-03-12T14:54:10.447921Z"
    }
   },
   "outputs": [
    {
     "ename": "SyntaxError",
     "evalue": "expected ':' (214529243.py, line 1)",
     "output_type": "error",
     "traceback": [
      "\u001b[1;36m  Cell \u001b[1;32mIn[36], line 1\u001b[1;36m\u001b[0m\n\u001b[1;33m    class MaxLimitCalculator()\u001b[0m\n\u001b[1;37m                              ^\u001b[0m\n\u001b[1;31mSyntaxError\u001b[0m\u001b[1;31m:\u001b[0m expected ':'\n"
     ]
    }
   ],
   "source": [
    "class MaxLimitCalculator()\n",
    "    def\n",
    "    if self.value >=100:\n",
    "    \n",
    "cal = MaxLimitCalculator()\n",
    "cal.add(50) \n",
    "cal.add(60) \n",
    "\n",
    "print(cal.value) "
   ]
  },
  {
   "cell_type": "markdown",
   "id": "7286e434",
   "metadata": {},
   "source": [
    "# Q3. 다음 결과를 예측해 보자.\n",
    "```python\n",
    "# 1.\n",
    ">>> all({1, 2, abs(-3)-3})\n",
    "\n",
    "# 2.\n",
    ">>> chr(ord('a')) == 'a'\n",
    "```"
   ]
  },
  {
   "cell_type": "code",
   "execution_count": 2,
   "id": "b686ab29",
   "metadata": {
    "ExecuteTime": {
     "end_time": "2024-03-12T14:22:05.171829Z",
     "start_time": "2024-03-12T14:22:05.167415Z"
    }
   },
   "outputs": [
    {
     "name": "stdout",
     "output_type": "stream",
     "text": [
      "False\n"
     ]
    }
   ],
   "source": [
    "print(all({1, 2, abs(-3)-3}))"
   ]
  },
  {
   "cell_type": "code",
   "execution_count": 3,
   "id": "0d1b6dc6",
   "metadata": {
    "ExecuteTime": {
     "end_time": "2024-03-12T14:22:28.818556Z",
     "start_time": "2024-03-12T14:22:28.814263Z"
    }
   },
   "outputs": [
    {
     "name": "stdout",
     "output_type": "stream",
     "text": [
      "True\n"
     ]
    }
   ],
   "source": [
    "print(chr(ord('a')) == 'a')"
   ]
  },
  {
   "cell_type": "markdown",
   "id": "ff058604",
   "metadata": {},
   "source": [
    "# Q4. filter와 lambda를 사용하여 리스트 [1, -2, 3, -5, 8, -3]에서 음수를 모두 제거해 보자."
   ]
  },
  {
   "cell_type": "code",
   "execution_count": 6,
   "id": "4da2f202",
   "metadata": {
    "ExecuteTime": {
     "end_time": "2024-03-12T14:26:08.341411Z",
     "start_time": "2024-03-12T14:26:08.335657Z"
    }
   },
   "outputs": [
    {
     "name": "stdout",
     "output_type": "stream",
     "text": [
      "[1, 3, 8]\n"
     ]
    }
   ],
   "source": [
    "def positive(l): \n",
    "    result = [] \n",
    "    for i in l: \n",
    "        if i > 0: \n",
    "            result.append(i) \n",
    "    return result\n",
    "\n",
    "print(positive( [1, -2, 3, -5, 8, -3]))"
   ]
  },
  {
   "cell_type": "code",
   "execution_count": 7,
   "id": "5e777130",
   "metadata": {
    "ExecuteTime": {
     "end_time": "2024-03-12T14:27:07.992027Z",
     "start_time": "2024-03-12T14:27:07.983720Z"
    }
   },
   "outputs": [
    {
     "data": {
      "text/plain": [
       "[1, 3, 8]"
      ]
     },
     "execution_count": 7,
     "metadata": {},
     "output_type": "execute_result"
    }
   ],
   "source": [
    "list(filter(lambda x: x > 0, [1, -2, 3, -5, 8, -3] ))"
   ]
  },
  {
   "cell_type": "markdown",
   "id": "3810c0b8",
   "metadata": {},
   "source": [
    "# Q5. 234라는 10진수의 16진수는 다음과 같이 구할 수 있다.\n",
    "```python\n",
    ">>> hex(234)\n",
    "'0xea'\n",
    "```\n",
    "이번에는 반대로 16진수 문자열 0xea를 10진수로 변경해 보자."
   ]
  },
  {
   "cell_type": "code",
   "execution_count": 8,
   "id": "c94be636",
   "metadata": {
    "ExecuteTime": {
     "end_time": "2024-03-12T14:29:40.452217Z",
     "start_time": "2024-03-12T14:29:40.447879Z"
    }
   },
   "outputs": [
    {
     "data": {
      "text/plain": [
       "234"
      ]
     },
     "execution_count": 8,
     "metadata": {},
     "output_type": "execute_result"
    }
   ],
   "source": [
    "int('0xea', 16)"
   ]
  },
  {
   "cell_type": "code",
   "execution_count": null,
   "id": "904cb7af",
   "metadata": {},
   "outputs": [],
   "source": []
  },
  {
   "cell_type": "markdown",
   "id": "6c563fc7",
   "metadata": {},
   "source": [
    "# Q6. map과 lambda를 사용하여 [1, 2, 3, 4] 리스트의 각 요솟값에 3이 곱해진 리스트 [3, 6, 9, 12]를 만들어 보자."
   ]
  },
  {
   "cell_type": "code",
   "execution_count": 9,
   "id": "f303e800",
   "metadata": {
    "ExecuteTime": {
     "end_time": "2024-03-12T14:31:51.022045Z",
     "start_time": "2024-03-12T14:31:51.015628Z"
    }
   },
   "outputs": [
    {
     "data": {
      "text/plain": [
       "[3, 6, 9, 12]"
      ]
     },
     "execution_count": 9,
     "metadata": {},
     "output_type": "execute_result"
    }
   ],
   "source": [
    "def three_times(x):\n",
    "    return x*3\n",
    "\n",
    "list(map(three_times, [1, 2, 3, 4]))"
   ]
  },
  {
   "cell_type": "code",
   "execution_count": 10,
   "id": "5db45655",
   "metadata": {
    "ExecuteTime": {
     "end_time": "2024-03-12T14:32:48.797707Z",
     "start_time": "2024-03-12T14:32:48.791442Z"
    }
   },
   "outputs": [
    {
     "data": {
      "text/plain": [
       "[3, 6, 9, 12]"
      ]
     },
     "execution_count": 10,
     "metadata": {},
     "output_type": "execute_result"
    }
   ],
   "source": [
    "list(map(lambda a: a*3, [1, 2, 3, 4]))"
   ]
  },
  {
   "cell_type": "markdown",
   "id": "5abd78a0",
   "metadata": {},
   "source": [
    "# Q7. 다음 리스트의 최댓값과 최솟값의 합을 구해 보자.\n",
    "[-8, 2, 7, 5, -3, 5, 0, 1]"
   ]
  },
  {
   "cell_type": "code",
   "execution_count": 11,
   "id": "4527968b",
   "metadata": {
    "ExecuteTime": {
     "end_time": "2024-03-12T14:34:07.284221Z",
     "start_time": "2024-03-12T14:34:07.279540Z"
    }
   },
   "outputs": [
    {
     "data": {
      "text/plain": [
       "7"
      ]
     },
     "execution_count": 11,
     "metadata": {},
     "output_type": "execute_result"
    }
   ],
   "source": [
    "max([-8, 2, 7, 5, -3, 5, 0, 1])"
   ]
  },
  {
   "cell_type": "code",
   "execution_count": 12,
   "id": "8c7ebf49",
   "metadata": {
    "ExecuteTime": {
     "end_time": "2024-03-12T14:34:27.149315Z",
     "start_time": "2024-03-12T14:34:27.143409Z"
    },
    "scrolled": true
   },
   "outputs": [
    {
     "data": {
      "text/plain": [
       "-8"
      ]
     },
     "execution_count": 12,
     "metadata": {},
     "output_type": "execute_result"
    }
   ],
   "source": [
    "min([-8, 2, 7, 5, -3, 5, 0, 1])"
   ]
  },
  {
   "cell_type": "code",
   "execution_count": 13,
   "id": "e565c13c",
   "metadata": {
    "ExecuteTime": {
     "end_time": "2024-03-12T14:35:08.709184Z",
     "start_time": "2024-03-12T14:35:08.702733Z"
    }
   },
   "outputs": [
    {
     "data": {
      "text/plain": [
       "-1"
      ]
     },
     "execution_count": 13,
     "metadata": {},
     "output_type": "execute_result"
    }
   ],
   "source": [
    "a = [-8, 2, 7, 5, -3, 5, 0, 1]\n",
    "max(a) + min(a) "
   ]
  },
  {
   "cell_type": "markdown",
   "id": "b64ed240",
   "metadata": {},
   "source": [
    "# Q8. 17 / 3의 결과는 다음과 같다.\n",
    "```python\n",
    ">>> 17 / 3\n",
    "5.666666666667\n",
    "```\n",
    "위와 같은 결괏값 5.6666666666667을 소숫점 4자리까지만 반올림하여 표시해 보자."
   ]
  },
  {
   "cell_type": "code",
   "execution_count": 15,
   "id": "730d116a",
   "metadata": {
    "ExecuteTime": {
     "end_time": "2024-03-12T14:35:57.762004Z",
     "start_time": "2024-03-12T14:35:57.757938Z"
    }
   },
   "outputs": [
    {
     "data": {
      "text/plain": [
       "5.6667"
      ]
     },
     "execution_count": 15,
     "metadata": {},
     "output_type": "execute_result"
    }
   ],
   "source": [
    "round(17/3, 4)"
   ]
  },
  {
   "cell_type": "markdown",
   "id": "6ae88f19",
   "metadata": {},
   "source": [
    "# Q9. 다음과 같이 실행할 때 입력값을 모두 더하여 출력하는 스크립트(C:\\doit\\myargv.py)를 작성해 보자.\n",
    "```\n",
    "C:\\> cd doit\n",
    "C:\\dodit> python myargv.py 1 2 3 4 5 6 7 8 9 10\n",
    "```"
   ]
  },
  {
   "cell_type": "code",
   "execution_count": null,
   "id": "93068ed8",
   "metadata": {},
   "outputs": [],
   "source": [
    "import "
   ]
  },
  {
   "cell_type": "markdown",
   "id": "ac41096a",
   "metadata": {},
   "source": [
    "# Q10. OS 모듈을 사용하여 다음과 같이 동작하도록 코드를 작성해 보자.\n",
    "1. C:\\doit 디렉터리로 이동한다.\n",
    "2. dir 명령을 실행하고 그 결과를 변수에 담는다.\n",
    "3. dir 명령의 결과를 출력한다."
   ]
  },
  {
   "cell_type": "code",
   "execution_count": 16,
   "id": "6cef3623",
   "metadata": {
    "ExecuteTime": {
     "end_time": "2024-03-12T14:37:20.748142Z",
     "start_time": "2024-03-12T14:37:20.743774Z"
    }
   },
   "outputs": [],
   "source": [
    "import os"
   ]
  },
  {
   "cell_type": "code",
   "execution_count": 17,
   "id": "f89ec0f6",
   "metadata": {
    "ExecuteTime": {
     "end_time": "2024-03-12T14:37:30.541927Z",
     "start_time": "2024-03-12T14:37:30.535598Z"
    }
   },
   "outputs": [
    {
     "data": {
      "text/plain": [
       "'C:\\\\workspace\\\\WASSUP2\\\\python'"
      ]
     },
     "execution_count": 17,
     "metadata": {},
     "output_type": "execute_result"
    }
   ],
   "source": [
    "os.getcwd()"
   ]
  },
  {
   "cell_type": "code",
   "execution_count": 18,
   "id": "0f29059d",
   "metadata": {
    "ExecuteTime": {
     "end_time": "2024-03-12T14:37:41.114963Z",
     "start_time": "2024-03-12T14:37:41.088233Z"
    }
   },
   "outputs": [
    {
     "data": {
      "text/plain": [
       "0"
      ]
     },
     "execution_count": 18,
     "metadata": {},
     "output_type": "execute_result"
    }
   ],
   "source": [
    "os.system('dir')"
   ]
  },
  {
   "cell_type": "code",
   "execution_count": 19,
   "id": "8677ecb2",
   "metadata": {
    "ExecuteTime": {
     "end_time": "2024-03-12T14:37:46.984803Z",
     "start_time": "2024-03-12T14:37:46.967400Z"
    }
   },
   "outputs": [
    {
     "name": "stdout",
     "output_type": "stream",
     "text": [
      " C 드라이브의 볼륨에는 이름이 없습니다.\n",
      " 볼륨 일련 번호: 78A7-28C1\n",
      "\n",
      " C:\\workspace\\WASSUP2\\python 디렉터리\n",
      "\n",
      "2024-03-12  오후 11:36    <DIR>          .\n",
      "2024-03-06  오전 11:39    <DIR>          ..\n",
      "2024-03-12  오후 11:21    <DIR>          .ipynb_checkpoints\n",
      "2024-02-27  오전 10:42            25,832 00_마크다운.ipynb\n",
      "2024-03-04  오후 11:47            11,511 01_자료형&변수_연습문제_실습용.ipynb\n",
      "2024-03-05  오전 09:17           138,436 01_자료형과변수.ipynb\n",
      "2024-03-07  오후 10:58             9,443 02_제어문_연습문제_실습용.ipynb\n",
      "2024-03-06  오후 05:22             5,555 03_코딩연습_전화번호프로그램_실습용.ipynb\n",
      "2024-03-10  오전 12:03            12,914 04_함수&입출력_연습문제_실습용.ipynb\n",
      "2024-03-11  오전 11:11             9,725 04_함수&입출력_연습문제_정답.ipynb\n",
      "2024-03-10  오전 12:03            34,802 04_함수와 입출력.ipynb\n",
      "2024-03-12  오후 11:36            12,967 05_클래스&내장함수_연습문제_실습용.ipynb\n",
      "2024-03-11  오전 11:11            18,904 05_클래스&내장함수_연습문제_정답.ipynb\n",
      "2024-03-12  오전 10:03            41,461 05_클래스와 예외처리.ipynb\n",
      "2024-03-12  오전 11:50            45,340 06_ 내장함수와 라이브러리.ipynb\n",
      "2024-02-23  오전 10:25             2,172 Anaconda Navigator.lnk\n",
      "2024-02-23  오전 10:25             3,281 Anaconda Powershell Prompt.lnk\n",
      "2024-02-23  오전 10:25             2,807 Anaconda Prompt.lnk\n",
      "2024-02-23  오전 10:25             2,143 Jupyter Notebook.lnk\n",
      "2024-03-04  오후 11:51             2,633 Jupyter Notebook_workspace.lnk\n",
      "2024-02-23  오전 10:25             2,137 Reset Spyder Settings.lnk\n",
      "2024-02-23  오전 10:25             2,136 Spyder.lnk\n",
      "2024-03-03  오후 06:03    <DIR>          Untitled Folder\n",
      "2024-02-23  오후 01:47           102,213 Untitled.ipynb\n",
      "2024-03-07  오전 11:16                 0 새파일.txt\n",
      "2024-03-06  오전 10:14            37,945 제어문.ipynb\n",
      "2024-03-12  오후 11:13           249,537 초보자를 위한 파이썬 300제 - .ipynb\n",
      "              23개 파일             773,894 바이트\n",
      "               4개 디렉터리  413,657,841,664 바이트 남음\n",
      "\n"
     ]
    }
   ],
   "source": [
    "f = os.popen(\"dir\")\n",
    "print(f.read())"
   ]
  },
  {
   "cell_type": "markdown",
   "id": "e1df445d",
   "metadata": {},
   "source": [
    "# Q11. glob 모듈을 사용하여 C:\\doit 디렉터리의 파일 중 확장자가 .ipynb인 파일만 출력하는 프로그램을 작성해 보자."
   ]
  },
  {
   "cell_type": "code",
   "execution_count": 20,
   "id": "b69ab522",
   "metadata": {
    "ExecuteTime": {
     "end_time": "2024-03-12T14:38:09.620458Z",
     "start_time": "2024-03-12T14:38:09.615805Z"
    }
   },
   "outputs": [],
   "source": [
    "import glob"
   ]
  },
  {
   "cell_type": "code",
   "execution_count": 21,
   "id": "817cefe2",
   "metadata": {
    "ExecuteTime": {
     "end_time": "2024-03-12T14:38:16.349177Z",
     "start_time": "2024-03-12T14:38:16.343887Z"
    }
   },
   "outputs": [],
   "source": [
    "glob?"
   ]
  },
  {
   "cell_type": "code",
   "execution_count": 22,
   "id": "c2934972",
   "metadata": {
    "ExecuteTime": {
     "end_time": "2024-03-12T14:38:24.263150Z",
     "start_time": "2024-03-12T14:38:24.256129Z"
    }
   },
   "outputs": [
    {
     "data": {
      "text/plain": [
       "['C:\\\\workspace\\\\WASSUP2\\\\python\\\\00_마크다운.ipynb',\n",
       " 'C:\\\\workspace\\\\WASSUP2\\\\python\\\\01_자료형&변수_연습문제_실습용.ipynb',\n",
       " 'C:\\\\workspace\\\\WASSUP2\\\\python\\\\01_자료형과변수.ipynb',\n",
       " 'C:\\\\workspace\\\\WASSUP2\\\\python\\\\02_제어문_연습문제_실습용.ipynb',\n",
       " 'C:\\\\workspace\\\\WASSUP2\\\\python\\\\03_코딩연습_전화번호프로그램_실습용.ipynb',\n",
       " 'C:\\\\workspace\\\\WASSUP2\\\\python\\\\04_함수&입출력_연습문제_실습용.ipynb',\n",
       " 'C:\\\\workspace\\\\WASSUP2\\\\python\\\\04_함수&입출력_연습문제_정답.ipynb',\n",
       " 'C:\\\\workspace\\\\WASSUP2\\\\python\\\\04_함수와 입출력.ipynb',\n",
       " 'C:\\\\workspace\\\\WASSUP2\\\\python\\\\05_클래스&내장함수_연습문제_실습용.ipynb',\n",
       " 'C:\\\\workspace\\\\WASSUP2\\\\python\\\\05_클래스&내장함수_연습문제_정답.ipynb',\n",
       " 'C:\\\\workspace\\\\WASSUP2\\\\python\\\\05_클래스와 예외처리.ipynb',\n",
       " 'C:\\\\workspace\\\\WASSUP2\\\\python\\\\06_ 내장함수와 라이브러리.ipynb',\n",
       " 'C:\\\\workspace\\\\WASSUP2\\\\python\\\\Untitled.ipynb',\n",
       " 'C:\\\\workspace\\\\WASSUP2\\\\python\\\\제어문.ipynb',\n",
       " 'C:\\\\workspace\\\\WASSUP2\\\\python\\\\초보자를 위한 파이썬 300제 - .ipynb']"
      ]
     },
     "execution_count": 22,
     "metadata": {},
     "output_type": "execute_result"
    }
   ],
   "source": [
    "glob.glob(os.getcwd()+'/*.ipynb')"
   ]
  },
  {
   "cell_type": "markdown",
   "id": "d7b91fea",
   "metadata": {},
   "source": [
    "# Q12. time 모듈을 사용하여 현재 날짜와 시간을 다음과 같은 형식으로 출력해 보자.\n",
    "2018/04/03 17:20:32"
   ]
  },
  {
   "cell_type": "code",
   "execution_count": 23,
   "id": "e2a5f482",
   "metadata": {
    "ExecuteTime": {
     "end_time": "2024-03-12T14:38:56.757571Z",
     "start_time": "2024-03-12T14:38:56.751867Z"
    }
   },
   "outputs": [
    {
     "data": {
      "text/plain": [
       "'2024/03/12 23:38:56'"
      ]
     },
     "execution_count": 23,
     "metadata": {},
     "output_type": "execute_result"
    }
   ],
   "source": [
    "import time\n",
    "time.strftime('%Y/%m/%d %H:%M:%S', time.localtime(time.time()))"
   ]
  },
  {
   "cell_type": "markdown",
   "id": "393cd834",
   "metadata": {},
   "source": [
    "# Q13. random 모듈을 사용하여 로또 번호 (1~45 사이의 숫자 6개)를 생성해보자(단 중복된 숫자가 있으면 안됨)."
   ]
  },
  {
   "cell_type": "code",
   "execution_count": 34,
   "id": "c4b093dc",
   "metadata": {
    "ExecuteTime": {
     "end_time": "2024-03-12T14:47:37.902115Z",
     "start_time": "2024-03-12T14:47:37.896708Z"
    }
   },
   "outputs": [
    {
     "name": "stdout",
     "output_type": "stream",
     "text": [
      "[43, 7, 36, 2, 45, 20]\n"
     ]
    }
   ],
   "source": [
    "import random\n",
    "result = []\n",
    "while len(result) < 6:\n",
    "    number = random.randint(1, 45)\n",
    "    if number not in result:\n",
    "        result.append(number)\n",
    "print(result)"
   ]
  },
  {
   "cell_type": "markdown",
   "id": "ee89ff74",
   "metadata": {},
   "source": [
    "\"성공은 매일 반복한 작은 노력들의 합이다.\"\n",
    "- 로버트 콜리어"
   ]
  }
 ],
 "metadata": {
  "kernelspec": {
   "display_name": "Python 3 (ipykernel)",
   "language": "python",
   "name": "python3"
  },
  "language_info": {
   "codemirror_mode": {
    "name": "ipython",
    "version": 3
   },
   "file_extension": ".py",
   "mimetype": "text/x-python",
   "name": "python",
   "nbconvert_exporter": "python",
   "pygments_lexer": "ipython3",
   "version": "3.11.5"
  },
  "toc": {
   "base_numbering": 1,
   "nav_menu": {},
   "number_sections": true,
   "sideBar": true,
   "skip_h1_title": false,
   "title_cell": "Table of Contents",
   "title_sidebar": "Contents",
   "toc_cell": false,
   "toc_position": {},
   "toc_section_display": true,
   "toc_window_display": false
  },
  "varInspector": {
   "cols": {
    "lenName": 16,
    "lenType": 16,
    "lenVar": 40
   },
   "kernels_config": {
    "python": {
     "delete_cmd_postfix": "",
     "delete_cmd_prefix": "del ",
     "library": "var_list.py",
     "varRefreshCmd": "print(var_dic_list())"
    },
    "r": {
     "delete_cmd_postfix": ") ",
     "delete_cmd_prefix": "rm(",
     "library": "var_list.r",
     "varRefreshCmd": "cat(var_dic_list()) "
    }
   },
   "types_to_exclude": [
    "module",
    "function",
    "builtin_function_or_method",
    "instance",
    "_Feature"
   ],
   "window_display": false
  }
 },
 "nbformat": 4,
 "nbformat_minor": 5
}
