{
 "cells": [
  {
   "cell_type": "code",
   "execution_count": 1,
   "id": "4531715d",
   "metadata": {
    "ExecuteTime": {
     "end_time": "2024-02-29T14:15:56.423514Z",
     "start_time": "2024-02-29T14:15:56.419706Z"
    }
   },
   "outputs": [
    {
     "name": "stdout",
     "output_type": "stream",
     "text": [
      "Hello World\n"
     ]
    }
   ],
   "source": [
    "print('Hello World')"
   ]
  },
  {
   "cell_type": "code",
   "execution_count": 2,
   "id": "4acdc42e",
   "metadata": {
    "ExecuteTime": {
     "end_time": "2024-02-29T14:25:48.445386Z",
     "start_time": "2024-02-29T14:25:48.440303Z"
    }
   },
   "outputs": [
    {
     "name": "stdout",
     "output_type": "stream",
     "text": [
      "Mary's cosmetics\n"
     ]
    }
   ],
   "source": [
    "print(\"Mary's cosmetics\")"
   ]
  },
  {
   "cell_type": "code",
   "execution_count": 6,
   "id": "3ecd285a",
   "metadata": {
    "ExecuteTime": {
     "end_time": "2024-02-29T14:27:42.300886Z",
     "start_time": "2024-02-29T14:27:42.295790Z"
    }
   },
   "outputs": [
    {
     "name": "stdout",
     "output_type": "stream",
     "text": [
      "신씨가 소리질렀다.\"도둑이야\"\n"
     ]
    }
   ],
   "source": [
    "print('신씨가 소리질렀다.\"도둑이야\"')"
   ]
  },
  {
   "cell_type": "code",
   "execution_count": 9,
   "id": "bf966315",
   "metadata": {
    "ExecuteTime": {
     "end_time": "2024-02-29T14:45:37.595448Z",
     "start_time": "2024-02-29T14:45:37.590152Z"
    }
   },
   "outputs": [
    {
     "name": "stdout",
     "output_type": "stream",
     "text": [
      "c:\\Windows\n"
     ]
    }
   ],
   "source": [
    "print('c:\\Windows')"
   ]
  },
  {
   "cell_type": "code",
   "execution_count": 10,
   "id": "759e7619",
   "metadata": {
    "ExecuteTime": {
     "end_time": "2024-02-29T14:47:26.355594Z",
     "start_time": "2024-02-29T14:47:26.350543Z"
    },
    "scrolled": true
   },
   "outputs": [
    {
     "name": "stdout",
     "output_type": "stream",
     "text": [
      "안녕하세요.\n",
      "만나서\t\t반갑습니다.\n"
     ]
    }
   ],
   "source": [
    "print(\"안녕하세요.\\n만나서\\t\\t반갑습니다.\")"
   ]
  },
  {
   "cell_type": "code",
   "execution_count": 11,
   "id": "009c7c14",
   "metadata": {
    "ExecuteTime": {
     "end_time": "2024-02-29T14:48:55.754673Z",
     "start_time": "2024-02-29T14:48:55.749893Z"
    }
   },
   "outputs": [
    {
     "name": "stdout",
     "output_type": "stream",
     "text": [
      "오늘은 일요일\n"
     ]
    }
   ],
   "source": [
    "print (\"오늘은\", \"일요일\")"
   ]
  },
  {
   "cell_type": "code",
   "execution_count": 14,
   "id": "d946a760",
   "metadata": {
    "ExecuteTime": {
     "end_time": "2024-02-29T14:51:36.594649Z",
     "start_time": "2024-02-29T14:51:36.590858Z"
    }
   },
   "outputs": [
    {
     "name": "stdout",
     "output_type": "stream",
     "text": [
      "naver;kakao;sk;samsung\n"
     ]
    }
   ],
   "source": [
    "print(\"naver\", \"kakao\", \"sk\", \"samsung\", sep=\";\")"
   ]
  },
  {
   "cell_type": "code",
   "execution_count": 15,
   "id": "968681e9",
   "metadata": {
    "ExecuteTime": {
     "end_time": "2024-02-29T14:52:42.740345Z",
     "start_time": "2024-02-29T14:52:42.734329Z"
    }
   },
   "outputs": [
    {
     "name": "stdout",
     "output_type": "stream",
     "text": [
      "naver/kakao/sk/samsung\n"
     ]
    }
   ],
   "source": [
    "print(\"naver\", \"kakao\", \"sk\", \"samsung\", sep=\"/\")"
   ]
  },
  {
   "cell_type": "code",
   "execution_count": 17,
   "id": "60434862",
   "metadata": {
    "ExecuteTime": {
     "end_time": "2024-02-29T14:54:28.827079Z",
     "start_time": "2024-02-29T14:54:28.822363Z"
    }
   },
   "outputs": [
    {
     "name": "stdout",
     "output_type": "stream",
     "text": [
      "firstsecond\n"
     ]
    }
   ],
   "source": [
    "print(\"first\", end=\"\");print(\"second\")"
   ]
  },
  {
   "cell_type": "code",
   "execution_count": 19,
   "id": "c0efc4db",
   "metadata": {
    "ExecuteTime": {
     "end_time": "2024-02-29T14:55:39.211373Z",
     "start_time": "2024-02-29T14:55:39.206058Z"
    }
   },
   "outputs": [
    {
     "name": "stdout",
     "output_type": "stream",
     "text": [
      "1.6666666666666667\n"
     ]
    }
   ],
   "source": [
    "print(5/3)"
   ]
  },
  {
   "cell_type": "code",
   "execution_count": 2,
   "id": "803d372a",
   "metadata": {
    "ExecuteTime": {
     "end_time": "2024-03-01T14:46:30.051889Z",
     "start_time": "2024-03-01T14:46:30.047056Z"
    }
   },
   "outputs": [
    {
     "name": "stdout",
     "output_type": "stream",
     "text": [
      "500000\n"
     ]
    }
   ],
   "source": [
    "삼성전자 = 50000\n",
    "총평가금액 = (50000 * 10)\n",
    "print(총평가금액)"
   ]
  },
  {
   "cell_type": "code",
   "execution_count": 3,
   "id": "f417ba00",
   "metadata": {
    "ExecuteTime": {
     "end_time": "2024-03-01T14:49:33.243046Z",
     "start_time": "2024-03-01T14:49:33.238805Z"
    }
   },
   "outputs": [
    {
     "name": "stdout",
     "output_type": "stream",
     "text": [
      "298000000000000\n"
     ]
    }
   ],
   "source": [
    "시가총액 = 298000000000000\n",
    "현재가 = 50000\n",
    "PER = 15.79\n",
    "print(시가총액)"
   ]
  },
  {
   "cell_type": "code",
   "execution_count": 4,
   "id": "c2200caf",
   "metadata": {
    "ExecuteTime": {
     "end_time": "2024-03-01T14:49:47.791345Z",
     "start_time": "2024-03-01T14:49:47.788320Z"
    }
   },
   "outputs": [
    {
     "name": "stdout",
     "output_type": "stream",
     "text": [
      "50000\n"
     ]
    }
   ],
   "source": [
    "print(현재가)"
   ]
  },
  {
   "cell_type": "code",
   "execution_count": 5,
   "id": "6d73908b",
   "metadata": {
    "ExecuteTime": {
     "end_time": "2024-03-01T14:49:59.170801Z",
     "start_time": "2024-03-01T14:49:59.167133Z"
    }
   },
   "outputs": [
    {
     "name": "stdout",
     "output_type": "stream",
     "text": [
      "15.79\n"
     ]
    }
   ],
   "source": [
    "print(PER)"
   ]
  },
  {
   "cell_type": "code",
   "execution_count": 6,
   "id": "62ab57c3",
   "metadata": {
    "ExecuteTime": {
     "end_time": "2024-03-01T14:50:25.176343Z",
     "start_time": "2024-03-01T14:50:25.173618Z"
    }
   },
   "outputs": [
    {
     "name": "stdout",
     "output_type": "stream",
     "text": [
      "298000000000000 <class 'int'>\n"
     ]
    }
   ],
   "source": [
    "print(시가총액, type(시가총액))"
   ]
  },
  {
   "cell_type": "code",
   "execution_count": 7,
   "id": "7aa0edcc",
   "metadata": {
    "ExecuteTime": {
     "end_time": "2024-03-01T14:50:51.762814Z",
     "start_time": "2024-03-01T14:50:51.759088Z"
    }
   },
   "outputs": [
    {
     "name": "stdout",
     "output_type": "stream",
     "text": [
      "<class 'int'>\n"
     ]
    }
   ],
   "source": [
    "print(type(시가총액))"
   ]
  },
  {
   "cell_type": "code",
   "execution_count": 8,
   "id": "eb2c89f7",
   "metadata": {
    "ExecuteTime": {
     "end_time": "2024-03-01T14:58:08.787092Z",
     "start_time": "2024-03-01T14:58:08.783302Z"
    }
   },
   "outputs": [
    {
     "name": "stdout",
     "output_type": "stream",
     "text": [
      "50000 <class 'int'>\n"
     ]
    }
   ],
   "source": [
    "print(현재가, type(현재가))"
   ]
  },
  {
   "cell_type": "code",
   "execution_count": 13,
   "id": "10941bb8",
   "metadata": {
    "ExecuteTime": {
     "end_time": "2024-03-01T15:01:33.395258Z",
     "start_time": "2024-03-01T15:01:33.391526Z"
    }
   },
   "outputs": [
    {
     "name": "stdout",
     "output_type": "stream",
     "text": [
      "hello! python\n"
     ]
    }
   ],
   "source": [
    "s = \"hello\"\n",
    "t = \"python\"\n",
    "print(s+\"!\", t)"
   ]
  },
  {
   "cell_type": "code",
   "execution_count": 14,
   "id": "1e18b66c",
   "metadata": {
    "ExecuteTime": {
     "end_time": "2024-03-01T15:02:05.926099Z",
     "start_time": "2024-03-01T15:02:05.919809Z"
    }
   },
   "outputs": [
    {
     "data": {
      "text/plain": [
       "8"
      ]
     },
     "execution_count": 14,
     "metadata": {},
     "output_type": "execute_result"
    }
   ],
   "source": [
    "2 + 2 *3"
   ]
  },
  {
   "cell_type": "code",
   "execution_count": 18,
   "id": "86cb056f",
   "metadata": {
    "ExecuteTime": {
     "end_time": "2024-03-01T15:03:57.243729Z",
     "start_time": "2024-03-01T15:03:57.239865Z"
    }
   },
   "outputs": [
    {
     "name": "stdout",
     "output_type": "stream",
     "text": [
      "<class 'str'>\n"
     ]
    }
   ],
   "source": [
    "a = \"132\"\n",
    "print (type(a))"
   ]
  },
  {
   "cell_type": "code",
   "execution_count": 22,
   "id": "bc384449",
   "metadata": {
    "ExecuteTime": {
     "end_time": "2024-03-01T15:06:10.355765Z",
     "start_time": "2024-03-01T15:06:10.351989Z"
    }
   },
   "outputs": [
    {
     "name": "stdout",
     "output_type": "stream",
     "text": [
      "721 <class 'int'>\n"
     ]
    }
   ],
   "source": [
    "num_str =\"720\"\n",
    "num_int = int(num_str)\n",
    "print(num_int+1, type(num_int))"
   ]
  },
  {
   "cell_type": "code",
   "execution_count": 23,
   "id": "a35e2466",
   "metadata": {
    "ExecuteTime": {
     "end_time": "2024-03-01T15:07:25.563545Z",
     "start_time": "2024-03-01T15:07:25.559601Z"
    }
   },
   "outputs": [
    {
     "name": "stdout",
     "output_type": "stream",
     "text": [
      "100 <class 'str'>\n"
     ]
    }
   ],
   "source": [
    "num= 100\n",
    "result = str(num)\n",
    "print(result, type(result))"
   ]
  },
  {
   "cell_type": "code",
   "execution_count": 25,
   "id": "79eb0302",
   "metadata": {
    "ExecuteTime": {
     "end_time": "2024-03-01T15:08:30.411691Z",
     "start_time": "2024-03-01T15:08:30.407704Z"
    }
   },
   "outputs": [
    {
     "name": "stdout",
     "output_type": "stream",
     "text": [
      "15.79 <class 'float'>\n"
     ]
    }
   ],
   "source": [
    "data = \"15.79\"\n",
    "data = float(data)\n",
    "print(data, type(data))"
   ]
  },
  {
   "cell_type": "code",
   "execution_count": 26,
   "id": "e75fdc3c",
   "metadata": {
    "ExecuteTime": {
     "end_time": "2024-03-01T15:09:17.147548Z",
     "start_time": "2024-03-01T15:09:17.143847Z"
    }
   },
   "outputs": [
    {
     "name": "stdout",
     "output_type": "stream",
     "text": [
      "2017\n"
     ]
    }
   ],
   "source": [
    "year = \"2020\"\n",
    "print(int(year)-3) "
   ]
  },
  {
   "cell_type": "code",
   "execution_count": 27,
   "id": "a296a171",
   "metadata": {
    "ExecuteTime": {
     "end_time": "2024-03-01T15:09:49.067741Z",
     "start_time": "2024-03-01T15:09:49.064363Z"
    }
   },
   "outputs": [
    {
     "name": "stdout",
     "output_type": "stream",
     "text": [
      "2018\n"
     ]
    }
   ],
   "source": [
    "print(int(year)-2)"
   ]
  },
  {
   "cell_type": "code",
   "execution_count": 28,
   "id": "6b748e6b",
   "metadata": {
    "ExecuteTime": {
     "end_time": "2024-03-01T15:10:02.772395Z",
     "start_time": "2024-03-01T15:10:02.767474Z"
    }
   },
   "outputs": [
    {
     "name": "stdout",
     "output_type": "stream",
     "text": [
      "2019\n"
     ]
    }
   ],
   "source": [
    "print(int(year)-1)"
   ]
  },
  {
   "cell_type": "code",
   "execution_count": 29,
   "id": "2d424d88",
   "metadata": {
    "ExecuteTime": {
     "end_time": "2024-03-01T15:10:57.260697Z",
     "start_time": "2024-03-01T15:10:57.256661Z"
    }
   },
   "outputs": [
    {
     "name": "stdout",
     "output_type": "stream",
     "text": [
      "1749024\n"
     ]
    }
   ],
   "source": [
    "월 = 48584\n",
    "총금액 = 월 *36\n",
    "print(총금액)"
   ]
  },
  {
   "cell_type": "code",
   "execution_count": 3,
   "id": "d2455833",
   "metadata": {
    "ExecuteTime": {
     "end_time": "2024-03-02T14:53:39.370868Z",
     "start_time": "2024-03-02T14:53:39.367159Z"
    }
   },
   "outputs": [],
   "source": [
    "a = \"python\""
   ]
  },
  {
   "cell_type": "code",
   "execution_count": 10,
   "id": "310a5b29",
   "metadata": {
    "ExecuteTime": {
     "end_time": "2024-03-02T14:56:28.909117Z",
     "start_time": "2024-03-02T14:56:28.903417Z"
    }
   },
   "outputs": [
    {
     "data": {
      "text/plain": [
       "('p', 't')"
      ]
     },
     "execution_count": 10,
     "metadata": {},
     "output_type": "execute_result"
    }
   ],
   "source": [
    "a[0], a[2]"
   ]
  },
  {
   "cell_type": "code",
   "execution_count": 11,
   "id": "cddcb2de",
   "metadata": {
    "ExecuteTime": {
     "end_time": "2024-03-02T14:58:08.500567Z",
     "start_time": "2024-03-02T14:58:08.494915Z"
    }
   },
   "outputs": [
    {
     "name": "stdout",
     "output_type": "stream",
     "text": [
      "2210\n"
     ]
    }
   ],
   "source": [
    "license_plate = \"24가 2210\"\n",
    "print(license_plate[-4:])"
   ]
  },
  {
   "cell_type": "code",
   "execution_count": 18,
   "id": "1f1e01da",
   "metadata": {
    "ExecuteTime": {
     "end_time": "2024-03-02T15:11:22.805280Z",
     "start_time": "2024-03-02T15:11:22.799418Z"
    }
   },
   "outputs": [
    {
     "data": {
      "text/plain": [
       "'홀'"
      ]
     },
     "execution_count": 18,
     "metadata": {},
     "output_type": "execute_result"
    }
   ],
   "source": [
    "a = \"홀짝홀짝홀짝\"\n",
    "a[:1]"
   ]
  },
  {
   "cell_type": "code",
   "execution_count": 19,
   "id": "bcd0ecef",
   "metadata": {
    "ExecuteTime": {
     "end_time": "2024-03-02T15:11:58.244047Z",
     "start_time": "2024-03-02T15:11:58.239824Z"
    }
   },
   "outputs": [
    {
     "name": "stdout",
     "output_type": "stream",
     "text": [
      "홀홀홀\n"
     ]
    }
   ],
   "source": [
    "string = \"홀짝홀짝홀짝\"\n",
    "print(string[::2])"
   ]
  },
  {
   "cell_type": "code",
   "execution_count": 21,
   "id": "37dcfcff",
   "metadata": {
    "ExecuteTime": {
     "end_time": "2024-03-02T15:14:24.021238Z",
     "start_time": "2024-03-02T15:14:24.016709Z"
    }
   },
   "outputs": [
    {
     "name": "stdout",
     "output_type": "stream",
     "text": [
      "NOHTYP\n"
     ]
    }
   ],
   "source": [
    "string = \"PYTHON\"\n",
    "print(string[::-1])"
   ]
  },
  {
   "cell_type": "code",
   "execution_count": 22,
   "id": "1ecd38f5",
   "metadata": {
    "ExecuteTime": {
     "end_time": "2024-03-02T15:16:15.452485Z",
     "start_time": "2024-03-02T15:16:15.447785Z"
    }
   },
   "outputs": [
    {
     "name": "stdout",
     "output_type": "stream",
     "text": [
      "010 1111 2222\n"
     ]
    }
   ],
   "source": [
    "phone_number = \"010-1111-2222\"\n",
    "phone_number1 = phone_number.replace(\"-\", \" \")\n",
    "print (phone_number1)"
   ]
  },
  {
   "cell_type": "code",
   "execution_count": 23,
   "id": "758a5201",
   "metadata": {
    "ExecuteTime": {
     "end_time": "2024-03-02T15:16:50.413668Z",
     "start_time": "2024-03-02T15:16:50.408844Z"
    }
   },
   "outputs": [
    {
     "name": "stdout",
     "output_type": "stream",
     "text": [
      "01011112222\n"
     ]
    }
   ],
   "source": [
    "phone_number = \"010-1111-2222\"\n",
    "phone_number1 = phone_number.replace(\"-\", \"\")\n",
    "print (phone_number1)"
   ]
  },
  {
   "cell_type": "code",
   "execution_count": 31,
   "id": "a49d4e9b",
   "metadata": {
    "ExecuteTime": {
     "end_time": "2024-03-02T15:19:51.959860Z",
     "start_time": "2024-03-02T15:19:51.952329Z"
    }
   },
   "outputs": [
    {
     "name": "stdout",
     "output_type": "stream",
     "text": [
      "k\n"
     ]
    },
    {
     "data": {
      "text/plain": [
       "(None, 'r')"
      ]
     },
     "execution_count": 31,
     "metadata": {},
     "output_type": "execute_result"
    }
   ],
   "source": [
    "url = \"http://sharebook.kr\"\n",
    "print(url[-2]),(url[-1])"
   ]
  },
  {
   "cell_type": "code",
   "execution_count": 32,
   "id": "6c808db1",
   "metadata": {
    "ExecuteTime": {
     "end_time": "2024-03-02T15:20:57.253810Z",
     "start_time": "2024-03-02T15:20:57.248056Z"
    }
   },
   "outputs": [
    {
     "name": "stdout",
     "output_type": "stream",
     "text": [
      "kr\n"
     ]
    }
   ],
   "source": [
    "url = \"http://sharebook.kr\"\n",
    "url_split = url.split('.')\n",
    "print(url_split[-1])"
   ]
  },
  {
   "cell_type": "code",
   "execution_count": 33,
   "id": "8094516d",
   "metadata": {
    "ExecuteTime": {
     "end_time": "2024-03-02T15:21:56.671116Z",
     "start_time": "2024-03-02T15:21:56.649098Z"
    }
   },
   "outputs": [
    {
     "ename": "TypeError",
     "evalue": "'str' object does not support item assignment",
     "output_type": "error",
     "traceback": [
      "\u001b[1;31m---------------------------------------------------------------------------\u001b[0m",
      "\u001b[1;31mTypeError\u001b[0m                                 Traceback (most recent call last)",
      "Cell \u001b[1;32mIn[33], line 2\u001b[0m\n\u001b[0;32m      1\u001b[0m lang \u001b[38;5;241m=\u001b[39m\u001b[38;5;124m'\u001b[39m\u001b[38;5;124mpython\u001b[39m\u001b[38;5;124m'\u001b[39m\n\u001b[1;32m----> 2\u001b[0m lang[\u001b[38;5;241m0\u001b[39m] \u001b[38;5;241m=\u001b[39m \u001b[38;5;124m'\u001b[39m\u001b[38;5;124mp\u001b[39m\u001b[38;5;124m'\u001b[39m\n\u001b[0;32m      3\u001b[0m \u001b[38;5;28mprint\u001b[39m(lange)\n",
      "\u001b[1;31mTypeError\u001b[0m: 'str' object does not support item assignment"
     ]
    }
   ],
   "source": [
    "lang ='python'\n",
    "lang[0] = 'p'\n",
    "print(lange)"
   ]
  },
  {
   "cell_type": "code",
   "execution_count": 34,
   "id": "2759c968",
   "metadata": {
    "ExecuteTime": {
     "end_time": "2024-03-02T15:23:45.590451Z",
     "start_time": "2024-03-02T15:23:45.584433Z"
    }
   },
   "outputs": [
    {
     "name": "stdout",
     "output_type": "stream",
     "text": [
      "Abcdfe2A354A32A\n"
     ]
    }
   ],
   "source": [
    "string = 'abcdfe2a354a32a'\n",
    "string = string.replace(\"a\", \"A\")\n",
    "print(string)"
   ]
  },
  {
   "cell_type": "code",
   "execution_count": 35,
   "id": "b46f481e",
   "metadata": {
    "ExecuteTime": {
     "end_time": "2024-03-02T15:24:46.285430Z",
     "start_time": "2024-03-02T15:24:46.279834Z"
    },
    "scrolled": true
   },
   "outputs": [
    {
     "name": "stdout",
     "output_type": "stream",
     "text": [
      "abcd\n"
     ]
    }
   ],
   "source": [
    "string = 'abcd'\n",
    "string.replace('b', 'B')\n",
    "print(string)"
   ]
  },
  {
   "cell_type": "code",
   "execution_count": 36,
   "id": "675a6e99",
   "metadata": {
    "ExecuteTime": {
     "end_time": "2024-03-02T15:26:16.050495Z",
     "start_time": "2024-03-02T15:26:16.046698Z"
    }
   },
   "outputs": [
    {
     "name": "stdout",
     "output_type": "stream",
     "text": [
      "34\n"
     ]
    }
   ],
   "source": [
    "a = \"3\"\n",
    "b = \"4\"\n",
    "print(a + b)"
   ]
  },
  {
   "cell_type": "code",
   "execution_count": 37,
   "id": "a400d20d",
   "metadata": {
    "ExecuteTime": {
     "end_time": "2024-03-02T15:27:00.932773Z",
     "start_time": "2024-03-02T15:27:00.927324Z"
    }
   },
   "outputs": [
    {
     "name": "stdout",
     "output_type": "stream",
     "text": [
      "HiHiHi\n"
     ]
    }
   ],
   "source": [
    "print(\"Hi\" * 3)"
   ]
  },
  {
   "cell_type": "code",
   "execution_count": 38,
   "id": "cf2f7979",
   "metadata": {
    "ExecuteTime": {
     "end_time": "2024-03-02T15:27:34.268928Z",
     "start_time": "2024-03-02T15:27:34.264557Z"
    }
   },
   "outputs": [
    {
     "name": "stdout",
     "output_type": "stream",
     "text": [
      "--------------------------------------------------------------------------------\n"
     ]
    }
   ],
   "source": [
    "print(\"-\" * 80)"
   ]
  },
  {
   "cell_type": "code",
   "execution_count": 40,
   "id": "7e7154de",
   "metadata": {
    "ExecuteTime": {
     "end_time": "2024-03-02T15:29:58.518203Z",
     "start_time": "2024-03-02T15:29:58.512670Z"
    }
   },
   "outputs": [
    {
     "name": "stdout",
     "output_type": "stream",
     "text": [
      "python java python java python java python java \n"
     ]
    }
   ],
   "source": [
    "t1 = 'python'\n",
    "t2 = 'java'\n",
    "t3 = t1 + ' '+ t2 + ' '\n",
    "print(t3 * 4)"
   ]
  },
  {
   "cell_type": "code",
   "execution_count": 42,
   "id": "2b13170d",
   "metadata": {
    "ExecuteTime": {
     "end_time": "2024-03-02T15:34:03.998388Z",
     "start_time": "2024-03-02T15:34:03.992327Z"
    }
   },
   "outputs": [
    {
     "name": "stdout",
     "output_type": "stream",
     "text": [
      "이름: 김민수 나이: 10\n",
      "이름: 이철희 나이: 13\n"
     ]
    }
   ],
   "source": [
    "name1 = \"김민수\"\n",
    "age1 = 10\n",
    "name2 = \"이철희\"\n",
    "age2 = 13\n",
    "print(\"이름: %s 나이: %d\" % (name1, age1))\n",
    "print(\"이름: %s 나이: %d\" % (name2, age2))"
   ]
  },
  {
   "cell_type": "code",
   "execution_count": 43,
   "id": "6aa60dba",
   "metadata": {
    "ExecuteTime": {
     "end_time": "2024-03-02T15:35:48.503033Z",
     "start_time": "2024-03-02T15:35:48.497166Z"
    }
   },
   "outputs": [
    {
     "name": "stdout",
     "output_type": "stream",
     "text": [
      "이름: 김민수 나이: 10\n",
      "이름: 이철희 나이: 13\n"
     ]
    }
   ],
   "source": [
    "name1 = \"김민수\"\n",
    "age1 = 10\n",
    "name2 = \"이철희\"\n",
    "age2 = 13\n",
    "print(\"이름: {} 나이: {}\".format(name1, age1))\n",
    "print(\"이름: {} 나이: {}\".format(name2, age2))"
   ]
  },
  {
   "cell_type": "code",
   "execution_count": 44,
   "id": "3b329118",
   "metadata": {
    "ExecuteTime": {
     "end_time": "2024-03-02T15:37:38.750643Z",
     "start_time": "2024-03-02T15:37:38.744970Z"
    }
   },
   "outputs": [
    {
     "name": "stdout",
     "output_type": "stream",
     "text": [
      "이름: 김민수 나이: 10\n",
      "이름: 이철희 나이: 13\n"
     ]
    }
   ],
   "source": [
    "name1 = \"김민수\"\n",
    "age1 = 10\n",
    "name2 = \"이철희\"\n",
    "age2 = 13\n",
    "print(f\"이름: {name1} 나이: {age1}\")\n",
    "print(f\"이름: {name2} 나이: {age2}\")"
   ]
  },
  {
   "cell_type": "code",
   "execution_count": 49,
   "id": "68cfbf33",
   "metadata": {
    "ExecuteTime": {
     "end_time": "2024-03-02T15:41:32.934867Z",
     "start_time": "2024-03-02T15:41:32.929776Z"
    }
   },
   "outputs": [
    {
     "name": "stdout",
     "output_type": "stream",
     "text": [
      "5969782550 <class 'int'>\n"
     ]
    }
   ],
   "source": [
    "상장주식수 = \"5,969,782,550\"\n",
    "컴마제거 = 상장주식수.replace(\",\", \"\")\n",
    "정수타입변환 = int(컴마제거)\n",
    "print(정수타입변환, type(정수타입변환))"
   ]
  },
  {
   "cell_type": "code",
   "execution_count": 50,
   "id": "aa9354b9",
   "metadata": {
    "ExecuteTime": {
     "end_time": "2024-03-02T15:42:41.333588Z",
     "start_time": "2024-03-02T15:42:41.329053Z"
    }
   },
   "outputs": [
    {
     "name": "stdout",
     "output_type": "stream",
     "text": [
      "2020/03\n"
     ]
    }
   ],
   "source": [
    "분기 = \"2020/03(E) (IFRS연결)\"\n",
    "print(분기[:7])"
   ]
  },
  {
   "cell_type": "code",
   "execution_count": 51,
   "id": "dc20f641",
   "metadata": {
    "ExecuteTime": {
     "end_time": "2024-03-02T15:43:50.406531Z",
     "start_time": "2024-03-02T15:43:50.401131Z"
    }
   },
   "outputs": [
    {
     "name": "stdout",
     "output_type": "stream",
     "text": [
      "삼성전자\n"
     ]
    }
   ],
   "source": [
    "data = \"   삼성전자   \"\n",
    "data1 = data.strip()\n",
    "print(data1)"
   ]
  },
  {
   "cell_type": "code",
   "execution_count": 6,
   "id": "909e698f",
   "metadata": {
    "ExecuteTime": {
     "end_time": "2024-03-03T08:38:15.225015Z",
     "start_time": "2024-03-03T08:38:15.219529Z"
    },
    "scrolled": true
   },
   "outputs": [
    {
     "name": "stdout",
     "output_type": "stream",
     "text": [
      "BTC_KRW\n"
     ]
    }
   ],
   "source": [
    "ticker = \"btc_krw\"\n",
    "ticker1 = ticker.upper()\n",
    "print(ticker1)"
   ]
  },
  {
   "cell_type": "code",
   "execution_count": 5,
   "id": "b33e7675",
   "metadata": {
    "ExecuteTime": {
     "end_time": "2024-03-03T08:38:04.536808Z",
     "start_time": "2024-03-03T08:38:04.532146Z"
    }
   },
   "outputs": [
    {
     "name": "stdout",
     "output_type": "stream",
     "text": [
      "btc_krw\n"
     ]
    }
   ],
   "source": [
    "ticker = \"BTC_KRW\"\n",
    "ticker1 = ticker.lower()\n",
    "print(ticker1)"
   ]
  },
  {
   "cell_type": "code",
   "execution_count": 8,
   "id": "04aeb26a",
   "metadata": {
    "ExecuteTime": {
     "end_time": "2024-03-03T08:39:26.072663Z",
     "start_time": "2024-03-03T08:39:26.067481Z"
    }
   },
   "outputs": [
    {
     "name": "stdout",
     "output_type": "stream",
     "text": [
      "Hello\n"
     ]
    }
   ],
   "source": [
    "a = \"hello\"\n",
    "a = a.capitalize()\n",
    "print(a)"
   ]
  },
  {
   "cell_type": "code",
   "execution_count": 9,
   "id": "dd0ae88e",
   "metadata": {
    "ExecuteTime": {
     "end_time": "2024-03-03T08:40:43.235933Z",
     "start_time": "2024-03-03T08:40:43.212488Z"
    }
   },
   "outputs": [
    {
     "data": {
      "text/plain": [
       "True"
      ]
     },
     "execution_count": 9,
     "metadata": {},
     "output_type": "execute_result"
    }
   ],
   "source": [
    "file_name = \"보고서.xlsx\"\n",
    "file_name.endswith(\"xlsx\")"
   ]
  },
  {
   "cell_type": "code",
   "execution_count": 14,
   "id": "4dcdb689",
   "metadata": {
    "ExecuteTime": {
     "end_time": "2024-03-03T08:42:55.275214Z",
     "start_time": "2024-03-03T08:42:55.267638Z"
    }
   },
   "outputs": [
    {
     "data": {
      "text/plain": [
       "True"
      ]
     },
     "execution_count": 14,
     "metadata": {},
     "output_type": "execute_result"
    }
   ],
   "source": [
    "file_name = \"보고서.xlsx\"\n",
    "file_name.endswith((\"xlsx\", \"xls\"))"
   ]
  },
  {
   "cell_type": "code",
   "execution_count": 15,
   "id": "4c0a13f9",
   "metadata": {
    "ExecuteTime": {
     "end_time": "2024-03-03T08:43:54.290709Z",
     "start_time": "2024-03-03T08:43:54.284374Z"
    }
   },
   "outputs": [
    {
     "data": {
      "text/plain": [
       "True"
      ]
     },
     "execution_count": 15,
     "metadata": {},
     "output_type": "execute_result"
    }
   ],
   "source": [
    "file_name = \"2020_보고서.xlsx\"\n",
    "file_name.startswith(\"2020\")"
   ]
  },
  {
   "cell_type": "code",
   "execution_count": 16,
   "id": "86ddf509",
   "metadata": {
    "ExecuteTime": {
     "end_time": "2024-03-03T08:44:28.681501Z",
     "start_time": "2024-03-03T08:44:28.675352Z"
    }
   },
   "outputs": [
    {
     "data": {
      "text/plain": [
       "['hello', 'world']"
      ]
     },
     "execution_count": 16,
     "metadata": {},
     "output_type": "execute_result"
    }
   ],
   "source": [
    "a = \"hello world\"\n",
    "a.split()"
   ]
  },
  {
   "cell_type": "code",
   "execution_count": 18,
   "id": "2a0fe974",
   "metadata": {
    "ExecuteTime": {
     "end_time": "2024-03-03T08:45:33.971060Z",
     "start_time": "2024-03-03T08:45:33.964825Z"
    }
   },
   "outputs": [
    {
     "data": {
      "text/plain": [
       "['btc', 'krw']"
      ]
     },
     "execution_count": 18,
     "metadata": {},
     "output_type": "execute_result"
    }
   ],
   "source": [
    "ticker = \"btc_krw\"\n",
    "ticker.split(\"_\")"
   ]
  },
  {
   "cell_type": "code",
   "execution_count": 19,
   "id": "974f62f1",
   "metadata": {
    "ExecuteTime": {
     "end_time": "2024-03-03T08:46:36.842431Z",
     "start_time": "2024-03-03T08:46:36.835794Z"
    }
   },
   "outputs": [
    {
     "data": {
      "text/plain": [
       "['2020', '05', '01']"
      ]
     },
     "execution_count": 19,
     "metadata": {},
     "output_type": "execute_result"
    }
   ],
   "source": [
    "date = \"2020-05-01\"\n",
    "date.split(\"-\")"
   ]
  },
  {
   "cell_type": "code",
   "execution_count": 22,
   "id": "f6e8d0fa",
   "metadata": {
    "ExecuteTime": {
     "end_time": "2024-03-03T08:47:48.080017Z",
     "start_time": "2024-03-03T08:47:48.075676Z"
    }
   },
   "outputs": [],
   "source": [
    "data = \"0339490     \"\n",
    "data = data.rstrip()"
   ]
  },
  {
   "cell_type": "code",
   "execution_count": 24,
   "id": "212f93e0",
   "metadata": {
    "ExecuteTime": {
     "end_time": "2024-03-03T08:48:19.177528Z",
     "start_time": "2024-03-03T08:48:19.172067Z"
    },
    "scrolled": true
   },
   "outputs": [
    {
     "data": {
      "text/plain": [
       "'0339490'"
      ]
     },
     "execution_count": 24,
     "metadata": {},
     "output_type": "execute_result"
    }
   ],
   "source": [
    "data = \"0339490     \"\n",
    "data.rstrip(\" \")"
   ]
  },
  {
   "cell_type": "markdown",
   "id": "600148c4",
   "metadata": {},
   "source": [
    "# 파이썬 리스트"
   ]
  },
  {
   "cell_type": "code",
   "execution_count": null,
   "id": "dce78be0",
   "metadata": {},
   "outputs": [],
   "source": [
    "# 51 리스트 생성 "
   ]
  },
  {
   "cell_type": "code",
   "execution_count": 2,
   "id": "8e5cc93f",
   "metadata": {
    "ExecuteTime": {
     "end_time": "2024-03-04T04:23:53.693751Z",
     "start_time": "2024-03-04T04:23:53.688943Z"
    }
   },
   "outputs": [],
   "source": [
    "movie_rank = [\"닥터 스트레인지\", \"스플릿\", \"럭키\"]"
   ]
  },
  {
   "cell_type": "code",
   "execution_count": null,
   "id": "70456d82",
   "metadata": {},
   "outputs": [],
   "source": [
    "# 52 리스트에 원소 추가 (append)"
   ]
  },
  {
   "cell_type": "code",
   "execution_count": 3,
   "id": "04704bb0",
   "metadata": {
    "ExecuteTime": {
     "end_time": "2024-03-04T04:25:27.878582Z",
     "start_time": "2024-03-04T04:25:27.874707Z"
    }
   },
   "outputs": [
    {
     "name": "stdout",
     "output_type": "stream",
     "text": [
      "['닥터 스트레인지', '스플릿', '럭키', '배트맨']\n"
     ]
    }
   ],
   "source": [
    "movie_rank = [\"닥터 스트레인지\", \"스플릿\", \"럭키\"]\n",
    "movie_rank.append(\"배트맨\")\n",
    "print(movie_rank)"
   ]
  },
  {
   "cell_type": "code",
   "execution_count": null,
   "id": "4b1049c2",
   "metadata": {},
   "outputs": [],
   "source": [
    "# 53 (insert)"
   ]
  },
  {
   "cell_type": "code",
   "execution_count": 6,
   "id": "94907699",
   "metadata": {
    "ExecuteTime": {
     "end_time": "2024-03-04T04:30:47.289302Z",
     "start_time": "2024-03-04T04:30:47.283928Z"
    }
   },
   "outputs": [
    {
     "name": "stdout",
     "output_type": "stream",
     "text": [
      "['닥터 스트레인지', '슈퍼맨', '스플릿', '럭키', '배트맨']\n"
     ]
    }
   ],
   "source": [
    "movie_rank = ['닥터 스트레인지', '스플릿', '럭키', '배트맨']\n",
    "movie_rank.insert(1,\"슈퍼맨\")\n",
    "print(movie_rank)"
   ]
  },
  {
   "cell_type": "code",
   "execution_count": null,
   "id": "c6a855cf",
   "metadata": {},
   "outputs": [],
   "source": [
    "# 54 (del)"
   ]
  },
  {
   "cell_type": "code",
   "execution_count": 15,
   "id": "e9f890a4",
   "metadata": {
    "ExecuteTime": {
     "end_time": "2024-03-04T04:37:14.582541Z",
     "start_time": "2024-03-04T04:37:14.578276Z"
    }
   },
   "outputs": [
    {
     "name": "stdout",
     "output_type": "stream",
     "text": [
      "['닥터 스트레인지', '슈퍼맨', '스플릿']\n"
     ]
    }
   ],
   "source": [
    "movie_rank = ['닥터 스트레인지', '슈퍼맨', '스플릿', '럭키' '배트맨']\n",
    "del movie_rank[3]\n",
    "print(movie_rank)"
   ]
  },
  {
   "cell_type": "code",
   "execution_count": null,
   "id": "3a772521",
   "metadata": {},
   "outputs": [],
   "source": [
    "# 55"
   ]
  },
  {
   "cell_type": "code",
   "execution_count": 14,
   "id": "44d5eb05",
   "metadata": {
    "ExecuteTime": {
     "end_time": "2024-03-04T04:35:57.991677Z",
     "start_time": "2024-03-04T04:35:57.986685Z"
    }
   },
   "outputs": [
    {
     "name": "stdout",
     "output_type": "stream",
     "text": [
      "['닥터 스트레인지', '슈퍼맨']\n"
     ]
    }
   ],
   "source": [
    "movie_rank = ['닥터 스트레인지', '슈퍼맨', '스플릿', '배트맨']\n",
    "del movie_rank[2]\n",
    "del movie_rank[2]\n",
    "print(movie_rank)"
   ]
  },
  {
   "cell_type": "code",
   "execution_count": null,
   "id": "2a5e9787",
   "metadata": {},
   "outputs": [],
   "source": [
    "# 56"
   ]
  },
  {
   "cell_type": "code",
   "execution_count": 16,
   "id": "8fa75928",
   "metadata": {
    "ExecuteTime": {
     "end_time": "2024-03-04T04:38:55.799225Z",
     "start_time": "2024-03-04T04:38:55.794732Z"
    }
   },
   "outputs": [
    {
     "name": "stdout",
     "output_type": "stream",
     "text": [
      "['C', 'C++', 'JAVA', 'Python', 'Go', 'C#']\n"
     ]
    }
   ],
   "source": [
    "lang1 = [\"C\", \"C++\", \"JAVA\"]\n",
    "lang2 = [\"Python\", \"Go\", \"C#\"]\n",
    "langs = lang1 + lang2\n",
    "print(langs)"
   ]
  },
  {
   "cell_type": "code",
   "execution_count": null,
   "id": "3a4c7f2d",
   "metadata": {},
   "outputs": [],
   "source": [
    "# 57 (min,max)"
   ]
  },
  {
   "cell_type": "code",
   "execution_count": 18,
   "id": "191223b3",
   "metadata": {
    "ExecuteTime": {
     "end_time": "2024-03-04T04:41:28.768383Z",
     "start_time": "2024-03-04T04:41:28.764003Z"
    },
    "scrolled": true
   },
   "outputs": [
    {
     "name": "stdout",
     "output_type": "stream",
     "text": [
      "max:  7\n",
      "min:  1\n"
     ]
    }
   ],
   "source": [
    "nums = [1, 2, 3, 4, 5, 6, 7]\n",
    "print(\"max: \", max(nums))\n",
    "print(\"min: \", min(nums))"
   ]
  },
  {
   "cell_type": "code",
   "execution_count": null,
   "id": "38488bd0",
   "metadata": {},
   "outputs": [],
   "source": [
    "# 58 (sum)"
   ]
  },
  {
   "cell_type": "code",
   "execution_count": 19,
   "id": "21cc5d81",
   "metadata": {
    "ExecuteTime": {
     "end_time": "2024-03-04T04:42:28.262779Z",
     "start_time": "2024-03-04T04:42:28.258860Z"
    }
   },
   "outputs": [
    {
     "name": "stdout",
     "output_type": "stream",
     "text": [
      "15\n"
     ]
    }
   ],
   "source": [
    "nums = [1, 2, 3, 4, 5]\n",
    "print(sum(nums))"
   ]
  },
  {
   "cell_type": "code",
   "execution_count": null,
   "id": "26d9ecdd",
   "metadata": {},
   "outputs": [],
   "source": [
    "# 59 (len)"
   ]
  },
  {
   "cell_type": "code",
   "execution_count": 21,
   "id": "83b3831d",
   "metadata": {
    "ExecuteTime": {
     "end_time": "2024-03-04T04:43:41.416673Z",
     "start_time": "2024-03-04T04:43:41.412534Z"
    }
   },
   "outputs": [
    {
     "name": "stdout",
     "output_type": "stream",
     "text": [
      "12\n"
     ]
    }
   ],
   "source": [
    "cook = [\"피자\", \"김밥\", \"만두\", \"양념치킨\", \"족발\", \"피자\", \"김치만두\", \"쫄면\", \"소시지\", \"라면\", \"팥빙수\", \"김치전\"]\n",
    "print(len(cook))"
   ]
  },
  {
   "cell_type": "code",
   "execution_count": null,
   "id": "289716e3",
   "metadata": {},
   "outputs": [],
   "source": [
    "# 60 "
   ]
  },
  {
   "cell_type": "code",
   "execution_count": 22,
   "id": "1e9268c5",
   "metadata": {
    "ExecuteTime": {
     "end_time": "2024-03-04T04:47:10.407489Z",
     "start_time": "2024-03-04T04:47:10.402651Z"
    }
   },
   "outputs": [
    {
     "name": "stdout",
     "output_type": "stream",
     "text": [
      "3.0\n"
     ]
    }
   ],
   "source": [
    "nums = [1, 2, 3, 4, 5]\n",
    "average = sum(nums)/ len(nums)\n",
    "print(average)"
   ]
  },
  {
   "cell_type": "code",
   "execution_count": null,
   "id": "4b976073",
   "metadata": {},
   "outputs": [],
   "source": [
    "# 61 (슬라이싱)"
   ]
  },
  {
   "cell_type": "code",
   "execution_count": 2,
   "id": "b31eea3e",
   "metadata": {
    "ExecuteTime": {
     "end_time": "2024-03-04T12:03:41.462244Z",
     "start_time": "2024-03-04T12:03:41.458508Z"
    }
   },
   "outputs": [
    {
     "name": "stdout",
     "output_type": "stream",
     "text": [
      "[100, 130, 140, 150, 160, 170]\n"
     ]
    }
   ],
   "source": [
    "price = ['20180728', 100, 130, 140, 150, 160, 170]\n",
    "print(price[1:])"
   ]
  },
  {
   "cell_type": "code",
   "execution_count": null,
   "id": "141fae84",
   "metadata": {},
   "outputs": [],
   "source": [
    "# 62"
   ]
  },
  {
   "cell_type": "code",
   "execution_count": 8,
   "id": "5ce1750c",
   "metadata": {
    "ExecuteTime": {
     "end_time": "2024-03-04T12:06:06.663004Z",
     "start_time": "2024-03-04T12:06:06.659421Z"
    }
   },
   "outputs": [
    {
     "name": "stdout",
     "output_type": "stream",
     "text": [
      "[1, 3, 5, 7, 9]\n"
     ]
    }
   ],
   "source": [
    "nums = [1, 2, 3, 4, 5, 6, 7, 8, 9, 10]\n",
    "print(nums[::2])"
   ]
  },
  {
   "cell_type": "code",
   "execution_count": null,
   "id": "8faa9c70",
   "metadata": {},
   "outputs": [],
   "source": [
    "# 63"
   ]
  },
  {
   "cell_type": "code",
   "execution_count": 9,
   "id": "b33b00b1",
   "metadata": {
    "ExecuteTime": {
     "end_time": "2024-03-04T12:06:14.679762Z",
     "start_time": "2024-03-04T12:06:14.676250Z"
    }
   },
   "outputs": [
    {
     "name": "stdout",
     "output_type": "stream",
     "text": [
      "[2, 4, 6, 8, 10]\n"
     ]
    }
   ],
   "source": [
    "nums = [1, 2, 3, 4, 5, 6, 7, 8, 9, 10]\n",
    "print(nums[1::2])"
   ]
  },
  {
   "cell_type": "code",
   "execution_count": null,
   "id": "f7aff90d",
   "metadata": {},
   "outputs": [],
   "source": [
    "# 64"
   ]
  },
  {
   "cell_type": "code",
   "execution_count": 12,
   "id": "e90ad0d6",
   "metadata": {
    "ExecuteTime": {
     "end_time": "2024-03-04T12:10:18.793395Z",
     "start_time": "2024-03-04T12:10:18.788846Z"
    },
    "scrolled": true
   },
   "outputs": [
    {
     "name": "stdout",
     "output_type": "stream",
     "text": [
      "[5, 4, 3, 2, 1]\n"
     ]
    }
   ],
   "source": [
    "nums = [1, 2, 3, 4, 5]\n",
    "print(nums[::-1])"
   ]
  },
  {
   "cell_type": "code",
   "execution_count": null,
   "id": "654ed38a",
   "metadata": {},
   "outputs": [],
   "source": [
    "# 65"
   ]
  },
  {
   "cell_type": "code",
   "execution_count": 13,
   "id": "16cce4b4",
   "metadata": {
    "ExecuteTime": {
     "end_time": "2024-03-04T12:11:07.811817Z",
     "start_time": "2024-03-04T12:11:07.806471Z"
    }
   },
   "outputs": [
    {
     "name": "stdout",
     "output_type": "stream",
     "text": [
      "삼성전자 Naver\n"
     ]
    }
   ],
   "source": [
    "interest = ['삼성전자', 'LG전자', 'Naver']\n",
    "print(interest[0], interest[2])"
   ]
  },
  {
   "cell_type": "code",
   "execution_count": null,
   "id": "b79d2889",
   "metadata": {},
   "outputs": [],
   "source": [
    "# 66 (Join)"
   ]
  },
  {
   "cell_type": "code",
   "execution_count": 16,
   "id": "2ecb164a",
   "metadata": {
    "ExecuteTime": {
     "end_time": "2024-03-04T12:14:02.355554Z",
     "start_time": "2024-03-04T12:14:02.348915Z"
    }
   },
   "outputs": [
    {
     "name": "stdout",
     "output_type": "stream",
     "text": [
      "삼성전자 LG전자 Naver SK하이닉스 미래에셋대우\n"
     ]
    }
   ],
   "source": [
    "interest = ['삼성전자', 'LG전자', 'Naver', 'SK하이닉스', '미래에셋대우']\n",
    "print(\" \".join(interest))"
   ]
  },
  {
   "cell_type": "code",
   "execution_count": null,
   "id": "33995c20",
   "metadata": {},
   "outputs": [],
   "source": [
    "# 67"
   ]
  },
  {
   "cell_type": "code",
   "execution_count": 15,
   "id": "2b7655b7",
   "metadata": {
    "ExecuteTime": {
     "end_time": "2024-03-04T12:13:21.315370Z",
     "start_time": "2024-03-04T12:13:21.309634Z"
    }
   },
   "outputs": [
    {
     "name": "stdout",
     "output_type": "stream",
     "text": [
      "삼성전자/LG전자/Naver/SK하이닉스/미래에셋대우\n"
     ]
    }
   ],
   "source": [
    "interest = ['삼성전자', 'LG전자', 'Naver', 'SK하이닉스', '미래에셋대우']\n",
    "print(\"/\".join(interest))"
   ]
  },
  {
   "cell_type": "code",
   "execution_count": null,
   "id": "ea6cf0fa",
   "metadata": {},
   "outputs": [],
   "source": [
    "# 68"
   ]
  },
  {
   "cell_type": "code",
   "execution_count": 18,
   "id": "3ca70264",
   "metadata": {
    "ExecuteTime": {
     "end_time": "2024-03-04T12:15:21.187663Z",
     "start_time": "2024-03-04T12:15:21.181634Z"
    }
   },
   "outputs": [
    {
     "name": "stdout",
     "output_type": "stream",
     "text": [
      "삼성전자\n",
      "LG전자\n",
      "Naver\n",
      "SK하이닉스\n",
      "미래에셋대우\n"
     ]
    }
   ],
   "source": [
    "interest = ['삼성전자', 'LG전자', 'Naver', 'SK하이닉스', '미래에셋대우']\n",
    "print(\"\\n\".join(interest))"
   ]
  },
  {
   "cell_type": "code",
   "execution_count": null,
   "id": "73924916",
   "metadata": {},
   "outputs": [],
   "source": [
    "#69 (split)"
   ]
  },
  {
   "cell_type": "code",
   "execution_count": 20,
   "id": "0cb8a6ac",
   "metadata": {
    "ExecuteTime": {
     "end_time": "2024-03-04T12:17:07.257581Z",
     "start_time": "2024-03-04T12:17:07.252855Z"
    }
   },
   "outputs": [
    {
     "name": "stdout",
     "output_type": "stream",
     "text": [
      "['삼성전자', 'LG전자', 'Naver']\n"
     ]
    }
   ],
   "source": [
    "string = \"삼성전자/LG전자/Naver\"\n",
    "interest = string.split(\"/\")\n",
    "print(interest)"
   ]
  },
  {
   "cell_type": "code",
   "execution_count": null,
   "id": "7ef622c1",
   "metadata": {},
   "outputs": [],
   "source": [
    "# 70"
   ]
  },
  {
   "cell_type": "code",
   "execution_count": 21,
   "id": "f6a470ca",
   "metadata": {
    "ExecuteTime": {
     "end_time": "2024-03-04T12:18:19.530989Z",
     "start_time": "2024-03-04T12:18:19.525079Z"
    }
   },
   "outputs": [
    {
     "name": "stdout",
     "output_type": "stream",
     "text": [
      "[1, 2, 3, 4, 5, 9, 10]\n"
     ]
    }
   ],
   "source": [
    "data = [2, 4, 3, 1, 5, 10, 9]\n",
    "data.sort()\n",
    "print(data)"
   ]
  },
  {
   "cell_type": "markdown",
   "id": "f3fc85b8",
   "metadata": {},
   "source": [
    "# 파이썬 튜플"
   ]
  },
  {
   "cell_type": "code",
   "execution_count": null,
   "id": "f37349fd",
   "metadata": {},
   "outputs": [],
   "source": [
    "# 71"
   ]
  },
  {
   "cell_type": "code",
   "execution_count": 23,
   "id": "932caac9",
   "metadata": {
    "ExecuteTime": {
     "end_time": "2024-03-04T12:20:35.858194Z",
     "start_time": "2024-03-04T12:20:35.853284Z"
    }
   },
   "outputs": [],
   "source": [
    "my_variable = ()"
   ]
  },
  {
   "cell_type": "code",
   "execution_count": 24,
   "id": "38ed25c9",
   "metadata": {
    "ExecuteTime": {
     "end_time": "2024-03-04T12:21:10.171589Z",
     "start_time": "2024-03-04T12:21:10.165888Z"
    }
   },
   "outputs": [
    {
     "name": "stdout",
     "output_type": "stream",
     "text": [
      "<class 'tuple'>\n"
     ]
    }
   ],
   "source": [
    "print(type(my_variable))"
   ]
  },
  {
   "cell_type": "code",
   "execution_count": null,
   "id": "e1156fb8",
   "metadata": {},
   "outputs": [],
   "source": [
    "# 72"
   ]
  },
  {
   "cell_type": "code",
   "execution_count": 25,
   "id": "88de9ce3",
   "metadata": {
    "ExecuteTime": {
     "end_time": "2024-03-04T12:22:11.010135Z",
     "start_time": "2024-03-04T12:22:11.005868Z"
    }
   },
   "outputs": [],
   "source": [
    "movie_rank = (\"닥터 스트레인지\", \"스플릿\", \"럭키\")"
   ]
  },
  {
   "cell_type": "code",
   "execution_count": null,
   "id": "af27a204",
   "metadata": {},
   "outputs": [],
   "source": [
    "# 73"
   ]
  },
  {
   "cell_type": "code",
   "execution_count": 27,
   "id": "4a2abe6d",
   "metadata": {
    "ExecuteTime": {
     "end_time": "2024-03-04T12:23:34.620726Z",
     "start_time": "2024-03-04T12:23:34.614239Z"
    }
   },
   "outputs": [
    {
     "data": {
      "text/plain": [
       "int"
      ]
     },
     "execution_count": 27,
     "metadata": {},
     "output_type": "execute_result"
    }
   ],
   "source": [
    "tuple = (1)\n",
    "type(tuple)"
   ]
  },
  {
   "cell_type": "code",
   "execution_count": 28,
   "id": "9f0acdf5",
   "metadata": {
    "ExecuteTime": {
     "end_time": "2024-03-04T12:24:08.068285Z",
     "start_time": "2024-03-04T12:24:08.062181Z"
    }
   },
   "outputs": [
    {
     "data": {
      "text/plain": [
       "tuple"
      ]
     },
     "execution_count": 28,
     "metadata": {},
     "output_type": "execute_result"
    }
   ],
   "source": [
    "tuple =(1, )\n",
    "type(tuple)"
   ]
  },
  {
   "cell_type": "code",
   "execution_count": null,
   "id": "a98ed8ec",
   "metadata": {},
   "outputs": [],
   "source": [
    "# 74 (tuple은 원소의 값을 변경x)"
   ]
  },
  {
   "cell_type": "code",
   "execution_count": null,
   "id": "59d7ce20",
   "metadata": {},
   "outputs": [],
   "source": [
    "t = (1, 2, 3)\n",
    "t[0] = 'a'\n",
    "Traceback (most recent call last):\n",
    "  File \"<pyshell#46>\", line 1, in <module>\n",
    "    t[0] = 'a'\n",
    "TypeError: 'tuple' object does not support item assignment"
   ]
  },
  {
   "cell_type": "code",
   "execution_count": null,
   "id": "495a32b7",
   "metadata": {},
   "outputs": [],
   "source": [
    "# 75"
   ]
  },
  {
   "cell_type": "code",
   "execution_count": 29,
   "id": "5406de66",
   "metadata": {
    "ExecuteTime": {
     "end_time": "2024-03-04T12:25:29.156983Z",
     "start_time": "2024-03-04T12:25:29.150343Z"
    }
   },
   "outputs": [
    {
     "data": {
      "text/plain": [
       "tuple"
      ]
     },
     "execution_count": 29,
     "metadata": {},
     "output_type": "execute_result"
    }
   ],
   "source": [
    "t = 1, 2, 3, 4\n",
    "type(t)"
   ]
  },
  {
   "cell_type": "code",
   "execution_count": null,
   "id": "f5a57807",
   "metadata": {},
   "outputs": [],
   "source": [
    "# 76"
   ]
  },
  {
   "cell_type": "code",
   "execution_count": 31,
   "id": "d66b4f53",
   "metadata": {
    "ExecuteTime": {
     "end_time": "2024-03-04T12:27:16.163767Z",
     "start_time": "2024-03-04T12:27:16.158582Z"
    }
   },
   "outputs": [
    {
     "name": "stdout",
     "output_type": "stream",
     "text": [
      "('A', 'b', 'c')\n"
     ]
    }
   ],
   "source": [
    "t = ('A', 'b', 'c')\n",
    "print(t)"
   ]
  },
  {
   "cell_type": "code",
   "execution_count": null,
   "id": "97c69b30",
   "metadata": {},
   "outputs": [],
   "source": [
    "# 77"
   ]
  },
  {
   "cell_type": "code",
   "execution_count": null,
   "id": "c2ebbc29",
   "metadata": {},
   "outputs": [],
   "source": [
    "interest = ('삼성전자', 'LG전자', 'SK Hynix')"
   ]
  },
  {
   "cell_type": "code",
   "execution_count": 32,
   "id": "d797f2e9",
   "metadata": {
    "ExecuteTime": {
     "end_time": "2024-03-04T12:27:47.890439Z",
     "start_time": "2024-03-04T12:27:47.886213Z"
    }
   },
   "outputs": [],
   "source": [
    "data = list(interest)"
   ]
  },
  {
   "cell_type": "code",
   "execution_count": 33,
   "id": "bc36cfcb",
   "metadata": {
    "ExecuteTime": {
     "end_time": "2024-03-04T12:28:05.347661Z",
     "start_time": "2024-03-04T12:28:05.342459Z"
    }
   },
   "outputs": [
    {
     "data": {
      "text/plain": [
       "list"
      ]
     },
     "execution_count": 33,
     "metadata": {},
     "output_type": "execute_result"
    }
   ],
   "source": [
    "type(interest)"
   ]
  },
  {
   "cell_type": "code",
   "execution_count": null,
   "id": "b9d95895",
   "metadata": {},
   "outputs": [],
   "source": [
    "#78"
   ]
  },
  {
   "cell_type": "code",
   "execution_count": 48,
   "id": "4d2dbe6e",
   "metadata": {
    "ExecuteTime": {
     "end_time": "2024-03-04T12:35:01.035815Z",
     "start_time": "2024-03-04T12:35:01.030608Z"
    }
   },
   "outputs": [],
   "source": [
    "interest = ['삼성전자', 'LG전자', 'SK Hynix']"
   ]
  },
  {
   "cell_type": "code",
   "execution_count": 49,
   "id": "ed42dfa1",
   "metadata": {
    "ExecuteTime": {
     "end_time": "2024-03-04T12:35:03.194468Z",
     "start_time": "2024-03-04T12:35:03.174219Z"
    },
    "scrolled": true
   },
   "outputs": [
    {
     "ename": "TypeError",
     "evalue": "'tuple' object is not callable",
     "output_type": "error",
     "traceback": [
      "\u001b[1;31m---------------------------------------------------------------------------\u001b[0m",
      "\u001b[1;31mTypeError\u001b[0m                                 Traceback (most recent call last)",
      "Cell \u001b[1;32mIn[49], line 1\u001b[0m\n\u001b[1;32m----> 1\u001b[0m data \u001b[38;5;241m=\u001b[39m \u001b[38;5;28mtuple\u001b[39m(interest)\n",
      "\u001b[1;31mTypeError\u001b[0m: 'tuple' object is not callable"
     ]
    }
   ],
   "source": [
    "data = tuple(interest)"
   ]
  },
  {
   "cell_type": "code",
   "execution_count": 42,
   "id": "4ab1ed5a",
   "metadata": {
    "ExecuteTime": {
     "end_time": "2024-03-04T12:31:59.064855Z",
     "start_time": "2024-03-04T12:31:59.060247Z"
    }
   },
   "outputs": [
    {
     "data": {
      "text/plain": [
       "list"
      ]
     },
     "execution_count": 42,
     "metadata": {},
     "output_type": "execute_result"
    }
   ],
   "source": [
    "type(interest)"
   ]
  },
  {
   "cell_type": "code",
   "execution_count": null,
   "id": "60b86091",
   "metadata": {},
   "outputs": [],
   "source": [
    "# 79"
   ]
  },
  {
   "cell_type": "code",
   "execution_count": 47,
   "id": "25d55a33",
   "metadata": {
    "ExecuteTime": {
     "end_time": "2024-03-04T12:33:23.771430Z",
     "start_time": "2024-03-04T12:33:23.766478Z"
    }
   },
   "outputs": [
    {
     "name": "stdout",
     "output_type": "stream",
     "text": [
      "apple banana cake\n"
     ]
    }
   ],
   "source": [
    "temp = ('apple', 'banana', 'cake')\n",
    "a, b, c = temp\n",
    "print(a, b, c)"
   ]
  },
  {
   "cell_type": "code",
   "execution_count": null,
   "id": "b0bca618",
   "metadata": {},
   "outputs": [],
   "source": [
    "# 80 (range)"
   ]
  },
  {
   "cell_type": "code",
   "execution_count": null,
   "id": "4be49ff5",
   "metadata": {},
   "outputs": [],
   "source": [
    "(2, 4, 6, 8 ... 98)"
   ]
  },
  {
   "cell_type": "code",
   "execution_count": 51,
   "id": "7d32f34a",
   "metadata": {
    "ExecuteTime": {
     "end_time": "2024-03-04T12:35:35.379574Z",
     "start_time": "2024-03-04T12:35:35.326986Z"
    }
   },
   "outputs": [
    {
     "ename": "TypeError",
     "evalue": "'tuple' object is not callable",
     "output_type": "error",
     "traceback": [
      "\u001b[1;31m---------------------------------------------------------------------------\u001b[0m",
      "\u001b[1;31mTypeError\u001b[0m                                 Traceback (most recent call last)",
      "Cell \u001b[1;32mIn[51], line 1\u001b[0m\n\u001b[1;32m----> 1\u001b[0m data \u001b[38;5;241m=\u001b[39m \u001b[38;5;28mtuple\u001b[39m(\u001b[38;5;28mrange\u001b[39m(\u001b[38;5;241m2\u001b[39m, \u001b[38;5;241m100\u001b[39m, \u001b[38;5;241m2\u001b[39m))\n\u001b[0;32m      2\u001b[0m \u001b[38;5;28mprint\u001b[39m(data)\n",
      "\u001b[1;31mTypeError\u001b[0m: 'tuple' object is not callable"
     ]
    }
   ],
   "source": [
    "data = tuple(range(2, 100, 2))\n",
    "print(data)"
   ]
  },
  {
   "cell_type": "markdown",
   "id": "d8ac5c54",
   "metadata": {},
   "source": [
    "# 파이썬 딕셔너리"
   ]
  },
  {
   "cell_type": "code",
   "execution_count": null,
   "id": "04c612ba",
   "metadata": {},
   "outputs": [],
   "source": [
    "# 81 (start expression)"
   ]
  },
  {
   "cell_type": "code",
   "execution_count": 54,
   "id": "da44667a",
   "metadata": {
    "ExecuteTime": {
     "end_time": "2024-03-04T12:38:01.047654Z",
     "start_time": "2024-03-04T12:38:01.043474Z"
    }
   },
   "outputs": [
    {
     "name": "stdout",
     "output_type": "stream",
     "text": [
      "[8.8, 8.9, 8.7, 9.2, 9.3, 9.7, 9.9, 9.5]\n"
     ]
    }
   ],
   "source": [
    "scores = [8.8, 8.9, 8.7, 9.2, 9.3, 9.7, 9.9, 9.5, 7.8, 9.4]\n",
    "*valid_score, _, _= scores\n",
    "print(valid_score)"
   ]
  },
  {
   "cell_type": "code",
   "execution_count": null,
   "id": "884210d8",
   "metadata": {},
   "outputs": [],
   "source": [
    "# 82"
   ]
  },
  {
   "cell_type": "code",
   "execution_count": 57,
   "id": "9bc9fb7c",
   "metadata": {
    "ExecuteTime": {
     "end_time": "2024-03-04T12:40:49.532669Z",
     "start_time": "2024-03-04T12:40:49.527086Z"
    }
   },
   "outputs": [
    {
     "name": "stdout",
     "output_type": "stream",
     "text": [
      "[8.7, 9.2, 9.3, 9.7, 9.9, 9.5, 7.8, 9.4]\n"
     ]
    }
   ],
   "source": [
    "scores = [8.8, 8.9, 8.7, 9.2, 9.3, 9.7, 9.9, 9.5, 7.8, 9.4]\n",
    "a, b, *valid_score = scores\n",
    "print(valid_score)"
   ]
  },
  {
   "cell_type": "code",
   "execution_count": null,
   "id": "d69c1c4a",
   "metadata": {},
   "outputs": [],
   "source": [
    "#83"
   ]
  },
  {
   "cell_type": "code",
   "execution_count": 56,
   "id": "858697f3",
   "metadata": {
    "ExecuteTime": {
     "end_time": "2024-03-04T12:40:35.421061Z",
     "start_time": "2024-03-04T12:40:35.414949Z"
    }
   },
   "outputs": [
    {
     "name": "stdout",
     "output_type": "stream",
     "text": [
      "[8.9, 8.7, 9.2, 9.3, 9.7, 9.9, 9.5, 7.8]\n"
     ]
    }
   ],
   "source": [
    "scores = [8.8, 8.9, 8.7, 9.2, 9.3, 9.7, 9.9, 9.5, 7.8, 9.4]\n",
    "a, *valid_score, b = scores\n",
    "print(valid_score)"
   ]
  },
  {
   "cell_type": "code",
   "execution_count": null,
   "id": "1e312dbe",
   "metadata": {},
   "outputs": [],
   "source": [
    "#84"
   ]
  },
  {
   "cell_type": "code",
   "execution_count": 58,
   "id": "3955e454",
   "metadata": {
    "ExecuteTime": {
     "end_time": "2024-03-04T12:41:28.547293Z",
     "start_time": "2024-03-04T12:41:28.543714Z"
    }
   },
   "outputs": [],
   "source": [
    "temp = {}"
   ]
  },
  {
   "cell_type": "code",
   "execution_count": 59,
   "id": "852481f7",
   "metadata": {
    "ExecuteTime": {
     "end_time": "2024-03-04T12:41:42.357261Z",
     "start_time": "2024-03-04T12:41:42.351259Z"
    }
   },
   "outputs": [
    {
     "data": {
      "text/plain": [
       "dict"
      ]
     },
     "execution_count": 59,
     "metadata": {},
     "output_type": "execute_result"
    }
   ],
   "source": [
    "type(temp)"
   ]
  },
  {
   "cell_type": "code",
   "execution_count": null,
   "id": "af328ba2",
   "metadata": {},
   "outputs": [],
   "source": [
    "#85"
   ]
  },
  {
   "cell_type": "code",
   "execution_count": 60,
   "id": "66eec0f5",
   "metadata": {
    "ExecuteTime": {
     "end_time": "2024-03-04T12:42:42.340932Z",
     "start_time": "2024-03-04T12:42:42.335157Z"
    }
   },
   "outputs": [
    {
     "name": "stdout",
     "output_type": "stream",
     "text": [
      "{'메로나': 1000, '폴라포': 1200, '빵빠레': 1800}\n"
     ]
    }
   ],
   "source": [
    "ice = {\"메로나\" : 1000, \"폴라포\" : 1200, \"빵빠레\" : 1800}\n",
    "print(ice)"
   ]
  },
  {
   "cell_type": "code",
   "execution_count": null,
   "id": "ee42d19c",
   "metadata": {},
   "outputs": [],
   "source": [
    "#86"
   ]
  },
  {
   "cell_type": "code",
   "execution_count": 62,
   "id": "b307e261",
   "metadata": {
    "ExecuteTime": {
     "end_time": "2024-03-04T12:44:37.509858Z",
     "start_time": "2024-03-04T12:44:37.503913Z"
    }
   },
   "outputs": [
    {
     "name": "stdout",
     "output_type": "stream",
     "text": [
      "{'메로나': 1000, '폴라포': 1200, '빵빠레': 1800, '죠스바': 1200, '월드콘': 1500}\n"
     ]
    }
   ],
   "source": [
    "ice = {\"메로나\" : 1000, \"폴라포\" : 1200, \"빵빠레\" : 1800}\n",
    "ice[\"죠스바\"] = 1200\n",
    "ice[\"월드콘\"] = 1500\n",
    "print(ice)"
   ]
  },
  {
   "cell_type": "code",
   "execution_count": null,
   "id": "ff4ddb37",
   "metadata": {},
   "outputs": [],
   "source": [
    "#87"
   ]
  },
  {
   "cell_type": "code",
   "execution_count": 64,
   "id": "b79c631e",
   "metadata": {
    "ExecuteTime": {
     "end_time": "2024-03-04T12:46:36.237491Z",
     "start_time": "2024-03-04T12:46:36.231438Z"
    }
   },
   "outputs": [
    {
     "name": "stdout",
     "output_type": "stream",
     "text": [
      "메로나 가격:  1000\n"
     ]
    }
   ],
   "source": [
    "ice = {'메로나': 1000,\n",
    "       '폴로포': 1200,\n",
    "       '빵빠레': 1800,\n",
    "       '죠스바': 1200,\n",
    "       '월드콘': 1500}\n",
    "print(\"메로나 가격: \",ice[\"메로나\"])"
   ]
  },
  {
   "cell_type": "code",
   "execution_count": null,
   "id": "d766ed7c",
   "metadata": {},
   "outputs": [],
   "source": [
    "#88"
   ]
  },
  {
   "cell_type": "code",
   "execution_count": 70,
   "id": "7ed7079e",
   "metadata": {
    "ExecuteTime": {
     "end_time": "2024-03-04T12:48:47.603458Z",
     "start_time": "2024-03-04T12:48:47.599220Z"
    }
   },
   "outputs": [],
   "source": [
    "ice[\"메로나\"] = 1300"
   ]
  },
  {
   "cell_type": "code",
   "execution_count": null,
   "id": "cd1ef9b7",
   "metadata": {},
   "outputs": [],
   "source": [
    "#89"
   ]
  },
  {
   "cell_type": "code",
   "execution_count": 72,
   "id": "40ebf244",
   "metadata": {
    "ExecuteTime": {
     "end_time": "2024-03-04T12:49:34.187964Z",
     "start_time": "2024-03-04T12:49:34.182325Z"
    }
   },
   "outputs": [
    {
     "name": "stdout",
     "output_type": "stream",
     "text": [
      "{'폴로포': 1200, '빵빠레': 1800, '죠스바': 1200, '월드콘': 1500}\n"
     ]
    }
   ],
   "source": [
    "ice = {'메로나': 1000,\n",
    "       '폴로포': 1200,\n",
    "       '빵빠레': 1800,\n",
    "       '죠스바': 1200,\n",
    "       '월드콘': 1500}\n",
    "del ice[\"메로나\"]\n",
    "print(ice)"
   ]
  },
  {
   "cell_type": "code",
   "execution_count": null,
   "id": "a7020722",
   "metadata": {},
   "outputs": [],
   "source": [
    "#90 (딕셔너리에 없는 키를 사용 인덱싱-> 에러)"
   ]
  },
  {
   "cell_type": "code",
   "execution_count": null,
   "id": "f4a1a81d",
   "metadata": {},
   "outputs": [],
   "source": [
    "icecream = {'폴라포': 1200, '빵빠레': 1800, '월드콘': 1500, '메로나': 1000}\n",
    "icecream['누가바']\n",
    "Traceback (most recent call last):\n",
    "  File \"<pyshell#69>\", line 1, in <module>\n",
    "    icecream['누가바']\n",
    "KeyError: '누가바'"
   ]
  },
  {
   "cell_type": "code",
   "execution_count": null,
   "id": "618cb489",
   "metadata": {},
   "outputs": [],
   "source": [
    "# 91(딕셔너리 생성)"
   ]
  },
  {
   "cell_type": "code",
   "execution_count": 73,
   "id": "a2fe9abe",
   "metadata": {
    "ExecuteTime": {
     "end_time": "2024-03-04T12:53:30.927511Z",
     "start_time": "2024-03-04T12:53:30.922217Z"
    }
   },
   "outputs": [
    {
     "name": "stdout",
     "output_type": "stream",
     "text": [
      "{'메로나': [300, 20], '비비빅': [400, 3], '죠스바': [250, 100]}\n"
     ]
    }
   ],
   "source": [
    "inventory = {\"메로나\": [300,20], \"비비빅\": [400,3], \"죠스바\": [250,100]}\n",
    "print(inventory)              "
   ]
  },
  {
   "cell_type": "code",
   "execution_count": null,
   "id": "608b4008",
   "metadata": {},
   "outputs": [],
   "source": [
    "# 92(딕셔너리 인덱싱)"
   ]
  },
  {
   "cell_type": "code",
   "execution_count": 75,
   "id": "65f2495d",
   "metadata": {
    "ExecuteTime": {
     "end_time": "2024-03-04T12:55:19.564550Z",
     "start_time": "2024-03-04T12:55:19.559790Z"
    }
   },
   "outputs": [
    {
     "name": "stdout",
     "output_type": "stream",
     "text": [
      "300 원\n"
     ]
    }
   ],
   "source": [
    "inventory = {\"메로나\": [300,20], \"비비빅\": [400,3], \"죠스바\": [250,100]}\n",
    "print(inventory[\"메로나\"][0], \"원\")"
   ]
  },
  {
   "cell_type": "code",
   "execution_count": null,
   "id": "69ecf985",
   "metadata": {},
   "outputs": [],
   "source": [
    "# 93(딕셔너리 인덱싱)"
   ]
  },
  {
   "cell_type": "code",
   "execution_count": 76,
   "id": "fdfef043",
   "metadata": {
    "ExecuteTime": {
     "end_time": "2024-03-04T12:56:42.758505Z",
     "start_time": "2024-03-04T12:56:42.753112Z"
    }
   },
   "outputs": [
    {
     "name": "stdout",
     "output_type": "stream",
     "text": [
      "20 개\n"
     ]
    }
   ],
   "source": [
    "inventory = {\"메로나\": [300,20], \"비비빅\": [400,3], \"죠스바\": [250,100]}\n",
    "print(inventory[\"메로나\"][1], \"개\")"
   ]
  },
  {
   "cell_type": "code",
   "execution_count": null,
   "id": "e84e9499",
   "metadata": {},
   "outputs": [],
   "source": [
    "# 94(딕셔너리 추가)"
   ]
  },
  {
   "cell_type": "code",
   "execution_count": 77,
   "id": "a2dc5d4c",
   "metadata": {
    "ExecuteTime": {
     "end_time": "2024-03-04T12:57:51.477827Z",
     "start_time": "2024-03-04T12:57:51.472761Z"
    }
   },
   "outputs": [
    {
     "name": "stdout",
     "output_type": "stream",
     "text": [
      "{'메로나': [300, 20], '비비빅': [400, 3], '죠스바': [250, 100], '월드콘': [500, 7]}\n"
     ]
    }
   ],
   "source": [
    "inventory = {\"메로나\": [300,20], \"비비빅\": [400,3], \"죠스바\": [250,100]}\n",
    "inventory[\"월드콘\"] = [500,7]\n",
    "print(inventory)"
   ]
  },
  {
   "cell_type": "code",
   "execution_count": null,
   "id": "82882ca9",
   "metadata": {},
   "outputs": [],
   "source": [
    "# 95(딕셔너리 keys() 메서드 )"
   ]
  },
  {
   "cell_type": "code",
   "execution_count": 78,
   "id": "7b999814",
   "metadata": {
    "ExecuteTime": {
     "end_time": "2024-03-04T12:59:12.221975Z",
     "start_time": "2024-03-04T12:59:12.215961Z"
    }
   },
   "outputs": [
    {
     "name": "stdout",
     "output_type": "stream",
     "text": [
      "['탱크보이', '폴라포', '빵빠레', '월드콘', '메로나']\n"
     ]
    }
   ],
   "source": [
    "icecream = {'탱크보이': 1200, '폴라포': 1200, '빵빠레': 1800, '월드콘': 1500, '메로나': 1000}\n",
    "ice = list(icecream.keys())\n",
    "print(ice)"
   ]
  },
  {
   "cell_type": "code",
   "execution_count": null,
   "id": "567c29e0",
   "metadata": {},
   "outputs": [],
   "source": [
    "# 96(딕셔너리 keys() 메서드 )"
   ]
  },
  {
   "cell_type": "code",
   "execution_count": 80,
   "id": "2213b531",
   "metadata": {
    "ExecuteTime": {
     "end_time": "2024-03-04T12:59:54.708746Z",
     "start_time": "2024-03-04T12:59:54.702908Z"
    }
   },
   "outputs": [
    {
     "name": "stdout",
     "output_type": "stream",
     "text": [
      "[1200, 1200, 1800, 1500, 1000]\n"
     ]
    }
   ],
   "source": [
    "icecream = {'탱크보이': 1200, '폴라포': 1200, '빵빠레': 1800, '월드콘': 1500, '메로나': 1000}\n",
    "price = list(icecream.values())\n",
    "print(price)"
   ]
  },
  {
   "cell_type": "code",
   "execution_count": null,
   "id": "3aeb618e",
   "metadata": {},
   "outputs": [],
   "source": [
    "# 97(딕셔너리 values() 메서드 )"
   ]
  },
  {
   "cell_type": "code",
   "execution_count": 81,
   "id": "327f041f",
   "metadata": {
    "ExecuteTime": {
     "end_time": "2024-03-04T13:01:08.302164Z",
     "start_time": "2024-03-04T13:01:08.296470Z"
    }
   },
   "outputs": [
    {
     "name": "stdout",
     "output_type": "stream",
     "text": [
      "6700\n"
     ]
    }
   ],
   "source": [
    "icecream = {'탱크보이': 1200, '폴라포': 1200, '빵빠레': 1800, '월드콘': 1500, '메로나': 1000}\n",
    "print(sum(icecream.values()))"
   ]
  },
  {
   "cell_type": "code",
   "execution_count": null,
   "id": "c0cfabfc",
   "metadata": {},
   "outputs": [],
   "source": [
    "# 98(딕셔너리 update 메서드)"
   ]
  },
  {
   "cell_type": "code",
   "execution_count": 83,
   "id": "debc85c3",
   "metadata": {
    "ExecuteTime": {
     "end_time": "2024-03-04T13:02:53.150027Z",
     "start_time": "2024-03-04T13:02:53.144338Z"
    }
   },
   "outputs": [
    {
     "name": "stdout",
     "output_type": "stream",
     "text": [
      "{'탱크보이': 1200, '폴라포': 1200, '빵빠레': 1800, '월드콘': 1500, '메로나': 1000, '팥빙수': 2700, '아맛나': 1000}\n"
     ]
    }
   ],
   "source": [
    "icecream = {'탱크보이': 1200, '폴라포': 1200, '빵빠레': 1800, '월드콘': 1500, '메로나': 1000}\n",
    "new_product = {'팥빙수':2700, '아맛나':1000}\n",
    "icecream.update(new_product)\n",
    "print(icecream)"
   ]
  },
  {
   "cell_type": "code",
   "execution_count": null,
   "id": "20b7a606",
   "metadata": {},
   "outputs": [],
   "source": [
    "# 99(zip과 dict)"
   ]
  },
  {
   "cell_type": "code",
   "execution_count": 85,
   "id": "0f820cfa",
   "metadata": {
    "ExecuteTime": {
     "end_time": "2024-03-04T13:03:48.893776Z",
     "start_time": "2024-03-04T13:03:48.888135Z"
    }
   },
   "outputs": [
    {
     "name": "stdout",
     "output_type": "stream",
     "text": [
      "{'apple': 300, 'pear': 250, 'peach': 400}\n"
     ]
    }
   ],
   "source": [
    "keys = (\"apple\", \"pear\", \"peach\")\n",
    "vals = (300, 250, 400)\n",
    "result = dict(zip(keys, vals))\n",
    "print(result)"
   ]
  },
  {
   "cell_type": "code",
   "execution_count": null,
   "id": "3847e795",
   "metadata": {},
   "outputs": [],
   "source": [
    "# 100(zip과 dict)"
   ]
  },
  {
   "cell_type": "code",
   "execution_count": 87,
   "id": "bfae7739",
   "metadata": {
    "ExecuteTime": {
     "end_time": "2024-03-04T13:05:38.943133Z",
     "start_time": "2024-03-04T13:05:38.937237Z"
    }
   },
   "outputs": [
    {
     "name": "stdout",
     "output_type": "stream",
     "text": [
      "{'09/05': 10500, '09/06': 10300, '09/07': 10100, '09/08': 10800, '09/09': 11000}\n"
     ]
    }
   ],
   "source": [
    "date = ['09/05', '09/06', '09/07', '09/08', '09/09']\n",
    "close_price = [10500, 10300, 10100, 10800, 11000]\n",
    "close_table = dict(zip(date, close_price))\n",
    "print(close_table)"
   ]
  }
 ],
 "metadata": {
  "kernelspec": {
   "display_name": "Python 3 (ipykernel)",
   "language": "python",
   "name": "python3"
  },
  "language_info": {
   "codemirror_mode": {
    "name": "ipython",
    "version": 3
   },
   "file_extension": ".py",
   "mimetype": "text/x-python",
   "name": "python",
   "nbconvert_exporter": "python",
   "pygments_lexer": "ipython3",
   "version": "3.11.5"
  },
  "toc": {
   "base_numbering": 1,
   "nav_menu": {},
   "number_sections": true,
   "sideBar": true,
   "skip_h1_title": false,
   "title_cell": "Table of Contents",
   "title_sidebar": "Contents",
   "toc_cell": false,
   "toc_position": {},
   "toc_section_display": true,
   "toc_window_display": false
  }
 },
 "nbformat": 4,
 "nbformat_minor": 5
}
