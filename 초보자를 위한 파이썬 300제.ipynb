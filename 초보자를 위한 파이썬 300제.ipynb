{
 "cells": [
  {
   "cell_type": "code",
   "execution_count": 1,
   "id": "4531715d",
   "metadata": {
    "ExecuteTime": {
     "end_time": "2024-02-29T14:15:56.423514Z",
     "start_time": "2024-02-29T14:15:56.419706Z"
    }
   },
   "outputs": [
    {
     "name": "stdout",
     "output_type": "stream",
     "text": [
      "Hello World\n"
     ]
    }
   ],
   "source": [
    "print('Hello World')"
   ]
  },
  {
   "cell_type": "code",
   "execution_count": 2,
   "id": "4acdc42e",
   "metadata": {
    "ExecuteTime": {
     "end_time": "2024-02-29T14:25:48.445386Z",
     "start_time": "2024-02-29T14:25:48.440303Z"
    }
   },
   "outputs": [
    {
     "name": "stdout",
     "output_type": "stream",
     "text": [
      "Mary's cosmetics\n"
     ]
    }
   ],
   "source": [
    "print(\"Mary's cosmetics\")"
   ]
  },
  {
   "cell_type": "code",
   "execution_count": 6,
   "id": "3ecd285a",
   "metadata": {
    "ExecuteTime": {
     "end_time": "2024-02-29T14:27:42.300886Z",
     "start_time": "2024-02-29T14:27:42.295790Z"
    }
   },
   "outputs": [
    {
     "name": "stdout",
     "output_type": "stream",
     "text": [
      "신씨가 소리질렀다.\"도둑이야\"\n"
     ]
    }
   ],
   "source": [
    "print('신씨가 소리질렀다.\"도둑이야\"')"
   ]
  },
  {
   "cell_type": "code",
   "execution_count": 9,
   "id": "bf966315",
   "metadata": {
    "ExecuteTime": {
     "end_time": "2024-02-29T14:45:37.595448Z",
     "start_time": "2024-02-29T14:45:37.590152Z"
    }
   },
   "outputs": [
    {
     "name": "stdout",
     "output_type": "stream",
     "text": [
      "c:\\Windows\n"
     ]
    }
   ],
   "source": [
    "print('c:\\Windows')"
   ]
  },
  {
   "cell_type": "code",
   "execution_count": 10,
   "id": "759e7619",
   "metadata": {
    "ExecuteTime": {
     "end_time": "2024-02-29T14:47:26.355594Z",
     "start_time": "2024-02-29T14:47:26.350543Z"
    },
    "scrolled": true
   },
   "outputs": [
    {
     "name": "stdout",
     "output_type": "stream",
     "text": [
      "안녕하세요.\n",
      "만나서\t\t반갑습니다.\n"
     ]
    }
   ],
   "source": [
    "print(\"안녕하세요.\\n만나서\\t\\t반갑습니다.\")"
   ]
  },
  {
   "cell_type": "code",
   "execution_count": 11,
   "id": "009c7c14",
   "metadata": {
    "ExecuteTime": {
     "end_time": "2024-02-29T14:48:55.754673Z",
     "start_time": "2024-02-29T14:48:55.749893Z"
    }
   },
   "outputs": [
    {
     "name": "stdout",
     "output_type": "stream",
     "text": [
      "오늘은 일요일\n"
     ]
    }
   ],
   "source": [
    "print (\"오늘은\", \"일요일\")"
   ]
  },
  {
   "cell_type": "code",
   "execution_count": 14,
   "id": "d946a760",
   "metadata": {
    "ExecuteTime": {
     "end_time": "2024-02-29T14:51:36.594649Z",
     "start_time": "2024-02-29T14:51:36.590858Z"
    }
   },
   "outputs": [
    {
     "name": "stdout",
     "output_type": "stream",
     "text": [
      "naver;kakao;sk;samsung\n"
     ]
    }
   ],
   "source": [
    "print(\"naver\", \"kakao\", \"sk\", \"samsung\", sep=\";\")"
   ]
  },
  {
   "cell_type": "code",
   "execution_count": 15,
   "id": "968681e9",
   "metadata": {
    "ExecuteTime": {
     "end_time": "2024-02-29T14:52:42.740345Z",
     "start_time": "2024-02-29T14:52:42.734329Z"
    }
   },
   "outputs": [
    {
     "name": "stdout",
     "output_type": "stream",
     "text": [
      "naver/kakao/sk/samsung\n"
     ]
    }
   ],
   "source": [
    "print(\"naver\", \"kakao\", \"sk\", \"samsung\", sep=\"/\")"
   ]
  },
  {
   "cell_type": "code",
   "execution_count": 17,
   "id": "60434862",
   "metadata": {
    "ExecuteTime": {
     "end_time": "2024-02-29T14:54:28.827079Z",
     "start_time": "2024-02-29T14:54:28.822363Z"
    }
   },
   "outputs": [
    {
     "name": "stdout",
     "output_type": "stream",
     "text": [
      "firstsecond\n"
     ]
    }
   ],
   "source": [
    "print(\"first\", end=\"\");print(\"second\")"
   ]
  },
  {
   "cell_type": "code",
   "execution_count": 19,
   "id": "c0efc4db",
   "metadata": {
    "ExecuteTime": {
     "end_time": "2024-02-29T14:55:39.211373Z",
     "start_time": "2024-02-29T14:55:39.206058Z"
    }
   },
   "outputs": [
    {
     "name": "stdout",
     "output_type": "stream",
     "text": [
      "1.6666666666666667\n"
     ]
    }
   ],
   "source": [
    "print(5/3)"
   ]
  },
  {
   "cell_type": "code",
   "execution_count": 2,
   "id": "803d372a",
   "metadata": {
    "ExecuteTime": {
     "end_time": "2024-03-01T14:46:30.051889Z",
     "start_time": "2024-03-01T14:46:30.047056Z"
    }
   },
   "outputs": [
    {
     "name": "stdout",
     "output_type": "stream",
     "text": [
      "500000\n"
     ]
    }
   ],
   "source": [
    "삼성전자 = 50000\n",
    "총평가금액 = (50000 * 10)\n",
    "print(총평가금액)"
   ]
  },
  {
   "cell_type": "code",
   "execution_count": 3,
   "id": "f417ba00",
   "metadata": {
    "ExecuteTime": {
     "end_time": "2024-03-01T14:49:33.243046Z",
     "start_time": "2024-03-01T14:49:33.238805Z"
    }
   },
   "outputs": [
    {
     "name": "stdout",
     "output_type": "stream",
     "text": [
      "298000000000000\n"
     ]
    }
   ],
   "source": [
    "시가총액 = 298000000000000\n",
    "현재가 = 50000\n",
    "PER = 15.79\n",
    "print(시가총액)"
   ]
  },
  {
   "cell_type": "code",
   "execution_count": 4,
   "id": "c2200caf",
   "metadata": {
    "ExecuteTime": {
     "end_time": "2024-03-01T14:49:47.791345Z",
     "start_time": "2024-03-01T14:49:47.788320Z"
    }
   },
   "outputs": [
    {
     "name": "stdout",
     "output_type": "stream",
     "text": [
      "50000\n"
     ]
    }
   ],
   "source": [
    "print(현재가)"
   ]
  },
  {
   "cell_type": "code",
   "execution_count": 5,
   "id": "6d73908b",
   "metadata": {
    "ExecuteTime": {
     "end_time": "2024-03-01T14:49:59.170801Z",
     "start_time": "2024-03-01T14:49:59.167133Z"
    }
   },
   "outputs": [
    {
     "name": "stdout",
     "output_type": "stream",
     "text": [
      "15.79\n"
     ]
    }
   ],
   "source": [
    "print(PER)"
   ]
  },
  {
   "cell_type": "code",
   "execution_count": 6,
   "id": "62ab57c3",
   "metadata": {
    "ExecuteTime": {
     "end_time": "2024-03-01T14:50:25.176343Z",
     "start_time": "2024-03-01T14:50:25.173618Z"
    }
   },
   "outputs": [
    {
     "name": "stdout",
     "output_type": "stream",
     "text": [
      "298000000000000 <class 'int'>\n"
     ]
    }
   ],
   "source": [
    "print(시가총액, type(시가총액))"
   ]
  },
  {
   "cell_type": "code",
   "execution_count": 7,
   "id": "7aa0edcc",
   "metadata": {
    "ExecuteTime": {
     "end_time": "2024-03-01T14:50:51.762814Z",
     "start_time": "2024-03-01T14:50:51.759088Z"
    }
   },
   "outputs": [
    {
     "name": "stdout",
     "output_type": "stream",
     "text": [
      "<class 'int'>\n"
     ]
    }
   ],
   "source": [
    "print(type(시가총액))"
   ]
  },
  {
   "cell_type": "code",
   "execution_count": 8,
   "id": "eb2c89f7",
   "metadata": {
    "ExecuteTime": {
     "end_time": "2024-03-01T14:58:08.787092Z",
     "start_time": "2024-03-01T14:58:08.783302Z"
    }
   },
   "outputs": [
    {
     "name": "stdout",
     "output_type": "stream",
     "text": [
      "50000 <class 'int'>\n"
     ]
    }
   ],
   "source": [
    "print(현재가, type(현재가))"
   ]
  },
  {
   "cell_type": "code",
   "execution_count": 13,
   "id": "10941bb8",
   "metadata": {
    "ExecuteTime": {
     "end_time": "2024-03-01T15:01:33.395258Z",
     "start_time": "2024-03-01T15:01:33.391526Z"
    }
   },
   "outputs": [
    {
     "name": "stdout",
     "output_type": "stream",
     "text": [
      "hello! python\n"
     ]
    }
   ],
   "source": [
    "s = \"hello\"\n",
    "t = \"python\"\n",
    "print(s+\"!\", t)"
   ]
  },
  {
   "cell_type": "code",
   "execution_count": 14,
   "id": "1e18b66c",
   "metadata": {
    "ExecuteTime": {
     "end_time": "2024-03-01T15:02:05.926099Z",
     "start_time": "2024-03-01T15:02:05.919809Z"
    }
   },
   "outputs": [
    {
     "data": {
      "text/plain": [
       "8"
      ]
     },
     "execution_count": 14,
     "metadata": {},
     "output_type": "execute_result"
    }
   ],
   "source": [
    "2 + 2 *3"
   ]
  },
  {
   "cell_type": "code",
   "execution_count": 18,
   "id": "86cb056f",
   "metadata": {
    "ExecuteTime": {
     "end_time": "2024-03-01T15:03:57.243729Z",
     "start_time": "2024-03-01T15:03:57.239865Z"
    }
   },
   "outputs": [
    {
     "name": "stdout",
     "output_type": "stream",
     "text": [
      "<class 'str'>\n"
     ]
    }
   ],
   "source": [
    "a = \"132\"\n",
    "print (type(a))"
   ]
  },
  {
   "cell_type": "code",
   "execution_count": 22,
   "id": "bc384449",
   "metadata": {
    "ExecuteTime": {
     "end_time": "2024-03-01T15:06:10.355765Z",
     "start_time": "2024-03-01T15:06:10.351989Z"
    }
   },
   "outputs": [
    {
     "name": "stdout",
     "output_type": "stream",
     "text": [
      "721 <class 'int'>\n"
     ]
    }
   ],
   "source": [
    "num_str =\"720\"\n",
    "num_int = int(num_str)\n",
    "print(num_int+1, type(num_int))"
   ]
  },
  {
   "cell_type": "code",
   "execution_count": 23,
   "id": "a35e2466",
   "metadata": {
    "ExecuteTime": {
     "end_time": "2024-03-01T15:07:25.563545Z",
     "start_time": "2024-03-01T15:07:25.559601Z"
    }
   },
   "outputs": [
    {
     "name": "stdout",
     "output_type": "stream",
     "text": [
      "100 <class 'str'>\n"
     ]
    }
   ],
   "source": [
    "num= 100\n",
    "result = str(num)\n",
    "print(result, type(result))"
   ]
  },
  {
   "cell_type": "code",
   "execution_count": 25,
   "id": "79eb0302",
   "metadata": {
    "ExecuteTime": {
     "end_time": "2024-03-01T15:08:30.411691Z",
     "start_time": "2024-03-01T15:08:30.407704Z"
    }
   },
   "outputs": [
    {
     "name": "stdout",
     "output_type": "stream",
     "text": [
      "15.79 <class 'float'>\n"
     ]
    }
   ],
   "source": [
    "data = \"15.79\"\n",
    "data = float(data)\n",
    "print(data, type(data))"
   ]
  },
  {
   "cell_type": "code",
   "execution_count": 26,
   "id": "e75fdc3c",
   "metadata": {
    "ExecuteTime": {
     "end_time": "2024-03-01T15:09:17.147548Z",
     "start_time": "2024-03-01T15:09:17.143847Z"
    }
   },
   "outputs": [
    {
     "name": "stdout",
     "output_type": "stream",
     "text": [
      "2017\n"
     ]
    }
   ],
   "source": [
    "year = \"2020\"\n",
    "print(int(year)-3) "
   ]
  },
  {
   "cell_type": "code",
   "execution_count": 27,
   "id": "a296a171",
   "metadata": {
    "ExecuteTime": {
     "end_time": "2024-03-01T15:09:49.067741Z",
     "start_time": "2024-03-01T15:09:49.064363Z"
    }
   },
   "outputs": [
    {
     "name": "stdout",
     "output_type": "stream",
     "text": [
      "2018\n"
     ]
    }
   ],
   "source": [
    "print(int(year)-2)"
   ]
  },
  {
   "cell_type": "code",
   "execution_count": 28,
   "id": "6b748e6b",
   "metadata": {
    "ExecuteTime": {
     "end_time": "2024-03-01T15:10:02.772395Z",
     "start_time": "2024-03-01T15:10:02.767474Z"
    }
   },
   "outputs": [
    {
     "name": "stdout",
     "output_type": "stream",
     "text": [
      "2019\n"
     ]
    }
   ],
   "source": [
    "print(int(year)-1)"
   ]
  },
  {
   "cell_type": "code",
   "execution_count": 29,
   "id": "2d424d88",
   "metadata": {
    "ExecuteTime": {
     "end_time": "2024-03-01T15:10:57.260697Z",
     "start_time": "2024-03-01T15:10:57.256661Z"
    }
   },
   "outputs": [
    {
     "name": "stdout",
     "output_type": "stream",
     "text": [
      "1749024\n"
     ]
    }
   ],
   "source": [
    "월 = 48584\n",
    "총금액 = 월 *36\n",
    "print(총금액)"
   ]
  },
  {
   "cell_type": "code",
   "execution_count": 3,
   "id": "d2455833",
   "metadata": {
    "ExecuteTime": {
     "end_time": "2024-03-02T14:53:39.370868Z",
     "start_time": "2024-03-02T14:53:39.367159Z"
    }
   },
   "outputs": [],
   "source": [
    "a = \"python\""
   ]
  },
  {
   "cell_type": "code",
   "execution_count": 10,
   "id": "310a5b29",
   "metadata": {
    "ExecuteTime": {
     "end_time": "2024-03-02T14:56:28.909117Z",
     "start_time": "2024-03-02T14:56:28.903417Z"
    }
   },
   "outputs": [
    {
     "data": {
      "text/plain": [
       "('p', 't')"
      ]
     },
     "execution_count": 10,
     "metadata": {},
     "output_type": "execute_result"
    }
   ],
   "source": [
    "a[0], a[2]"
   ]
  },
  {
   "cell_type": "code",
   "execution_count": 11,
   "id": "cddcb2de",
   "metadata": {
    "ExecuteTime": {
     "end_time": "2024-03-02T14:58:08.500567Z",
     "start_time": "2024-03-02T14:58:08.494915Z"
    }
   },
   "outputs": [
    {
     "name": "stdout",
     "output_type": "stream",
     "text": [
      "2210\n"
     ]
    }
   ],
   "source": [
    "license_plate = \"24가 2210\"\n",
    "print(license_plate[-4:])"
   ]
  },
  {
   "cell_type": "code",
   "execution_count": 18,
   "id": "1f1e01da",
   "metadata": {
    "ExecuteTime": {
     "end_time": "2024-03-02T15:11:22.805280Z",
     "start_time": "2024-03-02T15:11:22.799418Z"
    }
   },
   "outputs": [
    {
     "data": {
      "text/plain": [
       "'홀'"
      ]
     },
     "execution_count": 18,
     "metadata": {},
     "output_type": "execute_result"
    }
   ],
   "source": [
    "a = \"홀짝홀짝홀짝\"\n",
    "a[:1]"
   ]
  },
  {
   "cell_type": "code",
   "execution_count": 19,
   "id": "bcd0ecef",
   "metadata": {
    "ExecuteTime": {
     "end_time": "2024-03-02T15:11:58.244047Z",
     "start_time": "2024-03-02T15:11:58.239824Z"
    }
   },
   "outputs": [
    {
     "name": "stdout",
     "output_type": "stream",
     "text": [
      "홀홀홀\n"
     ]
    }
   ],
   "source": [
    "string = \"홀짝홀짝홀짝\"\n",
    "print(string[::2])"
   ]
  },
  {
   "cell_type": "code",
   "execution_count": 21,
   "id": "37dcfcff",
   "metadata": {
    "ExecuteTime": {
     "end_time": "2024-03-02T15:14:24.021238Z",
     "start_time": "2024-03-02T15:14:24.016709Z"
    }
   },
   "outputs": [
    {
     "name": "stdout",
     "output_type": "stream",
     "text": [
      "NOHTYP\n"
     ]
    }
   ],
   "source": [
    "string = \"PYTHON\"\n",
    "print(string[::-1])"
   ]
  },
  {
   "cell_type": "code",
   "execution_count": 22,
   "id": "1ecd38f5",
   "metadata": {
    "ExecuteTime": {
     "end_time": "2024-03-02T15:16:15.452485Z",
     "start_time": "2024-03-02T15:16:15.447785Z"
    }
   },
   "outputs": [
    {
     "name": "stdout",
     "output_type": "stream",
     "text": [
      "010 1111 2222\n"
     ]
    }
   ],
   "source": [
    "phone_number = \"010-1111-2222\"\n",
    "phone_number1 = phone_number.replace(\"-\", \" \")\n",
    "print (phone_number1)"
   ]
  },
  {
   "cell_type": "code",
   "execution_count": 23,
   "id": "758a5201",
   "metadata": {
    "ExecuteTime": {
     "end_time": "2024-03-02T15:16:50.413668Z",
     "start_time": "2024-03-02T15:16:50.408844Z"
    }
   },
   "outputs": [
    {
     "name": "stdout",
     "output_type": "stream",
     "text": [
      "01011112222\n"
     ]
    }
   ],
   "source": [
    "phone_number = \"010-1111-2222\"\n",
    "phone_number1 = phone_number.replace(\"-\", \"\")\n",
    "print (phone_number1)"
   ]
  },
  {
   "cell_type": "code",
   "execution_count": 31,
   "id": "a49d4e9b",
   "metadata": {
    "ExecuteTime": {
     "end_time": "2024-03-02T15:19:51.959860Z",
     "start_time": "2024-03-02T15:19:51.952329Z"
    }
   },
   "outputs": [
    {
     "name": "stdout",
     "output_type": "stream",
     "text": [
      "k\n"
     ]
    },
    {
     "data": {
      "text/plain": [
       "(None, 'r')"
      ]
     },
     "execution_count": 31,
     "metadata": {},
     "output_type": "execute_result"
    }
   ],
   "source": [
    "url = \"http://sharebook.kr\"\n",
    "print(url[-2]),(url[-1])"
   ]
  },
  {
   "cell_type": "code",
   "execution_count": 32,
   "id": "6c808db1",
   "metadata": {
    "ExecuteTime": {
     "end_time": "2024-03-02T15:20:57.253810Z",
     "start_time": "2024-03-02T15:20:57.248056Z"
    }
   },
   "outputs": [
    {
     "name": "stdout",
     "output_type": "stream",
     "text": [
      "kr\n"
     ]
    }
   ],
   "source": [
    "url = \"http://sharebook.kr\"\n",
    "url_split = url.split('.')\n",
    "print(url_split[-1])"
   ]
  },
  {
   "cell_type": "code",
   "execution_count": 33,
   "id": "8094516d",
   "metadata": {
    "ExecuteTime": {
     "end_time": "2024-03-02T15:21:56.671116Z",
     "start_time": "2024-03-02T15:21:56.649098Z"
    }
   },
   "outputs": [
    {
     "ename": "TypeError",
     "evalue": "'str' object does not support item assignment",
     "output_type": "error",
     "traceback": [
      "\u001b[1;31m---------------------------------------------------------------------------\u001b[0m",
      "\u001b[1;31mTypeError\u001b[0m                                 Traceback (most recent call last)",
      "Cell \u001b[1;32mIn[33], line 2\u001b[0m\n\u001b[0;32m      1\u001b[0m lang \u001b[38;5;241m=\u001b[39m\u001b[38;5;124m'\u001b[39m\u001b[38;5;124mpython\u001b[39m\u001b[38;5;124m'\u001b[39m\n\u001b[1;32m----> 2\u001b[0m lang[\u001b[38;5;241m0\u001b[39m] \u001b[38;5;241m=\u001b[39m \u001b[38;5;124m'\u001b[39m\u001b[38;5;124mp\u001b[39m\u001b[38;5;124m'\u001b[39m\n\u001b[0;32m      3\u001b[0m \u001b[38;5;28mprint\u001b[39m(lange)\n",
      "\u001b[1;31mTypeError\u001b[0m: 'str' object does not support item assignment"
     ]
    }
   ],
   "source": [
    "lang ='python'\n",
    "lang[0] = 'p'\n",
    "print(lange)"
   ]
  },
  {
   "cell_type": "code",
   "execution_count": 34,
   "id": "2759c968",
   "metadata": {
    "ExecuteTime": {
     "end_time": "2024-03-02T15:23:45.590451Z",
     "start_time": "2024-03-02T15:23:45.584433Z"
    }
   },
   "outputs": [
    {
     "name": "stdout",
     "output_type": "stream",
     "text": [
      "Abcdfe2A354A32A\n"
     ]
    }
   ],
   "source": [
    "string = 'abcdfe2a354a32a'\n",
    "string = string.replace(\"a\", \"A\")\n",
    "print(string)"
   ]
  },
  {
   "cell_type": "code",
   "execution_count": 35,
   "id": "b46f481e",
   "metadata": {
    "ExecuteTime": {
     "end_time": "2024-03-02T15:24:46.285430Z",
     "start_time": "2024-03-02T15:24:46.279834Z"
    },
    "scrolled": true
   },
   "outputs": [
    {
     "name": "stdout",
     "output_type": "stream",
     "text": [
      "abcd\n"
     ]
    }
   ],
   "source": [
    "string = 'abcd'\n",
    "string.replace('b', 'B')\n",
    "print(string)"
   ]
  },
  {
   "cell_type": "code",
   "execution_count": 36,
   "id": "675a6e99",
   "metadata": {
    "ExecuteTime": {
     "end_time": "2024-03-02T15:26:16.050495Z",
     "start_time": "2024-03-02T15:26:16.046698Z"
    }
   },
   "outputs": [
    {
     "name": "stdout",
     "output_type": "stream",
     "text": [
      "34\n"
     ]
    }
   ],
   "source": [
    "a = \"3\"\n",
    "b = \"4\"\n",
    "print(a + b)"
   ]
  },
  {
   "cell_type": "code",
   "execution_count": 37,
   "id": "a400d20d",
   "metadata": {
    "ExecuteTime": {
     "end_time": "2024-03-02T15:27:00.932773Z",
     "start_time": "2024-03-02T15:27:00.927324Z"
    }
   },
   "outputs": [
    {
     "name": "stdout",
     "output_type": "stream",
     "text": [
      "HiHiHi\n"
     ]
    }
   ],
   "source": [
    "print(\"Hi\" * 3)"
   ]
  },
  {
   "cell_type": "code",
   "execution_count": 38,
   "id": "cf2f7979",
   "metadata": {
    "ExecuteTime": {
     "end_time": "2024-03-02T15:27:34.268928Z",
     "start_time": "2024-03-02T15:27:34.264557Z"
    }
   },
   "outputs": [
    {
     "name": "stdout",
     "output_type": "stream",
     "text": [
      "--------------------------------------------------------------------------------\n"
     ]
    }
   ],
   "source": [
    "print(\"-\" * 80)"
   ]
  },
  {
   "cell_type": "code",
   "execution_count": 40,
   "id": "7e7154de",
   "metadata": {
    "ExecuteTime": {
     "end_time": "2024-03-02T15:29:58.518203Z",
     "start_time": "2024-03-02T15:29:58.512670Z"
    }
   },
   "outputs": [
    {
     "name": "stdout",
     "output_type": "stream",
     "text": [
      "python java python java python java python java \n"
     ]
    }
   ],
   "source": [
    "t1 = 'python'\n",
    "t2 = 'java'\n",
    "t3 = t1 + ' '+ t2 + ' '\n",
    "print(t3 * 4)"
   ]
  },
  {
   "cell_type": "code",
   "execution_count": 42,
   "id": "2b13170d",
   "metadata": {
    "ExecuteTime": {
     "end_time": "2024-03-02T15:34:03.998388Z",
     "start_time": "2024-03-02T15:34:03.992327Z"
    }
   },
   "outputs": [
    {
     "name": "stdout",
     "output_type": "stream",
     "text": [
      "이름: 김민수 나이: 10\n",
      "이름: 이철희 나이: 13\n"
     ]
    }
   ],
   "source": [
    "name1 = \"김민수\"\n",
    "age1 = 10\n",
    "name2 = \"이철희\"\n",
    "age2 = 13\n",
    "print(\"이름: %s 나이: %d\" % (name1, age1))\n",
    "print(\"이름: %s 나이: %d\" % (name2, age2))"
   ]
  },
  {
   "cell_type": "code",
   "execution_count": 43,
   "id": "6aa60dba",
   "metadata": {
    "ExecuteTime": {
     "end_time": "2024-03-02T15:35:48.503033Z",
     "start_time": "2024-03-02T15:35:48.497166Z"
    }
   },
   "outputs": [
    {
     "name": "stdout",
     "output_type": "stream",
     "text": [
      "이름: 김민수 나이: 10\n",
      "이름: 이철희 나이: 13\n"
     ]
    }
   ],
   "source": [
    "name1 = \"김민수\"\n",
    "age1 = 10\n",
    "name2 = \"이철희\"\n",
    "age2 = 13\n",
    "print(\"이름: {} 나이: {}\".format(name1, age1))\n",
    "print(\"이름: {} 나이: {}\".format(name2, age2))"
   ]
  },
  {
   "cell_type": "code",
   "execution_count": 44,
   "id": "3b329118",
   "metadata": {
    "ExecuteTime": {
     "end_time": "2024-03-02T15:37:38.750643Z",
     "start_time": "2024-03-02T15:37:38.744970Z"
    }
   },
   "outputs": [
    {
     "name": "stdout",
     "output_type": "stream",
     "text": [
      "이름: 김민수 나이: 10\n",
      "이름: 이철희 나이: 13\n"
     ]
    }
   ],
   "source": [
    "name1 = \"김민수\"\n",
    "age1 = 10\n",
    "name2 = \"이철희\"\n",
    "age2 = 13\n",
    "print(f\"이름: {name1} 나이: {age1}\")\n",
    "print(f\"이름: {name2} 나이: {age2}\")"
   ]
  },
  {
   "cell_type": "code",
   "execution_count": 49,
   "id": "68cfbf33",
   "metadata": {
    "ExecuteTime": {
     "end_time": "2024-03-02T15:41:32.934867Z",
     "start_time": "2024-03-02T15:41:32.929776Z"
    }
   },
   "outputs": [
    {
     "name": "stdout",
     "output_type": "stream",
     "text": [
      "5969782550 <class 'int'>\n"
     ]
    }
   ],
   "source": [
    "상장주식수 = \"5,969,782,550\"\n",
    "컴마제거 = 상장주식수.replace(\",\", \"\")\n",
    "정수타입변환 = int(컴마제거)\n",
    "print(정수타입변환, type(정수타입변환))"
   ]
  },
  {
   "cell_type": "code",
   "execution_count": 50,
   "id": "aa9354b9",
   "metadata": {
    "ExecuteTime": {
     "end_time": "2024-03-02T15:42:41.333588Z",
     "start_time": "2024-03-02T15:42:41.329053Z"
    }
   },
   "outputs": [
    {
     "name": "stdout",
     "output_type": "stream",
     "text": [
      "2020/03\n"
     ]
    }
   ],
   "source": [
    "분기 = \"2020/03(E) (IFRS연결)\"\n",
    "print(분기[:7])"
   ]
  },
  {
   "cell_type": "code",
   "execution_count": 51,
   "id": "dc20f641",
   "metadata": {
    "ExecuteTime": {
     "end_time": "2024-03-02T15:43:50.406531Z",
     "start_time": "2024-03-02T15:43:50.401131Z"
    }
   },
   "outputs": [
    {
     "name": "stdout",
     "output_type": "stream",
     "text": [
      "삼성전자\n"
     ]
    }
   ],
   "source": [
    "data = \"   삼성전자   \"\n",
    "data1 = data.strip()\n",
    "print(data1)"
   ]
  },
  {
   "cell_type": "code",
   "execution_count": 6,
   "id": "909e698f",
   "metadata": {
    "ExecuteTime": {
     "end_time": "2024-03-03T08:38:15.225015Z",
     "start_time": "2024-03-03T08:38:15.219529Z"
    },
    "scrolled": true
   },
   "outputs": [
    {
     "name": "stdout",
     "output_type": "stream",
     "text": [
      "BTC_KRW\n"
     ]
    }
   ],
   "source": [
    "ticker = \"btc_krw\"\n",
    "ticker1 = ticker.upper()\n",
    "print(ticker1)"
   ]
  },
  {
   "cell_type": "code",
   "execution_count": 5,
   "id": "b33e7675",
   "metadata": {
    "ExecuteTime": {
     "end_time": "2024-03-03T08:38:04.536808Z",
     "start_time": "2024-03-03T08:38:04.532146Z"
    }
   },
   "outputs": [
    {
     "name": "stdout",
     "output_type": "stream",
     "text": [
      "btc_krw\n"
     ]
    }
   ],
   "source": [
    "ticker = \"BTC_KRW\"\n",
    "ticker1 = ticker.lower()\n",
    "print(ticker1)"
   ]
  },
  {
   "cell_type": "code",
   "execution_count": 8,
   "id": "04aeb26a",
   "metadata": {
    "ExecuteTime": {
     "end_time": "2024-03-03T08:39:26.072663Z",
     "start_time": "2024-03-03T08:39:26.067481Z"
    }
   },
   "outputs": [
    {
     "name": "stdout",
     "output_type": "stream",
     "text": [
      "Hello\n"
     ]
    }
   ],
   "source": [
    "a = \"hello\"\n",
    "a = a.capitalize()\n",
    "print(a)"
   ]
  },
  {
   "cell_type": "code",
   "execution_count": 9,
   "id": "dd0ae88e",
   "metadata": {
    "ExecuteTime": {
     "end_time": "2024-03-03T08:40:43.235933Z",
     "start_time": "2024-03-03T08:40:43.212488Z"
    }
   },
   "outputs": [
    {
     "data": {
      "text/plain": [
       "True"
      ]
     },
     "execution_count": 9,
     "metadata": {},
     "output_type": "execute_result"
    }
   ],
   "source": [
    "file_name = \"보고서.xlsx\"\n",
    "file_name.endswith(\"xlsx\")"
   ]
  },
  {
   "cell_type": "code",
   "execution_count": 14,
   "id": "4dcdb689",
   "metadata": {
    "ExecuteTime": {
     "end_time": "2024-03-03T08:42:55.275214Z",
     "start_time": "2024-03-03T08:42:55.267638Z"
    }
   },
   "outputs": [
    {
     "data": {
      "text/plain": [
       "True"
      ]
     },
     "execution_count": 14,
     "metadata": {},
     "output_type": "execute_result"
    }
   ],
   "source": [
    "file_name = \"보고서.xlsx\"\n",
    "file_name.endswith((\"xlsx\", \"xls\"))"
   ]
  },
  {
   "cell_type": "code",
   "execution_count": 15,
   "id": "4c0a13f9",
   "metadata": {
    "ExecuteTime": {
     "end_time": "2024-03-03T08:43:54.290709Z",
     "start_time": "2024-03-03T08:43:54.284374Z"
    }
   },
   "outputs": [
    {
     "data": {
      "text/plain": [
       "True"
      ]
     },
     "execution_count": 15,
     "metadata": {},
     "output_type": "execute_result"
    }
   ],
   "source": [
    "file_name = \"2020_보고서.xlsx\"\n",
    "file_name.startswith(\"2020\")"
   ]
  },
  {
   "cell_type": "code",
   "execution_count": 16,
   "id": "86ddf509",
   "metadata": {
    "ExecuteTime": {
     "end_time": "2024-03-03T08:44:28.681501Z",
     "start_time": "2024-03-03T08:44:28.675352Z"
    }
   },
   "outputs": [
    {
     "data": {
      "text/plain": [
       "['hello', 'world']"
      ]
     },
     "execution_count": 16,
     "metadata": {},
     "output_type": "execute_result"
    }
   ],
   "source": [
    "a = \"hello world\"\n",
    "a.split()"
   ]
  },
  {
   "cell_type": "code",
   "execution_count": 18,
   "id": "2a0fe974",
   "metadata": {
    "ExecuteTime": {
     "end_time": "2024-03-03T08:45:33.971060Z",
     "start_time": "2024-03-03T08:45:33.964825Z"
    }
   },
   "outputs": [
    {
     "data": {
      "text/plain": [
       "['btc', 'krw']"
      ]
     },
     "execution_count": 18,
     "metadata": {},
     "output_type": "execute_result"
    }
   ],
   "source": [
    "ticker = \"btc_krw\"\n",
    "ticker.split(\"_\")"
   ]
  },
  {
   "cell_type": "code",
   "execution_count": 19,
   "id": "974f62f1",
   "metadata": {
    "ExecuteTime": {
     "end_time": "2024-03-03T08:46:36.842431Z",
     "start_time": "2024-03-03T08:46:36.835794Z"
    }
   },
   "outputs": [
    {
     "data": {
      "text/plain": [
       "['2020', '05', '01']"
      ]
     },
     "execution_count": 19,
     "metadata": {},
     "output_type": "execute_result"
    }
   ],
   "source": [
    "date = \"2020-05-01\"\n",
    "date.split(\"-\")"
   ]
  },
  {
   "cell_type": "code",
   "execution_count": 22,
   "id": "f6e8d0fa",
   "metadata": {
    "ExecuteTime": {
     "end_time": "2024-03-03T08:47:48.080017Z",
     "start_time": "2024-03-03T08:47:48.075676Z"
    }
   },
   "outputs": [],
   "source": [
    "data = \"0339490     \"\n",
    "data = data.rstrip()"
   ]
  },
  {
   "cell_type": "code",
   "execution_count": 24,
   "id": "212f93e0",
   "metadata": {
    "ExecuteTime": {
     "end_time": "2024-03-03T08:48:19.177528Z",
     "start_time": "2024-03-03T08:48:19.172067Z"
    }
   },
   "outputs": [
    {
     "data": {
      "text/plain": [
       "'0339490'"
      ]
     },
     "execution_count": 24,
     "metadata": {},
     "output_type": "execute_result"
    }
   ],
   "source": [
    "data = \"0339490     \"\n",
    "data.rstrip(\" \")"
   ]
  }
 ],
 "metadata": {
  "kernelspec": {
   "display_name": "Python 3 (ipykernel)",
   "language": "python",
   "name": "python3"
  },
  "language_info": {
   "codemirror_mode": {
    "name": "ipython",
    "version": 3
   },
   "file_extension": ".py",
   "mimetype": "text/x-python",
   "name": "python",
   "nbconvert_exporter": "python",
   "pygments_lexer": "ipython3",
   "version": "3.11.5"
  },
  "toc": {
   "base_numbering": 1,
   "nav_menu": {},
   "number_sections": true,
   "sideBar": true,
   "skip_h1_title": false,
   "title_cell": "Table of Contents",
   "title_sidebar": "Contents",
   "toc_cell": false,
   "toc_position": {},
   "toc_section_display": true,
   "toc_window_display": false
  }
 },
 "nbformat": 4,
 "nbformat_minor": 5
}
